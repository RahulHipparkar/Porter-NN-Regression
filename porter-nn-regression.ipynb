{
 "cells": [
  {
   "cell_type": "markdown",
   "id": "5c8fcec5",
   "metadata": {
    "papermill": {
     "duration": 0.014437,
     "end_time": "2025-03-18T08:32:46.878416",
     "exception": false,
     "start_time": "2025-03-18T08:32:46.863979",
     "status": "completed"
    },
    "tags": []
   },
   "source": [
    "# 🏆 About Project "
   ]
  },
  {
   "cell_type": "markdown",
   "id": "c755ca63",
   "metadata": {
    "papermill": {
     "duration": 0.012937,
     "end_time": "2025-03-18T08:32:46.904734",
     "exception": false,
     "start_time": "2025-03-18T08:32:46.891797",
     "status": "completed"
    },
    "tags": []
   },
   "source": [
    " **🎯 Objective**\n",
    "\n",
    " Porter is India's Largest Marketplace for Intra-City Logistics. Leader in the country's $40 billion intra-city logistics market, Porter strives to improve the lives of 1,50,000+ driver-partners by providing them with consistent earning & independence. Currently, the company has serviced 5+ million customers\n",
    "\n",
    "Porter works with a wide range of restaurants for delivering their items directly to the people.\n",
    "\n",
    "Porter has a number of delivery partners available for delivering the food, from various restaurants and wants to get an estimated delivery time that it can provide the customers on the basis of what they are ordering, from where and also the delivery partners.\n",
    "\n",
    "This dataset has the required data to train a regression model that will do the delivery time estimation, based on all those features\n",
    "\n"
   ]
  },
  {
   "cell_type": "markdown",
   "id": "8afaedf0",
   "metadata": {
    "papermill": {
     "duration": 0.013262,
     "end_time": "2025-03-18T08:32:46.931332",
     "exception": false,
     "start_time": "2025-03-18T08:32:46.918070",
     "status": "completed"
    },
    "tags": []
   },
   "source": [
    "**📅 Data Dictionary**\n",
    "\n",
    "Each row in this file corresponds to one unique delivery. Each column corresponds to a feature as explained below.\n",
    "\n",
    "- market_id : integer id for the market where the restaurant lies\n",
    "- created_at : the timestamp at which the order was placed\n",
    "- actual_delivery_time : the timestamp when the order was delivered\n",
    "- store_primary_category : category for the restaurant\n",
    "- order_protocol : integer code value for order protocol(how the order was placed ie: through porter, call to restaurant, pre booked, third part etc)\n",
    "- total_items subtotal : final price of the order\n",
    "- num_distinct_items : the number of distinct items in the order\n",
    "- min_item_price : price of the cheapest item in the order\n",
    "- max_item_price : price of the costliest item in order\n",
    "- total_onshift_partners : number of delivery partners on duty at the time order was placed\n",
    "- total_busy_partners : number of delivery partners attending to other tasks\n",
    "- total_outstanding_orders : total number of orders to be fulfilled at the moment"
   ]
  },
  {
   "cell_type": "markdown",
   "id": "abcf91db",
   "metadata": {
    "papermill": {
     "duration": 0.012611,
     "end_time": "2025-03-18T08:32:46.956773",
     "exception": false,
     "start_time": "2025-03-18T08:32:46.944162",
     "status": "completed"
    },
    "tags": []
   },
   "source": [
    "# 🚀 Let's Get Started"
   ]
  },
  {
   "cell_type": "markdown",
   "id": "265bd677",
   "metadata": {
    "papermill": {
     "duration": 0.012661,
     "end_time": "2025-03-18T08:32:46.982223",
     "exception": false,
     "start_time": "2025-03-18T08:32:46.969562",
     "status": "completed"
    },
    "tags": []
   },
   "source": [
    "##  📚 Importing Libraries"
   ]
  },
  {
   "cell_type": "code",
   "execution_count": 1,
   "id": "64dd04ee",
   "metadata": {
    "execution": {
     "iopub.execute_input": "2025-03-18T08:32:47.008982Z",
     "iopub.status.busy": "2025-03-18T08:32:47.008663Z",
     "iopub.status.idle": "2025-03-18T08:33:01.449202Z",
     "shell.execute_reply": "2025-03-18T08:33:01.448459Z"
    },
    "papermill": {
     "duration": 14.455618,
     "end_time": "2025-03-18T08:33:01.450763",
     "exception": false,
     "start_time": "2025-03-18T08:32:46.995145",
     "status": "completed"
    },
    "tags": []
   },
   "outputs": [],
   "source": [
    "import numpy as np \n",
    "import pandas as pd \n",
    "import matplotlib.pyplot as plt\n",
    "import seaborn as sns\n",
    "import plotly.graph_objs as go\n",
    "import plotly.subplots as sp\n",
    "from plotly.subplots import make_subplots\n",
    "import plotly.express as px\n",
    "import warnings\n",
    "import time\n",
    "import datetime as dt\n",
    "import tensorflow as tf\n",
    "import keras\n",
    "from keras import layers\n",
    "from tensorflow.keras import Model\n",
    "from tensorflow.keras import Sequential\n",
    "from tensorflow.keras.optimizers import Adam\n",
    "warnings.filterwarnings(\"ignore\")"
   ]
  },
  {
   "cell_type": "markdown",
   "id": "d0580752",
   "metadata": {
    "papermill": {
     "duration": 0.012545,
     "end_time": "2025-03-18T08:33:01.477006",
     "exception": false,
     "start_time": "2025-03-18T08:33:01.464461",
     "status": "completed"
    },
    "tags": []
   },
   "source": [
    "## 📅 Importing Dataset"
   ]
  },
  {
   "cell_type": "code",
   "execution_count": 2,
   "id": "4659f975",
   "metadata": {
    "execution": {
     "iopub.execute_input": "2025-03-18T08:33:01.504307Z",
     "iopub.status.busy": "2025-03-18T08:33:01.503718Z",
     "iopub.status.idle": "2025-03-18T08:33:02.223329Z",
     "shell.execute_reply": "2025-03-18T08:33:02.222410Z"
    },
    "papermill": {
     "duration": 0.734882,
     "end_time": "2025-03-18T08:33:02.224855",
     "exception": false,
     "start_time": "2025-03-18T08:33:01.489973",
     "status": "completed"
    },
    "tags": []
   },
   "outputs": [
    {
     "data": {
      "text/html": [
       "<div>\n",
       "<style scoped>\n",
       "    .dataframe tbody tr th:only-of-type {\n",
       "        vertical-align: middle;\n",
       "    }\n",
       "\n",
       "    .dataframe tbody tr th {\n",
       "        vertical-align: top;\n",
       "    }\n",
       "\n",
       "    .dataframe thead th {\n",
       "        text-align: right;\n",
       "    }\n",
       "</style>\n",
       "<table border=\"1\" class=\"dataframe\">\n",
       "  <thead>\n",
       "    <tr style=\"text-align: right;\">\n",
       "      <th></th>\n",
       "      <th>market_id</th>\n",
       "      <th>created_at</th>\n",
       "      <th>actual_delivery_time</th>\n",
       "      <th>store_id</th>\n",
       "      <th>store_primary_category</th>\n",
       "      <th>order_protocol</th>\n",
       "      <th>total_items</th>\n",
       "      <th>subtotal</th>\n",
       "      <th>num_distinct_items</th>\n",
       "      <th>min_item_price</th>\n",
       "      <th>max_item_price</th>\n",
       "      <th>total_onshift_partners</th>\n",
       "      <th>total_busy_partners</th>\n",
       "      <th>total_outstanding_orders</th>\n",
       "    </tr>\n",
       "  </thead>\n",
       "  <tbody>\n",
       "    <tr>\n",
       "      <th>0</th>\n",
       "      <td>1.0</td>\n",
       "      <td>2015-02-06 22:24:17</td>\n",
       "      <td>2015-02-06 23:27:16</td>\n",
       "      <td>df263d996281d984952c07998dc54358</td>\n",
       "      <td>american</td>\n",
       "      <td>1.0</td>\n",
       "      <td>4</td>\n",
       "      <td>3441</td>\n",
       "      <td>4</td>\n",
       "      <td>557</td>\n",
       "      <td>1239</td>\n",
       "      <td>33.0</td>\n",
       "      <td>14.0</td>\n",
       "      <td>21.0</td>\n",
       "    </tr>\n",
       "    <tr>\n",
       "      <th>1</th>\n",
       "      <td>2.0</td>\n",
       "      <td>2015-02-10 21:49:25</td>\n",
       "      <td>2015-02-10 22:56:29</td>\n",
       "      <td>f0ade77b43923b38237db569b016ba25</td>\n",
       "      <td>mexican</td>\n",
       "      <td>2.0</td>\n",
       "      <td>1</td>\n",
       "      <td>1900</td>\n",
       "      <td>1</td>\n",
       "      <td>1400</td>\n",
       "      <td>1400</td>\n",
       "      <td>1.0</td>\n",
       "      <td>2.0</td>\n",
       "      <td>2.0</td>\n",
       "    </tr>\n",
       "    <tr>\n",
       "      <th>2</th>\n",
       "      <td>3.0</td>\n",
       "      <td>2015-01-22 20:39:28</td>\n",
       "      <td>2015-01-22 21:09:09</td>\n",
       "      <td>f0ade77b43923b38237db569b016ba25</td>\n",
       "      <td>NaN</td>\n",
       "      <td>1.0</td>\n",
       "      <td>1</td>\n",
       "      <td>1900</td>\n",
       "      <td>1</td>\n",
       "      <td>1900</td>\n",
       "      <td>1900</td>\n",
       "      <td>1.0</td>\n",
       "      <td>0.0</td>\n",
       "      <td>0.0</td>\n",
       "    </tr>\n",
       "    <tr>\n",
       "      <th>3</th>\n",
       "      <td>3.0</td>\n",
       "      <td>2015-02-03 21:21:45</td>\n",
       "      <td>2015-02-03 22:13:00</td>\n",
       "      <td>f0ade77b43923b38237db569b016ba25</td>\n",
       "      <td>NaN</td>\n",
       "      <td>1.0</td>\n",
       "      <td>6</td>\n",
       "      <td>6900</td>\n",
       "      <td>5</td>\n",
       "      <td>600</td>\n",
       "      <td>1800</td>\n",
       "      <td>1.0</td>\n",
       "      <td>1.0</td>\n",
       "      <td>2.0</td>\n",
       "    </tr>\n",
       "    <tr>\n",
       "      <th>4</th>\n",
       "      <td>3.0</td>\n",
       "      <td>2015-02-15 02:40:36</td>\n",
       "      <td>2015-02-15 03:20:26</td>\n",
       "      <td>f0ade77b43923b38237db569b016ba25</td>\n",
       "      <td>NaN</td>\n",
       "      <td>1.0</td>\n",
       "      <td>3</td>\n",
       "      <td>3900</td>\n",
       "      <td>3</td>\n",
       "      <td>1100</td>\n",
       "      <td>1600</td>\n",
       "      <td>6.0</td>\n",
       "      <td>6.0</td>\n",
       "      <td>9.0</td>\n",
       "    </tr>\n",
       "    <tr>\n",
       "      <th>...</th>\n",
       "      <td>...</td>\n",
       "      <td>...</td>\n",
       "      <td>...</td>\n",
       "      <td>...</td>\n",
       "      <td>...</td>\n",
       "      <td>...</td>\n",
       "      <td>...</td>\n",
       "      <td>...</td>\n",
       "      <td>...</td>\n",
       "      <td>...</td>\n",
       "      <td>...</td>\n",
       "      <td>...</td>\n",
       "      <td>...</td>\n",
       "      <td>...</td>\n",
       "    </tr>\n",
       "    <tr>\n",
       "      <th>197423</th>\n",
       "      <td>1.0</td>\n",
       "      <td>2015-02-17 00:19:41</td>\n",
       "      <td>2015-02-17 01:24:48</td>\n",
       "      <td>a914ecef9c12ffdb9bede64bb703d877</td>\n",
       "      <td>fast</td>\n",
       "      <td>4.0</td>\n",
       "      <td>3</td>\n",
       "      <td>1389</td>\n",
       "      <td>3</td>\n",
       "      <td>345</td>\n",
       "      <td>649</td>\n",
       "      <td>17.0</td>\n",
       "      <td>17.0</td>\n",
       "      <td>23.0</td>\n",
       "    </tr>\n",
       "    <tr>\n",
       "      <th>197424</th>\n",
       "      <td>1.0</td>\n",
       "      <td>2015-02-13 00:01:59</td>\n",
       "      <td>2015-02-13 00:58:22</td>\n",
       "      <td>a914ecef9c12ffdb9bede64bb703d877</td>\n",
       "      <td>fast</td>\n",
       "      <td>4.0</td>\n",
       "      <td>6</td>\n",
       "      <td>3010</td>\n",
       "      <td>4</td>\n",
       "      <td>405</td>\n",
       "      <td>825</td>\n",
       "      <td>12.0</td>\n",
       "      <td>11.0</td>\n",
       "      <td>14.0</td>\n",
       "    </tr>\n",
       "    <tr>\n",
       "      <th>197425</th>\n",
       "      <td>1.0</td>\n",
       "      <td>2015-01-24 04:46:08</td>\n",
       "      <td>2015-01-24 05:36:16</td>\n",
       "      <td>a914ecef9c12ffdb9bede64bb703d877</td>\n",
       "      <td>fast</td>\n",
       "      <td>4.0</td>\n",
       "      <td>5</td>\n",
       "      <td>1836</td>\n",
       "      <td>3</td>\n",
       "      <td>300</td>\n",
       "      <td>399</td>\n",
       "      <td>39.0</td>\n",
       "      <td>41.0</td>\n",
       "      <td>40.0</td>\n",
       "    </tr>\n",
       "    <tr>\n",
       "      <th>197426</th>\n",
       "      <td>1.0</td>\n",
       "      <td>2015-02-01 18:18:15</td>\n",
       "      <td>2015-02-01 19:23:22</td>\n",
       "      <td>c81e155d85dae5430a8cee6f2242e82c</td>\n",
       "      <td>sandwich</td>\n",
       "      <td>1.0</td>\n",
       "      <td>1</td>\n",
       "      <td>1175</td>\n",
       "      <td>1</td>\n",
       "      <td>535</td>\n",
       "      <td>535</td>\n",
       "      <td>7.0</td>\n",
       "      <td>7.0</td>\n",
       "      <td>12.0</td>\n",
       "    </tr>\n",
       "    <tr>\n",
       "      <th>197427</th>\n",
       "      <td>1.0</td>\n",
       "      <td>2015-02-08 19:24:33</td>\n",
       "      <td>2015-02-08 20:01:41</td>\n",
       "      <td>c81e155d85dae5430a8cee6f2242e82c</td>\n",
       "      <td>sandwich</td>\n",
       "      <td>1.0</td>\n",
       "      <td>4</td>\n",
       "      <td>2605</td>\n",
       "      <td>4</td>\n",
       "      <td>425</td>\n",
       "      <td>750</td>\n",
       "      <td>20.0</td>\n",
       "      <td>20.0</td>\n",
       "      <td>23.0</td>\n",
       "    </tr>\n",
       "  </tbody>\n",
       "</table>\n",
       "<p>197428 rows × 14 columns</p>\n",
       "</div>"
      ],
      "text/plain": [
       "        market_id           created_at actual_delivery_time  \\\n",
       "0             1.0  2015-02-06 22:24:17  2015-02-06 23:27:16   \n",
       "1             2.0  2015-02-10 21:49:25  2015-02-10 22:56:29   \n",
       "2             3.0  2015-01-22 20:39:28  2015-01-22 21:09:09   \n",
       "3             3.0  2015-02-03 21:21:45  2015-02-03 22:13:00   \n",
       "4             3.0  2015-02-15 02:40:36  2015-02-15 03:20:26   \n",
       "...           ...                  ...                  ...   \n",
       "197423        1.0  2015-02-17 00:19:41  2015-02-17 01:24:48   \n",
       "197424        1.0  2015-02-13 00:01:59  2015-02-13 00:58:22   \n",
       "197425        1.0  2015-01-24 04:46:08  2015-01-24 05:36:16   \n",
       "197426        1.0  2015-02-01 18:18:15  2015-02-01 19:23:22   \n",
       "197427        1.0  2015-02-08 19:24:33  2015-02-08 20:01:41   \n",
       "\n",
       "                                store_id store_primary_category  \\\n",
       "0       df263d996281d984952c07998dc54358               american   \n",
       "1       f0ade77b43923b38237db569b016ba25                mexican   \n",
       "2       f0ade77b43923b38237db569b016ba25                    NaN   \n",
       "3       f0ade77b43923b38237db569b016ba25                    NaN   \n",
       "4       f0ade77b43923b38237db569b016ba25                    NaN   \n",
       "...                                  ...                    ...   \n",
       "197423  a914ecef9c12ffdb9bede64bb703d877                   fast   \n",
       "197424  a914ecef9c12ffdb9bede64bb703d877                   fast   \n",
       "197425  a914ecef9c12ffdb9bede64bb703d877                   fast   \n",
       "197426  c81e155d85dae5430a8cee6f2242e82c               sandwich   \n",
       "197427  c81e155d85dae5430a8cee6f2242e82c               sandwich   \n",
       "\n",
       "        order_protocol  total_items  subtotal  num_distinct_items  \\\n",
       "0                  1.0            4      3441                   4   \n",
       "1                  2.0            1      1900                   1   \n",
       "2                  1.0            1      1900                   1   \n",
       "3                  1.0            6      6900                   5   \n",
       "4                  1.0            3      3900                   3   \n",
       "...                ...          ...       ...                 ...   \n",
       "197423             4.0            3      1389                   3   \n",
       "197424             4.0            6      3010                   4   \n",
       "197425             4.0            5      1836                   3   \n",
       "197426             1.0            1      1175                   1   \n",
       "197427             1.0            4      2605                   4   \n",
       "\n",
       "        min_item_price  max_item_price  total_onshift_partners  \\\n",
       "0                  557            1239                    33.0   \n",
       "1                 1400            1400                     1.0   \n",
       "2                 1900            1900                     1.0   \n",
       "3                  600            1800                     1.0   \n",
       "4                 1100            1600                     6.0   \n",
       "...                ...             ...                     ...   \n",
       "197423             345             649                    17.0   \n",
       "197424             405             825                    12.0   \n",
       "197425             300             399                    39.0   \n",
       "197426             535             535                     7.0   \n",
       "197427             425             750                    20.0   \n",
       "\n",
       "        total_busy_partners  total_outstanding_orders  \n",
       "0                      14.0                      21.0  \n",
       "1                       2.0                       2.0  \n",
       "2                       0.0                       0.0  \n",
       "3                       1.0                       2.0  \n",
       "4                       6.0                       9.0  \n",
       "...                     ...                       ...  \n",
       "197423                 17.0                      23.0  \n",
       "197424                 11.0                      14.0  \n",
       "197425                 41.0                      40.0  \n",
       "197426                  7.0                      12.0  \n",
       "197427                 20.0                      23.0  \n",
       "\n",
       "[197428 rows x 14 columns]"
      ]
     },
     "execution_count": 2,
     "metadata": {},
     "output_type": "execute_result"
    }
   ],
   "source": [
    "df = pd.read_csv('/kaggle/input/porter-dataset/dataset.csv')\n",
    "df"
   ]
  },
  {
   "cell_type": "markdown",
   "id": "311e0909",
   "metadata": {
    "papermill": {
     "duration": 0.01498,
     "end_time": "2025-03-18T08:33:02.254290",
     "exception": false,
     "start_time": "2025-03-18T08:33:02.239310",
     "status": "completed"
    },
    "tags": []
   },
   "source": [
    "## 🎨 Custom Color Palette "
   ]
  },
  {
   "cell_type": "code",
   "execution_count": 3,
   "id": "08b942aa",
   "metadata": {
    "execution": {
     "iopub.execute_input": "2025-03-18T08:33:02.282950Z",
     "iopub.status.busy": "2025-03-18T08:33:02.282651Z",
     "iopub.status.idle": "2025-03-18T08:33:02.286351Z",
     "shell.execute_reply": "2025-03-18T08:33:02.285773Z"
    },
    "papermill": {
     "duration": 0.019462,
     "end_time": "2025-03-18T08:33:02.287696",
     "exception": false,
     "start_time": "2025-03-18T08:33:02.268234",
     "status": "completed"
    },
    "tags": []
   },
   "outputs": [],
   "source": [
    "def custom_palette(custom_colors):\n",
    "    customPalette = sns.set_palette(sns.color_palette(custom_colors))\n",
    "    sns.palplot(sns.color_palette(custom_colors),size=0.8)\n",
    "    plt.tick_params(axis='both', labelsize=0, length = 0)\n",
    "    "
   ]
  },
  {
   "cell_type": "code",
   "execution_count": 4,
   "id": "9aaa61ca",
   "metadata": {
    "execution": {
     "iopub.execute_input": "2025-03-18T08:33:02.317194Z",
     "iopub.status.busy": "2025-03-18T08:33:02.316926Z",
     "iopub.status.idle": "2025-03-18T08:33:02.461941Z",
     "shell.execute_reply": "2025-03-18T08:33:02.461027Z"
    },
    "papermill": {
     "duration": 0.161146,
     "end_time": "2025-03-18T08:33:02.463380",
     "exception": false,
     "start_time": "2025-03-18T08:33:02.302234",
     "status": "completed"
    },
    "tags": []
   },
   "outputs": [
    {
     "data": {
      "image/png": "[encoded data removed]",
      "text/plain": [
       "<Figure size 880x80 with 1 Axes>"
      ]
     },
     "metadata": {},
     "output_type": "display_data"
    }
   ],
   "source": [
    "#defining colour palette\n",
    "red = [\"#4f000b\",\"#720026\",\"#ce4257\",\"#ff7f51\",\"#ff9b54\"]\n",
    "bo = [\"#6930c3\",\"#5e60ce\",\"#0096c7\",\"#48cae4\",\"#ade8f4\",\"#ff7f51\",\"#ff9b54\",\"#ffbf69\"]\n",
    "pink = [\"#aa4465\",\"#dd2d4a\",\"#f26a8d\",\"#f49cbb\",\"#ffcbf2\",\"#e2afff\",\"#ff86c8\",\"#ffa3a5\",\"#ffbf81\",\"#e9b827\",\"#f9e576\"]\n",
    "custom_palette(pink)"
   ]
  },
  {
   "cell_type": "markdown",
   "id": "54a889c2",
   "metadata": {
    "papermill": {
     "duration": 0.013749,
     "end_time": "2025-03-18T08:33:02.491437",
     "exception": false,
     "start_time": "2025-03-18T08:33:02.477688",
     "status": "completed"
    },
    "tags": []
   },
   "source": [
    "##  💹 Basic Analysis"
   ]
  },
  {
   "cell_type": "markdown",
   "id": "0e6e6af3",
   "metadata": {
    "papermill": {
     "duration": 0.013865,
     "end_time": "2025-03-18T08:33:02.519639",
     "exception": false,
     "start_time": "2025-03-18T08:33:02.505774",
     "status": "completed"
    },
    "tags": []
   },
   "source": [
    "**Shape of the Data**"
   ]
  },
  {
   "cell_type": "code",
   "execution_count": 5,
   "id": "a7d396b8",
   "metadata": {
    "execution": {
     "iopub.execute_input": "2025-03-18T08:33:02.548580Z",
     "iopub.status.busy": "2025-03-18T08:33:02.548220Z",
     "iopub.status.idle": "2025-03-18T08:33:02.553263Z",
     "shell.execute_reply": "2025-03-18T08:33:02.552480Z"
    },
    "papermill": {
     "duration": 0.021043,
     "end_time": "2025-03-18T08:33:02.554520",
     "exception": false,
     "start_time": "2025-03-18T08:33:02.533477",
     "status": "completed"
    },
    "tags": []
   },
   "outputs": [
    {
     "data": {
      "text/plain": [
       "(197428, 14)"
      ]
     },
     "execution_count": 5,
     "metadata": {},
     "output_type": "execute_result"
    }
   ],
   "source": [
    "df.shape"
   ]
  },
  {
   "cell_type": "markdown",
   "id": "39f583d1",
   "metadata": {
    "papermill": {
     "duration": 0.013964,
     "end_time": "2025-03-18T08:33:02.582618",
     "exception": false,
     "start_time": "2025-03-18T08:33:02.568654",
     "status": "completed"
    },
    "tags": []
   },
   "source": [
    "**Inference**:\n",
    "\n",
    "- Shape of dataframe is 197428 * 14\n",
    "- Number of rows = 197428\n",
    "- Number of columns = 14"
   ]
  },
  {
   "cell_type": "markdown",
   "id": "a605bb45",
   "metadata": {
    "papermill": {
     "duration": 0.013747,
     "end_time": "2025-03-18T08:33:02.610174",
     "exception": false,
     "start_time": "2025-03-18T08:33:02.596427",
     "status": "completed"
    },
    "tags": []
   },
   "source": [
    "**First 5 Rows**"
   ]
  },
  {
   "cell_type": "code",
   "execution_count": 6,
   "id": "52007006",
   "metadata": {
    "execution": {
     "iopub.execute_input": "2025-03-18T08:33:02.639398Z",
     "iopub.status.busy": "2025-03-18T08:33:02.639105Z",
     "iopub.status.idle": "2025-03-18T08:33:02.653662Z",
     "shell.execute_reply": "2025-03-18T08:33:02.652963Z"
    },
    "papermill": {
     "duration": 0.030653,
     "end_time": "2025-03-18T08:33:02.654969",
     "exception": false,
     "start_time": "2025-03-18T08:33:02.624316",
     "status": "completed"
    },
    "tags": []
   },
   "outputs": [
    {
     "data": {
      "text/html": [
       "<div>\n",
       "<style scoped>\n",
       "    .dataframe tbody tr th:only-of-type {\n",
       "        vertical-align: middle;\n",
       "    }\n",
       "\n",
       "    .dataframe tbody tr th {\n",
       "        vertical-align: top;\n",
       "    }\n",
       "\n",
       "    .dataframe thead th {\n",
       "        text-align: right;\n",
       "    }\n",
       "</style>\n",
       "<table border=\"1\" class=\"dataframe\">\n",
       "  <thead>\n",
       "    <tr style=\"text-align: right;\">\n",
       "      <th></th>\n",
       "      <th>market_id</th>\n",
       "      <th>created_at</th>\n",
       "      <th>actual_delivery_time</th>\n",
       "      <th>store_id</th>\n",
       "      <th>store_primary_category</th>\n",
       "      <th>order_protocol</th>\n",
       "      <th>total_items</th>\n",
       "      <th>subtotal</th>\n",
       "      <th>num_distinct_items</th>\n",
       "      <th>min_item_price</th>\n",
       "      <th>max_item_price</th>\n",
       "      <th>total_onshift_partners</th>\n",
       "      <th>total_busy_partners</th>\n",
       "      <th>total_outstanding_orders</th>\n",
       "    </tr>\n",
       "  </thead>\n",
       "  <tbody>\n",
       "    <tr>\n",
       "      <th>0</th>\n",
       "      <td>1.0</td>\n",
       "      <td>2015-02-06 22:24:17</td>\n",
       "      <td>2015-02-06 23:27:16</td>\n",
       "      <td>df263d996281d984952c07998dc54358</td>\n",
       "      <td>american</td>\n",
       "      <td>1.0</td>\n",
       "      <td>4</td>\n",
       "      <td>3441</td>\n",
       "      <td>4</td>\n",
       "      <td>557</td>\n",
       "      <td>1239</td>\n",
       "      <td>33.0</td>\n",
       "      <td>14.0</td>\n",
       "      <td>21.0</td>\n",
       "    </tr>\n",
       "    <tr>\n",
       "      <th>1</th>\n",
       "      <td>2.0</td>\n",
       "      <td>2015-02-10 21:49:25</td>\n",
       "      <td>2015-02-10 22:56:29</td>\n",
       "      <td>f0ade77b43923b38237db569b016ba25</td>\n",
       "      <td>mexican</td>\n",
       "      <td>2.0</td>\n",
       "      <td>1</td>\n",
       "      <td>1900</td>\n",
       "      <td>1</td>\n",
       "      <td>1400</td>\n",
       "      <td>1400</td>\n",
       "      <td>1.0</td>\n",
       "      <td>2.0</td>\n",
       "      <td>2.0</td>\n",
       "    </tr>\n",
       "    <tr>\n",
       "      <th>2</th>\n",
       "      <td>3.0</td>\n",
       "      <td>2015-01-22 20:39:28</td>\n",
       "      <td>2015-01-22 21:09:09</td>\n",
       "      <td>f0ade77b43923b38237db569b016ba25</td>\n",
       "      <td>NaN</td>\n",
       "      <td>1.0</td>\n",
       "      <td>1</td>\n",
       "      <td>1900</td>\n",
       "      <td>1</td>\n",
       "      <td>1900</td>\n",
       "      <td>1900</td>\n",
       "      <td>1.0</td>\n",
       "      <td>0.0</td>\n",
       "      <td>0.0</td>\n",
       "    </tr>\n",
       "    <tr>\n",
       "      <th>3</th>\n",
       "      <td>3.0</td>\n",
       "      <td>2015-02-03 21:21:45</td>\n",
       "      <td>2015-02-03 22:13:00</td>\n",
       "      <td>f0ade77b43923b38237db569b016ba25</td>\n",
       "      <td>NaN</td>\n",
       "      <td>1.0</td>\n",
       "      <td>6</td>\n",
       "      <td>6900</td>\n",
       "      <td>5</td>\n",
       "      <td>600</td>\n",
       "      <td>1800</td>\n",
       "      <td>1.0</td>\n",
       "      <td>1.0</td>\n",
       "      <td>2.0</td>\n",
       "    </tr>\n",
       "    <tr>\n",
       "      <th>4</th>\n",
       "      <td>3.0</td>\n",
       "      <td>2015-02-15 02:40:36</td>\n",
       "      <td>2015-02-15 03:20:26</td>\n",
       "      <td>f0ade77b43923b38237db569b016ba25</td>\n",
       "      <td>NaN</td>\n",
       "      <td>1.0</td>\n",
       "      <td>3</td>\n",
       "      <td>3900</td>\n",
       "      <td>3</td>\n",
       "      <td>1100</td>\n",
       "      <td>1600</td>\n",
       "      <td>6.0</td>\n",
       "      <td>6.0</td>\n",
       "      <td>9.0</td>\n",
       "    </tr>\n",
       "  </tbody>\n",
       "</table>\n",
       "</div>"
      ],
      "text/plain": [
       "   market_id           created_at actual_delivery_time  \\\n",
       "0        1.0  2015-02-06 22:24:17  2015-02-06 23:27:16   \n",
       "1        2.0  2015-02-10 21:49:25  2015-02-10 22:56:29   \n",
       "2        3.0  2015-01-22 20:39:28  2015-01-22 21:09:09   \n",
       "3        3.0  2015-02-03 21:21:45  2015-02-03 22:13:00   \n",
       "4        3.0  2015-02-15 02:40:36  2015-02-15 03:20:26   \n",
       "\n",
       "                           store_id store_primary_category  order_protocol  \\\n",
       "0  df263d996281d984952c07998dc54358               american             1.0   \n",
       "1  f0ade77b43923b38237db569b016ba25                mexican             2.0   \n",
       "2  f0ade77b43923b38237db569b016ba25                    NaN             1.0   \n",
       "3  f0ade77b43923b38237db569b016ba25                    NaN             1.0   \n",
       "4  f0ade77b43923b38237db569b016ba25                    NaN             1.0   \n",
       "\n",
       "   total_items  subtotal  num_distinct_items  min_item_price  max_item_price  \\\n",
       "0            4      3441                   4             557            1239   \n",
       "1            1      1900                   1            1400            1400   \n",
       "2            1      1900                   1            1900            1900   \n",
       "3            6      6900                   5             600            1800   \n",
       "4            3      3900                   3            1100            1600   \n",
       "\n",
       "   total_onshift_partners  total_busy_partners  total_outstanding_orders  \n",
       "0                    33.0                 14.0                      21.0  \n",
       "1                     1.0                  2.0                       2.0  \n",
       "2                     1.0                  0.0                       0.0  \n",
       "3                     1.0                  1.0                       2.0  \n",
       "4                     6.0                  6.0                       9.0  "
      ]
     },
     "execution_count": 6,
     "metadata": {},
     "output_type": "execute_result"
    }
   ],
   "source": [
    "df.head()"
   ]
  },
  {
   "cell_type": "markdown",
   "id": "d5794b01",
   "metadata": {
    "papermill": {
     "duration": 0.054753,
     "end_time": "2025-03-18T08:33:02.723799",
     "exception": false,
     "start_time": "2025-03-18T08:33:02.669046",
     "status": "completed"
    },
    "tags": []
   },
   "source": [
    "**Columns in a Dataframe**"
   ]
  },
  {
   "cell_type": "code",
   "execution_count": 7,
   "id": "c8f2b350",
   "metadata": {
    "execution": {
     "iopub.execute_input": "2025-03-18T08:33:02.752538Z",
     "iopub.status.busy": "2025-03-18T08:33:02.752189Z",
     "iopub.status.idle": "2025-03-18T08:33:02.757190Z",
     "shell.execute_reply": "2025-03-18T08:33:02.756346Z"
    },
    "papermill": {
     "duration": 0.020879,
     "end_time": "2025-03-18T08:33:02.758614",
     "exception": false,
     "start_time": "2025-03-18T08:33:02.737735",
     "status": "completed"
    },
    "tags": []
   },
   "outputs": [
    {
     "data": {
      "text/plain": [
       "Index(['market_id', 'created_at', 'actual_delivery_time', 'store_id',\n",
       "       'store_primary_category', 'order_protocol', 'total_items', 'subtotal',\n",
       "       'num_distinct_items', 'min_item_price', 'max_item_price',\n",
       "       'total_onshift_partners', 'total_busy_partners',\n",
       "       'total_outstanding_orders'],\n",
       "      dtype='object')"
      ]
     },
     "execution_count": 7,
     "metadata": {},
     "output_type": "execute_result"
    }
   ],
   "source": [
    "df.columns"
   ]
  },
  {
   "cell_type": "markdown",
   "id": "782e05ef",
   "metadata": {
    "papermill": {
     "duration": 0.013331,
     "end_time": "2025-03-18T08:33:02.785670",
     "exception": false,
     "start_time": "2025-03-18T08:33:02.772339",
     "status": "completed"
    },
    "tags": []
   },
   "source": [
    "**Concise Summary**"
   ]
  },
  {
   "cell_type": "code",
   "execution_count": 8,
   "id": "30acb0cb",
   "metadata": {
    "execution": {
     "iopub.execute_input": "2025-03-18T08:33:02.813675Z",
     "iopub.status.busy": "2025-03-18T08:33:02.813390Z",
     "iopub.status.idle": "2025-03-18T08:33:02.884154Z",
     "shell.execute_reply": "2025-03-18T08:33:02.883022Z"
    },
    "papermill": {
     "duration": 0.086426,
     "end_time": "2025-03-18T08:33:02.885646",
     "exception": false,
     "start_time": "2025-03-18T08:33:02.799220",
     "status": "completed"
    },
    "tags": []
   },
   "outputs": [
    {
     "name": "stdout",
     "output_type": "stream",
     "text": [
      "<class 'pandas.core.frame.DataFrame'>\n",
      "RangeIndex: 197428 entries, 0 to 197427\n",
      "Data columns (total 14 columns):\n",
      " #   Column                    Non-Null Count   Dtype  \n",
      "---  ------                    --------------   -----  \n",
      " 0   market_id                 196441 non-null  float64\n",
      " 1   created_at                197428 non-null  object \n",
      " 2   actual_delivery_time      197421 non-null  object \n",
      " 3   store_id                  197428 non-null  object \n",
      " 4   store_primary_category    192668 non-null  object \n",
      " 5   order_protocol            196433 non-null  float64\n",
      " 6   total_items               197428 non-null  int64  \n",
      " 7   subtotal                  197428 non-null  int64  \n",
      " 8   num_distinct_items        197428 non-null  int64  \n",
      " 9   min_item_price            197428 non-null  int64  \n",
      " 10  max_item_price            197428 non-null  int64  \n",
      " 11  total_onshift_partners    181166 non-null  float64\n",
      " 12  total_busy_partners       181166 non-null  float64\n",
      " 13  total_outstanding_orders  181166 non-null  float64\n",
      "dtypes: float64(5), int64(5), object(4)\n",
      "memory usage: 21.1+ MB\n"
     ]
    }
   ],
   "source": [
    "df.info()"
   ]
  },
  {
   "cell_type": "markdown",
   "id": "3fadb8c3",
   "metadata": {
    "papermill": {
     "duration": 0.013575,
     "end_time": "2025-03-18T08:33:02.914434",
     "exception": false,
     "start_time": "2025-03-18T08:33:02.900859",
     "status": "completed"
    },
    "tags": []
   },
   "source": [
    "**Inference**:\n",
    "\n",
    "The columns 'market_id', 'actual_delivery_time', 'store_primary_category', 'order_protocol', 'total_onshift_partners', 'total_busy_partners', and 'total_outstanding_orders' have missing values."
   ]
  },
  {
   "cell_type": "markdown",
   "id": "0de86e6f",
   "metadata": {
    "papermill": {
     "duration": 0.013849,
     "end_time": "2025-03-18T08:33:02.942097",
     "exception": false,
     "start_time": "2025-03-18T08:33:02.928248",
     "status": "completed"
    },
    "tags": []
   },
   "source": [
    "**Statistical Summary**"
   ]
  },
  {
   "cell_type": "code",
   "execution_count": 9,
   "id": "63b273e8",
   "metadata": {
    "execution": {
     "iopub.execute_input": "2025-03-18T08:33:02.970773Z",
     "iopub.status.busy": "2025-03-18T08:33:02.970450Z",
     "iopub.status.idle": "2025-03-18T08:33:03.063410Z",
     "shell.execute_reply": "2025-03-18T08:33:03.062595Z"
    },
    "papermill": {
     "duration": 0.10887,
     "end_time": "2025-03-18T08:33:03.064861",
     "exception": false,
     "start_time": "2025-03-18T08:33:02.955991",
     "status": "completed"
    },
    "tags": []
   },
   "outputs": [
    {
     "data": {
      "text/html": [
       "<div>\n",
       "<style scoped>\n",
       "    .dataframe tbody tr th:only-of-type {\n",
       "        vertical-align: middle;\n",
       "    }\n",
       "\n",
       "    .dataframe tbody tr th {\n",
       "        vertical-align: top;\n",
       "    }\n",
       "\n",
       "    .dataframe thead th {\n",
       "        text-align: right;\n",
       "    }\n",
       "</style>\n",
       "<table border=\"1\" class=\"dataframe\">\n",
       "  <thead>\n",
       "    <tr style=\"text-align: right;\">\n",
       "      <th></th>\n",
       "      <th>count</th>\n",
       "      <th>mean</th>\n",
       "      <th>std</th>\n",
       "      <th>min</th>\n",
       "      <th>25%</th>\n",
       "      <th>50%</th>\n",
       "      <th>75%</th>\n",
       "      <th>max</th>\n",
       "    </tr>\n",
       "  </thead>\n",
       "  <tbody>\n",
       "    <tr>\n",
       "      <th>market_id</th>\n",
       "      <td>196441.0</td>\n",
       "      <td>2.978706</td>\n",
       "      <td>1.524867</td>\n",
       "      <td>1.0</td>\n",
       "      <td>2.0</td>\n",
       "      <td>3.0</td>\n",
       "      <td>4.0</td>\n",
       "      <td>6.0</td>\n",
       "    </tr>\n",
       "    <tr>\n",
       "      <th>order_protocol</th>\n",
       "      <td>196433.0</td>\n",
       "      <td>2.882352</td>\n",
       "      <td>1.503771</td>\n",
       "      <td>1.0</td>\n",
       "      <td>1.0</td>\n",
       "      <td>3.0</td>\n",
       "      <td>4.0</td>\n",
       "      <td>7.0</td>\n",
       "    </tr>\n",
       "    <tr>\n",
       "      <th>total_items</th>\n",
       "      <td>197428.0</td>\n",
       "      <td>3.196391</td>\n",
       "      <td>2.666546</td>\n",
       "      <td>1.0</td>\n",
       "      <td>2.0</td>\n",
       "      <td>3.0</td>\n",
       "      <td>4.0</td>\n",
       "      <td>411.0</td>\n",
       "    </tr>\n",
       "    <tr>\n",
       "      <th>subtotal</th>\n",
       "      <td>197428.0</td>\n",
       "      <td>2682.331402</td>\n",
       "      <td>1823.093688</td>\n",
       "      <td>0.0</td>\n",
       "      <td>1400.0</td>\n",
       "      <td>2200.0</td>\n",
       "      <td>3395.0</td>\n",
       "      <td>27100.0</td>\n",
       "    </tr>\n",
       "    <tr>\n",
       "      <th>num_distinct_items</th>\n",
       "      <td>197428.0</td>\n",
       "      <td>2.670791</td>\n",
       "      <td>1.630255</td>\n",
       "      <td>1.0</td>\n",
       "      <td>1.0</td>\n",
       "      <td>2.0</td>\n",
       "      <td>3.0</td>\n",
       "      <td>20.0</td>\n",
       "    </tr>\n",
       "    <tr>\n",
       "      <th>min_item_price</th>\n",
       "      <td>197428.0</td>\n",
       "      <td>686.218470</td>\n",
       "      <td>522.038648</td>\n",
       "      <td>-86.0</td>\n",
       "      <td>299.0</td>\n",
       "      <td>595.0</td>\n",
       "      <td>949.0</td>\n",
       "      <td>14700.0</td>\n",
       "    </tr>\n",
       "    <tr>\n",
       "      <th>max_item_price</th>\n",
       "      <td>197428.0</td>\n",
       "      <td>1159.588630</td>\n",
       "      <td>558.411377</td>\n",
       "      <td>0.0</td>\n",
       "      <td>800.0</td>\n",
       "      <td>1095.0</td>\n",
       "      <td>1395.0</td>\n",
       "      <td>14700.0</td>\n",
       "    </tr>\n",
       "    <tr>\n",
       "      <th>total_onshift_partners</th>\n",
       "      <td>181166.0</td>\n",
       "      <td>44.808093</td>\n",
       "      <td>34.526783</td>\n",
       "      <td>-4.0</td>\n",
       "      <td>17.0</td>\n",
       "      <td>37.0</td>\n",
       "      <td>65.0</td>\n",
       "      <td>171.0</td>\n",
       "    </tr>\n",
       "    <tr>\n",
       "      <th>total_busy_partners</th>\n",
       "      <td>181166.0</td>\n",
       "      <td>41.739747</td>\n",
       "      <td>32.145733</td>\n",
       "      <td>-5.0</td>\n",
       "      <td>15.0</td>\n",
       "      <td>34.0</td>\n",
       "      <td>62.0</td>\n",
       "      <td>154.0</td>\n",
       "    </tr>\n",
       "    <tr>\n",
       "      <th>total_outstanding_orders</th>\n",
       "      <td>181166.0</td>\n",
       "      <td>58.050065</td>\n",
       "      <td>52.661830</td>\n",
       "      <td>-6.0</td>\n",
       "      <td>17.0</td>\n",
       "      <td>41.0</td>\n",
       "      <td>85.0</td>\n",
       "      <td>285.0</td>\n",
       "    </tr>\n",
       "  </tbody>\n",
       "</table>\n",
       "</div>"
      ],
      "text/plain": [
       "                             count         mean          std   min     25%  \\\n",
       "market_id                 196441.0     2.978706     1.524867   1.0     2.0   \n",
       "order_protocol            196433.0     2.882352     1.503771   1.0     1.0   \n",
       "total_items               197428.0     3.196391     2.666546   1.0     2.0   \n",
       "subtotal                  197428.0  2682.331402  1823.093688   0.0  1400.0   \n",
       "num_distinct_items        197428.0     2.670791     1.630255   1.0     1.0   \n",
       "min_item_price            197428.0   686.218470   522.038648 -86.0   299.0   \n",
       "max_item_price            197428.0  1159.588630   558.411377   0.0   800.0   \n",
       "total_onshift_partners    181166.0    44.808093    34.526783  -4.0    17.0   \n",
       "total_busy_partners       181166.0    41.739747    32.145733  -5.0    15.0   \n",
       "total_outstanding_orders  181166.0    58.050065    52.661830  -6.0    17.0   \n",
       "\n",
       "                             50%     75%      max  \n",
       "market_id                    3.0     4.0      6.0  \n",
       "order_protocol               3.0     4.0      7.0  \n",
       "total_items                  3.0     4.0    411.0  \n",
       "subtotal                  2200.0  3395.0  27100.0  \n",
       "num_distinct_items           2.0     3.0     20.0  \n",
       "min_item_price             595.0   949.0  14700.0  \n",
       "max_item_price            1095.0  1395.0  14700.0  \n",
       "total_onshift_partners      37.0    65.0    171.0  \n",
       "total_busy_partners         34.0    62.0    154.0  \n",
       "total_outstanding_orders    41.0    85.0    285.0  "
      ]
     },
     "execution_count": 9,
     "metadata": {},
     "output_type": "execute_result"
    }
   ],
   "source": [
    "# Statistical Summary of numeric Columns\n",
    "df.describe().T"
   ]
  },
  {
   "cell_type": "code",
   "execution_count": 10,
   "id": "404feee4",
   "metadata": {
    "execution": {
     "iopub.execute_input": "2025-03-18T08:33:03.095107Z",
     "iopub.status.busy": "2025-03-18T08:33:03.094784Z",
     "iopub.status.idle": "2025-03-18T08:33:03.387459Z",
     "shell.execute_reply": "2025-03-18T08:33:03.386552Z"
    },
    "papermill": {
     "duration": 0.309128,
     "end_time": "2025-03-18T08:33:03.389072",
     "exception": false,
     "start_time": "2025-03-18T08:33:03.079944",
     "status": "completed"
    },
    "tags": []
   },
   "outputs": [
    {
     "data": {
      "text/html": [
       "<div>\n",
       "<style scoped>\n",
       "    .dataframe tbody tr th:only-of-type {\n",
       "        vertical-align: middle;\n",
       "    }\n",
       "\n",
       "    .dataframe tbody tr th {\n",
       "        vertical-align: top;\n",
       "    }\n",
       "\n",
       "    .dataframe thead th {\n",
       "        text-align: right;\n",
       "    }\n",
       "</style>\n",
       "<table border=\"1\" class=\"dataframe\">\n",
       "  <thead>\n",
       "    <tr style=\"text-align: right;\">\n",
       "      <th></th>\n",
       "      <th>count</th>\n",
       "      <th>unique</th>\n",
       "      <th>top</th>\n",
       "      <th>freq</th>\n",
       "    </tr>\n",
       "  </thead>\n",
       "  <tbody>\n",
       "    <tr>\n",
       "      <th>created_at</th>\n",
       "      <td>197428</td>\n",
       "      <td>180985</td>\n",
       "      <td>2015-02-11 19:50:43</td>\n",
       "      <td>6</td>\n",
       "    </tr>\n",
       "    <tr>\n",
       "      <th>actual_delivery_time</th>\n",
       "      <td>197421</td>\n",
       "      <td>178110</td>\n",
       "      <td>2015-02-08 04:09:25</td>\n",
       "      <td>5</td>\n",
       "    </tr>\n",
       "    <tr>\n",
       "      <th>store_id</th>\n",
       "      <td>197428</td>\n",
       "      <td>6743</td>\n",
       "      <td>d43ab110ab2489d6b9b2caa394bf920f</td>\n",
       "      <td>937</td>\n",
       "    </tr>\n",
       "    <tr>\n",
       "      <th>store_primary_category</th>\n",
       "      <td>192668</td>\n",
       "      <td>74</td>\n",
       "      <td>american</td>\n",
       "      <td>19399</td>\n",
       "    </tr>\n",
       "  </tbody>\n",
       "</table>\n",
       "</div>"
      ],
      "text/plain": [
       "                         count  unique                               top  \\\n",
       "created_at              197428  180985               2015-02-11 19:50:43   \n",
       "actual_delivery_time    197421  178110               2015-02-08 04:09:25   \n",
       "store_id                197428    6743  d43ab110ab2489d6b9b2caa394bf920f   \n",
       "store_primary_category  192668      74                          american   \n",
       "\n",
       "                         freq  \n",
       "created_at                  6  \n",
       "actual_delivery_time        5  \n",
       "store_id                  937  \n",
       "store_primary_category  19399  "
      ]
     },
     "execution_count": 10,
     "metadata": {},
     "output_type": "execute_result"
    }
   ],
   "source": [
    "# Statistical Summary of Categorical Columns\n",
    "df.describe(include='object').T"
   ]
  },
  {
   "cell_type": "markdown",
   "id": "3a5bf5e0",
   "metadata": {
    "papermill": {
     "duration": 0.014376,
     "end_time": "2025-03-18T08:33:03.418604",
     "exception": false,
     "start_time": "2025-03-18T08:33:03.404228",
     "status": "completed"
    },
    "tags": []
   },
   "source": [
    "**Checking For Missing Values**"
   ]
  },
  {
   "cell_type": "code",
   "execution_count": 11,
   "id": "3d198bb4",
   "metadata": {
    "execution": {
     "iopub.execute_input": "2025-03-18T08:33:03.448308Z",
     "iopub.status.busy": "2025-03-18T08:33:03.448008Z",
     "iopub.status.idle": "2025-03-18T08:33:03.504008Z",
     "shell.execute_reply": "2025-03-18T08:33:03.503208Z"
    },
    "papermill": {
     "duration": 0.072391,
     "end_time": "2025-03-18T08:33:03.505324",
     "exception": false,
     "start_time": "2025-03-18T08:33:03.432933",
     "status": "completed"
    },
    "tags": []
   },
   "outputs": [
    {
     "data": {
      "text/plain": [
       "market_id                   0.50\n",
       "created_at                  0.00\n",
       "actual_delivery_time        0.00\n",
       "store_id                    0.00\n",
       "store_primary_category      2.41\n",
       "order_protocol              0.50\n",
       "total_items                 0.00\n",
       "subtotal                    0.00\n",
       "num_distinct_items          0.00\n",
       "min_item_price              0.00\n",
       "max_item_price              0.00\n",
       "total_onshift_partners      8.24\n",
       "total_busy_partners         8.24\n",
       "total_outstanding_orders    8.24\n",
       "dtype: float64"
      ]
     },
     "execution_count": 11,
     "metadata": {},
     "output_type": "execute_result"
    }
   ],
   "source": [
    "np.round(((df.isnull().sum())/(df.shape[0]))*100,2)"
   ]
  },
  {
   "cell_type": "code",
   "execution_count": 12,
   "id": "84266cea",
   "metadata": {
    "execution": {
     "iopub.execute_input": "2025-03-18T08:33:03.535023Z",
     "iopub.status.busy": "2025-03-18T08:33:03.534781Z",
     "iopub.status.idle": "2025-03-18T08:33:04.113448Z",
     "shell.execute_reply": "2025-03-18T08:33:04.112527Z"
    },
    "papermill": {
     "duration": 0.59519,
     "end_time": "2025-03-18T08:33:04.115144",
     "exception": false,
     "start_time": "2025-03-18T08:33:03.519954",
     "status": "completed"
    },
    "tags": []
   },
   "outputs": [
    {
     "data": {
      "image/png": "[encoded data removed]",
      "text/plain": [
       "<Figure size 1200x800 with 1 Axes>"
      ]
     },
     "metadata": {},
     "output_type": "display_data"
    }
   ],
   "source": [
    "plt.figure(figsize = (12,8))\n",
    "ax = ((df.isnull().sum()/df.shape[0])*100).plot(kind = 'barh', color = '#DB3069')\n",
    "for container in ax.containers:\n",
    "    ax.bar_label(container, fmt = '%.2f')\n",
    "plt.xlabel('Missing Values %')\n",
    "plt.ylabel('Columns')\n",
    "plt.title('Percentage of missing values in data')\n",
    "sns.set_style('darkgrid')\n",
    "plt.show()"
   ]
  },
  {
   "cell_type": "code",
   "execution_count": 13,
   "id": "def7da21",
   "metadata": {
    "execution": {
     "iopub.execute_input": "2025-03-18T08:33:04.148386Z",
     "iopub.status.busy": "2025-03-18T08:33:04.148051Z",
     "iopub.status.idle": "2025-03-18T08:33:04.157380Z",
     "shell.execute_reply": "2025-03-18T08:33:04.156571Z"
    },
    "papermill": {
     "duration": 0.027054,
     "end_time": "2025-03-18T08:33:04.158783",
     "exception": false,
     "start_time": "2025-03-18T08:33:04.131729",
     "status": "completed"
    },
    "tags": []
   },
   "outputs": [
    {
     "data": {
      "text/plain": [
       "order_protocol\n",
       "1.0    54725\n",
       "3.0    53199\n",
       "5.0    44290\n",
       "2.0    24052\n",
       "4.0    19354\n",
       "6.0      794\n",
       "7.0       19\n",
       "Name: count, dtype: int64"
      ]
     },
     "execution_count": 13,
     "metadata": {},
     "output_type": "execute_result"
    }
   ],
   "source": [
    "df['order_protocol'].value_counts()"
   ]
  },
  {
   "cell_type": "code",
   "execution_count": null,
   "id": "ad003f21",
   "metadata": {
    "papermill": {
     "duration": 0.015512,
     "end_time": "2025-03-18T08:33:04.190136",
     "exception": false,
     "start_time": "2025-03-18T08:33:04.174624",
     "status": "completed"
    },
    "tags": []
   },
   "outputs": [],
   "source": []
  },
  {
   "cell_type": "markdown",
   "id": "83700770",
   "metadata": {
    "papermill": {
     "duration": 0.015519,
     "end_time": "2025-03-18T08:33:04.221486",
     "exception": false,
     "start_time": "2025-03-18T08:33:04.205967",
     "status": "completed"
    },
    "tags": []
   },
   "source": [
    "# ⚒️  Data Preprocessing"
   ]
  },
  {
   "cell_type": "markdown",
   "id": "eab493ff",
   "metadata": {
    "papermill": {
     "duration": 0.015511,
     "end_time": "2025-03-18T08:33:04.252654",
     "exception": false,
     "start_time": "2025-03-18T08:33:04.237143",
     "status": "completed"
    },
    "tags": []
   },
   "source": [
    "## ♊ Duplicate Value check"
   ]
  },
  {
   "cell_type": "code",
   "execution_count": 14,
   "id": "db95152b",
   "metadata": {
    "execution": {
     "iopub.execute_input": "2025-03-18T08:33:04.286561Z",
     "iopub.status.busy": "2025-03-18T08:33:04.286225Z",
     "iopub.status.idle": "2025-03-18T08:33:04.456446Z",
     "shell.execute_reply": "2025-03-18T08:33:04.455580Z"
    },
    "papermill": {
     "duration": 0.188129,
     "end_time": "2025-03-18T08:33:04.457865",
     "exception": false,
     "start_time": "2025-03-18T08:33:04.269736",
     "status": "completed"
    },
    "tags": []
   },
   "outputs": [
    {
     "data": {
      "text/html": [
       "<div>\n",
       "<style scoped>\n",
       "    .dataframe tbody tr th:only-of-type {\n",
       "        vertical-align: middle;\n",
       "    }\n",
       "\n",
       "    .dataframe tbody tr th {\n",
       "        vertical-align: top;\n",
       "    }\n",
       "\n",
       "    .dataframe thead th {\n",
       "        text-align: right;\n",
       "    }\n",
       "</style>\n",
       "<table border=\"1\" class=\"dataframe\">\n",
       "  <thead>\n",
       "    <tr style=\"text-align: right;\">\n",
       "      <th></th>\n",
       "      <th>market_id</th>\n",
       "      <th>created_at</th>\n",
       "      <th>actual_delivery_time</th>\n",
       "      <th>store_id</th>\n",
       "      <th>store_primary_category</th>\n",
       "      <th>order_protocol</th>\n",
       "      <th>total_items</th>\n",
       "      <th>subtotal</th>\n",
       "      <th>num_distinct_items</th>\n",
       "      <th>min_item_price</th>\n",
       "      <th>max_item_price</th>\n",
       "      <th>total_onshift_partners</th>\n",
       "      <th>total_busy_partners</th>\n",
       "      <th>total_outstanding_orders</th>\n",
       "    </tr>\n",
       "  </thead>\n",
       "  <tbody>\n",
       "  </tbody>\n",
       "</table>\n",
       "</div>"
      ],
      "text/plain": [
       "Empty DataFrame\n",
       "Columns: [market_id, created_at, actual_delivery_time, store_id, store_primary_category, order_protocol, total_items, subtotal, num_distinct_items, min_item_price, max_item_price, total_onshift_partners, total_busy_partners, total_outstanding_orders]\n",
       "Index: []"
      ]
     },
     "execution_count": 14,
     "metadata": {},
     "output_type": "execute_result"
    }
   ],
   "source": [
    "df[df.duplicated()]"
   ]
  },
  {
   "cell_type": "code",
   "execution_count": 15,
   "id": "e36f4c0f",
   "metadata": {
    "execution": {
     "iopub.execute_input": "2025-03-18T08:33:04.490874Z",
     "iopub.status.busy": "2025-03-18T08:33:04.490594Z",
     "iopub.status.idle": "2025-03-18T08:33:04.660470Z",
     "shell.execute_reply": "2025-03-18T08:33:04.659540Z"
    },
    "papermill": {
     "duration": 0.18776,
     "end_time": "2025-03-18T08:33:04.661815",
     "exception": false,
     "start_time": "2025-03-18T08:33:04.474055",
     "status": "completed"
    },
    "tags": []
   },
   "outputs": [
    {
     "name": "stdout",
     "output_type": "stream",
     "text": [
      "Empty DataFrame\n",
      "Columns: [market_id, created_at, actual_delivery_time, store_id, store_primary_category, order_protocol, total_items, subtotal, num_distinct_items, min_item_price, max_item_price, total_onshift_partners, total_busy_partners, total_outstanding_orders]\n",
      "Index: []\n"
     ]
    }
   ],
   "source": [
    "print(df[df.duplicated()])"
   ]
  },
  {
   "cell_type": "markdown",
   "id": "4d5b3620",
   "metadata": {
    "papermill": {
     "duration": 0.015633,
     "end_time": "2025-03-18T08:33:04.693697",
     "exception": false,
     "start_time": "2025-03-18T08:33:04.678064",
     "status": "completed"
    },
    "tags": []
   },
   "source": [
    "## 🧹 Handling Missing Values"
   ]
  },
  {
   "cell_type": "markdown",
   "id": "528835f6",
   "metadata": {
    "papermill": {
     "duration": 0.015491,
     "end_time": "2025-03-18T08:33:04.725139",
     "exception": false,
     "start_time": "2025-03-18T08:33:04.709648",
     "status": "completed"
    },
    "tags": []
   },
   "source": [
    "Startegies to handle missing data\n",
    "\n",
    "1️⃣ Numeric Features:\n",
    "\n",
    "For numeric features we can use median imputation to prevent extreme values from affecting the distribution\n",
    "\n",
    "2️⃣ Categorical/Discerete Features:\n",
    "\n",
    "All categorical features have only 2 to 5 unique values, making it suitable to impute missing values using the most frequent category."
   ]
  },
  {
   "cell_type": "markdown",
   "id": "8c9ce9ff",
   "metadata": {
    "papermill": {
     "duration": 0.015307,
     "end_time": "2025-03-18T08:33:04.756399",
     "exception": false,
     "start_time": "2025-03-18T08:33:04.741092",
     "status": "completed"
    },
    "tags": []
   },
   "source": [
    "**Missing Values Check**"
   ]
  },
  {
   "cell_type": "code",
   "execution_count": 16,
   "id": "795a4250",
   "metadata": {
    "execution": {
     "iopub.execute_input": "2025-03-18T08:33:04.794944Z",
     "iopub.status.busy": "2025-03-18T08:33:04.794654Z",
     "iopub.status.idle": "2025-03-18T08:33:04.852659Z",
     "shell.execute_reply": "2025-03-18T08:33:04.851833Z"
    },
    "papermill": {
     "duration": 0.075804,
     "end_time": "2025-03-18T08:33:04.854018",
     "exception": false,
     "start_time": "2025-03-18T08:33:04.778214",
     "status": "completed"
    },
    "tags": []
   },
   "outputs": [
    {
     "data": {
      "text/plain": [
       "market_id                   0.50\n",
       "created_at                  0.00\n",
       "actual_delivery_time        0.00\n",
       "store_id                    0.00\n",
       "store_primary_category      2.41\n",
       "order_protocol              0.50\n",
       "total_items                 0.00\n",
       "subtotal                    0.00\n",
       "num_distinct_items          0.00\n",
       "min_item_price              0.00\n",
       "max_item_price              0.00\n",
       "total_onshift_partners      8.24\n",
       "total_busy_partners         8.24\n",
       "total_outstanding_orders    8.24\n",
       "dtype: float64"
      ]
     },
     "execution_count": 16,
     "metadata": {},
     "output_type": "execute_result"
    }
   ],
   "source": [
    "np.round(((df.isnull().sum())/(df.shape[0]))*100,2)"
   ]
  },
  {
   "cell_type": "code",
   "execution_count": 17,
   "id": "ce21dc60",
   "metadata": {
    "execution": {
     "iopub.execute_input": "2025-03-18T08:33:04.887934Z",
     "iopub.status.busy": "2025-03-18T08:33:04.887658Z",
     "iopub.status.idle": "2025-03-18T08:33:05.343252Z",
     "shell.execute_reply": "2025-03-18T08:33:05.342391Z"
    },
    "papermill": {
     "duration": 0.473752,
     "end_time": "2025-03-18T08:33:05.344650",
     "exception": false,
     "start_time": "2025-03-18T08:33:04.870898",
     "status": "completed"
    },
    "tags": []
   },
   "outputs": [
    {
     "data": {
      "image/png": "[encoded data removed]",
      "text/plain": [
       "<Figure size 1200x800 with 1 Axes>"
      ]
     },
     "metadata": {},
     "output_type": "display_data"
    }
   ],
   "source": [
    "plt.figure(figsize = (12,8))\n",
    "ax = ((df.isnull().sum()/df.shape[0])*100).plot(kind = 'barh', color = '#DB3069')\n",
    "for container in ax.containers:\n",
    "    ax.bar_label(container, fmt = '%.2f')\n",
    "plt.xlabel('Missing Values %')\n",
    "plt.ylabel('Columns')\n",
    "plt.title('Percentage of missing values in data')\n",
    "sns.set_style('darkgrid')\n",
    "plt.show()"
   ]
  },
  {
   "cell_type": "markdown",
   "id": "adb5fcb9",
   "metadata": {
    "papermill": {
     "duration": 0.01655,
     "end_time": "2025-03-18T08:33:05.378890",
     "exception": false,
     "start_time": "2025-03-18T08:33:05.362340",
     "status": "completed"
    },
    "tags": []
   },
   "source": [
    "**Handling Missing Values in 'order_protocol' Column"
   ]
  },
  {
   "cell_type": "code",
   "execution_count": 18,
   "id": "a51aaff1",
   "metadata": {
    "execution": {
     "iopub.execute_input": "2025-03-18T08:33:05.413467Z",
     "iopub.status.busy": "2025-03-18T08:33:05.413172Z",
     "iopub.status.idle": "2025-03-18T08:33:05.431472Z",
     "shell.execute_reply": "2025-03-18T08:33:05.430771Z"
    },
    "papermill": {
     "duration": 0.037025,
     "end_time": "2025-03-18T08:33:05.432662",
     "exception": false,
     "start_time": "2025-03-18T08:33:05.395637",
     "status": "completed"
    },
    "tags": []
   },
   "outputs": [
    {
     "data": {
      "text/plain": [
       "0.13709259426641762"
      ]
     },
     "execution_count": 18,
     "metadata": {},
     "output_type": "execute_result"
    }
   ],
   "source": [
    "df['order_protocol'].skew()"
   ]
  },
  {
   "cell_type": "markdown",
   "id": "48eaa510",
   "metadata": {
    "papermill": {
     "duration": 0.016545,
     "end_time": "2025-03-18T08:33:05.466349",
     "exception": false,
     "start_time": "2025-03-18T08:33:05.449804",
     "status": "completed"
    },
    "tags": []
   },
   "source": [
    "**Inference**:\n",
    "\n",
    "As column is discrete and not skewed we will use mode or most frequent value to impute missing values in the data"
   ]
  },
  {
   "cell_type": "code",
   "execution_count": 19,
   "id": "d2575e71",
   "metadata": {
    "execution": {
     "iopub.execute_input": "2025-03-18T08:33:05.501725Z",
     "iopub.status.busy": "2025-03-18T08:33:05.501420Z",
     "iopub.status.idle": "2025-03-18T08:33:05.949468Z",
     "shell.execute_reply": "2025-03-18T08:33:05.948624Z"
    },
    "papermill": {
     "duration": 0.467287,
     "end_time": "2025-03-18T08:33:05.950761",
     "exception": false,
     "start_time": "2025-03-18T08:33:05.483474",
     "status": "completed"
    },
    "tags": []
   },
   "outputs": [
    {
     "data": {
      "text/plain": [
       "market_id                     987\n",
       "created_at                      0\n",
       "actual_delivery_time            7\n",
       "store_id                        0\n",
       "store_primary_category       4760\n",
       "order_protocol                  0\n",
       "total_items                     0\n",
       "subtotal                        0\n",
       "num_distinct_items              0\n",
       "min_item_price                  0\n",
       "max_item_price                  0\n",
       "total_onshift_partners      16262\n",
       "total_busy_partners         16262\n",
       "total_outstanding_orders    16262\n",
       "dtype: int64"
      ]
     },
     "execution_count": 19,
     "metadata": {},
     "output_type": "execute_result"
    }
   ],
   "source": [
    "from sklearn.impute import SimpleImputer\n",
    "imputer = SimpleImputer(strategy='most_frequent')\n",
    "df['order_protocol'] = imputer.fit_transform(df[['order_protocol']])\n",
    "df.isnull().sum()"
   ]
  },
  {
   "cell_type": "code",
   "execution_count": 20,
   "id": "2c3c27f4",
   "metadata": {
    "execution": {
     "iopub.execute_input": "2025-03-18T08:33:05.986416Z",
     "iopub.status.busy": "2025-03-18T08:33:05.986169Z",
     "iopub.status.idle": "2025-03-18T08:33:06.001995Z",
     "shell.execute_reply": "2025-03-18T08:33:06.001301Z"
    },
    "papermill": {
     "duration": 0.035253,
     "end_time": "2025-03-18T08:33:06.003594",
     "exception": false,
     "start_time": "2025-03-18T08:33:05.968341",
     "status": "completed"
    },
    "tags": []
   },
   "outputs": [
    {
     "data": {
      "text/html": [
       "<div>\n",
       "<style scoped>\n",
       "    .dataframe tbody tr th:only-of-type {\n",
       "        vertical-align: middle;\n",
       "    }\n",
       "\n",
       "    .dataframe tbody tr th {\n",
       "        vertical-align: top;\n",
       "    }\n",
       "\n",
       "    .dataframe thead th {\n",
       "        text-align: right;\n",
       "    }\n",
       "</style>\n",
       "<table border=\"1\" class=\"dataframe\">\n",
       "  <thead>\n",
       "    <tr style=\"text-align: right;\">\n",
       "      <th></th>\n",
       "      <th>market_id</th>\n",
       "      <th>created_at</th>\n",
       "      <th>actual_delivery_time</th>\n",
       "      <th>store_id</th>\n",
       "      <th>store_primary_category</th>\n",
       "      <th>order_protocol</th>\n",
       "      <th>total_items</th>\n",
       "      <th>subtotal</th>\n",
       "      <th>num_distinct_items</th>\n",
       "      <th>min_item_price</th>\n",
       "      <th>max_item_price</th>\n",
       "      <th>total_onshift_partners</th>\n",
       "      <th>total_busy_partners</th>\n",
       "      <th>total_outstanding_orders</th>\n",
       "    </tr>\n",
       "  </thead>\n",
       "  <tbody>\n",
       "    <tr>\n",
       "      <th>0</th>\n",
       "      <td>1.0</td>\n",
       "      <td>2015-02-06 22:24:17</td>\n",
       "      <td>2015-02-06 23:27:16</td>\n",
       "      <td>df263d996281d984952c07998dc54358</td>\n",
       "      <td>american</td>\n",
       "      <td>1.0</td>\n",
       "      <td>4</td>\n",
       "      <td>3441</td>\n",
       "      <td>4</td>\n",
       "      <td>557</td>\n",
       "      <td>1239</td>\n",
       "      <td>33.0</td>\n",
       "      <td>14.0</td>\n",
       "      <td>21.0</td>\n",
       "    </tr>\n",
       "    <tr>\n",
       "      <th>1</th>\n",
       "      <td>2.0</td>\n",
       "      <td>2015-02-10 21:49:25</td>\n",
       "      <td>2015-02-10 22:56:29</td>\n",
       "      <td>f0ade77b43923b38237db569b016ba25</td>\n",
       "      <td>mexican</td>\n",
       "      <td>2.0</td>\n",
       "      <td>1</td>\n",
       "      <td>1900</td>\n",
       "      <td>1</td>\n",
       "      <td>1400</td>\n",
       "      <td>1400</td>\n",
       "      <td>1.0</td>\n",
       "      <td>2.0</td>\n",
       "      <td>2.0</td>\n",
       "    </tr>\n",
       "    <tr>\n",
       "      <th>2</th>\n",
       "      <td>3.0</td>\n",
       "      <td>2015-01-22 20:39:28</td>\n",
       "      <td>2015-01-22 21:09:09</td>\n",
       "      <td>f0ade77b43923b38237db569b016ba25</td>\n",
       "      <td>NaN</td>\n",
       "      <td>1.0</td>\n",
       "      <td>1</td>\n",
       "      <td>1900</td>\n",
       "      <td>1</td>\n",
       "      <td>1900</td>\n",
       "      <td>1900</td>\n",
       "      <td>1.0</td>\n",
       "      <td>0.0</td>\n",
       "      <td>0.0</td>\n",
       "    </tr>\n",
       "    <tr>\n",
       "      <th>3</th>\n",
       "      <td>3.0</td>\n",
       "      <td>2015-02-03 21:21:45</td>\n",
       "      <td>2015-02-03 22:13:00</td>\n",
       "      <td>f0ade77b43923b38237db569b016ba25</td>\n",
       "      <td>NaN</td>\n",
       "      <td>1.0</td>\n",
       "      <td>6</td>\n",
       "      <td>6900</td>\n",
       "      <td>5</td>\n",
       "      <td>600</td>\n",
       "      <td>1800</td>\n",
       "      <td>1.0</td>\n",
       "      <td>1.0</td>\n",
       "      <td>2.0</td>\n",
       "    </tr>\n",
       "    <tr>\n",
       "      <th>4</th>\n",
       "      <td>3.0</td>\n",
       "      <td>2015-02-15 02:40:36</td>\n",
       "      <td>2015-02-15 03:20:26</td>\n",
       "      <td>f0ade77b43923b38237db569b016ba25</td>\n",
       "      <td>NaN</td>\n",
       "      <td>1.0</td>\n",
       "      <td>3</td>\n",
       "      <td>3900</td>\n",
       "      <td>3</td>\n",
       "      <td>1100</td>\n",
       "      <td>1600</td>\n",
       "      <td>6.0</td>\n",
       "      <td>6.0</td>\n",
       "      <td>9.0</td>\n",
       "    </tr>\n",
       "    <tr>\n",
       "      <th>...</th>\n",
       "      <td>...</td>\n",
       "      <td>...</td>\n",
       "      <td>...</td>\n",
       "      <td>...</td>\n",
       "      <td>...</td>\n",
       "      <td>...</td>\n",
       "      <td>...</td>\n",
       "      <td>...</td>\n",
       "      <td>...</td>\n",
       "      <td>...</td>\n",
       "      <td>...</td>\n",
       "      <td>...</td>\n",
       "      <td>...</td>\n",
       "      <td>...</td>\n",
       "    </tr>\n",
       "    <tr>\n",
       "      <th>197423</th>\n",
       "      <td>1.0</td>\n",
       "      <td>2015-02-17 00:19:41</td>\n",
       "      <td>2015-02-17 01:24:48</td>\n",
       "      <td>a914ecef9c12ffdb9bede64bb703d877</td>\n",
       "      <td>fast</td>\n",
       "      <td>4.0</td>\n",
       "      <td>3</td>\n",
       "      <td>1389</td>\n",
       "      <td>3</td>\n",
       "      <td>345</td>\n",
       "      <td>649</td>\n",
       "      <td>17.0</td>\n",
       "      <td>17.0</td>\n",
       "      <td>23.0</td>\n",
       "    </tr>\n",
       "    <tr>\n",
       "      <th>197424</th>\n",
       "      <td>1.0</td>\n",
       "      <td>2015-02-13 00:01:59</td>\n",
       "      <td>2015-02-13 00:58:22</td>\n",
       "      <td>a914ecef9c12ffdb9bede64bb703d877</td>\n",
       "      <td>fast</td>\n",
       "      <td>4.0</td>\n",
       "      <td>6</td>\n",
       "      <td>3010</td>\n",
       "      <td>4</td>\n",
       "      <td>405</td>\n",
       "      <td>825</td>\n",
       "      <td>12.0</td>\n",
       "      <td>11.0</td>\n",
       "      <td>14.0</td>\n",
       "    </tr>\n",
       "    <tr>\n",
       "      <th>197425</th>\n",
       "      <td>1.0</td>\n",
       "      <td>2015-01-24 04:46:08</td>\n",
       "      <td>2015-01-24 05:36:16</td>\n",
       "      <td>a914ecef9c12ffdb9bede64bb703d877</td>\n",
       "      <td>fast</td>\n",
       "      <td>4.0</td>\n",
       "      <td>5</td>\n",
       "      <td>1836</td>\n",
       "      <td>3</td>\n",
       "      <td>300</td>\n",
       "      <td>399</td>\n",
       "      <td>39.0</td>\n",
       "      <td>41.0</td>\n",
       "      <td>40.0</td>\n",
       "    </tr>\n",
       "    <tr>\n",
       "      <th>197426</th>\n",
       "      <td>1.0</td>\n",
       "      <td>2015-02-01 18:18:15</td>\n",
       "      <td>2015-02-01 19:23:22</td>\n",
       "      <td>c81e155d85dae5430a8cee6f2242e82c</td>\n",
       "      <td>sandwich</td>\n",
       "      <td>1.0</td>\n",
       "      <td>1</td>\n",
       "      <td>1175</td>\n",
       "      <td>1</td>\n",
       "      <td>535</td>\n",
       "      <td>535</td>\n",
       "      <td>7.0</td>\n",
       "      <td>7.0</td>\n",
       "      <td>12.0</td>\n",
       "    </tr>\n",
       "    <tr>\n",
       "      <th>197427</th>\n",
       "      <td>1.0</td>\n",
       "      <td>2015-02-08 19:24:33</td>\n",
       "      <td>2015-02-08 20:01:41</td>\n",
       "      <td>c81e155d85dae5430a8cee6f2242e82c</td>\n",
       "      <td>sandwich</td>\n",
       "      <td>1.0</td>\n",
       "      <td>4</td>\n",
       "      <td>2605</td>\n",
       "      <td>4</td>\n",
       "      <td>425</td>\n",
       "      <td>750</td>\n",
       "      <td>20.0</td>\n",
       "      <td>20.0</td>\n",
       "      <td>23.0</td>\n",
       "    </tr>\n",
       "  </tbody>\n",
       "</table>\n",
       "<p>197428 rows × 14 columns</p>\n",
       "</div>"
      ],
      "text/plain": [
       "        market_id           created_at actual_delivery_time  \\\n",
       "0             1.0  2015-02-06 22:24:17  2015-02-06 23:27:16   \n",
       "1             2.0  2015-02-10 21:49:25  2015-02-10 22:56:29   \n",
       "2             3.0  2015-01-22 20:39:28  2015-01-22 21:09:09   \n",
       "3             3.0  2015-02-03 21:21:45  2015-02-03 22:13:00   \n",
       "4             3.0  2015-02-15 02:40:36  2015-02-15 03:20:26   \n",
       "...           ...                  ...                  ...   \n",
       "197423        1.0  2015-02-17 00:19:41  2015-02-17 01:24:48   \n",
       "197424        1.0  2015-02-13 00:01:59  2015-02-13 00:58:22   \n",
       "197425        1.0  2015-01-24 04:46:08  2015-01-24 05:36:16   \n",
       "197426        1.0  2015-02-01 18:18:15  2015-02-01 19:23:22   \n",
       "197427        1.0  2015-02-08 19:24:33  2015-02-08 20:01:41   \n",
       "\n",
       "                                store_id store_primary_category  \\\n",
       "0       df263d996281d984952c07998dc54358               american   \n",
       "1       f0ade77b43923b38237db569b016ba25                mexican   \n",
       "2       f0ade77b43923b38237db569b016ba25                    NaN   \n",
       "3       f0ade77b43923b38237db569b016ba25                    NaN   \n",
       "4       f0ade77b43923b38237db569b016ba25                    NaN   \n",
       "...                                  ...                    ...   \n",
       "197423  a914ecef9c12ffdb9bede64bb703d877                   fast   \n",
       "197424  a914ecef9c12ffdb9bede64bb703d877                   fast   \n",
       "197425  a914ecef9c12ffdb9bede64bb703d877                   fast   \n",
       "197426  c81e155d85dae5430a8cee6f2242e82c               sandwich   \n",
       "197427  c81e155d85dae5430a8cee6f2242e82c               sandwich   \n",
       "\n",
       "        order_protocol  total_items  subtotal  num_distinct_items  \\\n",
       "0                  1.0            4      3441                   4   \n",
       "1                  2.0            1      1900                   1   \n",
       "2                  1.0            1      1900                   1   \n",
       "3                  1.0            6      6900                   5   \n",
       "4                  1.0            3      3900                   3   \n",
       "...                ...          ...       ...                 ...   \n",
       "197423             4.0            3      1389                   3   \n",
       "197424             4.0            6      3010                   4   \n",
       "197425             4.0            5      1836                   3   \n",
       "197426             1.0            1      1175                   1   \n",
       "197427             1.0            4      2605                   4   \n",
       "\n",
       "        min_item_price  max_item_price  total_onshift_partners  \\\n",
       "0                  557            1239                    33.0   \n",
       "1                 1400            1400                     1.0   \n",
       "2                 1900            1900                     1.0   \n",
       "3                  600            1800                     1.0   \n",
       "4                 1100            1600                     6.0   \n",
       "...                ...             ...                     ...   \n",
       "197423             345             649                    17.0   \n",
       "197424             405             825                    12.0   \n",
       "197425             300             399                    39.0   \n",
       "197426             535             535                     7.0   \n",
       "197427             425             750                    20.0   \n",
       "\n",
       "        total_busy_partners  total_outstanding_orders  \n",
       "0                      14.0                      21.0  \n",
       "1                       2.0                       2.0  \n",
       "2                       0.0                       0.0  \n",
       "3                       1.0                       2.0  \n",
       "4                       6.0                       9.0  \n",
       "...                     ...                       ...  \n",
       "197423                 17.0                      23.0  \n",
       "197424                 11.0                      14.0  \n",
       "197425                 41.0                      40.0  \n",
       "197426                  7.0                      12.0  \n",
       "197427                 20.0                      23.0  \n",
       "\n",
       "[197428 rows x 14 columns]"
      ]
     },
     "execution_count": 20,
     "metadata": {},
     "output_type": "execute_result"
    }
   ],
   "source": [
    "df"
   ]
  },
  {
   "cell_type": "markdown",
   "id": "b9721cab",
   "metadata": {
    "papermill": {
     "duration": 0.016892,
     "end_time": "2025-03-18T08:33:06.037992",
     "exception": false,
     "start_time": "2025-03-18T08:33:06.021100",
     "status": "completed"
    },
    "tags": []
   },
   "source": [
    "**Dropping columns 'market_id, 'store_id', 'store_primary_category'**"
   ]
  },
  {
   "cell_type": "markdown",
   "id": "bb059aff",
   "metadata": {
    "papermill": {
     "duration": 0.016903,
     "end_time": "2025-03-18T08:33:06.072204",
     "exception": false,
     "start_time": "2025-03-18T08:33:06.055301",
     "status": "completed"
    },
    "tags": []
   },
   "source": [
    "Dropping the columns 'market_id', 'store_id', and 'store_primary_category' as they are not relevant to the given business context."
   ]
  },
  {
   "cell_type": "code",
   "execution_count": 21,
   "id": "ed12c92f",
   "metadata": {
    "execution": {
     "iopub.execute_input": "2025-03-18T08:33:06.108130Z",
     "iopub.status.busy": "2025-03-18T08:33:06.107829Z",
     "iopub.status.idle": "2025-03-18T08:33:06.123740Z",
     "shell.execute_reply": "2025-03-18T08:33:06.123044Z"
    },
    "papermill": {
     "duration": 0.035585,
     "end_time": "2025-03-18T08:33:06.125245",
     "exception": false,
     "start_time": "2025-03-18T08:33:06.089660",
     "status": "completed"
    },
    "tags": []
   },
   "outputs": [],
   "source": [
    "df = df.drop(columns = ['market_id', 'store_id', 'store_primary_category'])"
   ]
  },
  {
   "cell_type": "code",
   "execution_count": 22,
   "id": "73eca8ae",
   "metadata": {
    "execution": {
     "iopub.execute_input": "2025-03-18T08:33:06.162136Z",
     "iopub.status.busy": "2025-03-18T08:33:06.161838Z",
     "iopub.status.idle": "2025-03-18T08:33:06.175813Z",
     "shell.execute_reply": "2025-03-18T08:33:06.174936Z"
    },
    "papermill": {
     "duration": 0.033795,
     "end_time": "2025-03-18T08:33:06.177199",
     "exception": false,
     "start_time": "2025-03-18T08:33:06.143404",
     "status": "completed"
    },
    "tags": []
   },
   "outputs": [
    {
     "data": {
      "text/html": [
       "<div>\n",
       "<style scoped>\n",
       "    .dataframe tbody tr th:only-of-type {\n",
       "        vertical-align: middle;\n",
       "    }\n",
       "\n",
       "    .dataframe tbody tr th {\n",
       "        vertical-align: top;\n",
       "    }\n",
       "\n",
       "    .dataframe thead th {\n",
       "        text-align: right;\n",
       "    }\n",
       "</style>\n",
       "<table border=\"1\" class=\"dataframe\">\n",
       "  <thead>\n",
       "    <tr style=\"text-align: right;\">\n",
       "      <th></th>\n",
       "      <th>created_at</th>\n",
       "      <th>actual_delivery_time</th>\n",
       "      <th>order_protocol</th>\n",
       "      <th>total_items</th>\n",
       "      <th>subtotal</th>\n",
       "      <th>num_distinct_items</th>\n",
       "      <th>min_item_price</th>\n",
       "      <th>max_item_price</th>\n",
       "      <th>total_onshift_partners</th>\n",
       "      <th>total_busy_partners</th>\n",
       "      <th>total_outstanding_orders</th>\n",
       "    </tr>\n",
       "  </thead>\n",
       "  <tbody>\n",
       "    <tr>\n",
       "      <th>0</th>\n",
       "      <td>2015-02-06 22:24:17</td>\n",
       "      <td>2015-02-06 23:27:16</td>\n",
       "      <td>1.0</td>\n",
       "      <td>4</td>\n",
       "      <td>3441</td>\n",
       "      <td>4</td>\n",
       "      <td>557</td>\n",
       "      <td>1239</td>\n",
       "      <td>33.0</td>\n",
       "      <td>14.0</td>\n",
       "      <td>21.0</td>\n",
       "    </tr>\n",
       "    <tr>\n",
       "      <th>1</th>\n",
       "      <td>2015-02-10 21:49:25</td>\n",
       "      <td>2015-02-10 22:56:29</td>\n",
       "      <td>2.0</td>\n",
       "      <td>1</td>\n",
       "      <td>1900</td>\n",
       "      <td>1</td>\n",
       "      <td>1400</td>\n",
       "      <td>1400</td>\n",
       "      <td>1.0</td>\n",
       "      <td>2.0</td>\n",
       "      <td>2.0</td>\n",
       "    </tr>\n",
       "    <tr>\n",
       "      <th>2</th>\n",
       "      <td>2015-01-22 20:39:28</td>\n",
       "      <td>2015-01-22 21:09:09</td>\n",
       "      <td>1.0</td>\n",
       "      <td>1</td>\n",
       "      <td>1900</td>\n",
       "      <td>1</td>\n",
       "      <td>1900</td>\n",
       "      <td>1900</td>\n",
       "      <td>1.0</td>\n",
       "      <td>0.0</td>\n",
       "      <td>0.0</td>\n",
       "    </tr>\n",
       "    <tr>\n",
       "      <th>3</th>\n",
       "      <td>2015-02-03 21:21:45</td>\n",
       "      <td>2015-02-03 22:13:00</td>\n",
       "      <td>1.0</td>\n",
       "      <td>6</td>\n",
       "      <td>6900</td>\n",
       "      <td>5</td>\n",
       "      <td>600</td>\n",
       "      <td>1800</td>\n",
       "      <td>1.0</td>\n",
       "      <td>1.0</td>\n",
       "      <td>2.0</td>\n",
       "    </tr>\n",
       "    <tr>\n",
       "      <th>4</th>\n",
       "      <td>2015-02-15 02:40:36</td>\n",
       "      <td>2015-02-15 03:20:26</td>\n",
       "      <td>1.0</td>\n",
       "      <td>3</td>\n",
       "      <td>3900</td>\n",
       "      <td>3</td>\n",
       "      <td>1100</td>\n",
       "      <td>1600</td>\n",
       "      <td>6.0</td>\n",
       "      <td>6.0</td>\n",
       "      <td>9.0</td>\n",
       "    </tr>\n",
       "    <tr>\n",
       "      <th>...</th>\n",
       "      <td>...</td>\n",
       "      <td>...</td>\n",
       "      <td>...</td>\n",
       "      <td>...</td>\n",
       "      <td>...</td>\n",
       "      <td>...</td>\n",
       "      <td>...</td>\n",
       "      <td>...</td>\n",
       "      <td>...</td>\n",
       "      <td>...</td>\n",
       "      <td>...</td>\n",
       "    </tr>\n",
       "    <tr>\n",
       "      <th>197423</th>\n",
       "      <td>2015-02-17 00:19:41</td>\n",
       "      <td>2015-02-17 01:24:48</td>\n",
       "      <td>4.0</td>\n",
       "      <td>3</td>\n",
       "      <td>1389</td>\n",
       "      <td>3</td>\n",
       "      <td>345</td>\n",
       "      <td>649</td>\n",
       "      <td>17.0</td>\n",
       "      <td>17.0</td>\n",
       "      <td>23.0</td>\n",
       "    </tr>\n",
       "    <tr>\n",
       "      <th>197424</th>\n",
       "      <td>2015-02-13 00:01:59</td>\n",
       "      <td>2015-02-13 00:58:22</td>\n",
       "      <td>4.0</td>\n",
       "      <td>6</td>\n",
       "      <td>3010</td>\n",
       "      <td>4</td>\n",
       "      <td>405</td>\n",
       "      <td>825</td>\n",
       "      <td>12.0</td>\n",
       "      <td>11.0</td>\n",
       "      <td>14.0</td>\n",
       "    </tr>\n",
       "    <tr>\n",
       "      <th>197425</th>\n",
       "      <td>2015-01-24 04:46:08</td>\n",
       "      <td>2015-01-24 05:36:16</td>\n",
       "      <td>4.0</td>\n",
       "      <td>5</td>\n",
       "      <td>1836</td>\n",
       "      <td>3</td>\n",
       "      <td>300</td>\n",
       "      <td>399</td>\n",
       "      <td>39.0</td>\n",
       "      <td>41.0</td>\n",
       "      <td>40.0</td>\n",
       "    </tr>\n",
       "    <tr>\n",
       "      <th>197426</th>\n",
       "      <td>2015-02-01 18:18:15</td>\n",
       "      <td>2015-02-01 19:23:22</td>\n",
       "      <td>1.0</td>\n",
       "      <td>1</td>\n",
       "      <td>1175</td>\n",
       "      <td>1</td>\n",
       "      <td>535</td>\n",
       "      <td>535</td>\n",
       "      <td>7.0</td>\n",
       "      <td>7.0</td>\n",
       "      <td>12.0</td>\n",
       "    </tr>\n",
       "    <tr>\n",
       "      <th>197427</th>\n",
       "      <td>2015-02-08 19:24:33</td>\n",
       "      <td>2015-02-08 20:01:41</td>\n",
       "      <td>1.0</td>\n",
       "      <td>4</td>\n",
       "      <td>2605</td>\n",
       "      <td>4</td>\n",
       "      <td>425</td>\n",
       "      <td>750</td>\n",
       "      <td>20.0</td>\n",
       "      <td>20.0</td>\n",
       "      <td>23.0</td>\n",
       "    </tr>\n",
       "  </tbody>\n",
       "</table>\n",
       "<p>197428 rows × 11 columns</p>\n",
       "</div>"
      ],
      "text/plain": [
       "                 created_at actual_delivery_time  order_protocol  total_items  \\\n",
       "0       2015-02-06 22:24:17  2015-02-06 23:27:16             1.0            4   \n",
       "1       2015-02-10 21:49:25  2015-02-10 22:56:29             2.0            1   \n",
       "2       2015-01-22 20:39:28  2015-01-22 21:09:09             1.0            1   \n",
       "3       2015-02-03 21:21:45  2015-02-03 22:13:00             1.0            6   \n",
       "4       2015-02-15 02:40:36  2015-02-15 03:20:26             1.0            3   \n",
       "...                     ...                  ...             ...          ...   \n",
       "197423  2015-02-17 00:19:41  2015-02-17 01:24:48             4.0            3   \n",
       "197424  2015-02-13 00:01:59  2015-02-13 00:58:22             4.0            6   \n",
       "197425  2015-01-24 04:46:08  2015-01-24 05:36:16             4.0            5   \n",
       "197426  2015-02-01 18:18:15  2015-02-01 19:23:22             1.0            1   \n",
       "197427  2015-02-08 19:24:33  2015-02-08 20:01:41             1.0            4   \n",
       "\n",
       "        subtotal  num_distinct_items  min_item_price  max_item_price  \\\n",
       "0           3441                   4             557            1239   \n",
       "1           1900                   1            1400            1400   \n",
       "2           1900                   1            1900            1900   \n",
       "3           6900                   5             600            1800   \n",
       "4           3900                   3            1100            1600   \n",
       "...          ...                 ...             ...             ...   \n",
       "197423      1389                   3             345             649   \n",
       "197424      3010                   4             405             825   \n",
       "197425      1836                   3             300             399   \n",
       "197426      1175                   1             535             535   \n",
       "197427      2605                   4             425             750   \n",
       "\n",
       "        total_onshift_partners  total_busy_partners  total_outstanding_orders  \n",
       "0                         33.0                 14.0                      21.0  \n",
       "1                          1.0                  2.0                       2.0  \n",
       "2                          1.0                  0.0                       0.0  \n",
       "3                          1.0                  1.0                       2.0  \n",
       "4                          6.0                  6.0                       9.0  \n",
       "...                        ...                  ...                       ...  \n",
       "197423                    17.0                 17.0                      23.0  \n",
       "197424                    12.0                 11.0                      14.0  \n",
       "197425                    39.0                 41.0                      40.0  \n",
       "197426                     7.0                  7.0                      12.0  \n",
       "197427                    20.0                 20.0                      23.0  \n",
       "\n",
       "[197428 rows x 11 columns]"
      ]
     },
     "execution_count": 22,
     "metadata": {},
     "output_type": "execute_result"
    }
   ],
   "source": [
    "df"
   ]
  },
  {
   "cell_type": "markdown",
   "id": "77bf827a",
   "metadata": {
    "papermill": {
     "duration": 0.017449,
     "end_time": "2025-03-18T08:33:06.213068",
     "exception": false,
     "start_time": "2025-03-18T08:33:06.195619",
     "status": "completed"
    },
    "tags": []
   },
   "source": [
    "**Handling Missing Values in Continuos Columns"
   ]
  },
  {
   "cell_type": "code",
   "execution_count": 23,
   "id": "df67b249",
   "metadata": {
    "execution": {
     "iopub.execute_input": "2025-03-18T08:33:06.249354Z",
     "iopub.status.busy": "2025-03-18T08:33:06.249060Z",
     "iopub.status.idle": "2025-03-18T08:33:06.265489Z",
     "shell.execute_reply": "2025-03-18T08:33:06.264480Z"
    },
    "papermill": {
     "duration": 0.036108,
     "end_time": "2025-03-18T08:33:06.266789",
     "exception": false,
     "start_time": "2025-03-18T08:33:06.230681",
     "status": "completed"
    },
    "tags": []
   },
   "outputs": [
    {
     "name": "stdout",
     "output_type": "stream",
     "text": [
      "0.8607580961811951\n",
      "0.7824625946552558\n",
      "1.1953217621678773\n"
     ]
    }
   ],
   "source": [
    "print(df['total_onshift_partners'].skew())\n",
    "print(df['total_busy_partners'].skew())\n",
    "print(df['total_outstanding_orders'].skew())\n"
   ]
  },
  {
   "cell_type": "markdown",
   "id": "3a8b99c1",
   "metadata": {
    "papermill": {
     "duration": 0.018011,
     "end_time": "2025-03-18T08:33:06.302667",
     "exception": false,
     "start_time": "2025-03-18T08:33:06.284656",
     "status": "completed"
    },
    "tags": []
   },
   "source": [
    "**Inference**:\n",
    "\n",
    "Since all three columns are right-skewed, median imputation is the appropriate method to fill the missing values in these columns."
   ]
  },
  {
   "cell_type": "code",
   "execution_count": 24,
   "id": "7949556c",
   "metadata": {
    "execution": {
     "iopub.execute_input": "2025-03-18T08:33:06.338779Z",
     "iopub.status.busy": "2025-03-18T08:33:06.338445Z",
     "iopub.status.idle": "2025-03-18T08:33:06.350915Z",
     "shell.execute_reply": "2025-03-18T08:33:06.350261Z"
    },
    "papermill": {
     "duration": 0.031884,
     "end_time": "2025-03-18T08:33:06.352227",
     "exception": false,
     "start_time": "2025-03-18T08:33:06.320343",
     "status": "completed"
    },
    "tags": []
   },
   "outputs": [],
   "source": [
    "cols = ['total_onshift_partners', 'total_busy_partners', 'total_outstanding_orders']\n",
    "for col in  cols:\n",
    "    df[col].fillna(df[col].median(), inplace=True)"
   ]
  },
  {
   "cell_type": "code",
   "execution_count": 25,
   "id": "c5c611f1",
   "metadata": {
    "execution": {
     "iopub.execute_input": "2025-03-18T08:33:06.388673Z",
     "iopub.status.busy": "2025-03-18T08:33:06.388360Z",
     "iopub.status.idle": "2025-03-18T08:33:06.424595Z",
     "shell.execute_reply": "2025-03-18T08:33:06.423746Z"
    },
    "papermill": {
     "duration": 0.055922,
     "end_time": "2025-03-18T08:33:06.425998",
     "exception": false,
     "start_time": "2025-03-18T08:33:06.370076",
     "status": "completed"
    },
    "tags": []
   },
   "outputs": [
    {
     "data": {
      "text/plain": [
       "created_at                  0\n",
       "actual_delivery_time        7\n",
       "order_protocol              0\n",
       "total_items                 0\n",
       "subtotal                    0\n",
       "num_distinct_items          0\n",
       "min_item_price              0\n",
       "max_item_price              0\n",
       "total_onshift_partners      0\n",
       "total_busy_partners         0\n",
       "total_outstanding_orders    0\n",
       "dtype: int64"
      ]
     },
     "execution_count": 25,
     "metadata": {},
     "output_type": "execute_result"
    }
   ],
   "source": [
    "df.isnull().sum()"
   ]
  },
  {
   "cell_type": "markdown",
   "id": "57ee01b9",
   "metadata": {
    "papermill": {
     "duration": 0.017246,
     "end_time": "2025-03-18T08:33:06.461651",
     "exception": false,
     "start_time": "2025-03-18T08:33:06.444405",
     "status": "completed"
    },
    "tags": []
   },
   "source": [
    "**Dropping remaining Null Values**"
   ]
  },
  {
   "cell_type": "code",
   "execution_count": 26,
   "id": "97aa0b3e",
   "metadata": {
    "execution": {
     "iopub.execute_input": "2025-03-18T08:33:06.499623Z",
     "iopub.status.busy": "2025-03-18T08:33:06.499254Z",
     "iopub.status.idle": "2025-03-18T08:33:06.565689Z",
     "shell.execute_reply": "2025-03-18T08:33:06.564879Z"
    },
    "papermill": {
     "duration": 0.087771,
     "end_time": "2025-03-18T08:33:06.567147",
     "exception": false,
     "start_time": "2025-03-18T08:33:06.479376",
     "status": "completed"
    },
    "tags": []
   },
   "outputs": [
    {
     "data": {
      "text/plain": [
       "created_at                  0\n",
       "actual_delivery_time        0\n",
       "order_protocol              0\n",
       "total_items                 0\n",
       "subtotal                    0\n",
       "num_distinct_items          0\n",
       "min_item_price              0\n",
       "max_item_price              0\n",
       "total_onshift_partners      0\n",
       "total_busy_partners         0\n",
       "total_outstanding_orders    0\n",
       "dtype: int64"
      ]
     },
     "execution_count": 26,
     "metadata": {},
     "output_type": "execute_result"
    }
   ],
   "source": [
    "df.dropna(inplace=True)\n",
    "df.isnull().sum()"
   ]
  },
  {
   "cell_type": "code",
   "execution_count": 27,
   "id": "e27b22a1",
   "metadata": {
    "execution": {
     "iopub.execute_input": "2025-03-18T08:33:06.604232Z",
     "iopub.status.busy": "2025-03-18T08:33:06.603940Z",
     "iopub.status.idle": "2025-03-18T08:33:06.608380Z",
     "shell.execute_reply": "2025-03-18T08:33:06.607744Z"
    },
    "papermill": {
     "duration": 0.023845,
     "end_time": "2025-03-18T08:33:06.609621",
     "exception": false,
     "start_time": "2025-03-18T08:33:06.585776",
     "status": "completed"
    },
    "tags": []
   },
   "outputs": [
    {
     "data": {
      "text/plain": [
       "(197421, 11)"
      ]
     },
     "execution_count": 27,
     "metadata": {},
     "output_type": "execute_result"
    }
   ],
   "source": [
    "df.shape"
   ]
  },
  {
   "cell_type": "markdown",
   "id": "1b14bc6e",
   "metadata": {
    "papermill": {
     "duration": 0.017592,
     "end_time": "2025-03-18T08:33:06.645051",
     "exception": false,
     "start_time": "2025-03-18T08:33:06.627459",
     "status": "completed"
    },
    "tags": []
   },
   "source": [
    "## 👾 Handling Outliers"
   ]
  },
  {
   "cell_type": "markdown",
   "id": "bbda8a4e",
   "metadata": {
    "papermill": {
     "duration": 0.01764,
     "end_time": "2025-03-18T08:33:06.680358",
     "exception": false,
     "start_time": "2025-03-18T08:33:06.662718",
     "status": "completed"
    },
    "tags": []
   },
   "source": [
    "**Outlier Detection using Box plot**"
   ]
  },
  {
   "cell_type": "code",
   "execution_count": 28,
   "id": "d35d2cd3",
   "metadata": {
    "execution": {
     "iopub.execute_input": "2025-03-18T08:33:06.717107Z",
     "iopub.status.busy": "2025-03-18T08:33:06.716805Z",
     "iopub.status.idle": "2025-03-18T08:33:06.731569Z",
     "shell.execute_reply": "2025-03-18T08:33:06.730699Z"
    },
    "papermill": {
     "duration": 0.034601,
     "end_time": "2025-03-18T08:33:06.732907",
     "exception": false,
     "start_time": "2025-03-18T08:33:06.698306",
     "status": "completed"
    },
    "tags": []
   },
   "outputs": [
    {
     "data": {
      "text/plain": [
       "Index(['order_protocol', 'total_items', 'subtotal', 'num_distinct_items',\n",
       "       'min_item_price', 'max_item_price', 'total_onshift_partners',\n",
       "       'total_busy_partners', 'total_outstanding_orders'],\n",
       "      dtype='object')"
      ]
     },
     "execution_count": 28,
     "metadata": {},
     "output_type": "execute_result"
    }
   ],
   "source": [
    "num_cols = df.select_dtypes(include='number').columns\n",
    "num_cols"
   ]
  },
  {
   "cell_type": "code",
   "execution_count": 29,
   "id": "027d03ff",
   "metadata": {
    "execution": {
     "iopub.execute_input": "2025-03-18T08:33:06.770122Z",
     "iopub.status.busy": "2025-03-18T08:33:06.769824Z",
     "iopub.status.idle": "2025-03-18T08:33:08.236848Z",
     "shell.execute_reply": "2025-03-18T08:33:08.235857Z"
    },
    "papermill": {
     "duration": 1.487368,
     "end_time": "2025-03-18T08:33:08.238550",
     "exception": false,
     "start_time": "2025-03-18T08:33:06.751182",
     "status": "completed"
    },
    "tags": []
   },
   "outputs": [
    {
     "data": {
      "image/png": "[encoded data removed]",
      "text/plain": [
       "<Figure size 2500x800 with 1 Axes>"
      ]
     },
     "metadata": {},
     "output_type": "display_data"
    }
   ],
   "source": [
    "df[num_cols].boxplot(rot=45,figsize=(25,8))\n",
    "plt.show()"
   ]
  },
  {
   "cell_type": "markdown",
   "id": "942dcc83",
   "metadata": {
    "papermill": {
     "duration": 0.021061,
     "end_time": "2025-03-18T08:33:08.279875",
     "exception": false,
     "start_time": "2025-03-18T08:33:08.258814",
     "status": "completed"
    },
    "tags": []
   },
   "source": [
    "**Handling outliers using LOF method**"
   ]
  },
  {
   "cell_type": "code",
   "execution_count": 30,
   "id": "56432dd7",
   "metadata": {
    "execution": {
     "iopub.execute_input": "2025-03-18T08:33:08.320608Z",
     "iopub.status.busy": "2025-03-18T08:33:08.320293Z",
     "iopub.status.idle": "2025-03-18T08:33:08.325138Z",
     "shell.execute_reply": "2025-03-18T08:33:08.324294Z"
    },
    "papermill": {
     "duration": 0.026658,
     "end_time": "2025-03-18T08:33:08.326364",
     "exception": false,
     "start_time": "2025-03-18T08:33:08.299706",
     "status": "completed"
    },
    "tags": []
   },
   "outputs": [
    {
     "data": {
      "text/plain": [
       "197421"
      ]
     },
     "execution_count": 30,
     "metadata": {},
     "output_type": "execute_result"
    }
   ],
   "source": [
    "len_before = len(df)\n",
    "len_before"
   ]
  },
  {
   "cell_type": "code",
   "execution_count": 31,
   "id": "44f93e80",
   "metadata": {
    "execution": {
     "iopub.execute_input": "2025-03-18T08:33:08.366990Z",
     "iopub.status.busy": "2025-03-18T08:33:08.366705Z",
     "iopub.status.idle": "2025-03-18T08:33:13.576352Z",
     "shell.execute_reply": "2025-03-18T08:33:13.575446Z"
    },
    "papermill": {
     "duration": 5.231443,
     "end_time": "2025-03-18T08:33:13.577679",
     "exception": false,
     "start_time": "2025-03-18T08:33:08.346236",
     "status": "completed"
    },
    "tags": []
   },
   "outputs": [
    {
     "data": {
      "text/html": [
       "<div>\n",
       "<style scoped>\n",
       "    .dataframe tbody tr th:only-of-type {\n",
       "        vertical-align: middle;\n",
       "    }\n",
       "\n",
       "    .dataframe tbody tr th {\n",
       "        vertical-align: top;\n",
       "    }\n",
       "\n",
       "    .dataframe thead th {\n",
       "        text-align: right;\n",
       "    }\n",
       "</style>\n",
       "<table border=\"1\" class=\"dataframe\">\n",
       "  <thead>\n",
       "    <tr style=\"text-align: right;\">\n",
       "      <th></th>\n",
       "      <th>created_at</th>\n",
       "      <th>actual_delivery_time</th>\n",
       "      <th>order_protocol</th>\n",
       "      <th>total_items</th>\n",
       "      <th>subtotal</th>\n",
       "      <th>num_distinct_items</th>\n",
       "      <th>min_item_price</th>\n",
       "      <th>max_item_price</th>\n",
       "      <th>total_onshift_partners</th>\n",
       "      <th>total_busy_partners</th>\n",
       "      <th>total_outstanding_orders</th>\n",
       "      <th>LOF_anomaly_score</th>\n",
       "    </tr>\n",
       "  </thead>\n",
       "  <tbody>\n",
       "    <tr>\n",
       "      <th>0</th>\n",
       "      <td>2015-02-06 22:24:17</td>\n",
       "      <td>2015-02-06 23:27:16</td>\n",
       "      <td>1.0</td>\n",
       "      <td>4</td>\n",
       "      <td>3441</td>\n",
       "      <td>4</td>\n",
       "      <td>557</td>\n",
       "      <td>1239</td>\n",
       "      <td>33.0</td>\n",
       "      <td>14.0</td>\n",
       "      <td>21.0</td>\n",
       "      <td>1</td>\n",
       "    </tr>\n",
       "    <tr>\n",
       "      <th>1</th>\n",
       "      <td>2015-02-10 21:49:25</td>\n",
       "      <td>2015-02-10 22:56:29</td>\n",
       "      <td>2.0</td>\n",
       "      <td>1</td>\n",
       "      <td>1900</td>\n",
       "      <td>1</td>\n",
       "      <td>1400</td>\n",
       "      <td>1400</td>\n",
       "      <td>1.0</td>\n",
       "      <td>2.0</td>\n",
       "      <td>2.0</td>\n",
       "      <td>1</td>\n",
       "    </tr>\n",
       "    <tr>\n",
       "      <th>2</th>\n",
       "      <td>2015-01-22 20:39:28</td>\n",
       "      <td>2015-01-22 21:09:09</td>\n",
       "      <td>1.0</td>\n",
       "      <td>1</td>\n",
       "      <td>1900</td>\n",
       "      <td>1</td>\n",
       "      <td>1900</td>\n",
       "      <td>1900</td>\n",
       "      <td>1.0</td>\n",
       "      <td>0.0</td>\n",
       "      <td>0.0</td>\n",
       "      <td>1</td>\n",
       "    </tr>\n",
       "    <tr>\n",
       "      <th>3</th>\n",
       "      <td>2015-02-03 21:21:45</td>\n",
       "      <td>2015-02-03 22:13:00</td>\n",
       "      <td>1.0</td>\n",
       "      <td>6</td>\n",
       "      <td>6900</td>\n",
       "      <td>5</td>\n",
       "      <td>600</td>\n",
       "      <td>1800</td>\n",
       "      <td>1.0</td>\n",
       "      <td>1.0</td>\n",
       "      <td>2.0</td>\n",
       "      <td>1</td>\n",
       "    </tr>\n",
       "    <tr>\n",
       "      <th>4</th>\n",
       "      <td>2015-02-15 02:40:36</td>\n",
       "      <td>2015-02-15 03:20:26</td>\n",
       "      <td>1.0</td>\n",
       "      <td>3</td>\n",
       "      <td>3900</td>\n",
       "      <td>3</td>\n",
       "      <td>1100</td>\n",
       "      <td>1600</td>\n",
       "      <td>6.0</td>\n",
       "      <td>6.0</td>\n",
       "      <td>9.0</td>\n",
       "      <td>1</td>\n",
       "    </tr>\n",
       "    <tr>\n",
       "      <th>...</th>\n",
       "      <td>...</td>\n",
       "      <td>...</td>\n",
       "      <td>...</td>\n",
       "      <td>...</td>\n",
       "      <td>...</td>\n",
       "      <td>...</td>\n",
       "      <td>...</td>\n",
       "      <td>...</td>\n",
       "      <td>...</td>\n",
       "      <td>...</td>\n",
       "      <td>...</td>\n",
       "      <td>...</td>\n",
       "    </tr>\n",
       "    <tr>\n",
       "      <th>197423</th>\n",
       "      <td>2015-02-17 00:19:41</td>\n",
       "      <td>2015-02-17 01:24:48</td>\n",
       "      <td>4.0</td>\n",
       "      <td>3</td>\n",
       "      <td>1389</td>\n",
       "      <td>3</td>\n",
       "      <td>345</td>\n",
       "      <td>649</td>\n",
       "      <td>17.0</td>\n",
       "      <td>17.0</td>\n",
       "      <td>23.0</td>\n",
       "      <td>1</td>\n",
       "    </tr>\n",
       "    <tr>\n",
       "      <th>197424</th>\n",
       "      <td>2015-02-13 00:01:59</td>\n",
       "      <td>2015-02-13 00:58:22</td>\n",
       "      <td>4.0</td>\n",
       "      <td>6</td>\n",
       "      <td>3010</td>\n",
       "      <td>4</td>\n",
       "      <td>405</td>\n",
       "      <td>825</td>\n",
       "      <td>12.0</td>\n",
       "      <td>11.0</td>\n",
       "      <td>14.0</td>\n",
       "      <td>1</td>\n",
       "    </tr>\n",
       "    <tr>\n",
       "      <th>197425</th>\n",
       "      <td>2015-01-24 04:46:08</td>\n",
       "      <td>2015-01-24 05:36:16</td>\n",
       "      <td>4.0</td>\n",
       "      <td>5</td>\n",
       "      <td>1836</td>\n",
       "      <td>3</td>\n",
       "      <td>300</td>\n",
       "      <td>399</td>\n",
       "      <td>39.0</td>\n",
       "      <td>41.0</td>\n",
       "      <td>40.0</td>\n",
       "      <td>1</td>\n",
       "    </tr>\n",
       "    <tr>\n",
       "      <th>197426</th>\n",
       "      <td>2015-02-01 18:18:15</td>\n",
       "      <td>2015-02-01 19:23:22</td>\n",
       "      <td>1.0</td>\n",
       "      <td>1</td>\n",
       "      <td>1175</td>\n",
       "      <td>1</td>\n",
       "      <td>535</td>\n",
       "      <td>535</td>\n",
       "      <td>7.0</td>\n",
       "      <td>7.0</td>\n",
       "      <td>12.0</td>\n",
       "      <td>1</td>\n",
       "    </tr>\n",
       "    <tr>\n",
       "      <th>197427</th>\n",
       "      <td>2015-02-08 19:24:33</td>\n",
       "      <td>2015-02-08 20:01:41</td>\n",
       "      <td>1.0</td>\n",
       "      <td>4</td>\n",
       "      <td>2605</td>\n",
       "      <td>4</td>\n",
       "      <td>425</td>\n",
       "      <td>750</td>\n",
       "      <td>20.0</td>\n",
       "      <td>20.0</td>\n",
       "      <td>23.0</td>\n",
       "      <td>1</td>\n",
       "    </tr>\n",
       "  </tbody>\n",
       "</table>\n",
       "<p>197421 rows × 12 columns</p>\n",
       "</div>"
      ],
      "text/plain": [
       "                 created_at actual_delivery_time  order_protocol  total_items  \\\n",
       "0       2015-02-06 22:24:17  2015-02-06 23:27:16             1.0            4   \n",
       "1       2015-02-10 21:49:25  2015-02-10 22:56:29             2.0            1   \n",
       "2       2015-01-22 20:39:28  2015-01-22 21:09:09             1.0            1   \n",
       "3       2015-02-03 21:21:45  2015-02-03 22:13:00             1.0            6   \n",
       "4       2015-02-15 02:40:36  2015-02-15 03:20:26             1.0            3   \n",
       "...                     ...                  ...             ...          ...   \n",
       "197423  2015-02-17 00:19:41  2015-02-17 01:24:48             4.0            3   \n",
       "197424  2015-02-13 00:01:59  2015-02-13 00:58:22             4.0            6   \n",
       "197425  2015-01-24 04:46:08  2015-01-24 05:36:16             4.0            5   \n",
       "197426  2015-02-01 18:18:15  2015-02-01 19:23:22             1.0            1   \n",
       "197427  2015-02-08 19:24:33  2015-02-08 20:01:41             1.0            4   \n",
       "\n",
       "        subtotal  num_distinct_items  min_item_price  max_item_price  \\\n",
       "0           3441                   4             557            1239   \n",
       "1           1900                   1            1400            1400   \n",
       "2           1900                   1            1900            1900   \n",
       "3           6900                   5             600            1800   \n",
       "4           3900                   3            1100            1600   \n",
       "...          ...                 ...             ...             ...   \n",
       "197423      1389                   3             345             649   \n",
       "197424      3010                   4             405             825   \n",
       "197425      1836                   3             300             399   \n",
       "197426      1175                   1             535             535   \n",
       "197427      2605                   4             425             750   \n",
       "\n",
       "        total_onshift_partners  total_busy_partners  total_outstanding_orders  \\\n",
       "0                         33.0                 14.0                      21.0   \n",
       "1                          1.0                  2.0                       2.0   \n",
       "2                          1.0                  0.0                       0.0   \n",
       "3                          1.0                  1.0                       2.0   \n",
       "4                          6.0                  6.0                       9.0   \n",
       "...                        ...                  ...                       ...   \n",
       "197423                    17.0                 17.0                      23.0   \n",
       "197424                    12.0                 11.0                      14.0   \n",
       "197425                    39.0                 41.0                      40.0   \n",
       "197426                     7.0                  7.0                      12.0   \n",
       "197427                    20.0                 20.0                      23.0   \n",
       "\n",
       "        LOF_anomaly_score  \n",
       "0                       1  \n",
       "1                       1  \n",
       "2                       1  \n",
       "3                       1  \n",
       "4                       1  \n",
       "...                   ...  \n",
       "197423                  1  \n",
       "197424                  1  \n",
       "197425                  1  \n",
       "197426                  1  \n",
       "197427                  1  \n",
       "\n",
       "[197421 rows x 12 columns]"
      ]
     },
     "execution_count": 31,
     "metadata": {},
     "output_type": "execute_result"
    }
   ],
   "source": [
    "from sklearn.neighbors import LocalOutlierFactor\n",
    "model1 = LocalOutlierFactor()\n",
    "df['LOF_anomaly_score'] = model1.fit_predict(df[num_cols])\n",
    "df"
   ]
  },
  {
   "cell_type": "code",
   "execution_count": 32,
   "id": "4005086e",
   "metadata": {
    "execution": {
     "iopub.execute_input": "2025-03-18T08:33:13.619204Z",
     "iopub.status.busy": "2025-03-18T08:33:13.618905Z",
     "iopub.status.idle": "2025-03-18T08:33:13.626398Z",
     "shell.execute_reply": "2025-03-18T08:33:13.625608Z"
    },
    "papermill": {
     "duration": 0.029488,
     "end_time": "2025-03-18T08:33:13.627647",
     "exception": false,
     "start_time": "2025-03-18T08:33:13.598159",
     "status": "completed"
    },
    "tags": []
   },
   "outputs": [
    {
     "name": "stdout",
     "output_type": "stream",
     "text": [
      "Number of outliers:6595\n"
     ]
    }
   ],
   "source": [
    "outliers = len(df.loc[(df['LOF_anomaly_score']==-1)])\n",
    "print(f'Number of outliers:{outliers}')"
   ]
  },
  {
   "cell_type": "code",
   "execution_count": 33,
   "id": "2b7cea84",
   "metadata": {
    "execution": {
     "iopub.execute_input": "2025-03-18T08:33:13.670303Z",
     "iopub.status.busy": "2025-03-18T08:33:13.670016Z",
     "iopub.status.idle": "2025-03-18T08:33:13.694833Z",
     "shell.execute_reply": "2025-03-18T08:33:13.693954Z"
    },
    "papermill": {
     "duration": 0.046752,
     "end_time": "2025-03-18T08:33:13.696129",
     "exception": false,
     "start_time": "2025-03-18T08:33:13.649377",
     "status": "completed"
    },
    "tags": []
   },
   "outputs": [
    {
     "data": {
      "text/html": [
       "<div>\n",
       "<style scoped>\n",
       "    .dataframe tbody tr th:only-of-type {\n",
       "        vertical-align: middle;\n",
       "    }\n",
       "\n",
       "    .dataframe tbody tr th {\n",
       "        vertical-align: top;\n",
       "    }\n",
       "\n",
       "    .dataframe thead th {\n",
       "        text-align: right;\n",
       "    }\n",
       "</style>\n",
       "<table border=\"1\" class=\"dataframe\">\n",
       "  <thead>\n",
       "    <tr style=\"text-align: right;\">\n",
       "      <th></th>\n",
       "      <th>created_at</th>\n",
       "      <th>actual_delivery_time</th>\n",
       "      <th>order_protocol</th>\n",
       "      <th>total_items</th>\n",
       "      <th>subtotal</th>\n",
       "      <th>num_distinct_items</th>\n",
       "      <th>min_item_price</th>\n",
       "      <th>max_item_price</th>\n",
       "      <th>total_onshift_partners</th>\n",
       "      <th>total_busy_partners</th>\n",
       "      <th>total_outstanding_orders</th>\n",
       "      <th>LOF_anomaly_score</th>\n",
       "    </tr>\n",
       "  </thead>\n",
       "  <tbody>\n",
       "    <tr>\n",
       "      <th>0</th>\n",
       "      <td>2015-02-06 22:24:17</td>\n",
       "      <td>2015-02-06 23:27:16</td>\n",
       "      <td>1.0</td>\n",
       "      <td>4</td>\n",
       "      <td>3441</td>\n",
       "      <td>4</td>\n",
       "      <td>557</td>\n",
       "      <td>1239</td>\n",
       "      <td>33.0</td>\n",
       "      <td>14.0</td>\n",
       "      <td>21.0</td>\n",
       "      <td>1</td>\n",
       "    </tr>\n",
       "    <tr>\n",
       "      <th>1</th>\n",
       "      <td>2015-02-10 21:49:25</td>\n",
       "      <td>2015-02-10 22:56:29</td>\n",
       "      <td>2.0</td>\n",
       "      <td>1</td>\n",
       "      <td>1900</td>\n",
       "      <td>1</td>\n",
       "      <td>1400</td>\n",
       "      <td>1400</td>\n",
       "      <td>1.0</td>\n",
       "      <td>2.0</td>\n",
       "      <td>2.0</td>\n",
       "      <td>1</td>\n",
       "    </tr>\n",
       "    <tr>\n",
       "      <th>2</th>\n",
       "      <td>2015-01-22 20:39:28</td>\n",
       "      <td>2015-01-22 21:09:09</td>\n",
       "      <td>1.0</td>\n",
       "      <td>1</td>\n",
       "      <td>1900</td>\n",
       "      <td>1</td>\n",
       "      <td>1900</td>\n",
       "      <td>1900</td>\n",
       "      <td>1.0</td>\n",
       "      <td>0.0</td>\n",
       "      <td>0.0</td>\n",
       "      <td>1</td>\n",
       "    </tr>\n",
       "    <tr>\n",
       "      <th>3</th>\n",
       "      <td>2015-02-03 21:21:45</td>\n",
       "      <td>2015-02-03 22:13:00</td>\n",
       "      <td>1.0</td>\n",
       "      <td>6</td>\n",
       "      <td>6900</td>\n",
       "      <td>5</td>\n",
       "      <td>600</td>\n",
       "      <td>1800</td>\n",
       "      <td>1.0</td>\n",
       "      <td>1.0</td>\n",
       "      <td>2.0</td>\n",
       "      <td>1</td>\n",
       "    </tr>\n",
       "    <tr>\n",
       "      <th>4</th>\n",
       "      <td>2015-02-15 02:40:36</td>\n",
       "      <td>2015-02-15 03:20:26</td>\n",
       "      <td>1.0</td>\n",
       "      <td>3</td>\n",
       "      <td>3900</td>\n",
       "      <td>3</td>\n",
       "      <td>1100</td>\n",
       "      <td>1600</td>\n",
       "      <td>6.0</td>\n",
       "      <td>6.0</td>\n",
       "      <td>9.0</td>\n",
       "      <td>1</td>\n",
       "    </tr>\n",
       "    <tr>\n",
       "      <th>...</th>\n",
       "      <td>...</td>\n",
       "      <td>...</td>\n",
       "      <td>...</td>\n",
       "      <td>...</td>\n",
       "      <td>...</td>\n",
       "      <td>...</td>\n",
       "      <td>...</td>\n",
       "      <td>...</td>\n",
       "      <td>...</td>\n",
       "      <td>...</td>\n",
       "      <td>...</td>\n",
       "      <td>...</td>\n",
       "    </tr>\n",
       "    <tr>\n",
       "      <th>197423</th>\n",
       "      <td>2015-02-17 00:19:41</td>\n",
       "      <td>2015-02-17 01:24:48</td>\n",
       "      <td>4.0</td>\n",
       "      <td>3</td>\n",
       "      <td>1389</td>\n",
       "      <td>3</td>\n",
       "      <td>345</td>\n",
       "      <td>649</td>\n",
       "      <td>17.0</td>\n",
       "      <td>17.0</td>\n",
       "      <td>23.0</td>\n",
       "      <td>1</td>\n",
       "    </tr>\n",
       "    <tr>\n",
       "      <th>197424</th>\n",
       "      <td>2015-02-13 00:01:59</td>\n",
       "      <td>2015-02-13 00:58:22</td>\n",
       "      <td>4.0</td>\n",
       "      <td>6</td>\n",
       "      <td>3010</td>\n",
       "      <td>4</td>\n",
       "      <td>405</td>\n",
       "      <td>825</td>\n",
       "      <td>12.0</td>\n",
       "      <td>11.0</td>\n",
       "      <td>14.0</td>\n",
       "      <td>1</td>\n",
       "    </tr>\n",
       "    <tr>\n",
       "      <th>197425</th>\n",
       "      <td>2015-01-24 04:46:08</td>\n",
       "      <td>2015-01-24 05:36:16</td>\n",
       "      <td>4.0</td>\n",
       "      <td>5</td>\n",
       "      <td>1836</td>\n",
       "      <td>3</td>\n",
       "      <td>300</td>\n",
       "      <td>399</td>\n",
       "      <td>39.0</td>\n",
       "      <td>41.0</td>\n",
       "      <td>40.0</td>\n",
       "      <td>1</td>\n",
       "    </tr>\n",
       "    <tr>\n",
       "      <th>197426</th>\n",
       "      <td>2015-02-01 18:18:15</td>\n",
       "      <td>2015-02-01 19:23:22</td>\n",
       "      <td>1.0</td>\n",
       "      <td>1</td>\n",
       "      <td>1175</td>\n",
       "      <td>1</td>\n",
       "      <td>535</td>\n",
       "      <td>535</td>\n",
       "      <td>7.0</td>\n",
       "      <td>7.0</td>\n",
       "      <td>12.0</td>\n",
       "      <td>1</td>\n",
       "    </tr>\n",
       "    <tr>\n",
       "      <th>197427</th>\n",
       "      <td>2015-02-08 19:24:33</td>\n",
       "      <td>2015-02-08 20:01:41</td>\n",
       "      <td>1.0</td>\n",
       "      <td>4</td>\n",
       "      <td>2605</td>\n",
       "      <td>4</td>\n",
       "      <td>425</td>\n",
       "      <td>750</td>\n",
       "      <td>20.0</td>\n",
       "      <td>20.0</td>\n",
       "      <td>23.0</td>\n",
       "      <td>1</td>\n",
       "    </tr>\n",
       "  </tbody>\n",
       "</table>\n",
       "<p>190826 rows × 12 columns</p>\n",
       "</div>"
      ],
      "text/plain": [
       "                 created_at actual_delivery_time  order_protocol  total_items  \\\n",
       "0       2015-02-06 22:24:17  2015-02-06 23:27:16             1.0            4   \n",
       "1       2015-02-10 21:49:25  2015-02-10 22:56:29             2.0            1   \n",
       "2       2015-01-22 20:39:28  2015-01-22 21:09:09             1.0            1   \n",
       "3       2015-02-03 21:21:45  2015-02-03 22:13:00             1.0            6   \n",
       "4       2015-02-15 02:40:36  2015-02-15 03:20:26             1.0            3   \n",
       "...                     ...                  ...             ...          ...   \n",
       "197423  2015-02-17 00:19:41  2015-02-17 01:24:48             4.0            3   \n",
       "197424  2015-02-13 00:01:59  2015-02-13 00:58:22             4.0            6   \n",
       "197425  2015-01-24 04:46:08  2015-01-24 05:36:16             4.0            5   \n",
       "197426  2015-02-01 18:18:15  2015-02-01 19:23:22             1.0            1   \n",
       "197427  2015-02-08 19:24:33  2015-02-08 20:01:41             1.0            4   \n",
       "\n",
       "        subtotal  num_distinct_items  min_item_price  max_item_price  \\\n",
       "0           3441                   4             557            1239   \n",
       "1           1900                   1            1400            1400   \n",
       "2           1900                   1            1900            1900   \n",
       "3           6900                   5             600            1800   \n",
       "4           3900                   3            1100            1600   \n",
       "...          ...                 ...             ...             ...   \n",
       "197423      1389                   3             345             649   \n",
       "197424      3010                   4             405             825   \n",
       "197425      1836                   3             300             399   \n",
       "197426      1175                   1             535             535   \n",
       "197427      2605                   4             425             750   \n",
       "\n",
       "        total_onshift_partners  total_busy_partners  total_outstanding_orders  \\\n",
       "0                         33.0                 14.0                      21.0   \n",
       "1                          1.0                  2.0                       2.0   \n",
       "2                          1.0                  0.0                       0.0   \n",
       "3                          1.0                  1.0                       2.0   \n",
       "4                          6.0                  6.0                       9.0   \n",
       "...                        ...                  ...                       ...   \n",
       "197423                    17.0                 17.0                      23.0   \n",
       "197424                    12.0                 11.0                      14.0   \n",
       "197425                    39.0                 41.0                      40.0   \n",
       "197426                     7.0                  7.0                      12.0   \n",
       "197427                    20.0                 20.0                      23.0   \n",
       "\n",
       "        LOF_anomaly_score  \n",
       "0                       1  \n",
       "1                       1  \n",
       "2                       1  \n",
       "3                       1  \n",
       "4                       1  \n",
       "...                   ...  \n",
       "197423                  1  \n",
       "197424                  1  \n",
       "197425                  1  \n",
       "197426                  1  \n",
       "197427                  1  \n",
       "\n",
       "[190826 rows x 12 columns]"
      ]
     },
     "execution_count": 33,
     "metadata": {},
     "output_type": "execute_result"
    }
   ],
   "source": [
    "df=df.loc[(df['LOF_anomaly_score'] == 1)]\n",
    "df"
   ]
  },
  {
   "cell_type": "code",
   "execution_count": 34,
   "id": "b35c3263",
   "metadata": {
    "execution": {
     "iopub.execute_input": "2025-03-18T08:33:13.738402Z",
     "iopub.status.busy": "2025-03-18T08:33:13.738134Z",
     "iopub.status.idle": "2025-03-18T08:33:13.742452Z",
     "shell.execute_reply": "2025-03-18T08:33:13.741735Z"
    },
    "papermill": {
     "duration": 0.026741,
     "end_time": "2025-03-18T08:33:13.743680",
     "exception": false,
     "start_time": "2025-03-18T08:33:13.716939",
     "status": "completed"
    },
    "tags": []
   },
   "outputs": [
    {
     "data": {
      "text/plain": [
       "190826"
      ]
     },
     "execution_count": 34,
     "metadata": {},
     "output_type": "execute_result"
    }
   ],
   "source": [
    "len_after = len(df)\n",
    "len_after"
   ]
  },
  {
   "cell_type": "code",
   "execution_count": 35,
   "id": "d1693954",
   "metadata": {
    "execution": {
     "iopub.execute_input": "2025-03-18T08:33:13.785480Z",
     "iopub.status.busy": "2025-03-18T08:33:13.785211Z",
     "iopub.status.idle": "2025-03-18T08:33:13.790076Z",
     "shell.execute_reply": "2025-03-18T08:33:13.789267Z"
    },
    "papermill": {
     "duration": 0.026859,
     "end_time": "2025-03-18T08:33:13.791174",
     "exception": false,
     "start_time": "2025-03-18T08:33:13.764315",
     "status": "completed"
    },
    "tags": []
   },
   "outputs": [
    {
     "data": {
      "text/plain": [
       "3.3405767370239237"
      ]
     },
     "execution_count": 35,
     "metadata": {},
     "output_type": "execute_result"
    }
   ],
   "source": [
    "((len_before-len_after)/ (len_before))*100"
   ]
  },
  {
   "cell_type": "markdown",
   "id": "c3b35f8a",
   "metadata": {
    "papermill": {
     "duration": 0.020252,
     "end_time": "2025-03-18T08:33:13.832014",
     "exception": false,
     "start_time": "2025-03-18T08:33:13.811762",
     "status": "completed"
    },
    "tags": []
   },
   "source": [
    "**Inference**\n",
    "\n",
    "A total of 3.34% of outlier values have been removed from the dataset using the LOF method."
   ]
  },
  {
   "cell_type": "code",
   "execution_count": 36,
   "id": "0b287d26",
   "metadata": {
    "execution": {
     "iopub.execute_input": "2025-03-18T08:33:13.873712Z",
     "iopub.status.busy": "2025-03-18T08:33:13.873382Z",
     "iopub.status.idle": "2025-03-18T08:33:13.898519Z",
     "shell.execute_reply": "2025-03-18T08:33:13.897574Z"
    },
    "papermill": {
     "duration": 0.047728,
     "end_time": "2025-03-18T08:33:13.899975",
     "exception": false,
     "start_time": "2025-03-18T08:33:13.852247",
     "status": "completed"
    },
    "tags": []
   },
   "outputs": [
    {
     "data": {
      "text/html": [
       "<div>\n",
       "<style scoped>\n",
       "    .dataframe tbody tr th:only-of-type {\n",
       "        vertical-align: middle;\n",
       "    }\n",
       "\n",
       "    .dataframe tbody tr th {\n",
       "        vertical-align: top;\n",
       "    }\n",
       "\n",
       "    .dataframe thead th {\n",
       "        text-align: right;\n",
       "    }\n",
       "</style>\n",
       "<table border=\"1\" class=\"dataframe\">\n",
       "  <thead>\n",
       "    <tr style=\"text-align: right;\">\n",
       "      <th></th>\n",
       "      <th>created_at</th>\n",
       "      <th>actual_delivery_time</th>\n",
       "      <th>order_protocol</th>\n",
       "      <th>total_items</th>\n",
       "      <th>subtotal</th>\n",
       "      <th>num_distinct_items</th>\n",
       "      <th>min_item_price</th>\n",
       "      <th>max_item_price</th>\n",
       "      <th>total_onshift_partners</th>\n",
       "      <th>total_busy_partners</th>\n",
       "      <th>total_outstanding_orders</th>\n",
       "    </tr>\n",
       "  </thead>\n",
       "  <tbody>\n",
       "    <tr>\n",
       "      <th>0</th>\n",
       "      <td>2015-02-06 22:24:17</td>\n",
       "      <td>2015-02-06 23:27:16</td>\n",
       "      <td>1.0</td>\n",
       "      <td>4</td>\n",
       "      <td>3441</td>\n",
       "      <td>4</td>\n",
       "      <td>557</td>\n",
       "      <td>1239</td>\n",
       "      <td>33.0</td>\n",
       "      <td>14.0</td>\n",
       "      <td>21.0</td>\n",
       "    </tr>\n",
       "    <tr>\n",
       "      <th>1</th>\n",
       "      <td>2015-02-10 21:49:25</td>\n",
       "      <td>2015-02-10 22:56:29</td>\n",
       "      <td>2.0</td>\n",
       "      <td>1</td>\n",
       "      <td>1900</td>\n",
       "      <td>1</td>\n",
       "      <td>1400</td>\n",
       "      <td>1400</td>\n",
       "      <td>1.0</td>\n",
       "      <td>2.0</td>\n",
       "      <td>2.0</td>\n",
       "    </tr>\n",
       "    <tr>\n",
       "      <th>2</th>\n",
       "      <td>2015-01-22 20:39:28</td>\n",
       "      <td>2015-01-22 21:09:09</td>\n",
       "      <td>1.0</td>\n",
       "      <td>1</td>\n",
       "      <td>1900</td>\n",
       "      <td>1</td>\n",
       "      <td>1900</td>\n",
       "      <td>1900</td>\n",
       "      <td>1.0</td>\n",
       "      <td>0.0</td>\n",
       "      <td>0.0</td>\n",
       "    </tr>\n",
       "    <tr>\n",
       "      <th>3</th>\n",
       "      <td>2015-02-03 21:21:45</td>\n",
       "      <td>2015-02-03 22:13:00</td>\n",
       "      <td>1.0</td>\n",
       "      <td>6</td>\n",
       "      <td>6900</td>\n",
       "      <td>5</td>\n",
       "      <td>600</td>\n",
       "      <td>1800</td>\n",
       "      <td>1.0</td>\n",
       "      <td>1.0</td>\n",
       "      <td>2.0</td>\n",
       "    </tr>\n",
       "    <tr>\n",
       "      <th>4</th>\n",
       "      <td>2015-02-15 02:40:36</td>\n",
       "      <td>2015-02-15 03:20:26</td>\n",
       "      <td>1.0</td>\n",
       "      <td>3</td>\n",
       "      <td>3900</td>\n",
       "      <td>3</td>\n",
       "      <td>1100</td>\n",
       "      <td>1600</td>\n",
       "      <td>6.0</td>\n",
       "      <td>6.0</td>\n",
       "      <td>9.0</td>\n",
       "    </tr>\n",
       "    <tr>\n",
       "      <th>...</th>\n",
       "      <td>...</td>\n",
       "      <td>...</td>\n",
       "      <td>...</td>\n",
       "      <td>...</td>\n",
       "      <td>...</td>\n",
       "      <td>...</td>\n",
       "      <td>...</td>\n",
       "      <td>...</td>\n",
       "      <td>...</td>\n",
       "      <td>...</td>\n",
       "      <td>...</td>\n",
       "    </tr>\n",
       "    <tr>\n",
       "      <th>197423</th>\n",
       "      <td>2015-02-17 00:19:41</td>\n",
       "      <td>2015-02-17 01:24:48</td>\n",
       "      <td>4.0</td>\n",
       "      <td>3</td>\n",
       "      <td>1389</td>\n",
       "      <td>3</td>\n",
       "      <td>345</td>\n",
       "      <td>649</td>\n",
       "      <td>17.0</td>\n",
       "      <td>17.0</td>\n",
       "      <td>23.0</td>\n",
       "    </tr>\n",
       "    <tr>\n",
       "      <th>197424</th>\n",
       "      <td>2015-02-13 00:01:59</td>\n",
       "      <td>2015-02-13 00:58:22</td>\n",
       "      <td>4.0</td>\n",
       "      <td>6</td>\n",
       "      <td>3010</td>\n",
       "      <td>4</td>\n",
       "      <td>405</td>\n",
       "      <td>825</td>\n",
       "      <td>12.0</td>\n",
       "      <td>11.0</td>\n",
       "      <td>14.0</td>\n",
       "    </tr>\n",
       "    <tr>\n",
       "      <th>197425</th>\n",
       "      <td>2015-01-24 04:46:08</td>\n",
       "      <td>2015-01-24 05:36:16</td>\n",
       "      <td>4.0</td>\n",
       "      <td>5</td>\n",
       "      <td>1836</td>\n",
       "      <td>3</td>\n",
       "      <td>300</td>\n",
       "      <td>399</td>\n",
       "      <td>39.0</td>\n",
       "      <td>41.0</td>\n",
       "      <td>40.0</td>\n",
       "    </tr>\n",
       "    <tr>\n",
       "      <th>197426</th>\n",
       "      <td>2015-02-01 18:18:15</td>\n",
       "      <td>2015-02-01 19:23:22</td>\n",
       "      <td>1.0</td>\n",
       "      <td>1</td>\n",
       "      <td>1175</td>\n",
       "      <td>1</td>\n",
       "      <td>535</td>\n",
       "      <td>535</td>\n",
       "      <td>7.0</td>\n",
       "      <td>7.0</td>\n",
       "      <td>12.0</td>\n",
       "    </tr>\n",
       "    <tr>\n",
       "      <th>197427</th>\n",
       "      <td>2015-02-08 19:24:33</td>\n",
       "      <td>2015-02-08 20:01:41</td>\n",
       "      <td>1.0</td>\n",
       "      <td>4</td>\n",
       "      <td>2605</td>\n",
       "      <td>4</td>\n",
       "      <td>425</td>\n",
       "      <td>750</td>\n",
       "      <td>20.0</td>\n",
       "      <td>20.0</td>\n",
       "      <td>23.0</td>\n",
       "    </tr>\n",
       "  </tbody>\n",
       "</table>\n",
       "<p>190826 rows × 11 columns</p>\n",
       "</div>"
      ],
      "text/plain": [
       "                 created_at actual_delivery_time  order_protocol  total_items  \\\n",
       "0       2015-02-06 22:24:17  2015-02-06 23:27:16             1.0            4   \n",
       "1       2015-02-10 21:49:25  2015-02-10 22:56:29             2.0            1   \n",
       "2       2015-01-22 20:39:28  2015-01-22 21:09:09             1.0            1   \n",
       "3       2015-02-03 21:21:45  2015-02-03 22:13:00             1.0            6   \n",
       "4       2015-02-15 02:40:36  2015-02-15 03:20:26             1.0            3   \n",
       "...                     ...                  ...             ...          ...   \n",
       "197423  2015-02-17 00:19:41  2015-02-17 01:24:48             4.0            3   \n",
       "197424  2015-02-13 00:01:59  2015-02-13 00:58:22             4.0            6   \n",
       "197425  2015-01-24 04:46:08  2015-01-24 05:36:16             4.0            5   \n",
       "197426  2015-02-01 18:18:15  2015-02-01 19:23:22             1.0            1   \n",
       "197427  2015-02-08 19:24:33  2015-02-08 20:01:41             1.0            4   \n",
       "\n",
       "        subtotal  num_distinct_items  min_item_price  max_item_price  \\\n",
       "0           3441                   4             557            1239   \n",
       "1           1900                   1            1400            1400   \n",
       "2           1900                   1            1900            1900   \n",
       "3           6900                   5             600            1800   \n",
       "4           3900                   3            1100            1600   \n",
       "...          ...                 ...             ...             ...   \n",
       "197423      1389                   3             345             649   \n",
       "197424      3010                   4             405             825   \n",
       "197425      1836                   3             300             399   \n",
       "197426      1175                   1             535             535   \n",
       "197427      2605                   4             425             750   \n",
       "\n",
       "        total_onshift_partners  total_busy_partners  total_outstanding_orders  \n",
       "0                         33.0                 14.0                      21.0  \n",
       "1                          1.0                  2.0                       2.0  \n",
       "2                          1.0                  0.0                       0.0  \n",
       "3                          1.0                  1.0                       2.0  \n",
       "4                          6.0                  6.0                       9.0  \n",
       "...                        ...                  ...                       ...  \n",
       "197423                    17.0                 17.0                      23.0  \n",
       "197424                    12.0                 11.0                      14.0  \n",
       "197425                    39.0                 41.0                      40.0  \n",
       "197426                     7.0                  7.0                      12.0  \n",
       "197427                    20.0                 20.0                      23.0  \n",
       "\n",
       "[190826 rows x 11 columns]"
      ]
     },
     "execution_count": 36,
     "metadata": {},
     "output_type": "execute_result"
    }
   ],
   "source": [
    "df.drop(columns = ['LOF_anomaly_score'],inplace=True)\n",
    "df"
   ]
  },
  {
   "cell_type": "markdown",
   "id": "3cc77e16",
   "metadata": {
    "papermill": {
     "duration": 0.021127,
     "end_time": "2025-03-18T08:33:13.942730",
     "exception": false,
     "start_time": "2025-03-18T08:33:13.921603",
     "status": "completed"
    },
    "tags": []
   },
   "source": [
    "## 🛠️ Feature Engineering"
   ]
  },
  {
   "cell_type": "markdown",
   "id": "28ebce28",
   "metadata": {
    "papermill": {
     "duration": 0.020936,
     "end_time": "2025-03-18T08:33:13.984864",
     "exception": false,
     "start_time": "2025-03-18T08:33:13.963928",
     "status": "completed"
    },
    "tags": []
   },
   "source": [
    "**Extraction datetime Features**"
   ]
  },
  {
   "cell_type": "code",
   "execution_count": 37,
   "id": "71f2756f",
   "metadata": {
    "execution": {
     "iopub.execute_input": "2025-03-18T08:33:14.029161Z",
     "iopub.status.busy": "2025-03-18T08:33:14.028817Z",
     "iopub.status.idle": "2025-03-18T08:33:14.129359Z",
     "shell.execute_reply": "2025-03-18T08:33:14.128224Z"
    },
    "papermill": {
     "duration": 0.124938,
     "end_time": "2025-03-18T08:33:14.130957",
     "exception": false,
     "start_time": "2025-03-18T08:33:14.006019",
     "status": "completed"
    },
    "tags": []
   },
   "outputs": [
    {
     "name": "stdout",
     "output_type": "stream",
     "text": [
      "<class 'pandas.core.frame.DataFrame'>\n",
      "Index: 190826 entries, 0 to 197427\n",
      "Data columns (total 11 columns):\n",
      " #   Column                    Non-Null Count   Dtype         \n",
      "---  ------                    --------------   -----         \n",
      " 0   created_at                190826 non-null  datetime64[ns]\n",
      " 1   actual_delivery_time      190826 non-null  datetime64[ns]\n",
      " 2   order_protocol            190826 non-null  float64       \n",
      " 3   total_items               190826 non-null  int64         \n",
      " 4   subtotal                  190826 non-null  int64         \n",
      " 5   num_distinct_items        190826 non-null  int64         \n",
      " 6   min_item_price            190826 non-null  int64         \n",
      " 7   max_item_price            190826 non-null  int64         \n",
      " 8   total_onshift_partners    190826 non-null  float64       \n",
      " 9   total_busy_partners       190826 non-null  float64       \n",
      " 10  total_outstanding_orders  190826 non-null  float64       \n",
      "dtypes: datetime64[ns](2), float64(4), int64(5)\n",
      "memory usage: 17.5 MB\n"
     ]
    }
   ],
   "source": [
    "df['created_at'] = pd.to_datetime(df['created_at'])\n",
    "df['actual_delivery_time'] = pd.to_datetime(df['actual_delivery_time'])\n",
    "df.info()"
   ]
  },
  {
   "cell_type": "code",
   "execution_count": 38,
   "id": "fa158930",
   "metadata": {
    "execution": {
     "iopub.execute_input": "2025-03-18T08:33:14.175451Z",
     "iopub.status.busy": "2025-03-18T08:33:14.175160Z",
     "iopub.status.idle": "2025-03-18T08:33:14.200203Z",
     "shell.execute_reply": "2025-03-18T08:33:14.199388Z"
    },
    "papermill": {
     "duration": 0.048754,
     "end_time": "2025-03-18T08:33:14.201525",
     "exception": false,
     "start_time": "2025-03-18T08:33:14.152771",
     "status": "completed"
    },
    "tags": []
   },
   "outputs": [
    {
     "data": {
      "text/html": [
       "<div>\n",
       "<style scoped>\n",
       "    .dataframe tbody tr th:only-of-type {\n",
       "        vertical-align: middle;\n",
       "    }\n",
       "\n",
       "    .dataframe tbody tr th {\n",
       "        vertical-align: top;\n",
       "    }\n",
       "\n",
       "    .dataframe thead th {\n",
       "        text-align: right;\n",
       "    }\n",
       "</style>\n",
       "<table border=\"1\" class=\"dataframe\">\n",
       "  <thead>\n",
       "    <tr style=\"text-align: right;\">\n",
       "      <th></th>\n",
       "      <th>created_at</th>\n",
       "      <th>actual_delivery_time</th>\n",
       "      <th>order_protocol</th>\n",
       "      <th>total_items</th>\n",
       "      <th>subtotal</th>\n",
       "      <th>num_distinct_items</th>\n",
       "      <th>min_item_price</th>\n",
       "      <th>max_item_price</th>\n",
       "      <th>total_onshift_partners</th>\n",
       "      <th>total_busy_partners</th>\n",
       "      <th>total_outstanding_orders</th>\n",
       "      <th>hour</th>\n",
       "      <th>day_of_week</th>\n",
       "    </tr>\n",
       "  </thead>\n",
       "  <tbody>\n",
       "    <tr>\n",
       "      <th>0</th>\n",
       "      <td>2015-02-06 22:24:17</td>\n",
       "      <td>2015-02-06 23:27:16</td>\n",
       "      <td>1.0</td>\n",
       "      <td>4</td>\n",
       "      <td>3441</td>\n",
       "      <td>4</td>\n",
       "      <td>557</td>\n",
       "      <td>1239</td>\n",
       "      <td>33.0</td>\n",
       "      <td>14.0</td>\n",
       "      <td>21.0</td>\n",
       "      <td>22</td>\n",
       "      <td>4</td>\n",
       "    </tr>\n",
       "    <tr>\n",
       "      <th>1</th>\n",
       "      <td>2015-02-10 21:49:25</td>\n",
       "      <td>2015-02-10 22:56:29</td>\n",
       "      <td>2.0</td>\n",
       "      <td>1</td>\n",
       "      <td>1900</td>\n",
       "      <td>1</td>\n",
       "      <td>1400</td>\n",
       "      <td>1400</td>\n",
       "      <td>1.0</td>\n",
       "      <td>2.0</td>\n",
       "      <td>2.0</td>\n",
       "      <td>21</td>\n",
       "      <td>1</td>\n",
       "    </tr>\n",
       "    <tr>\n",
       "      <th>2</th>\n",
       "      <td>2015-01-22 20:39:28</td>\n",
       "      <td>2015-01-22 21:09:09</td>\n",
       "      <td>1.0</td>\n",
       "      <td>1</td>\n",
       "      <td>1900</td>\n",
       "      <td>1</td>\n",
       "      <td>1900</td>\n",
       "      <td>1900</td>\n",
       "      <td>1.0</td>\n",
       "      <td>0.0</td>\n",
       "      <td>0.0</td>\n",
       "      <td>20</td>\n",
       "      <td>3</td>\n",
       "    </tr>\n",
       "    <tr>\n",
       "      <th>3</th>\n",
       "      <td>2015-02-03 21:21:45</td>\n",
       "      <td>2015-02-03 22:13:00</td>\n",
       "      <td>1.0</td>\n",
       "      <td>6</td>\n",
       "      <td>6900</td>\n",
       "      <td>5</td>\n",
       "      <td>600</td>\n",
       "      <td>1800</td>\n",
       "      <td>1.0</td>\n",
       "      <td>1.0</td>\n",
       "      <td>2.0</td>\n",
       "      <td>21</td>\n",
       "      <td>1</td>\n",
       "    </tr>\n",
       "    <tr>\n",
       "      <th>4</th>\n",
       "      <td>2015-02-15 02:40:36</td>\n",
       "      <td>2015-02-15 03:20:26</td>\n",
       "      <td>1.0</td>\n",
       "      <td>3</td>\n",
       "      <td>3900</td>\n",
       "      <td>3</td>\n",
       "      <td>1100</td>\n",
       "      <td>1600</td>\n",
       "      <td>6.0</td>\n",
       "      <td>6.0</td>\n",
       "      <td>9.0</td>\n",
       "      <td>2</td>\n",
       "      <td>6</td>\n",
       "    </tr>\n",
       "  </tbody>\n",
       "</table>\n",
       "</div>"
      ],
      "text/plain": [
       "           created_at actual_delivery_time  order_protocol  total_items  \\\n",
       "0 2015-02-06 22:24:17  2015-02-06 23:27:16             1.0            4   \n",
       "1 2015-02-10 21:49:25  2015-02-10 22:56:29             2.0            1   \n",
       "2 2015-01-22 20:39:28  2015-01-22 21:09:09             1.0            1   \n",
       "3 2015-02-03 21:21:45  2015-02-03 22:13:00             1.0            6   \n",
       "4 2015-02-15 02:40:36  2015-02-15 03:20:26             1.0            3   \n",
       "\n",
       "   subtotal  num_distinct_items  min_item_price  max_item_price  \\\n",
       "0      3441                   4             557            1239   \n",
       "1      1900                   1            1400            1400   \n",
       "2      1900                   1            1900            1900   \n",
       "3      6900                   5             600            1800   \n",
       "4      3900                   3            1100            1600   \n",
       "\n",
       "   total_onshift_partners  total_busy_partners  total_outstanding_orders  \\\n",
       "0                    33.0                 14.0                      21.0   \n",
       "1                     1.0                  2.0                       2.0   \n",
       "2                     1.0                  0.0                       0.0   \n",
       "3                     1.0                  1.0                       2.0   \n",
       "4                     6.0                  6.0                       9.0   \n",
       "\n",
       "   hour  day_of_week  \n",
       "0    22            4  \n",
       "1    21            1  \n",
       "2    20            3  \n",
       "3    21            1  \n",
       "4     2            6  "
      ]
     },
     "execution_count": 38,
     "metadata": {},
     "output_type": "execute_result"
    }
   ],
   "source": [
    "df['hour'] = df['created_at'].dt.hour\n",
    "df['day_of_week'] = df['created_at'].dt.weekday\n",
    "df.head()"
   ]
  },
  {
   "cell_type": "markdown",
   "id": "40fc0f1b",
   "metadata": {
    "papermill": {
     "duration": 0.021361,
     "end_time": "2025-03-18T08:33:14.244826",
     "exception": false,
     "start_time": "2025-03-18T08:33:14.223465",
     "status": "completed"
    },
    "tags": []
   },
   "source": [
    "**Generating Target Column**"
   ]
  },
  {
   "cell_type": "markdown",
   "id": "37acb6ee",
   "metadata": {
    "papermill": {
     "duration": 0.022394,
     "end_time": "2025-03-18T08:33:14.288705",
     "exception": false,
     "start_time": "2025-03-18T08:33:14.266311",
     "status": "completed"
    },
    "tags": []
   },
   "source": [
    "To predict delivery time, we calculate it by subtracting the created time from the actual delivery time.\n",
    "\n",
    "Time Taken = Actual Delivery Time - Created at"
   ]
  },
  {
   "cell_type": "code",
   "execution_count": 39,
   "id": "35b0a36c",
   "metadata": {
    "execution": {
     "iopub.execute_input": "2025-03-18T08:33:14.333312Z",
     "iopub.status.busy": "2025-03-18T08:33:14.332999Z",
     "iopub.status.idle": "2025-03-18T08:33:14.353590Z",
     "shell.execute_reply": "2025-03-18T08:33:14.352758Z"
    },
    "papermill": {
     "duration": 0.0441,
     "end_time": "2025-03-18T08:33:14.354974",
     "exception": false,
     "start_time": "2025-03-18T08:33:14.310874",
     "status": "completed"
    },
    "tags": []
   },
   "outputs": [
    {
     "data": {
      "text/html": [
       "<div>\n",
       "<style scoped>\n",
       "    .dataframe tbody tr th:only-of-type {\n",
       "        vertical-align: middle;\n",
       "    }\n",
       "\n",
       "    .dataframe tbody tr th {\n",
       "        vertical-align: top;\n",
       "    }\n",
       "\n",
       "    .dataframe thead th {\n",
       "        text-align: right;\n",
       "    }\n",
       "</style>\n",
       "<table border=\"1\" class=\"dataframe\">\n",
       "  <thead>\n",
       "    <tr style=\"text-align: right;\">\n",
       "      <th></th>\n",
       "      <th>created_at</th>\n",
       "      <th>actual_delivery_time</th>\n",
       "      <th>order_protocol</th>\n",
       "      <th>total_items</th>\n",
       "      <th>subtotal</th>\n",
       "      <th>num_distinct_items</th>\n",
       "      <th>min_item_price</th>\n",
       "      <th>max_item_price</th>\n",
       "      <th>total_onshift_partners</th>\n",
       "      <th>total_busy_partners</th>\n",
       "      <th>total_outstanding_orders</th>\n",
       "      <th>hour</th>\n",
       "      <th>day_of_week</th>\n",
       "      <th>time_taken</th>\n",
       "    </tr>\n",
       "  </thead>\n",
       "  <tbody>\n",
       "    <tr>\n",
       "      <th>0</th>\n",
       "      <td>2015-02-06 22:24:17</td>\n",
       "      <td>2015-02-06 23:27:16</td>\n",
       "      <td>1.0</td>\n",
       "      <td>4</td>\n",
       "      <td>3441</td>\n",
       "      <td>4</td>\n",
       "      <td>557</td>\n",
       "      <td>1239</td>\n",
       "      <td>33.0</td>\n",
       "      <td>14.0</td>\n",
       "      <td>21.0</td>\n",
       "      <td>22</td>\n",
       "      <td>4</td>\n",
       "      <td>62.983333</td>\n",
       "    </tr>\n",
       "    <tr>\n",
       "      <th>1</th>\n",
       "      <td>2015-02-10 21:49:25</td>\n",
       "      <td>2015-02-10 22:56:29</td>\n",
       "      <td>2.0</td>\n",
       "      <td>1</td>\n",
       "      <td>1900</td>\n",
       "      <td>1</td>\n",
       "      <td>1400</td>\n",
       "      <td>1400</td>\n",
       "      <td>1.0</td>\n",
       "      <td>2.0</td>\n",
       "      <td>2.0</td>\n",
       "      <td>21</td>\n",
       "      <td>1</td>\n",
       "      <td>67.066667</td>\n",
       "    </tr>\n",
       "    <tr>\n",
       "      <th>2</th>\n",
       "      <td>2015-01-22 20:39:28</td>\n",
       "      <td>2015-01-22 21:09:09</td>\n",
       "      <td>1.0</td>\n",
       "      <td>1</td>\n",
       "      <td>1900</td>\n",
       "      <td>1</td>\n",
       "      <td>1900</td>\n",
       "      <td>1900</td>\n",
       "      <td>1.0</td>\n",
       "      <td>0.0</td>\n",
       "      <td>0.0</td>\n",
       "      <td>20</td>\n",
       "      <td>3</td>\n",
       "      <td>29.683333</td>\n",
       "    </tr>\n",
       "    <tr>\n",
       "      <th>3</th>\n",
       "      <td>2015-02-03 21:21:45</td>\n",
       "      <td>2015-02-03 22:13:00</td>\n",
       "      <td>1.0</td>\n",
       "      <td>6</td>\n",
       "      <td>6900</td>\n",
       "      <td>5</td>\n",
       "      <td>600</td>\n",
       "      <td>1800</td>\n",
       "      <td>1.0</td>\n",
       "      <td>1.0</td>\n",
       "      <td>2.0</td>\n",
       "      <td>21</td>\n",
       "      <td>1</td>\n",
       "      <td>51.250000</td>\n",
       "    </tr>\n",
       "    <tr>\n",
       "      <th>4</th>\n",
       "      <td>2015-02-15 02:40:36</td>\n",
       "      <td>2015-02-15 03:20:26</td>\n",
       "      <td>1.0</td>\n",
       "      <td>3</td>\n",
       "      <td>3900</td>\n",
       "      <td>3</td>\n",
       "      <td>1100</td>\n",
       "      <td>1600</td>\n",
       "      <td>6.0</td>\n",
       "      <td>6.0</td>\n",
       "      <td>9.0</td>\n",
       "      <td>2</td>\n",
       "      <td>6</td>\n",
       "      <td>39.833333</td>\n",
       "    </tr>\n",
       "    <tr>\n",
       "      <th>...</th>\n",
       "      <td>...</td>\n",
       "      <td>...</td>\n",
       "      <td>...</td>\n",
       "      <td>...</td>\n",
       "      <td>...</td>\n",
       "      <td>...</td>\n",
       "      <td>...</td>\n",
       "      <td>...</td>\n",
       "      <td>...</td>\n",
       "      <td>...</td>\n",
       "      <td>...</td>\n",
       "      <td>...</td>\n",
       "      <td>...</td>\n",
       "      <td>...</td>\n",
       "    </tr>\n",
       "    <tr>\n",
       "      <th>197423</th>\n",
       "      <td>2015-02-17 00:19:41</td>\n",
       "      <td>2015-02-17 01:24:48</td>\n",
       "      <td>4.0</td>\n",
       "      <td>3</td>\n",
       "      <td>1389</td>\n",
       "      <td>3</td>\n",
       "      <td>345</td>\n",
       "      <td>649</td>\n",
       "      <td>17.0</td>\n",
       "      <td>17.0</td>\n",
       "      <td>23.0</td>\n",
       "      <td>0</td>\n",
       "      <td>1</td>\n",
       "      <td>65.116667</td>\n",
       "    </tr>\n",
       "    <tr>\n",
       "      <th>197424</th>\n",
       "      <td>2015-02-13 00:01:59</td>\n",
       "      <td>2015-02-13 00:58:22</td>\n",
       "      <td>4.0</td>\n",
       "      <td>6</td>\n",
       "      <td>3010</td>\n",
       "      <td>4</td>\n",
       "      <td>405</td>\n",
       "      <td>825</td>\n",
       "      <td>12.0</td>\n",
       "      <td>11.0</td>\n",
       "      <td>14.0</td>\n",
       "      <td>0</td>\n",
       "      <td>4</td>\n",
       "      <td>56.383333</td>\n",
       "    </tr>\n",
       "    <tr>\n",
       "      <th>197425</th>\n",
       "      <td>2015-01-24 04:46:08</td>\n",
       "      <td>2015-01-24 05:36:16</td>\n",
       "      <td>4.0</td>\n",
       "      <td>5</td>\n",
       "      <td>1836</td>\n",
       "      <td>3</td>\n",
       "      <td>300</td>\n",
       "      <td>399</td>\n",
       "      <td>39.0</td>\n",
       "      <td>41.0</td>\n",
       "      <td>40.0</td>\n",
       "      <td>4</td>\n",
       "      <td>5</td>\n",
       "      <td>50.133333</td>\n",
       "    </tr>\n",
       "    <tr>\n",
       "      <th>197426</th>\n",
       "      <td>2015-02-01 18:18:15</td>\n",
       "      <td>2015-02-01 19:23:22</td>\n",
       "      <td>1.0</td>\n",
       "      <td>1</td>\n",
       "      <td>1175</td>\n",
       "      <td>1</td>\n",
       "      <td>535</td>\n",
       "      <td>535</td>\n",
       "      <td>7.0</td>\n",
       "      <td>7.0</td>\n",
       "      <td>12.0</td>\n",
       "      <td>18</td>\n",
       "      <td>6</td>\n",
       "      <td>65.116667</td>\n",
       "    </tr>\n",
       "    <tr>\n",
       "      <th>197427</th>\n",
       "      <td>2015-02-08 19:24:33</td>\n",
       "      <td>2015-02-08 20:01:41</td>\n",
       "      <td>1.0</td>\n",
       "      <td>4</td>\n",
       "      <td>2605</td>\n",
       "      <td>4</td>\n",
       "      <td>425</td>\n",
       "      <td>750</td>\n",
       "      <td>20.0</td>\n",
       "      <td>20.0</td>\n",
       "      <td>23.0</td>\n",
       "      <td>19</td>\n",
       "      <td>6</td>\n",
       "      <td>37.133333</td>\n",
       "    </tr>\n",
       "  </tbody>\n",
       "</table>\n",
       "<p>190826 rows × 14 columns</p>\n",
       "</div>"
      ],
      "text/plain": [
       "                created_at actual_delivery_time  order_protocol  total_items  \\\n",
       "0      2015-02-06 22:24:17  2015-02-06 23:27:16             1.0            4   \n",
       "1      2015-02-10 21:49:25  2015-02-10 22:56:29             2.0            1   \n",
       "2      2015-01-22 20:39:28  2015-01-22 21:09:09             1.0            1   \n",
       "3      2015-02-03 21:21:45  2015-02-03 22:13:00             1.0            6   \n",
       "4      2015-02-15 02:40:36  2015-02-15 03:20:26             1.0            3   \n",
       "...                    ...                  ...             ...          ...   \n",
       "197423 2015-02-17 00:19:41  2015-02-17 01:24:48             4.0            3   \n",
       "197424 2015-02-13 00:01:59  2015-02-13 00:58:22             4.0            6   \n",
       "197425 2015-01-24 04:46:08  2015-01-24 05:36:16             4.0            5   \n",
       "197426 2015-02-01 18:18:15  2015-02-01 19:23:22             1.0            1   \n",
       "197427 2015-02-08 19:24:33  2015-02-08 20:01:41             1.0            4   \n",
       "\n",
       "        subtotal  num_distinct_items  min_item_price  max_item_price  \\\n",
       "0           3441                   4             557            1239   \n",
       "1           1900                   1            1400            1400   \n",
       "2           1900                   1            1900            1900   \n",
       "3           6900                   5             600            1800   \n",
       "4           3900                   3            1100            1600   \n",
       "...          ...                 ...             ...             ...   \n",
       "197423      1389                   3             345             649   \n",
       "197424      3010                   4             405             825   \n",
       "197425      1836                   3             300             399   \n",
       "197426      1175                   1             535             535   \n",
       "197427      2605                   4             425             750   \n",
       "\n",
       "        total_onshift_partners  total_busy_partners  total_outstanding_orders  \\\n",
       "0                         33.0                 14.0                      21.0   \n",
       "1                          1.0                  2.0                       2.0   \n",
       "2                          1.0                  0.0                       0.0   \n",
       "3                          1.0                  1.0                       2.0   \n",
       "4                          6.0                  6.0                       9.0   \n",
       "...                        ...                  ...                       ...   \n",
       "197423                    17.0                 17.0                      23.0   \n",
       "197424                    12.0                 11.0                      14.0   \n",
       "197425                    39.0                 41.0                      40.0   \n",
       "197426                     7.0                  7.0                      12.0   \n",
       "197427                    20.0                 20.0                      23.0   \n",
       "\n",
       "        hour  day_of_week  time_taken  \n",
       "0         22            4   62.983333  \n",
       "1         21            1   67.066667  \n",
       "2         20            3   29.683333  \n",
       "3         21            1   51.250000  \n",
       "4          2            6   39.833333  \n",
       "...      ...          ...         ...  \n",
       "197423     0            1   65.116667  \n",
       "197424     0            4   56.383333  \n",
       "197425     4            5   50.133333  \n",
       "197426    18            6   65.116667  \n",
       "197427    19            6   37.133333  \n",
       "\n",
       "[190826 rows x 14 columns]"
      ]
     },
     "execution_count": 39,
     "metadata": {},
     "output_type": "execute_result"
    }
   ],
   "source": [
    "df['time_taken'] = (df['actual_delivery_time']-df['created_at']).dt.total_seconds()/60\n",
    "df"
   ]
  },
  {
   "cell_type": "code",
   "execution_count": 40,
   "id": "b0584c87",
   "metadata": {
    "execution": {
     "iopub.execute_input": "2025-03-18T08:33:14.400011Z",
     "iopub.status.busy": "2025-03-18T08:33:14.399719Z",
     "iopub.status.idle": "2025-03-18T08:33:14.420396Z",
     "shell.execute_reply": "2025-03-18T08:33:14.419572Z"
    },
    "papermill": {
     "duration": 0.044402,
     "end_time": "2025-03-18T08:33:14.421749",
     "exception": false,
     "start_time": "2025-03-18T08:33:14.377347",
     "status": "completed"
    },
    "tags": []
   },
   "outputs": [
    {
     "data": {
      "text/html": [
       "<div>\n",
       "<style scoped>\n",
       "    .dataframe tbody tr th:only-of-type {\n",
       "        vertical-align: middle;\n",
       "    }\n",
       "\n",
       "    .dataframe tbody tr th {\n",
       "        vertical-align: top;\n",
       "    }\n",
       "\n",
       "    .dataframe thead th {\n",
       "        text-align: right;\n",
       "    }\n",
       "</style>\n",
       "<table border=\"1\" class=\"dataframe\">\n",
       "  <thead>\n",
       "    <tr style=\"text-align: right;\">\n",
       "      <th></th>\n",
       "      <th>order_protocol</th>\n",
       "      <th>total_items</th>\n",
       "      <th>subtotal</th>\n",
       "      <th>num_distinct_items</th>\n",
       "      <th>min_item_price</th>\n",
       "      <th>max_item_price</th>\n",
       "      <th>total_onshift_partners</th>\n",
       "      <th>total_busy_partners</th>\n",
       "      <th>total_outstanding_orders</th>\n",
       "      <th>hour</th>\n",
       "      <th>day_of_week</th>\n",
       "      <th>time_taken</th>\n",
       "    </tr>\n",
       "  </thead>\n",
       "  <tbody>\n",
       "    <tr>\n",
       "      <th>0</th>\n",
       "      <td>1.0</td>\n",
       "      <td>4</td>\n",
       "      <td>3441</td>\n",
       "      <td>4</td>\n",
       "      <td>557</td>\n",
       "      <td>1239</td>\n",
       "      <td>33.0</td>\n",
       "      <td>14.0</td>\n",
       "      <td>21.0</td>\n",
       "      <td>22</td>\n",
       "      <td>4</td>\n",
       "      <td>62.983333</td>\n",
       "    </tr>\n",
       "    <tr>\n",
       "      <th>1</th>\n",
       "      <td>2.0</td>\n",
       "      <td>1</td>\n",
       "      <td>1900</td>\n",
       "      <td>1</td>\n",
       "      <td>1400</td>\n",
       "      <td>1400</td>\n",
       "      <td>1.0</td>\n",
       "      <td>2.0</td>\n",
       "      <td>2.0</td>\n",
       "      <td>21</td>\n",
       "      <td>1</td>\n",
       "      <td>67.066667</td>\n",
       "    </tr>\n",
       "    <tr>\n",
       "      <th>2</th>\n",
       "      <td>1.0</td>\n",
       "      <td>1</td>\n",
       "      <td>1900</td>\n",
       "      <td>1</td>\n",
       "      <td>1900</td>\n",
       "      <td>1900</td>\n",
       "      <td>1.0</td>\n",
       "      <td>0.0</td>\n",
       "      <td>0.0</td>\n",
       "      <td>20</td>\n",
       "      <td>3</td>\n",
       "      <td>29.683333</td>\n",
       "    </tr>\n",
       "    <tr>\n",
       "      <th>3</th>\n",
       "      <td>1.0</td>\n",
       "      <td>6</td>\n",
       "      <td>6900</td>\n",
       "      <td>5</td>\n",
       "      <td>600</td>\n",
       "      <td>1800</td>\n",
       "      <td>1.0</td>\n",
       "      <td>1.0</td>\n",
       "      <td>2.0</td>\n",
       "      <td>21</td>\n",
       "      <td>1</td>\n",
       "      <td>51.250000</td>\n",
       "    </tr>\n",
       "    <tr>\n",
       "      <th>4</th>\n",
       "      <td>1.0</td>\n",
       "      <td>3</td>\n",
       "      <td>3900</td>\n",
       "      <td>3</td>\n",
       "      <td>1100</td>\n",
       "      <td>1600</td>\n",
       "      <td>6.0</td>\n",
       "      <td>6.0</td>\n",
       "      <td>9.0</td>\n",
       "      <td>2</td>\n",
       "      <td>6</td>\n",
       "      <td>39.833333</td>\n",
       "    </tr>\n",
       "    <tr>\n",
       "      <th>...</th>\n",
       "      <td>...</td>\n",
       "      <td>...</td>\n",
       "      <td>...</td>\n",
       "      <td>...</td>\n",
       "      <td>...</td>\n",
       "      <td>...</td>\n",
       "      <td>...</td>\n",
       "      <td>...</td>\n",
       "      <td>...</td>\n",
       "      <td>...</td>\n",
       "      <td>...</td>\n",
       "      <td>...</td>\n",
       "    </tr>\n",
       "    <tr>\n",
       "      <th>197423</th>\n",
       "      <td>4.0</td>\n",
       "      <td>3</td>\n",
       "      <td>1389</td>\n",
       "      <td>3</td>\n",
       "      <td>345</td>\n",
       "      <td>649</td>\n",
       "      <td>17.0</td>\n",
       "      <td>17.0</td>\n",
       "      <td>23.0</td>\n",
       "      <td>0</td>\n",
       "      <td>1</td>\n",
       "      <td>65.116667</td>\n",
       "    </tr>\n",
       "    <tr>\n",
       "      <th>197424</th>\n",
       "      <td>4.0</td>\n",
       "      <td>6</td>\n",
       "      <td>3010</td>\n",
       "      <td>4</td>\n",
       "      <td>405</td>\n",
       "      <td>825</td>\n",
       "      <td>12.0</td>\n",
       "      <td>11.0</td>\n",
       "      <td>14.0</td>\n",
       "      <td>0</td>\n",
       "      <td>4</td>\n",
       "      <td>56.383333</td>\n",
       "    </tr>\n",
       "    <tr>\n",
       "      <th>197425</th>\n",
       "      <td>4.0</td>\n",
       "      <td>5</td>\n",
       "      <td>1836</td>\n",
       "      <td>3</td>\n",
       "      <td>300</td>\n",
       "      <td>399</td>\n",
       "      <td>39.0</td>\n",
       "      <td>41.0</td>\n",
       "      <td>40.0</td>\n",
       "      <td>4</td>\n",
       "      <td>5</td>\n",
       "      <td>50.133333</td>\n",
       "    </tr>\n",
       "    <tr>\n",
       "      <th>197426</th>\n",
       "      <td>1.0</td>\n",
       "      <td>1</td>\n",
       "      <td>1175</td>\n",
       "      <td>1</td>\n",
       "      <td>535</td>\n",
       "      <td>535</td>\n",
       "      <td>7.0</td>\n",
       "      <td>7.0</td>\n",
       "      <td>12.0</td>\n",
       "      <td>18</td>\n",
       "      <td>6</td>\n",
       "      <td>65.116667</td>\n",
       "    </tr>\n",
       "    <tr>\n",
       "      <th>197427</th>\n",
       "      <td>1.0</td>\n",
       "      <td>4</td>\n",
       "      <td>2605</td>\n",
       "      <td>4</td>\n",
       "      <td>425</td>\n",
       "      <td>750</td>\n",
       "      <td>20.0</td>\n",
       "      <td>20.0</td>\n",
       "      <td>23.0</td>\n",
       "      <td>19</td>\n",
       "      <td>6</td>\n",
       "      <td>37.133333</td>\n",
       "    </tr>\n",
       "  </tbody>\n",
       "</table>\n",
       "<p>190826 rows × 12 columns</p>\n",
       "</div>"
      ],
      "text/plain": [
       "        order_protocol  total_items  subtotal  num_distinct_items  \\\n",
       "0                  1.0            4      3441                   4   \n",
       "1                  2.0            1      1900                   1   \n",
       "2                  1.0            1      1900                   1   \n",
       "3                  1.0            6      6900                   5   \n",
       "4                  1.0            3      3900                   3   \n",
       "...                ...          ...       ...                 ...   \n",
       "197423             4.0            3      1389                   3   \n",
       "197424             4.0            6      3010                   4   \n",
       "197425             4.0            5      1836                   3   \n",
       "197426             1.0            1      1175                   1   \n",
       "197427             1.0            4      2605                   4   \n",
       "\n",
       "        min_item_price  max_item_price  total_onshift_partners  \\\n",
       "0                  557            1239                    33.0   \n",
       "1                 1400            1400                     1.0   \n",
       "2                 1900            1900                     1.0   \n",
       "3                  600            1800                     1.0   \n",
       "4                 1100            1600                     6.0   \n",
       "...                ...             ...                     ...   \n",
       "197423             345             649                    17.0   \n",
       "197424             405             825                    12.0   \n",
       "197425             300             399                    39.0   \n",
       "197426             535             535                     7.0   \n",
       "197427             425             750                    20.0   \n",
       "\n",
       "        total_busy_partners  total_outstanding_orders  hour  day_of_week  \\\n",
       "0                      14.0                      21.0    22            4   \n",
       "1                       2.0                       2.0    21            1   \n",
       "2                       0.0                       0.0    20            3   \n",
       "3                       1.0                       2.0    21            1   \n",
       "4                       6.0                       9.0     2            6   \n",
       "...                     ...                       ...   ...          ...   \n",
       "197423                 17.0                      23.0     0            1   \n",
       "197424                 11.0                      14.0     0            4   \n",
       "197425                 41.0                      40.0     4            5   \n",
       "197426                  7.0                      12.0    18            6   \n",
       "197427                 20.0                      23.0    19            6   \n",
       "\n",
       "        time_taken  \n",
       "0        62.983333  \n",
       "1        67.066667  \n",
       "2        29.683333  \n",
       "3        51.250000  \n",
       "4        39.833333  \n",
       "...            ...  \n",
       "197423   65.116667  \n",
       "197424   56.383333  \n",
       "197425   50.133333  \n",
       "197426   65.116667  \n",
       "197427   37.133333  \n",
       "\n",
       "[190826 rows x 12 columns]"
      ]
     },
     "execution_count": 40,
     "metadata": {},
     "output_type": "execute_result"
    }
   ],
   "source": [
    "df.drop(columns=['created_at','actual_delivery_time'],inplace = True)\n",
    "df"
   ]
  },
  {
   "cell_type": "code",
   "execution_count": 41,
   "id": "10d24213",
   "metadata": {
    "execution": {
     "iopub.execute_input": "2025-03-18T08:33:14.466485Z",
     "iopub.status.busy": "2025-03-18T08:33:14.466193Z",
     "iopub.status.idle": "2025-03-18T08:33:14.477250Z",
     "shell.execute_reply": "2025-03-18T08:33:14.476561Z"
    },
    "papermill": {
     "duration": 0.034632,
     "end_time": "2025-03-18T08:33:14.478397",
     "exception": false,
     "start_time": "2025-03-18T08:33:14.443765",
     "status": "completed"
    },
    "tags": []
   },
   "outputs": [
    {
     "data": {
      "text/plain": [
       "order_protocol              0\n",
       "total_items                 0\n",
       "subtotal                    0\n",
       "num_distinct_items          0\n",
       "min_item_price              0\n",
       "max_item_price              0\n",
       "total_onshift_partners      0\n",
       "total_busy_partners         0\n",
       "total_outstanding_orders    0\n",
       "hour                        0\n",
       "day_of_week                 0\n",
       "time_taken                  0\n",
       "dtype: int64"
      ]
     },
     "execution_count": 41,
     "metadata": {},
     "output_type": "execute_result"
    }
   ],
   "source": [
    "df.isnull().sum()"
   ]
  },
  {
   "cell_type": "markdown",
   "id": "3c0e5193",
   "metadata": {
    "papermill": {
     "duration": 0.021486,
     "end_time": "2025-03-18T08:33:14.522056",
     "exception": false,
     "start_time": "2025-03-18T08:33:14.500570",
     "status": "completed"
    },
    "tags": []
   },
   "source": [
    "## ✂️ Splitting Dataset into Training and Test Sets"
   ]
  },
  {
   "cell_type": "code",
   "execution_count": 42,
   "id": "2d8f8cc8",
   "metadata": {
    "execution": {
     "iopub.execute_input": "2025-03-18T08:33:14.566565Z",
     "iopub.status.busy": "2025-03-18T08:33:14.566231Z",
     "iopub.status.idle": "2025-03-18T08:33:14.574329Z",
     "shell.execute_reply": "2025-03-18T08:33:14.573683Z"
    },
    "papermill": {
     "duration": 0.031807,
     "end_time": "2025-03-18T08:33:14.575634",
     "exception": false,
     "start_time": "2025-03-18T08:33:14.543827",
     "status": "completed"
    },
    "tags": []
   },
   "outputs": [],
   "source": [
    "X = df.drop(columns=['time_taken'])\n",
    "y = df['time_taken']"
   ]
  },
  {
   "cell_type": "code",
   "execution_count": 43,
   "id": "57ae2875",
   "metadata": {
    "execution": {
     "iopub.execute_input": "2025-03-18T08:33:14.620730Z",
     "iopub.status.busy": "2025-03-18T08:33:14.620405Z",
     "iopub.status.idle": "2025-03-18T08:33:14.634085Z",
     "shell.execute_reply": "2025-03-18T08:33:14.633398Z"
    },
    "papermill": {
     "duration": 0.03745,
     "end_time": "2025-03-18T08:33:14.635301",
     "exception": false,
     "start_time": "2025-03-18T08:33:14.597851",
     "status": "completed"
    },
    "tags": []
   },
   "outputs": [
    {
     "data": {
      "text/html": [
       "<div>\n",
       "<style scoped>\n",
       "    .dataframe tbody tr th:only-of-type {\n",
       "        vertical-align: middle;\n",
       "    }\n",
       "\n",
       "    .dataframe tbody tr th {\n",
       "        vertical-align: top;\n",
       "    }\n",
       "\n",
       "    .dataframe thead th {\n",
       "        text-align: right;\n",
       "    }\n",
       "</style>\n",
       "<table border=\"1\" class=\"dataframe\">\n",
       "  <thead>\n",
       "    <tr style=\"text-align: right;\">\n",
       "      <th></th>\n",
       "      <th>order_protocol</th>\n",
       "      <th>total_items</th>\n",
       "      <th>subtotal</th>\n",
       "      <th>num_distinct_items</th>\n",
       "      <th>min_item_price</th>\n",
       "      <th>max_item_price</th>\n",
       "      <th>total_onshift_partners</th>\n",
       "      <th>total_busy_partners</th>\n",
       "      <th>total_outstanding_orders</th>\n",
       "      <th>hour</th>\n",
       "      <th>day_of_week</th>\n",
       "    </tr>\n",
       "  </thead>\n",
       "  <tbody>\n",
       "    <tr>\n",
       "      <th>0</th>\n",
       "      <td>1.0</td>\n",
       "      <td>4</td>\n",
       "      <td>3441</td>\n",
       "      <td>4</td>\n",
       "      <td>557</td>\n",
       "      <td>1239</td>\n",
       "      <td>33.0</td>\n",
       "      <td>14.0</td>\n",
       "      <td>21.0</td>\n",
       "      <td>22</td>\n",
       "      <td>4</td>\n",
       "    </tr>\n",
       "    <tr>\n",
       "      <th>1</th>\n",
       "      <td>2.0</td>\n",
       "      <td>1</td>\n",
       "      <td>1900</td>\n",
       "      <td>1</td>\n",
       "      <td>1400</td>\n",
       "      <td>1400</td>\n",
       "      <td>1.0</td>\n",
       "      <td>2.0</td>\n",
       "      <td>2.0</td>\n",
       "      <td>21</td>\n",
       "      <td>1</td>\n",
       "    </tr>\n",
       "    <tr>\n",
       "      <th>2</th>\n",
       "      <td>1.0</td>\n",
       "      <td>1</td>\n",
       "      <td>1900</td>\n",
       "      <td>1</td>\n",
       "      <td>1900</td>\n",
       "      <td>1900</td>\n",
       "      <td>1.0</td>\n",
       "      <td>0.0</td>\n",
       "      <td>0.0</td>\n",
       "      <td>20</td>\n",
       "      <td>3</td>\n",
       "    </tr>\n",
       "    <tr>\n",
       "      <th>3</th>\n",
       "      <td>1.0</td>\n",
       "      <td>6</td>\n",
       "      <td>6900</td>\n",
       "      <td>5</td>\n",
       "      <td>600</td>\n",
       "      <td>1800</td>\n",
       "      <td>1.0</td>\n",
       "      <td>1.0</td>\n",
       "      <td>2.0</td>\n",
       "      <td>21</td>\n",
       "      <td>1</td>\n",
       "    </tr>\n",
       "    <tr>\n",
       "      <th>4</th>\n",
       "      <td>1.0</td>\n",
       "      <td>3</td>\n",
       "      <td>3900</td>\n",
       "      <td>3</td>\n",
       "      <td>1100</td>\n",
       "      <td>1600</td>\n",
       "      <td>6.0</td>\n",
       "      <td>6.0</td>\n",
       "      <td>9.0</td>\n",
       "      <td>2</td>\n",
       "      <td>6</td>\n",
       "    </tr>\n",
       "    <tr>\n",
       "      <th>...</th>\n",
       "      <td>...</td>\n",
       "      <td>...</td>\n",
       "      <td>...</td>\n",
       "      <td>...</td>\n",
       "      <td>...</td>\n",
       "      <td>...</td>\n",
       "      <td>...</td>\n",
       "      <td>...</td>\n",
       "      <td>...</td>\n",
       "      <td>...</td>\n",
       "      <td>...</td>\n",
       "    </tr>\n",
       "    <tr>\n",
       "      <th>197423</th>\n",
       "      <td>4.0</td>\n",
       "      <td>3</td>\n",
       "      <td>1389</td>\n",
       "      <td>3</td>\n",
       "      <td>345</td>\n",
       "      <td>649</td>\n",
       "      <td>17.0</td>\n",
       "      <td>17.0</td>\n",
       "      <td>23.0</td>\n",
       "      <td>0</td>\n",
       "      <td>1</td>\n",
       "    </tr>\n",
       "    <tr>\n",
       "      <th>197424</th>\n",
       "      <td>4.0</td>\n",
       "      <td>6</td>\n",
       "      <td>3010</td>\n",
       "      <td>4</td>\n",
       "      <td>405</td>\n",
       "      <td>825</td>\n",
       "      <td>12.0</td>\n",
       "      <td>11.0</td>\n",
       "      <td>14.0</td>\n",
       "      <td>0</td>\n",
       "      <td>4</td>\n",
       "    </tr>\n",
       "    <tr>\n",
       "      <th>197425</th>\n",
       "      <td>4.0</td>\n",
       "      <td>5</td>\n",
       "      <td>1836</td>\n",
       "      <td>3</td>\n",
       "      <td>300</td>\n",
       "      <td>399</td>\n",
       "      <td>39.0</td>\n",
       "      <td>41.0</td>\n",
       "      <td>40.0</td>\n",
       "      <td>4</td>\n",
       "      <td>5</td>\n",
       "    </tr>\n",
       "    <tr>\n",
       "      <th>197426</th>\n",
       "      <td>1.0</td>\n",
       "      <td>1</td>\n",
       "      <td>1175</td>\n",
       "      <td>1</td>\n",
       "      <td>535</td>\n",
       "      <td>535</td>\n",
       "      <td>7.0</td>\n",
       "      <td>7.0</td>\n",
       "      <td>12.0</td>\n",
       "      <td>18</td>\n",
       "      <td>6</td>\n",
       "    </tr>\n",
       "    <tr>\n",
       "      <th>197427</th>\n",
       "      <td>1.0</td>\n",
       "      <td>4</td>\n",
       "      <td>2605</td>\n",
       "      <td>4</td>\n",
       "      <td>425</td>\n",
       "      <td>750</td>\n",
       "      <td>20.0</td>\n",
       "      <td>20.0</td>\n",
       "      <td>23.0</td>\n",
       "      <td>19</td>\n",
       "      <td>6</td>\n",
       "    </tr>\n",
       "  </tbody>\n",
       "</table>\n",
       "<p>190826 rows × 11 columns</p>\n",
       "</div>"
      ],
      "text/plain": [
       "        order_protocol  total_items  subtotal  num_distinct_items  \\\n",
       "0                  1.0            4      3441                   4   \n",
       "1                  2.0            1      1900                   1   \n",
       "2                  1.0            1      1900                   1   \n",
       "3                  1.0            6      6900                   5   \n",
       "4                  1.0            3      3900                   3   \n",
       "...                ...          ...       ...                 ...   \n",
       "197423             4.0            3      1389                   3   \n",
       "197424             4.0            6      3010                   4   \n",
       "197425             4.0            5      1836                   3   \n",
       "197426             1.0            1      1175                   1   \n",
       "197427             1.0            4      2605                   4   \n",
       "\n",
       "        min_item_price  max_item_price  total_onshift_partners  \\\n",
       "0                  557            1239                    33.0   \n",
       "1                 1400            1400                     1.0   \n",
       "2                 1900            1900                     1.0   \n",
       "3                  600            1800                     1.0   \n",
       "4                 1100            1600                     6.0   \n",
       "...                ...             ...                     ...   \n",
       "197423             345             649                    17.0   \n",
       "197424             405             825                    12.0   \n",
       "197425             300             399                    39.0   \n",
       "197426             535             535                     7.0   \n",
       "197427             425             750                    20.0   \n",
       "\n",
       "        total_busy_partners  total_outstanding_orders  hour  day_of_week  \n",
       "0                      14.0                      21.0    22            4  \n",
       "1                       2.0                       2.0    21            1  \n",
       "2                       0.0                       0.0    20            3  \n",
       "3                       1.0                       2.0    21            1  \n",
       "4                       6.0                       9.0     2            6  \n",
       "...                     ...                       ...   ...          ...  \n",
       "197423                 17.0                      23.0     0            1  \n",
       "197424                 11.0                      14.0     0            4  \n",
       "197425                 41.0                      40.0     4            5  \n",
       "197426                  7.0                      12.0    18            6  \n",
       "197427                 20.0                      23.0    19            6  \n",
       "\n",
       "[190826 rows x 11 columns]"
      ]
     },
     "execution_count": 43,
     "metadata": {},
     "output_type": "execute_result"
    }
   ],
   "source": [
    "X"
   ]
  },
  {
   "cell_type": "code",
   "execution_count": 44,
   "id": "632638a8",
   "metadata": {
    "execution": {
     "iopub.execute_input": "2025-03-18T08:33:14.681179Z",
     "iopub.status.busy": "2025-03-18T08:33:14.680846Z",
     "iopub.status.idle": "2025-03-18T08:33:14.687146Z",
     "shell.execute_reply": "2025-03-18T08:33:14.686163Z"
    },
    "papermill": {
     "duration": 0.031226,
     "end_time": "2025-03-18T08:33:14.688673",
     "exception": false,
     "start_time": "2025-03-18T08:33:14.657447",
     "status": "completed"
    },
    "tags": []
   },
   "outputs": [
    {
     "data": {
      "text/plain": [
       "0         62.983333\n",
       "1         67.066667\n",
       "2         29.683333\n",
       "3         51.250000\n",
       "4         39.833333\n",
       "            ...    \n",
       "197423    65.116667\n",
       "197424    56.383333\n",
       "197425    50.133333\n",
       "197426    65.116667\n",
       "197427    37.133333\n",
       "Name: time_taken, Length: 190826, dtype: float64"
      ]
     },
     "execution_count": 44,
     "metadata": {},
     "output_type": "execute_result"
    }
   ],
   "source": [
    "y"
   ]
  },
  {
   "cell_type": "markdown",
   "id": "37b69296",
   "metadata": {
    "papermill": {
     "duration": 0.022455,
     "end_time": "2025-03-18T08:33:14.734174",
     "exception": false,
     "start_time": "2025-03-18T08:33:14.711719",
     "status": "completed"
    },
    "tags": []
   },
   "source": []
  },
  {
   "cell_type": "code",
   "execution_count": 45,
   "id": "1888b8d2",
   "metadata": {
    "execution": {
     "iopub.execute_input": "2025-03-18T08:33:14.780449Z",
     "iopub.status.busy": "2025-03-18T08:33:14.780136Z",
     "iopub.status.idle": "2025-03-18T08:33:14.824412Z",
     "shell.execute_reply": "2025-03-18T08:33:14.823722Z"
    },
    "papermill": {
     "duration": 0.069017,
     "end_time": "2025-03-18T08:33:14.825953",
     "exception": false,
     "start_time": "2025-03-18T08:33:14.756936",
     "status": "completed"
    },
    "tags": []
   },
   "outputs": [],
   "source": [
    "from sklearn.model_selection import train_test_split\n",
    "X_dev, X_test, y_dev, y_test = train_test_split(X,y, test_size = 0.3, random_state = 42)\n",
    "X_train, X_val, y_train, y_val = train_test_split(X_dev,y_dev, test_size = 0.3, random_state = 42)\n"
   ]
  },
  {
   "cell_type": "code",
   "execution_count": 46,
   "id": "f63d5047",
   "metadata": {
    "execution": {
     "iopub.execute_input": "2025-03-18T08:33:14.872162Z",
     "iopub.status.busy": "2025-03-18T08:33:14.871842Z",
     "iopub.status.idle": "2025-03-18T08:33:14.876662Z",
     "shell.execute_reply": "2025-03-18T08:33:14.875838Z"
    },
    "papermill": {
     "duration": 0.02912,
     "end_time": "2025-03-18T08:33:14.877916",
     "exception": false,
     "start_time": "2025-03-18T08:33:14.848796",
     "status": "completed"
    },
    "tags": []
   },
   "outputs": [
    {
     "name": "stdout",
     "output_type": "stream",
     "text": [
      "Shape of Training Data : (93504, 11)\n",
      "Shape of Validation Data: (40074, 11)\n",
      "Shape of Test Data : (57248, 11)\n"
     ]
    }
   ],
   "source": [
    "print(f'Shape of Training Data : {X_train.shape}' )\n",
    "print(f'Shape of Validation Data: {X_val.shape}')\n",
    "print(f'Shape of Test Data : {X_test.shape}')\n"
   ]
  },
  {
   "cell_type": "markdown",
   "id": "c0adfe05",
   "metadata": {
    "papermill": {
     "duration": 0.021872,
     "end_time": "2025-03-18T08:33:14.922179",
     "exception": false,
     "start_time": "2025-03-18T08:33:14.900307",
     "status": "completed"
    },
    "tags": []
   },
   "source": [
    "## ⚖️ Feature Scaling"
   ]
  },
  {
   "cell_type": "code",
   "execution_count": 47,
   "id": "2edf3fb6",
   "metadata": {
    "execution": {
     "iopub.execute_input": "2025-03-18T08:33:14.967573Z",
     "iopub.status.busy": "2025-03-18T08:33:14.967254Z",
     "iopub.status.idle": "2025-03-18T08:33:15.008686Z",
     "shell.execute_reply": "2025-03-18T08:33:15.007684Z"
    },
    "papermill": {
     "duration": 0.06616,
     "end_time": "2025-03-18T08:33:15.010450",
     "exception": false,
     "start_time": "2025-03-18T08:33:14.944290",
     "status": "completed"
    },
    "tags": []
   },
   "outputs": [],
   "source": [
    "from sklearn.preprocessing import StandardScaler\n",
    "scaler = StandardScaler()\n",
    "X_train = scaler.fit_transform(X_train)\n",
    "X_val = scaler.fit_transform(X_val)\n",
    "X_test = scaler.fit_transform(X_test)"
   ]
  },
  {
   "cell_type": "code",
   "execution_count": 48,
   "id": "2743649e",
   "metadata": {
    "execution": {
     "iopub.execute_input": "2025-03-18T08:33:15.060338Z",
     "iopub.status.busy": "2025-03-18T08:33:15.060024Z",
     "iopub.status.idle": "2025-03-18T08:33:15.065330Z",
     "shell.execute_reply": "2025-03-18T08:33:15.064638Z"
    },
    "papermill": {
     "duration": 0.030027,
     "end_time": "2025-03-18T08:33:15.066606",
     "exception": false,
     "start_time": "2025-03-18T08:33:15.036579",
     "status": "completed"
    },
    "tags": []
   },
   "outputs": [
    {
     "data": {
      "text/plain": [
       "array([[ 0.08274837, -0.10103293,  0.11388577, ..., -0.86544944,\n",
       "        -0.74047761, -0.59830014],\n",
       "       [ 1.40921915, -0.50001016,  0.0865589 , ...,  1.35593267,\n",
       "        -0.62464683,  0.38135079],\n",
       "       [ 1.40921915, -0.8989874 , -0.9387454 , ..., -0.57057571,\n",
       "         1.57613803,  0.87117625],\n",
       "       ...,\n",
       "       [ 0.08274837, -0.8989874 ,  0.15432955, ..., -0.31501847,\n",
       "        -0.85630839,  1.36100172],\n",
       "       [-0.58048701, -0.8989874 , -0.55562263, ...,  2.16192087,\n",
       "        -0.74047761, -1.57795106],\n",
       "       [-0.58048701, -0.50001016, -0.77423762, ..., -0.84579119,\n",
       "        -0.39298526, -0.10847467]])"
      ]
     },
     "execution_count": 48,
     "metadata": {},
     "output_type": "execute_result"
    }
   ],
   "source": [
    "X_train"
   ]
  },
  {
   "cell_type": "code",
   "execution_count": 49,
   "id": "0613e6f6",
   "metadata": {
    "execution": {
     "iopub.execute_input": "2025-03-18T08:33:15.113085Z",
     "iopub.status.busy": "2025-03-18T08:33:15.112781Z",
     "iopub.status.idle": "2025-03-18T08:33:15.117953Z",
     "shell.execute_reply": "2025-03-18T08:33:15.117105Z"
    },
    "papermill": {
     "duration": 0.029818,
     "end_time": "2025-03-18T08:33:15.119264",
     "exception": false,
     "start_time": "2025-03-18T08:33:15.089446",
     "status": "completed"
    },
    "tags": []
   },
   "outputs": [
    {
     "data": {
      "text/plain": [
       "array([[ 0.08725025,  0.69653103,  1.13846827, ...,  0.21765674,\n",
       "        -0.85824359, -1.58401998],\n",
       "       [-1.24422976, -0.90399561, -0.83850072, ...,  3.31266929,\n",
       "        -0.62699113,  0.86711475],\n",
       "       [-1.24422976, -0.10373229, -0.40082175, ..., -0.6103084 ,\n",
       "         1.6855335 ,  1.3573417 ],\n",
       "       ...,\n",
       "       [ 0.75299025, -0.10373229,  1.35263991, ..., -0.82715641,\n",
       "         1.22302857,  1.3573417 ],\n",
       "       [ 0.08725025, -0.10373229, -0.16029053, ..., -0.51174112,\n",
       "         1.45428103,  0.86711475],\n",
       "       [ 0.08725025, -0.50386395,  0.369647  , ..., -0.11747201,\n",
       "        -0.85824359,  1.3573417 ]])"
      ]
     },
     "execution_count": 49,
     "metadata": {},
     "output_type": "execute_result"
    }
   ],
   "source": [
    "X_val"
   ]
  },
  {
   "cell_type": "code",
   "execution_count": 50,
   "id": "d42a0329",
   "metadata": {
    "execution": {
     "iopub.execute_input": "2025-03-18T08:33:15.165878Z",
     "iopub.status.busy": "2025-03-18T08:33:15.165587Z",
     "iopub.status.idle": "2025-03-18T08:33:15.170841Z",
     "shell.execute_reply": "2025-03-18T08:33:15.170097Z"
    },
    "papermill": {
     "duration": 0.029889,
     "end_time": "2025-03-18T08:33:15.172114",
     "exception": false,
     "start_time": "2025-03-18T08:33:15.142225",
     "status": "completed"
    },
    "tags": []
   },
   "outputs": [
    {
     "data": {
      "text/plain": [
       "array([[-1.24804053,  3.06806944,  2.24890821, ...,  2.27750118,\n",
       "        -0.62612346,  0.86604942],\n",
       "       [-1.24804053, -0.09812076, -0.88210793, ..., -1.05991403,\n",
       "         1.10811109, -0.11100397],\n",
       "       [ 0.0824466 , -0.49389453, -0.72152895, ..., -0.82433178,\n",
       "         1.33934237, -1.08805736],\n",
       "       ...,\n",
       "       [-1.24804053,  1.08920057,  0.46829007, ..., -0.66727694,\n",
       "        -0.85735473, -0.59953067],\n",
       "       [ 0.74769017, -0.09812076, -0.8667625 , ...,  0.15726093,\n",
       "        -0.97297037, -1.08805736],\n",
       "       [ 0.74769017, -0.09812076,  0.0978075 , ...,  0.49100245,\n",
       "        -0.7417391 , -1.57658406]])"
      ]
     },
     "execution_count": 50,
     "metadata": {},
     "output_type": "execute_result"
    }
   ],
   "source": [
    "X_test"
   ]
  },
  {
   "cell_type": "markdown",
   "id": "d856e2cb",
   "metadata": {
    "papermill": {
     "duration": 0.022345,
     "end_time": "2025-03-18T08:33:15.217182",
     "exception": false,
     "start_time": "2025-03-18T08:33:15.194837",
     "status": "completed"
    },
    "tags": []
   },
   "source": [
    "#  Model Training and Building"
   ]
  },
  {
   "cell_type": "markdown",
   "id": "b3e53a44",
   "metadata": {
    "papermill": {
     "duration": 0.022446,
     "end_time": "2025-03-18T08:33:15.263056",
     "exception": false,
     "start_time": "2025-03-18T08:33:15.240610",
     "status": "completed"
    },
    "tags": []
   },
   "source": [
    "## 🛠️ Hyperparameter Tuning using Keras Tuner"
   ]
  },
  {
   "cell_type": "markdown",
   "id": "36862ca8",
   "metadata": {
    "papermill": {
     "duration": 0.023063,
     "end_time": "2025-03-18T08:33:15.309708",
     "exception": false,
     "start_time": "2025-03-18T08:33:15.286645",
     "status": "completed"
    },
    "tags": []
   },
   "source": [
    "**Define the model**"
   ]
  },
  {
   "cell_type": "code",
   "execution_count": 51,
   "id": "a1775826",
   "metadata": {
    "execution": {
     "iopub.execute_input": "2025-03-18T08:33:15.356108Z",
     "iopub.status.busy": "2025-03-18T08:33:15.355808Z",
     "iopub.status.idle": "2025-03-18T08:33:15.594197Z",
     "shell.execute_reply": "2025-03-18T08:33:15.593471Z"
    },
    "papermill": {
     "duration": 0.263299,
     "end_time": "2025-03-18T08:33:15.595683",
     "exception": false,
     "start_time": "2025-03-18T08:33:15.332384",
     "status": "completed"
    },
    "tags": []
   },
   "outputs": [],
   "source": [
    "import keras_tuner as kt\n",
    "\n",
    "def build_model(hp):\n",
    "    model = keras.Sequential()\n",
    "\n",
    "    #Define input Layer\n",
    "    model.add(keras.layers.Dense(\n",
    "        units = hp.Int('units', min_value = 32, max_value = 512 , step = 32), # Tune neurons 32-512\n",
    "    ))\n",
    "    # Apply leaky relu activation funtion\n",
    "    model.add(keras.layers.LeakyReLU(alpha=0.1))\n",
    "\n",
    "    # Batch Normalization after input layer\n",
    "    model.add(keras.layers.BatchNormalization())\n",
    "\n",
    "    # Hidden Layers with Batch Normalization & optional dropout\n",
    "    for i in range(hp.Int('num_layers',1,5)): # Tune number of hidden layers : (1 to 5)\n",
    "        model.add(keras.layers.Dense(\n",
    "            units = hp.Int(f'units_{i}', min_value = 32, max_value = 512, step = 32),\n",
    "        ))\n",
    "        \n",
    "        model.add(keras.layers.LeakyReLU(alpha=0.1))\n",
    "        model.add(keras.layers.BatchNormalization())\n",
    "\n",
    "        # Apply Dropout only if hp.Boolean is True\n",
    "        if hp.Boolean(f'apply_dropout_{i}'):\n",
    "            model.add(keras.layers.Dropout(hp.Float(f'dropout_{i}', min_value = 0.1, max_value = 0.5 , step = 0.1)))\n",
    "    \n",
    "    # Output Layer : (Regression : Single Neuron, Linear Activation)\n",
    "    model.add(keras.layers.Dense(1, activation = 'linear'))\n",
    "\n",
    "    # Compile model with built-in R2 metric\n",
    "    model.compile(\n",
    "        optimizer = keras.optimizers.Adam(\n",
    "            learning_rate = hp.Float('learning_rate', min_value = 0.0001, max_value = 0.01, sampling = 'log')\n",
    "        ),\n",
    "        loss = 'mse', # mean squared error for regression tasks\n",
    "        metrics = [keras.metrics.R2Score()] # R2 metric to evaluate performance on validation data\n",
    "        \n",
    "    )\n",
    "\n",
    "    return model\n",
    "\n",
    "    \n",
    "        "
   ]
  },
  {
   "cell_type": "markdown",
   "id": "e1703428",
   "metadata": {
    "papermill": {
     "duration": 0.022442,
     "end_time": "2025-03-18T08:33:15.641162",
     "exception": false,
     "start_time": "2025-03-18T08:33:15.618720",
     "status": "completed"
    },
    "tags": []
   },
   "source": [
    "**Hyperparameter Tuning using Bayesian optimization**"
   ]
  },
  {
   "cell_type": "code",
   "execution_count": 52,
   "id": "d175dfec",
   "metadata": {
    "execution": {
     "iopub.execute_input": "2025-03-18T08:33:15.687909Z",
     "iopub.status.busy": "2025-03-18T08:33:15.687606Z",
     "iopub.status.idle": "2025-03-18T08:33:16.492374Z",
     "shell.execute_reply": "2025-03-18T08:33:16.491420Z"
    },
    "papermill": {
     "duration": 0.829722,
     "end_time": "2025-03-18T08:33:16.494075",
     "exception": false,
     "start_time": "2025-03-18T08:33:15.664353",
     "status": "completed"
    },
    "tags": []
   },
   "outputs": [],
   "source": [
    "tuner = kt.BayesianOptimization(\n",
    "    build_model,\n",
    "    objective = kt.Objective('val_r2_score', direction = 'max'),# Maximize R2 Score\n",
    "    max_trials = 20, # Number of hyperparameter combinations to test\n",
    "    executions_per_trial = 2 , # runs each model twice for stability\n",
    "    directory = '/kaggle/working/',\n",
    "    project_name = 'Porter : NN Regression'\n",
    ")"
   ]
  },
  {
   "cell_type": "markdown",
   "id": "da5ef400",
   "metadata": {
    "papermill": {
     "duration": 0.021876,
     "end_time": "2025-03-18T08:33:16.538720",
     "exception": false,
     "start_time": "2025-03-18T08:33:16.516844",
     "status": "completed"
    },
    "tags": []
   },
   "source": [
    "**Start Hyperparameter Tuning**"
   ]
  },
  {
   "cell_type": "code",
   "execution_count": 53,
   "id": "fd86fe61",
   "metadata": {
    "execution": {
     "iopub.execute_input": "2025-03-18T08:33:16.583684Z",
     "iopub.status.busy": "2025-03-18T08:33:16.583355Z",
     "iopub.status.idle": "2025-03-18T08:47:09.717621Z",
     "shell.execute_reply": "2025-03-18T08:47:09.716696Z"
    },
    "papermill": {
     "duration": 833.158366,
     "end_time": "2025-03-18T08:47:09.718981",
     "exception": false,
     "start_time": "2025-03-18T08:33:16.560615",
     "status": "completed"
    },
    "tags": []
   },
   "outputs": [
    {
     "name": "stdout",
     "output_type": "stream",
     "text": [
      "Trial 20 Complete [00h 00m 51s]\n",
      "val_r2_score: 0.16204094886779785\n",
      "\n",
      "Best val_r2_score So Far: 0.2188969850540161\n",
      "Total elapsed time: 00h 13m 53s\n"
     ]
    }
   ],
   "source": [
    "tuner.search(\n",
    "    X_train, y_train, epochs = 20, validation_data = (X_val,y_val), batch_size=512\n",
    ")"
   ]
  },
  {
   "cell_type": "markdown",
   "id": "df66bfd2",
   "metadata": {
    "papermill": {
     "duration": 0.022465,
     "end_time": "2025-03-18T08:47:09.767124",
     "exception": false,
     "start_time": "2025-03-18T08:47:09.744659",
     "status": "completed"
    },
    "tags": []
   },
   "source": [
    "**Retrive Best Hyperparameters**"
   ]
  },
  {
   "cell_type": "code",
   "execution_count": 54,
   "id": "625d6eb7",
   "metadata": {
    "execution": {
     "iopub.execute_input": "2025-03-18T08:47:09.812061Z",
     "iopub.status.busy": "2025-03-18T08:47:09.811751Z",
     "iopub.status.idle": "2025-03-18T08:47:09.817971Z",
     "shell.execute_reply": "2025-03-18T08:47:09.817288Z"
    },
    "papermill": {
     "duration": 0.030188,
     "end_time": "2025-03-18T08:47:09.819256",
     "exception": false,
     "start_time": "2025-03-18T08:47:09.789068",
     "status": "completed"
    },
    "tags": []
   },
   "outputs": [
    {
     "name": "stdout",
     "output_type": "stream",
     "text": [
      "\n",
      "Best number of units: 480\n",
      "Best number of layers: 4\n",
      "Best learning rate: 0.0028410712033130328\n",
      "\n",
      "No Dropout in layer 0\n",
      "Dropout applied in layer 1 with rate 0.1\n",
      "Dropout applied in layer 2 with rate 0.4\n",
      "Dropout applied in layer 3 with rate 0.30000000000000004\n"
     ]
    }
   ],
   "source": [
    "best_hps = tuner.get_best_hyperparameters(num_trials=1)[0]\n",
    "\n",
    "print(f\"\"\"\n",
    "Best number of units: {best_hps.get('units')}\n",
    "Best number of layers: {best_hps.get('num_layers')}\n",
    "Best learning rate: {best_hps.get('learning_rate')}\n",
    "\"\"\")\n",
    "\n",
    "for i in range(best_hps.get('num_layers')):\n",
    "    if best_hps.get(f'apply_dropout_{i}'):\n",
    "        print(f\"Dropout applied in layer {i} with rate {best_hps.get(f'dropout_{i}')}\")\n",
    "    else:\n",
    "        print(f\"No Dropout in layer {i}\")"
   ]
  },
  {
   "cell_type": "markdown",
   "id": "4c86e85a",
   "metadata": {
    "papermill": {
     "duration": 0.022139,
     "end_time": "2025-03-18T08:47:09.864037",
     "exception": false,
     "start_time": "2025-03-18T08:47:09.841898",
     "status": "completed"
    },
    "tags": []
   },
   "source": [
    "**Train the Best Model**"
   ]
  },
  {
   "cell_type": "code",
   "execution_count": 55,
   "id": "4a7bec68",
   "metadata": {
    "execution": {
     "iopub.execute_input": "2025-03-18T08:47:09.910325Z",
     "iopub.status.busy": "2025-03-18T08:47:09.910022Z",
     "iopub.status.idle": "2025-03-18T08:47:50.017549Z",
     "shell.execute_reply": "2025-03-18T08:47:50.016822Z"
    },
    "papermill": {
     "duration": 40.132236,
     "end_time": "2025-03-18T08:47:50.018891",
     "exception": false,
     "start_time": "2025-03-18T08:47:09.886655",
     "status": "completed"
    },
    "tags": []
   },
   "outputs": [
    {
     "name": "stdout",
     "output_type": "stream",
     "text": [
      "Epoch 1/50\n",
      "\u001b[1m183/183\u001b[0m \u001b[32m━━━━━━━━━━━━━━━━━━━━\u001b[0m\u001b[37m\u001b[0m \u001b[1m10s\u001b[0m 22ms/step - loss: 2293.4517 - r2_score: -3.7613 - val_loss: 357.0254 - val_r2_score: 8.5402e-04\n",
      "Epoch 2/50\n",
      "\u001b[1m183/183\u001b[0m \u001b[32m━━━━━━━━━━━━━━━━━━━━\u001b[0m\u001b[37m\u001b[0m \u001b[1m1s\u001b[0m 3ms/step - loss: 647.9234 - r2_score: 0.0613 - val_loss: 312.3188 - val_r2_score: 0.1260\n",
      "Epoch 3/50\n",
      "\u001b[1m183/183\u001b[0m \u001b[32m━━━━━━━━━━━━━━━━━━━━\u001b[0m\u001b[37m\u001b[0m \u001b[1m1s\u001b[0m 3ms/step - loss: 1064.4945 - r2_score: 0.0521 - val_loss: 297.8680 - val_r2_score: 0.1664\n",
      "Epoch 4/50\n",
      "\u001b[1m183/183\u001b[0m \u001b[32m━━━━━━━━━━━━━━━━━━━━\u001b[0m\u001b[37m\u001b[0m \u001b[1m1s\u001b[0m 3ms/step - loss: 450.2378 - r2_score: 0.1151 - val_loss: 294.2622 - val_r2_score: 0.1765\n",
      "Epoch 5/50\n",
      "\u001b[1m183/183\u001b[0m \u001b[32m━━━━━━━━━━━━━━━━━━━━\u001b[0m\u001b[37m\u001b[0m \u001b[1m1s\u001b[0m 3ms/step - loss: 632.4871 - r2_score: 0.0963 - val_loss: 297.6067 - val_r2_score: 0.1671\n",
      "Epoch 6/50\n",
      "\u001b[1m183/183\u001b[0m \u001b[32m━━━━━━━━━━━━━━━━━━━━\u001b[0m\u001b[37m\u001b[0m \u001b[1m1s\u001b[0m 3ms/step - loss: 833.0921 - r2_score: 0.0781 - val_loss: 288.9323 - val_r2_score: 0.1914\n",
      "Epoch 7/50\n",
      "\u001b[1m183/183\u001b[0m \u001b[32m━━━━━━━━━━━━━━━━━━━━\u001b[0m\u001b[37m\u001b[0m \u001b[1m1s\u001b[0m 3ms/step - loss: 928.0660 - r2_score: 0.0771 - val_loss: 290.3621 - val_r2_score: 0.1874\n",
      "Epoch 8/50\n",
      "\u001b[1m183/183\u001b[0m \u001b[32m━━━━━━━━━━━━━━━━━━━━\u001b[0m\u001b[37m\u001b[0m \u001b[1m1s\u001b[0m 3ms/step - loss: 434.7962 - r2_score: 0.1333 - val_loss: 291.8939 - val_r2_score: 0.1831\n",
      "Epoch 9/50\n",
      "\u001b[1m183/183\u001b[0m \u001b[32m━━━━━━━━━━━━━━━━━━━━\u001b[0m\u001b[37m\u001b[0m \u001b[1m1s\u001b[0m 3ms/step - loss: 832.1028 - r2_score: 0.0848 - val_loss: 286.3973 - val_r2_score: 0.1985\n",
      "Epoch 10/50\n",
      "\u001b[1m183/183\u001b[0m \u001b[32m━━━━━━━━━━━━━━━━━━━━\u001b[0m\u001b[37m\u001b[0m \u001b[1m1s\u001b[0m 3ms/step - loss: 608.5074 - r2_score: 0.1130 - val_loss: 287.6633 - val_r2_score: 0.1950\n",
      "Epoch 11/50\n",
      "\u001b[1m183/183\u001b[0m \u001b[32m━━━━━━━━━━━━━━━━━━━━\u001b[0m\u001b[37m\u001b[0m \u001b[1m1s\u001b[0m 3ms/step - loss: 490.1259 - r2_score: 0.1430 - val_loss: 284.4349 - val_r2_score: 0.2040\n",
      "Epoch 12/50\n",
      "\u001b[1m183/183\u001b[0m \u001b[32m━━━━━━━━━━━━━━━━━━━━\u001b[0m\u001b[37m\u001b[0m \u001b[1m1s\u001b[0m 3ms/step - loss: 1031.3004 - r2_score: 0.0800 - val_loss: 280.7130 - val_r2_score: 0.2144\n",
      "Epoch 13/50\n",
      "\u001b[1m183/183\u001b[0m \u001b[32m━━━━━━━━━━━━━━━━━━━━\u001b[0m\u001b[37m\u001b[0m \u001b[1m1s\u001b[0m 3ms/step - loss: 346.4892 - r2_score: 0.1766 - val_loss: 302.5566 - val_r2_score: 0.1533\n",
      "Epoch 14/50\n",
      "\u001b[1m183/183\u001b[0m \u001b[32m━━━━━━━━━━━━━━━━━━━━\u001b[0m\u001b[37m\u001b[0m \u001b[1m1s\u001b[0m 3ms/step - loss: 354.2969 - r2_score: 0.1731 - val_loss: 286.0703 - val_r2_score: 0.1994\n",
      "Epoch 15/50\n",
      "\u001b[1m183/183\u001b[0m \u001b[32m━━━━━━━━━━━━━━━━━━━━\u001b[0m\u001b[37m\u001b[0m \u001b[1m1s\u001b[0m 3ms/step - loss: 981.8146 - r2_score: 0.0909 - val_loss: 280.8428 - val_r2_score: 0.2141\n",
      "Epoch 16/50\n",
      "\u001b[1m183/183\u001b[0m \u001b[32m━━━━━━━━━━━━━━━━━━━━\u001b[0m\u001b[37m\u001b[0m \u001b[1m1s\u001b[0m 3ms/step - loss: 571.7557 - r2_score: 0.1337 - val_loss: 283.6557 - val_r2_score: 0.2062\n",
      "Epoch 17/50\n",
      "\u001b[1m183/183\u001b[0m \u001b[32m━━━━━━━━━━━━━━━━━━━━\u001b[0m\u001b[37m\u001b[0m \u001b[1m1s\u001b[0m 3ms/step - loss: 554.7456 - r2_score: 0.1448 - val_loss: 280.9016 - val_r2_score: 0.2139\n",
      "Epoch 18/50\n",
      "\u001b[1m183/183\u001b[0m \u001b[32m━━━━━━━━━━━━━━━━━━━━\u001b[0m\u001b[37m\u001b[0m \u001b[1m1s\u001b[0m 3ms/step - loss: 982.3586 - r2_score: 0.0864 - val_loss: 282.5682 - val_r2_score: 0.2092\n",
      "Epoch 19/50\n",
      "\u001b[1m183/183\u001b[0m \u001b[32m━━━━━━━━━━━━━━━━━━━━\u001b[0m\u001b[37m\u001b[0m \u001b[1m1s\u001b[0m 3ms/step - loss: 430.3805 - r2_score: 0.1652 - val_loss: 281.7640 - val_r2_score: 0.2115\n",
      "Epoch 20/50\n",
      "\u001b[1m183/183\u001b[0m \u001b[32m━━━━━━━━━━━━━━━━━━━━\u001b[0m\u001b[37m\u001b[0m \u001b[1m1s\u001b[0m 3ms/step - loss: 840.8027 - r2_score: 0.1059 - val_loss: 278.8199 - val_r2_score: 0.2197\n",
      "Epoch 21/50\n",
      "\u001b[1m183/183\u001b[0m \u001b[32m━━━━━━━━━━━━━━━━━━━━\u001b[0m\u001b[37m\u001b[0m \u001b[1m1s\u001b[0m 3ms/step - loss: 420.1118 - r2_score: 0.1674 - val_loss: 285.5812 - val_r2_score: 0.2008\n",
      "Epoch 22/50\n",
      "\u001b[1m183/183\u001b[0m \u001b[32m━━━━━━━━━━━━━━━━━━━━\u001b[0m\u001b[37m\u001b[0m \u001b[1m1s\u001b[0m 3ms/step - loss: 359.6428 - r2_score: 0.1768 - val_loss: 290.2873 - val_r2_score: 0.1876\n",
      "Epoch 23/50\n",
      "\u001b[1m183/183\u001b[0m \u001b[32m━━━━━━━━━━━━━━━━━━━━\u001b[0m\u001b[37m\u001b[0m \u001b[1m1s\u001b[0m 3ms/step - loss: 1654.3950 - r2_score: 0.0734 - val_loss: 280.0791 - val_r2_score: 0.2162\n",
      "Epoch 24/50\n",
      "\u001b[1m183/183\u001b[0m \u001b[32m━━━━━━━━━━━━━━━━━━━━\u001b[0m\u001b[37m\u001b[0m \u001b[1m1s\u001b[0m 3ms/step - loss: 557.3867 - r2_score: 0.1380 - val_loss: 287.4118 - val_r2_score: 0.1957\n",
      "Epoch 25/50\n",
      "\u001b[1m183/183\u001b[0m \u001b[32m━━━━━━━━━━━━━━━━━━━━\u001b[0m\u001b[37m\u001b[0m \u001b[1m1s\u001b[0m 3ms/step - loss: 486.7155 - r2_score: 0.1539 - val_loss: 284.0861 - val_r2_score: 0.2050\n",
      "Epoch 26/50\n",
      "\u001b[1m183/183\u001b[0m \u001b[32m━━━━━━━━━━━━━━━━━━━━\u001b[0m\u001b[37m\u001b[0m \u001b[1m1s\u001b[0m 3ms/step - loss: 669.2108 - r2_score: 0.1178 - val_loss: 277.9240 - val_r2_score: 0.2222\n",
      "Epoch 27/50\n",
      "\u001b[1m183/183\u001b[0m \u001b[32m━━━━━━━━━━━━━━━━━━━━\u001b[0m\u001b[37m\u001b[0m \u001b[1m1s\u001b[0m 3ms/step - loss: 410.3332 - r2_score: 0.1828 - val_loss: 279.8667 - val_r2_score: 0.2168\n",
      "Epoch 28/50\n",
      "\u001b[1m183/183\u001b[0m \u001b[32m━━━━━━━━━━━━━━━━━━━━\u001b[0m\u001b[37m\u001b[0m \u001b[1m1s\u001b[0m 3ms/step - loss: 375.0909 - r2_score: 0.1924 - val_loss: 285.5471 - val_r2_score: 0.2009\n",
      "Epoch 29/50\n",
      "\u001b[1m183/183\u001b[0m \u001b[32m━━━━━━━━━━━━━━━━━━━━\u001b[0m\u001b[37m\u001b[0m \u001b[1m1s\u001b[0m 3ms/step - loss: 338.7861 - r2_score: 0.1992 - val_loss: 310.1428 - val_r2_score: 0.1321\n",
      "Epoch 30/50\n",
      "\u001b[1m183/183\u001b[0m \u001b[32m━━━━━━━━━━━━━━━━━━━━\u001b[0m\u001b[37m\u001b[0m \u001b[1m1s\u001b[0m 3ms/step - loss: 944.4674 - r2_score: 0.0997 - val_loss: 281.1638 - val_r2_score: 0.2132\n",
      "Epoch 31/50\n",
      "\u001b[1m183/183\u001b[0m \u001b[32m━━━━━━━━━━━━━━━━━━━━\u001b[0m\u001b[37m\u001b[0m \u001b[1m1s\u001b[0m 3ms/step - loss: 780.2509 - r2_score: 0.1097 - val_loss: 277.2440 - val_r2_score: 0.2241\n",
      "Epoch 32/50\n",
      "\u001b[1m183/183\u001b[0m \u001b[32m━━━━━━━━━━━━━━━━━━━━\u001b[0m\u001b[37m\u001b[0m \u001b[1m1s\u001b[0m 3ms/step - loss: 436.8872 - r2_score: 0.1747 - val_loss: 280.6813 - val_r2_score: 0.2145\n",
      "Epoch 33/50\n",
      "\u001b[1m183/183\u001b[0m \u001b[32m━━━━━━━━━━━━━━━━━━━━\u001b[0m\u001b[37m\u001b[0m \u001b[1m1s\u001b[0m 3ms/step - loss: 334.0292 - r2_score: 0.1934 - val_loss: 295.9519 - val_r2_score: 0.1718\n",
      "Epoch 34/50\n",
      "\u001b[1m183/183\u001b[0m \u001b[32m━━━━━━━━━━━━━━━━━━━━\u001b[0m\u001b[37m\u001b[0m \u001b[1m1s\u001b[0m 3ms/step - loss: 951.1041 - r2_score: 0.0972 - val_loss: 279.0164 - val_r2_score: 0.2192\n",
      "Epoch 35/50\n",
      "\u001b[1m183/183\u001b[0m \u001b[32m━━━━━━━━━━━━━━━━━━━━\u001b[0m\u001b[37m\u001b[0m \u001b[1m1s\u001b[0m 3ms/step - loss: 568.4478 - r2_score: 0.1460 - val_loss: 279.3901 - val_r2_score: 0.2181\n",
      "Epoch 36/50\n",
      "\u001b[1m183/183\u001b[0m \u001b[32m━━━━━━━━━━━━━━━━━━━━\u001b[0m\u001b[37m\u001b[0m \u001b[1m1s\u001b[0m 3ms/step - loss: 1126.8855 - r2_score: 0.0870 - val_loss: 278.3774 - val_r2_score: 0.2210\n",
      "Epoch 37/50\n",
      "\u001b[1m183/183\u001b[0m \u001b[32m━━━━━━━━━━━━━━━━━━━━\u001b[0m\u001b[37m\u001b[0m \u001b[1m1s\u001b[0m 3ms/step - loss: 737.6082 - r2_score: 0.1155 - val_loss: 277.0032 - val_r2_score: 0.2248\n",
      "Epoch 38/50\n",
      "\u001b[1m183/183\u001b[0m \u001b[32m━━━━━━━━━━━━━━━━━━━━\u001b[0m\u001b[37m\u001b[0m \u001b[1m1s\u001b[0m 3ms/step - loss: 419.4870 - r2_score: 0.1835 - val_loss: 282.5485 - val_r2_score: 0.2093\n",
      "Epoch 39/50\n",
      "\u001b[1m183/183\u001b[0m \u001b[32m━━━━━━━━━━━━━━━━━━━━\u001b[0m\u001b[37m\u001b[0m \u001b[1m1s\u001b[0m 3ms/step - loss: 1034.4337 - r2_score: 0.0928 - val_loss: 276.2998 - val_r2_score: 0.2268\n",
      "Epoch 40/50\n",
      "\u001b[1m183/183\u001b[0m \u001b[32m━━━━━━━━━━━━━━━━━━━━\u001b[0m\u001b[37m\u001b[0m \u001b[1m1s\u001b[0m 3ms/step - loss: 578.1425 - r2_score: 0.1429 - val_loss: 276.3091 - val_r2_score: 0.2267\n",
      "Epoch 41/50\n",
      "\u001b[1m183/183\u001b[0m \u001b[32m━━━━━━━━━━━━━━━━━━━━\u001b[0m\u001b[37m\u001b[0m \u001b[1m1s\u001b[0m 3ms/step - loss: 573.8600 - r2_score: 0.1481 - val_loss: 280.6185 - val_r2_score: 0.2147\n",
      "Epoch 42/50\n",
      "\u001b[1m183/183\u001b[0m \u001b[32m━━━━━━━━━━━━━━━━━━━━\u001b[0m\u001b[37m\u001b[0m \u001b[1m1s\u001b[0m 3ms/step - loss: 559.9751 - r2_score: 0.1522 - val_loss: 277.8773 - val_r2_score: 0.2224\n",
      "Epoch 43/50\n",
      "\u001b[1m183/183\u001b[0m \u001b[32m━━━━━━━━━━━━━━━━━━━━\u001b[0m\u001b[37m\u001b[0m \u001b[1m1s\u001b[0m 3ms/step - loss: 309.1178 - r2_score: 0.2097 - val_loss: 281.8427 - val_r2_score: 0.2113\n",
      "Epoch 44/50\n",
      "\u001b[1m183/183\u001b[0m \u001b[32m━━━━━━━━━━━━━━━━━━━━\u001b[0m\u001b[37m\u001b[0m \u001b[1m1s\u001b[0m 4ms/step - loss: 840.9540 - r2_score: 0.1083 - val_loss: 284.6131 - val_r2_score: 0.2035\n",
      "Epoch 45/50\n",
      "\u001b[1m183/183\u001b[0m \u001b[32m━━━━━━━━━━━━━━━━━━━━\u001b[0m\u001b[37m\u001b[0m \u001b[1m1s\u001b[0m 3ms/step - loss: 945.6813 - r2_score: 0.0992 - val_loss: 277.2856 - val_r2_score: 0.2240\n",
      "Epoch 46/50\n",
      "\u001b[1m183/183\u001b[0m \u001b[32m━━━━━━━━━━━━━━━━━━━━\u001b[0m\u001b[37m\u001b[0m \u001b[1m1s\u001b[0m 3ms/step - loss: 755.4376 - r2_score: 0.1261 - val_loss: 276.6213 - val_r2_score: 0.2259\n",
      "Epoch 47/50\n",
      "\u001b[1m183/183\u001b[0m \u001b[32m━━━━━━━━━━━━━━━━━━━━\u001b[0m\u001b[37m\u001b[0m \u001b[1m1s\u001b[0m 3ms/step - loss: 352.3574 - r2_score: 0.2130 - val_loss: 280.8559 - val_r2_score: 0.2140\n",
      "Epoch 48/50\n",
      "\u001b[1m183/183\u001b[0m \u001b[32m━━━━━━━━━━━━━━━━━━━━\u001b[0m\u001b[37m\u001b[0m \u001b[1m1s\u001b[0m 3ms/step - loss: 330.5998 - r2_score: 0.2088 - val_loss: 294.5763 - val_r2_score: 0.1756\n",
      "Epoch 49/50\n",
      "\u001b[1m183/183\u001b[0m \u001b[32m━━━━━━━━━━━━━━━━━━━━\u001b[0m\u001b[37m\u001b[0m \u001b[1m1s\u001b[0m 3ms/step - loss: 479.8601 - r2_score: 0.1592 - val_loss: 281.4305 - val_r2_score: 0.2124\n",
      "Epoch 50/50\n",
      "\u001b[1m183/183\u001b[0m \u001b[32m━━━━━━━━━━━━━━━━━━━━\u001b[0m\u001b[37m\u001b[0m \u001b[1m1s\u001b[0m 3ms/step - loss: 598.1041 - r2_score: 0.1426 - val_loss: 280.3079 - val_r2_score: 0.2156\n"
     ]
    }
   ],
   "source": [
    "best_model = tuner.hypermodel.build(best_hps)\n",
    "history = best_model.fit(X_train, y_train, epochs = 50 , batch_size = 512, validation_data = (X_val,y_val))"
   ]
  },
  {
   "cell_type": "markdown",
   "id": "9f83e2f4",
   "metadata": {
    "papermill": {
     "duration": 0.048325,
     "end_time": "2025-03-18T08:47:50.116806",
     "exception": false,
     "start_time": "2025-03-18T08:47:50.068481",
     "status": "completed"
    },
    "tags": []
   },
   "source": [
    "**Final Predictions**"
   ]
  },
  {
   "cell_type": "code",
   "execution_count": 56,
   "id": "a4c651e4",
   "metadata": {
    "execution": {
     "iopub.execute_input": "2025-03-18T08:47:50.223465Z",
     "iopub.status.busy": "2025-03-18T08:47:50.223002Z",
     "iopub.status.idle": "2025-03-18T08:47:53.804160Z",
     "shell.execute_reply": "2025-03-18T08:47:53.803251Z"
    },
    "papermill": {
     "duration": 3.638829,
     "end_time": "2025-03-18T08:47:53.805458",
     "exception": false,
     "start_time": "2025-03-18T08:47:50.166629",
     "status": "completed"
    },
    "tags": []
   },
   "outputs": [
    {
     "name": "stdout",
     "output_type": "stream",
     "text": [
      "\u001b[1m1789/1789\u001b[0m \u001b[32m━━━━━━━━━━━━━━━━━━━━\u001b[0m\u001b[37m\u001b[0m \u001b[1m3s\u001b[0m 1ms/step\n"
     ]
    },
    {
     "data": {
      "text/plain": [
       "array([[59.072086],\n",
       "       [38.17821 ],\n",
       "       [32.701714],\n",
       "       ...,\n",
       "       [51.22157 ],\n",
       "       [44.75637 ],\n",
       "       [87.96792 ]], dtype=float32)"
      ]
     },
     "execution_count": 56,
     "metadata": {},
     "output_type": "execute_result"
    }
   ],
   "source": [
    "y_pred = best_model.predict(X_test)\n",
    "y_pred"
   ]
  },
  {
   "cell_type": "markdown",
   "id": "e6141dec",
   "metadata": {
    "papermill": {
     "duration": 0.049954,
     "end_time": "2025-03-18T08:47:53.907855",
     "exception": false,
     "start_time": "2025-03-18T08:47:53.857901",
     "status": "completed"
    },
    "tags": []
   },
   "source": [
    "## Evaluating Model performance "
   ]
  },
  {
   "cell_type": "markdown",
   "id": "995a13a5",
   "metadata": {
    "papermill": {
     "duration": 0.049846,
     "end_time": "2025-03-18T08:47:54.009931",
     "exception": false,
     "start_time": "2025-03-18T08:47:53.960085",
     "status": "completed"
    },
    "tags": []
   },
   "source": []
  },
  {
   "cell_type": "code",
   "execution_count": 57,
   "id": "33070dc5",
   "metadata": {
    "execution": {
     "iopub.execute_input": "2025-03-18T08:47:54.159855Z",
     "iopub.status.busy": "2025-03-18T08:47:54.159570Z",
     "iopub.status.idle": "2025-03-18T08:47:54.404149Z",
     "shell.execute_reply": "2025-03-18T08:47:54.403302Z"
    },
    "papermill": {
     "duration": 0.34509,
     "end_time": "2025-03-18T08:47:54.405579",
     "exception": false,
     "start_time": "2025-03-18T08:47:54.060489",
     "status": "completed"
    },
    "tags": []
   },
   "outputs": [
    {
     "data": {
      "image/png": "[encoded data removed]",
      "text/plain": [
       "<Figure size 1200x800 with 1 Axes>"
      ]
     },
     "metadata": {},
     "output_type": "display_data"
    }
   ],
   "source": [
    "def plot_history(history, key):\n",
    "    plt.figure(figsize = (12,8))\n",
    "    plt.plot(history.history[key],color = 'seagreen')\n",
    "    plt.plot(history.history['val_'+key],color = '#DB3069' )\n",
    "    plt.xlabel('Epochs')\n",
    "    plt.ylabel(key)\n",
    "    plt.legend([key, 'val_'+key])\n",
    "    plt.show()\n",
    "plot_history(history,'loss')"
   ]
  },
  {
   "cell_type": "markdown",
   "id": "a68e223d",
   "metadata": {
    "papermill": {
     "duration": 0.050083,
     "end_time": "2025-03-18T08:47:54.506539",
     "exception": false,
     "start_time": "2025-03-18T08:47:54.456456",
     "status": "completed"
    },
    "tags": []
   },
   "source": [
    "**Performance Metrics**"
   ]
  },
  {
   "cell_type": "code",
   "execution_count": 58,
   "id": "47c05379",
   "metadata": {
    "execution": {
     "iopub.execute_input": "2025-03-18T08:47:54.608889Z",
     "iopub.status.busy": "2025-03-18T08:47:54.608558Z",
     "iopub.status.idle": "2025-03-18T08:47:54.612680Z",
     "shell.execute_reply": "2025-03-18T08:47:54.611860Z"
    },
    "papermill": {
     "duration": 0.05649,
     "end_time": "2025-03-18T08:47:54.613926",
     "exception": false,
     "start_time": "2025-03-18T08:47:54.557436",
     "status": "completed"
    },
    "tags": []
   },
   "outputs": [],
   "source": [
    "from sklearn.metrics import r2_score\n",
    "\n",
    "def adjusted_r2_score(y_true, y_pred, n, p):\n",
    "    r2 = r2_score(y_true, y_pred)\n",
    "    return 1 - ((1 - r2) * (n - 1) / (n - p - 1))"
   ]
  },
  {
   "cell_type": "code",
   "execution_count": 59,
   "id": "234266fa",
   "metadata": {
    "execution": {
     "iopub.execute_input": "2025-03-18T08:47:54.719458Z",
     "iopub.status.busy": "2025-03-18T08:47:54.719139Z",
     "iopub.status.idle": "2025-03-18T08:47:54.722851Z",
     "shell.execute_reply": "2025-03-18T08:47:54.722019Z"
    },
    "papermill": {
     "duration": 0.056351,
     "end_time": "2025-03-18T08:47:54.724208",
     "exception": false,
     "start_time": "2025-03-18T08:47:54.667857",
     "status": "completed"
    },
    "tags": []
   },
   "outputs": [],
   "source": [
    "n = X_test.shape[0]  # Number of samples\n",
    "p = X_test.shape[1]  # Number of features"
   ]
  },
  {
   "cell_type": "code",
   "execution_count": 60,
   "id": "2cc9e5b9",
   "metadata": {
    "execution": {
     "iopub.execute_input": "2025-03-18T08:47:54.825141Z",
     "iopub.status.busy": "2025-03-18T08:47:54.824827Z",
     "iopub.status.idle": "2025-03-18T08:47:54.836525Z",
     "shell.execute_reply": "2025-03-18T08:47:54.835588Z"
    },
    "papermill": {
     "duration": 0.063486,
     "end_time": "2025-03-18T08:47:54.837838",
     "exception": false,
     "start_time": "2025-03-18T08:47:54.774352",
     "status": "completed"
    },
    "tags": []
   },
   "outputs": [
    {
     "name": "stdout",
     "output_type": "stream",
     "text": [
      "MSE : 352708.61253574694\n",
      "RMSE : 593.8927618145779\n",
      "MAE : 14.314486672359848\n",
      "R2 Score : 0.00018039537232761305\n",
      "Adj R2 Score : -1.1756693695463838e-05\n"
     ]
    }
   ],
   "source": [
    "from sklearn.metrics import mean_squared_error, mean_absolute_error, r2_score\n",
    "print(f'MSE : {mean_squared_error(y_test,y_pred)}')\n",
    "print(f'RMSE : {np.sqrt(mean_squared_error(y_test,y_pred))}')\n",
    "print(f'MAE : {mean_absolute_error(y_test,y_pred)}')\n",
    "print(f'R2 Score : {r2_score(y_test,y_pred)}')\n",
    "print(f'Adj R2 Score : {adjusted_r2_score(y_test,y_pred,n,p)}')\n"
   ]
  }
 ],
 "metadata": {
  "kaggle": {
   "accelerator": "gpu",
   "dataSources": [
    {
     "datasetId": 6826082,
     "sourceId": 10970481,
     "sourceType": "datasetVersion"
    }
   ],
   "dockerImageVersionId": 30919,
   "isGpuEnabled": true,
   "isInternetEnabled": true,
   "language": "python",
   "sourceType": "notebook"
  },
  "kernelspec": {
   "display_name": "Python 3",
   "language": "python",
   "name": "python3"
  },
  "language_info": {
   "codemirror_mode": {
    "name": "ipython",
    "version": 3
   },
   "file_extension": ".py",
   "mimetype": "text/x-python",
   "name": "python",
   "nbconvert_exporter": "python",
   "pygments_lexer": "ipython3",
   "version": "3.10.12"
  },
  "papermill": {
   "default_parameters": {},
   "duration": 914.204044,
   "end_time": "2025-03-18T08:47:58.402884",
   "environment_variables": {},
   "exception": null,
   "input_path": "__notebook__.ipynb",
   "output_path": "__notebook__.ipynb",
   "parameters": {},
   "start_time": "2025-03-18T08:32:44.198840",
   "version": "2.6.0"
  }
 },
 "nbformat": 4,
 "nbformat_minor": 5
}
