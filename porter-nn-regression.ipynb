{
 "cells": [
  {
   "cell_type": "markdown",
   "id": "5ae10270",
   "metadata": {
    "papermill": {
     "duration": 0.008066,
     "end_time": "2025-03-13T13:40:27.805665",
     "exception": false,
     "start_time": "2025-03-13T13:40:27.797599",
     "status": "completed"
    },
    "tags": []
   },
   "source": [
    "# 🏆 About Project "
   ]
  },
  {
   "cell_type": "markdown",
   "id": "154bc959",
   "metadata": {
    "papermill": {
     "duration": 0.006817,
     "end_time": "2025-03-13T13:40:27.819721",
     "exception": false,
     "start_time": "2025-03-13T13:40:27.812904",
     "status": "completed"
    },
    "tags": []
   },
   "source": [
    " **🎯 Objective**\n",
    "\n",
    " Porter is India's Largest Marketplace for Intra-City Logistics. Leader in the country's $40 billion intra-city logistics market, Porter strives to improve the lives of 1,50,000+ driver-partners by providing them with consistent earning & independence. Currently, the company has serviced 5+ million customers\n",
    "\n",
    "Porter works with a wide range of restaurants for delivering their items directly to the people.\n",
    "\n",
    "Porter has a number of delivery partners available for delivering the food, from various restaurants and wants to get an estimated delivery time that it can provide the customers on the basis of what they are ordering, from where and also the delivery partners.\n",
    "\n",
    "This dataset has the required data to train a regression model that will do the delivery time estimation, based on all those features\n",
    "\n"
   ]
  },
  {
   "cell_type": "markdown",
   "id": "11aa67b9",
   "metadata": {
    "papermill": {
     "duration": 0.007667,
     "end_time": "2025-03-13T13:40:27.834237",
     "exception": false,
     "start_time": "2025-03-13T13:40:27.826570",
     "status": "completed"
    },
    "tags": []
   },
   "source": [
    "**📅 Data Dictionary**\n",
    "\n",
    "Each row in this file corresponds to one unique delivery. Each column corresponds to a feature as explained below.\n",
    "\n",
    "- market_id : integer id for the market where the restaurant lies\n",
    "- created_at : the timestamp at which the order was placed\n",
    "- actual_delivery_time : the timestamp when the order was delivered\n",
    "- store_primary_category : category for the restaurant\n",
    "- order_protocol : integer code value for order protocol(how the order was placed ie: through porter, call to restaurant, pre booked, third part etc)\n",
    "- total_items subtotal : final price of the order\n",
    "- num_distinct_items : the number of distinct items in the order\n",
    "- min_item_price : price of the cheapest item in the order\n",
    "- max_item_price : price of the costliest item in order\n",
    "- total_onshift_partners : number of delivery partners on duty at the time order was placed\n",
    "- total_busy_partners : number of delivery partners attending to other tasks\n",
    "- total_outstanding_orders : total number of orders to be fulfilled at the moment"
   ]
  },
  {
   "cell_type": "markdown",
   "id": "4268d41a",
   "metadata": {
    "papermill": {
     "duration": 0.00679,
     "end_time": "2025-03-13T13:40:27.848160",
     "exception": false,
     "start_time": "2025-03-13T13:40:27.841370",
     "status": "completed"
    },
    "tags": []
   },
   "source": [
    "# 🚀 Let's Get Started"
   ]
  },
  {
   "cell_type": "markdown",
   "id": "30063136",
   "metadata": {
    "papermill": {
     "duration": 0.006937,
     "end_time": "2025-03-13T13:40:27.862085",
     "exception": false,
     "start_time": "2025-03-13T13:40:27.855148",
     "status": "completed"
    },
    "tags": []
   },
   "source": [
    "##  📚 Importing Libraries"
   ]
  },
  {
   "cell_type": "code",
   "execution_count": 1,
   "id": "9a7e2a7f",
   "metadata": {
    "execution": {
     "iopub.execute_input": "2025-03-13T13:40:27.876941Z",
     "iopub.status.busy": "2025-03-13T13:40:27.876625Z",
     "iopub.status.idle": "2025-03-13T13:40:30.793725Z",
     "shell.execute_reply": "2025-03-13T13:40:30.792964Z"
    },
    "papermill": {
     "duration": 2.926453,
     "end_time": "2025-03-13T13:40:30.795387",
     "exception": false,
     "start_time": "2025-03-13T13:40:27.868934",
     "status": "completed"
    },
    "tags": []
   },
   "outputs": [],
   "source": [
    "import numpy as np \n",
    "import pandas as pd \n",
    "import matplotlib.pyplot as plt\n",
    "import seaborn as sns\n",
    "import plotly.graph_objs as go\n",
    "import plotly.subplots as sp\n",
    "from plotly.subplots import make_subplots\n",
    "import plotly.express as px\n",
    "import warnings\n",
    "import time\n",
    "warnings.filterwarnings(\"ignore\")"
   ]
  },
  {
   "cell_type": "markdown",
   "id": "d22f10b8",
   "metadata": {
    "papermill": {
     "duration": 0.007161,
     "end_time": "2025-03-13T13:40:30.810588",
     "exception": false,
     "start_time": "2025-03-13T13:40:30.803427",
     "status": "completed"
    },
    "tags": []
   },
   "source": [
    "## 📅 Importing Dataset"
   ]
  },
  {
   "cell_type": "code",
   "execution_count": 2,
   "id": "513cf201",
   "metadata": {
    "execution": {
     "iopub.execute_input": "2025-03-13T13:40:30.830282Z",
     "iopub.status.busy": "2025-03-13T13:40:30.829680Z",
     "iopub.status.idle": "2025-03-13T13:40:31.753608Z",
     "shell.execute_reply": "2025-03-13T13:40:31.752686Z"
    },
    "papermill": {
     "duration": 0.936203,
     "end_time": "2025-03-13T13:40:31.755155",
     "exception": false,
     "start_time": "2025-03-13T13:40:30.818952",
     "status": "completed"
    },
    "tags": []
   },
   "outputs": [
    {
     "data": {
      "text/html": [
       "<div>\n",
       "<style scoped>\n",
       "    .dataframe tbody tr th:only-of-type {\n",
       "        vertical-align: middle;\n",
       "    }\n",
       "\n",
       "    .dataframe tbody tr th {\n",
       "        vertical-align: top;\n",
       "    }\n",
       "\n",
       "    .dataframe thead th {\n",
       "        text-align: right;\n",
       "    }\n",
       "</style>\n",
       "<table border=\"1\" class=\"dataframe\">\n",
       "  <thead>\n",
       "    <tr style=\"text-align: right;\">\n",
       "      <th></th>\n",
       "      <th>market_id</th>\n",
       "      <th>created_at</th>\n",
       "      <th>actual_delivery_time</th>\n",
       "      <th>store_id</th>\n",
       "      <th>store_primary_category</th>\n",
       "      <th>order_protocol</th>\n",
       "      <th>total_items</th>\n",
       "      <th>subtotal</th>\n",
       "      <th>num_distinct_items</th>\n",
       "      <th>min_item_price</th>\n",
       "      <th>max_item_price</th>\n",
       "      <th>total_onshift_partners</th>\n",
       "      <th>total_busy_partners</th>\n",
       "      <th>total_outstanding_orders</th>\n",
       "    </tr>\n",
       "  </thead>\n",
       "  <tbody>\n",
       "    <tr>\n",
       "      <th>0</th>\n",
       "      <td>1.0</td>\n",
       "      <td>2015-02-06 22:24:17</td>\n",
       "      <td>2015-02-06 23:27:16</td>\n",
       "      <td>df263d996281d984952c07998dc54358</td>\n",
       "      <td>american</td>\n",
       "      <td>1.0</td>\n",
       "      <td>4</td>\n",
       "      <td>3441</td>\n",
       "      <td>4</td>\n",
       "      <td>557</td>\n",
       "      <td>1239</td>\n",
       "      <td>33.0</td>\n",
       "      <td>14.0</td>\n",
       "      <td>21.0</td>\n",
       "    </tr>\n",
       "    <tr>\n",
       "      <th>1</th>\n",
       "      <td>2.0</td>\n",
       "      <td>2015-02-10 21:49:25</td>\n",
       "      <td>2015-02-10 22:56:29</td>\n",
       "      <td>f0ade77b43923b38237db569b016ba25</td>\n",
       "      <td>mexican</td>\n",
       "      <td>2.0</td>\n",
       "      <td>1</td>\n",
       "      <td>1900</td>\n",
       "      <td>1</td>\n",
       "      <td>1400</td>\n",
       "      <td>1400</td>\n",
       "      <td>1.0</td>\n",
       "      <td>2.0</td>\n",
       "      <td>2.0</td>\n",
       "    </tr>\n",
       "    <tr>\n",
       "      <th>2</th>\n",
       "      <td>3.0</td>\n",
       "      <td>2015-01-22 20:39:28</td>\n",
       "      <td>2015-01-22 21:09:09</td>\n",
       "      <td>f0ade77b43923b38237db569b016ba25</td>\n",
       "      <td>NaN</td>\n",
       "      <td>1.0</td>\n",
       "      <td>1</td>\n",
       "      <td>1900</td>\n",
       "      <td>1</td>\n",
       "      <td>1900</td>\n",
       "      <td>1900</td>\n",
       "      <td>1.0</td>\n",
       "      <td>0.0</td>\n",
       "      <td>0.0</td>\n",
       "    </tr>\n",
       "    <tr>\n",
       "      <th>3</th>\n",
       "      <td>3.0</td>\n",
       "      <td>2015-02-03 21:21:45</td>\n",
       "      <td>2015-02-03 22:13:00</td>\n",
       "      <td>f0ade77b43923b38237db569b016ba25</td>\n",
       "      <td>NaN</td>\n",
       "      <td>1.0</td>\n",
       "      <td>6</td>\n",
       "      <td>6900</td>\n",
       "      <td>5</td>\n",
       "      <td>600</td>\n",
       "      <td>1800</td>\n",
       "      <td>1.0</td>\n",
       "      <td>1.0</td>\n",
       "      <td>2.0</td>\n",
       "    </tr>\n",
       "    <tr>\n",
       "      <th>4</th>\n",
       "      <td>3.0</td>\n",
       "      <td>2015-02-15 02:40:36</td>\n",
       "      <td>2015-02-15 03:20:26</td>\n",
       "      <td>f0ade77b43923b38237db569b016ba25</td>\n",
       "      <td>NaN</td>\n",
       "      <td>1.0</td>\n",
       "      <td>3</td>\n",
       "      <td>3900</td>\n",
       "      <td>3</td>\n",
       "      <td>1100</td>\n",
       "      <td>1600</td>\n",
       "      <td>6.0</td>\n",
       "      <td>6.0</td>\n",
       "      <td>9.0</td>\n",
       "    </tr>\n",
       "    <tr>\n",
       "      <th>...</th>\n",
       "      <td>...</td>\n",
       "      <td>...</td>\n",
       "      <td>...</td>\n",
       "      <td>...</td>\n",
       "      <td>...</td>\n",
       "      <td>...</td>\n",
       "      <td>...</td>\n",
       "      <td>...</td>\n",
       "      <td>...</td>\n",
       "      <td>...</td>\n",
       "      <td>...</td>\n",
       "      <td>...</td>\n",
       "      <td>...</td>\n",
       "      <td>...</td>\n",
       "    </tr>\n",
       "    <tr>\n",
       "      <th>197423</th>\n",
       "      <td>1.0</td>\n",
       "      <td>2015-02-17 00:19:41</td>\n",
       "      <td>2015-02-17 01:24:48</td>\n",
       "      <td>a914ecef9c12ffdb9bede64bb703d877</td>\n",
       "      <td>fast</td>\n",
       "      <td>4.0</td>\n",
       "      <td>3</td>\n",
       "      <td>1389</td>\n",
       "      <td>3</td>\n",
       "      <td>345</td>\n",
       "      <td>649</td>\n",
       "      <td>17.0</td>\n",
       "      <td>17.0</td>\n",
       "      <td>23.0</td>\n",
       "    </tr>\n",
       "    <tr>\n",
       "      <th>197424</th>\n",
       "      <td>1.0</td>\n",
       "      <td>2015-02-13 00:01:59</td>\n",
       "      <td>2015-02-13 00:58:22</td>\n",
       "      <td>a914ecef9c12ffdb9bede64bb703d877</td>\n",
       "      <td>fast</td>\n",
       "      <td>4.0</td>\n",
       "      <td>6</td>\n",
       "      <td>3010</td>\n",
       "      <td>4</td>\n",
       "      <td>405</td>\n",
       "      <td>825</td>\n",
       "      <td>12.0</td>\n",
       "      <td>11.0</td>\n",
       "      <td>14.0</td>\n",
       "    </tr>\n",
       "    <tr>\n",
       "      <th>197425</th>\n",
       "      <td>1.0</td>\n",
       "      <td>2015-01-24 04:46:08</td>\n",
       "      <td>2015-01-24 05:36:16</td>\n",
       "      <td>a914ecef9c12ffdb9bede64bb703d877</td>\n",
       "      <td>fast</td>\n",
       "      <td>4.0</td>\n",
       "      <td>5</td>\n",
       "      <td>1836</td>\n",
       "      <td>3</td>\n",
       "      <td>300</td>\n",
       "      <td>399</td>\n",
       "      <td>39.0</td>\n",
       "      <td>41.0</td>\n",
       "      <td>40.0</td>\n",
       "    </tr>\n",
       "    <tr>\n",
       "      <th>197426</th>\n",
       "      <td>1.0</td>\n",
       "      <td>2015-02-01 18:18:15</td>\n",
       "      <td>2015-02-01 19:23:22</td>\n",
       "      <td>c81e155d85dae5430a8cee6f2242e82c</td>\n",
       "      <td>sandwich</td>\n",
       "      <td>1.0</td>\n",
       "      <td>1</td>\n",
       "      <td>1175</td>\n",
       "      <td>1</td>\n",
       "      <td>535</td>\n",
       "      <td>535</td>\n",
       "      <td>7.0</td>\n",
       "      <td>7.0</td>\n",
       "      <td>12.0</td>\n",
       "    </tr>\n",
       "    <tr>\n",
       "      <th>197427</th>\n",
       "      <td>1.0</td>\n",
       "      <td>2015-02-08 19:24:33</td>\n",
       "      <td>2015-02-08 20:01:41</td>\n",
       "      <td>c81e155d85dae5430a8cee6f2242e82c</td>\n",
       "      <td>sandwich</td>\n",
       "      <td>1.0</td>\n",
       "      <td>4</td>\n",
       "      <td>2605</td>\n",
       "      <td>4</td>\n",
       "      <td>425</td>\n",
       "      <td>750</td>\n",
       "      <td>20.0</td>\n",
       "      <td>20.0</td>\n",
       "      <td>23.0</td>\n",
       "    </tr>\n",
       "  </tbody>\n",
       "</table>\n",
       "<p>197428 rows × 14 columns</p>\n",
       "</div>"
      ],
      "text/plain": [
       "        market_id           created_at actual_delivery_time  \\\n",
       "0             1.0  2015-02-06 22:24:17  2015-02-06 23:27:16   \n",
       "1             2.0  2015-02-10 21:49:25  2015-02-10 22:56:29   \n",
       "2             3.0  2015-01-22 20:39:28  2015-01-22 21:09:09   \n",
       "3             3.0  2015-02-03 21:21:45  2015-02-03 22:13:00   \n",
       "4             3.0  2015-02-15 02:40:36  2015-02-15 03:20:26   \n",
       "...           ...                  ...                  ...   \n",
       "197423        1.0  2015-02-17 00:19:41  2015-02-17 01:24:48   \n",
       "197424        1.0  2015-02-13 00:01:59  2015-02-13 00:58:22   \n",
       "197425        1.0  2015-01-24 04:46:08  2015-01-24 05:36:16   \n",
       "197426        1.0  2015-02-01 18:18:15  2015-02-01 19:23:22   \n",
       "197427        1.0  2015-02-08 19:24:33  2015-02-08 20:01:41   \n",
       "\n",
       "                                store_id store_primary_category  \\\n",
       "0       df263d996281d984952c07998dc54358               american   \n",
       "1       f0ade77b43923b38237db569b016ba25                mexican   \n",
       "2       f0ade77b43923b38237db569b016ba25                    NaN   \n",
       "3       f0ade77b43923b38237db569b016ba25                    NaN   \n",
       "4       f0ade77b43923b38237db569b016ba25                    NaN   \n",
       "...                                  ...                    ...   \n",
       "197423  a914ecef9c12ffdb9bede64bb703d877                   fast   \n",
       "197424  a914ecef9c12ffdb9bede64bb703d877                   fast   \n",
       "197425  a914ecef9c12ffdb9bede64bb703d877                   fast   \n",
       "197426  c81e155d85dae5430a8cee6f2242e82c               sandwich   \n",
       "197427  c81e155d85dae5430a8cee6f2242e82c               sandwich   \n",
       "\n",
       "        order_protocol  total_items  subtotal  num_distinct_items  \\\n",
       "0                  1.0            4      3441                   4   \n",
       "1                  2.0            1      1900                   1   \n",
       "2                  1.0            1      1900                   1   \n",
       "3                  1.0            6      6900                   5   \n",
       "4                  1.0            3      3900                   3   \n",
       "...                ...          ...       ...                 ...   \n",
       "197423             4.0            3      1389                   3   \n",
       "197424             4.0            6      3010                   4   \n",
       "197425             4.0            5      1836                   3   \n",
       "197426             1.0            1      1175                   1   \n",
       "197427             1.0            4      2605                   4   \n",
       "\n",
       "        min_item_price  max_item_price  total_onshift_partners  \\\n",
       "0                  557            1239                    33.0   \n",
       "1                 1400            1400                     1.0   \n",
       "2                 1900            1900                     1.0   \n",
       "3                  600            1800                     1.0   \n",
       "4                 1100            1600                     6.0   \n",
       "...                ...             ...                     ...   \n",
       "197423             345             649                    17.0   \n",
       "197424             405             825                    12.0   \n",
       "197425             300             399                    39.0   \n",
       "197426             535             535                     7.0   \n",
       "197427             425             750                    20.0   \n",
       "\n",
       "        total_busy_partners  total_outstanding_orders  \n",
       "0                      14.0                      21.0  \n",
       "1                       2.0                       2.0  \n",
       "2                       0.0                       0.0  \n",
       "3                       1.0                       2.0  \n",
       "4                       6.0                       9.0  \n",
       "...                     ...                       ...  \n",
       "197423                 17.0                      23.0  \n",
       "197424                 11.0                      14.0  \n",
       "197425                 41.0                      40.0  \n",
       "197426                  7.0                      12.0  \n",
       "197427                 20.0                      23.0  \n",
       "\n",
       "[197428 rows x 14 columns]"
      ]
     },
     "execution_count": 2,
     "metadata": {},
     "output_type": "execute_result"
    }
   ],
   "source": [
    "df = pd.read_csv('/kaggle/input/porter-dataset/dataset.csv')\n",
    "df"
   ]
  },
  {
   "cell_type": "markdown",
   "id": "88d12684",
   "metadata": {
    "papermill": {
     "duration": 0.007322,
     "end_time": "2025-03-13T13:40:31.770439",
     "exception": false,
     "start_time": "2025-03-13T13:40:31.763117",
     "status": "completed"
    },
    "tags": []
   },
   "source": [
    "## 🎨 Custom Color Palette "
   ]
  },
  {
   "cell_type": "code",
   "execution_count": 3,
   "id": "af82996c",
   "metadata": {
    "execution": {
     "iopub.execute_input": "2025-03-13T13:40:31.785890Z",
     "iopub.status.busy": "2025-03-13T13:40:31.785621Z",
     "iopub.status.idle": "2025-03-13T13:40:31.789528Z",
     "shell.execute_reply": "2025-03-13T13:40:31.788643Z"
    },
    "papermill": {
     "duration": 0.013146,
     "end_time": "2025-03-13T13:40:31.790826",
     "exception": false,
     "start_time": "2025-03-13T13:40:31.777680",
     "status": "completed"
    },
    "tags": []
   },
   "outputs": [],
   "source": [
    "def custom_palette(custom_colors):\n",
    "    customPalette = sns.set_palette(sns.color_palette(custom_colors))\n",
    "    sns.palplot =  sns.palplot(sns.color_palette(custom_colors),size=0.8)\n",
    "    plt.tick_params(axis = 'both', labelsize = 0, length = 0)"
   ]
  },
  {
   "cell_type": "code",
   "execution_count": 4,
   "id": "1d92b95f",
   "metadata": {
    "execution": {
     "iopub.execute_input": "2025-03-13T13:40:31.806325Z",
     "iopub.status.busy": "2025-03-13T13:40:31.806041Z",
     "iopub.status.idle": "2025-03-13T13:40:31.945162Z",
     "shell.execute_reply": "2025-03-13T13:40:31.944444Z"
    },
    "papermill": {
     "duration": 0.148548,
     "end_time": "2025-03-13T13:40:31.946568",
     "exception": false,
     "start_time": "2025-03-13T13:40:31.798020",
     "status": "completed"
    },
    "tags": []
   },
   "outputs": [
    {
     "data": {
      "image/png": "[encoded data removed]",
      "text/plain": [
       "<Figure size 880x80 with 1 Axes>"
      ]
     },
     "metadata": {},
     "output_type": "display_data"
    }
   ],
   "source": [
    "#defining colour palette\n",
    "red = [\"#4f000b\",\"#720026\",\"#ce4257\",\"#ff7f51\",\"#ff9b54\"]\n",
    "bo = [\"#6930c3\",\"#5e60ce\",\"#0096c7\",\"#48cae4\",\"#ade8f4\",\"#ff7f51\",\"#ff9b54\",\"#ffbf69\"]\n",
    "pink = [\"#aa4465\",\"#dd2d4a\",\"#f26a8d\",\"#f49cbb\",\"#ffcbf2\",\"#e2afff\",\"#ff86c8\",\"#ffa3a5\",\"#ffbf81\",\"#e9b827\",\"#f9e576\"]\n",
    "custom_palette(pink)"
   ]
  },
  {
   "cell_type": "markdown",
   "id": "bd2c9233",
   "metadata": {
    "papermill": {
     "duration": 0.007383,
     "end_time": "2025-03-13T13:40:31.961763",
     "exception": false,
     "start_time": "2025-03-13T13:40:31.954380",
     "status": "completed"
    },
    "tags": []
   },
   "source": [
    "##  💹 Basic Analysis"
   ]
  },
  {
   "cell_type": "markdown",
   "id": "da8c5ce1",
   "metadata": {
    "papermill": {
     "duration": 0.007405,
     "end_time": "2025-03-13T13:40:31.976481",
     "exception": false,
     "start_time": "2025-03-13T13:40:31.969076",
     "status": "completed"
    },
    "tags": []
   },
   "source": [
    "**Shape of the Data**"
   ]
  },
  {
   "cell_type": "code",
   "execution_count": 5,
   "id": "352277a1",
   "metadata": {
    "execution": {
     "iopub.execute_input": "2025-03-13T13:40:31.992743Z",
     "iopub.status.busy": "2025-03-13T13:40:31.992487Z",
     "iopub.status.idle": "2025-03-13T13:40:31.996788Z",
     "shell.execute_reply": "2025-03-13T13:40:31.996170Z"
    },
    "papermill": {
     "duration": 0.013626,
     "end_time": "2025-03-13T13:40:31.998031",
     "exception": false,
     "start_time": "2025-03-13T13:40:31.984405",
     "status": "completed"
    },
    "tags": []
   },
   "outputs": [
    {
     "data": {
      "text/plain": [
       "(197428, 14)"
      ]
     },
     "execution_count": 5,
     "metadata": {},
     "output_type": "execute_result"
    }
   ],
   "source": [
    "df.shape"
   ]
  },
  {
   "cell_type": "markdown",
   "id": "8bfec9b5",
   "metadata": {
    "papermill": {
     "duration": 0.007421,
     "end_time": "2025-03-13T13:40:32.013318",
     "exception": false,
     "start_time": "2025-03-13T13:40:32.005897",
     "status": "completed"
    },
    "tags": []
   },
   "source": [
    "**Inference**:\n",
    "\n",
    "- Shape of dataframe is 197428 * 14\n",
    "- Number of rows = 197428\n",
    "- Number of columns = 14"
   ]
  },
  {
   "cell_type": "markdown",
   "id": "1be873a0",
   "metadata": {
    "papermill": {
     "duration": 0.00739,
     "end_time": "2025-03-13T13:40:32.028386",
     "exception": false,
     "start_time": "2025-03-13T13:40:32.020996",
     "status": "completed"
    },
    "tags": []
   },
   "source": [
    "**First 5 Rows**"
   ]
  },
  {
   "cell_type": "code",
   "execution_count": 6,
   "id": "12085cda",
   "metadata": {
    "execution": {
     "iopub.execute_input": "2025-03-13T13:40:32.044486Z",
     "iopub.status.busy": "2025-03-13T13:40:32.044176Z",
     "iopub.status.idle": "2025-03-13T13:40:32.058202Z",
     "shell.execute_reply": "2025-03-13T13:40:32.057304Z"
    },
    "papermill": {
     "duration": 0.023528,
     "end_time": "2025-03-13T13:40:32.059532",
     "exception": false,
     "start_time": "2025-03-13T13:40:32.036004",
     "status": "completed"
    },
    "tags": []
   },
   "outputs": [
    {
     "data": {
      "text/html": [
       "<div>\n",
       "<style scoped>\n",
       "    .dataframe tbody tr th:only-of-type {\n",
       "        vertical-align: middle;\n",
       "    }\n",
       "\n",
       "    .dataframe tbody tr th {\n",
       "        vertical-align: top;\n",
       "    }\n",
       "\n",
       "    .dataframe thead th {\n",
       "        text-align: right;\n",
       "    }\n",
       "</style>\n",
       "<table border=\"1\" class=\"dataframe\">\n",
       "  <thead>\n",
       "    <tr style=\"text-align: right;\">\n",
       "      <th></th>\n",
       "      <th>market_id</th>\n",
       "      <th>created_at</th>\n",
       "      <th>actual_delivery_time</th>\n",
       "      <th>store_id</th>\n",
       "      <th>store_primary_category</th>\n",
       "      <th>order_protocol</th>\n",
       "      <th>total_items</th>\n",
       "      <th>subtotal</th>\n",
       "      <th>num_distinct_items</th>\n",
       "      <th>min_item_price</th>\n",
       "      <th>max_item_price</th>\n",
       "      <th>total_onshift_partners</th>\n",
       "      <th>total_busy_partners</th>\n",
       "      <th>total_outstanding_orders</th>\n",
       "    </tr>\n",
       "  </thead>\n",
       "  <tbody>\n",
       "    <tr>\n",
       "      <th>0</th>\n",
       "      <td>1.0</td>\n",
       "      <td>2015-02-06 22:24:17</td>\n",
       "      <td>2015-02-06 23:27:16</td>\n",
       "      <td>df263d996281d984952c07998dc54358</td>\n",
       "      <td>american</td>\n",
       "      <td>1.0</td>\n",
       "      <td>4</td>\n",
       "      <td>3441</td>\n",
       "      <td>4</td>\n",
       "      <td>557</td>\n",
       "      <td>1239</td>\n",
       "      <td>33.0</td>\n",
       "      <td>14.0</td>\n",
       "      <td>21.0</td>\n",
       "    </tr>\n",
       "    <tr>\n",
       "      <th>1</th>\n",
       "      <td>2.0</td>\n",
       "      <td>2015-02-10 21:49:25</td>\n",
       "      <td>2015-02-10 22:56:29</td>\n",
       "      <td>f0ade77b43923b38237db569b016ba25</td>\n",
       "      <td>mexican</td>\n",
       "      <td>2.0</td>\n",
       "      <td>1</td>\n",
       "      <td>1900</td>\n",
       "      <td>1</td>\n",
       "      <td>1400</td>\n",
       "      <td>1400</td>\n",
       "      <td>1.0</td>\n",
       "      <td>2.0</td>\n",
       "      <td>2.0</td>\n",
       "    </tr>\n",
       "    <tr>\n",
       "      <th>2</th>\n",
       "      <td>3.0</td>\n",
       "      <td>2015-01-22 20:39:28</td>\n",
       "      <td>2015-01-22 21:09:09</td>\n",
       "      <td>f0ade77b43923b38237db569b016ba25</td>\n",
       "      <td>NaN</td>\n",
       "      <td>1.0</td>\n",
       "      <td>1</td>\n",
       "      <td>1900</td>\n",
       "      <td>1</td>\n",
       "      <td>1900</td>\n",
       "      <td>1900</td>\n",
       "      <td>1.0</td>\n",
       "      <td>0.0</td>\n",
       "      <td>0.0</td>\n",
       "    </tr>\n",
       "    <tr>\n",
       "      <th>3</th>\n",
       "      <td>3.0</td>\n",
       "      <td>2015-02-03 21:21:45</td>\n",
       "      <td>2015-02-03 22:13:00</td>\n",
       "      <td>f0ade77b43923b38237db569b016ba25</td>\n",
       "      <td>NaN</td>\n",
       "      <td>1.0</td>\n",
       "      <td>6</td>\n",
       "      <td>6900</td>\n",
       "      <td>5</td>\n",
       "      <td>600</td>\n",
       "      <td>1800</td>\n",
       "      <td>1.0</td>\n",
       "      <td>1.0</td>\n",
       "      <td>2.0</td>\n",
       "    </tr>\n",
       "    <tr>\n",
       "      <th>4</th>\n",
       "      <td>3.0</td>\n",
       "      <td>2015-02-15 02:40:36</td>\n",
       "      <td>2015-02-15 03:20:26</td>\n",
       "      <td>f0ade77b43923b38237db569b016ba25</td>\n",
       "      <td>NaN</td>\n",
       "      <td>1.0</td>\n",
       "      <td>3</td>\n",
       "      <td>3900</td>\n",
       "      <td>3</td>\n",
       "      <td>1100</td>\n",
       "      <td>1600</td>\n",
       "      <td>6.0</td>\n",
       "      <td>6.0</td>\n",
       "      <td>9.0</td>\n",
       "    </tr>\n",
       "  </tbody>\n",
       "</table>\n",
       "</div>"
      ],
      "text/plain": [
       "   market_id           created_at actual_delivery_time  \\\n",
       "0        1.0  2015-02-06 22:24:17  2015-02-06 23:27:16   \n",
       "1        2.0  2015-02-10 21:49:25  2015-02-10 22:56:29   \n",
       "2        3.0  2015-01-22 20:39:28  2015-01-22 21:09:09   \n",
       "3        3.0  2015-02-03 21:21:45  2015-02-03 22:13:00   \n",
       "4        3.0  2015-02-15 02:40:36  2015-02-15 03:20:26   \n",
       "\n",
       "                           store_id store_primary_category  order_protocol  \\\n",
       "0  df263d996281d984952c07998dc54358               american             1.0   \n",
       "1  f0ade77b43923b38237db569b016ba25                mexican             2.0   \n",
       "2  f0ade77b43923b38237db569b016ba25                    NaN             1.0   \n",
       "3  f0ade77b43923b38237db569b016ba25                    NaN             1.0   \n",
       "4  f0ade77b43923b38237db569b016ba25                    NaN             1.0   \n",
       "\n",
       "   total_items  subtotal  num_distinct_items  min_item_price  max_item_price  \\\n",
       "0            4      3441                   4             557            1239   \n",
       "1            1      1900                   1            1400            1400   \n",
       "2            1      1900                   1            1900            1900   \n",
       "3            6      6900                   5             600            1800   \n",
       "4            3      3900                   3            1100            1600   \n",
       "\n",
       "   total_onshift_partners  total_busy_partners  total_outstanding_orders  \n",
       "0                    33.0                 14.0                      21.0  \n",
       "1                     1.0                  2.0                       2.0  \n",
       "2                     1.0                  0.0                       0.0  \n",
       "3                     1.0                  1.0                       2.0  \n",
       "4                     6.0                  6.0                       9.0  "
      ]
     },
     "execution_count": 6,
     "metadata": {},
     "output_type": "execute_result"
    }
   ],
   "source": [
    "df.head()"
   ]
  },
  {
   "cell_type": "markdown",
   "id": "aec3486f",
   "metadata": {
    "papermill": {
     "duration": 0.007604,
     "end_time": "2025-03-13T13:40:32.075250",
     "exception": false,
     "start_time": "2025-03-13T13:40:32.067646",
     "status": "completed"
    },
    "tags": []
   },
   "source": [
    "**Columns in a Dataframe**"
   ]
  },
  {
   "cell_type": "code",
   "execution_count": 7,
   "id": "cbc18fe9",
   "metadata": {
    "execution": {
     "iopub.execute_input": "2025-03-13T13:40:32.091657Z",
     "iopub.status.busy": "2025-03-13T13:40:32.091440Z",
     "iopub.status.idle": "2025-03-13T13:40:32.095732Z",
     "shell.execute_reply": "2025-03-13T13:40:32.095039Z"
    },
    "papermill": {
     "duration": 0.014001,
     "end_time": "2025-03-13T13:40:32.096939",
     "exception": false,
     "start_time": "2025-03-13T13:40:32.082938",
     "status": "completed"
    },
    "tags": []
   },
   "outputs": [
    {
     "data": {
      "text/plain": [
       "Index(['market_id', 'created_at', 'actual_delivery_time', 'store_id',\n",
       "       'store_primary_category', 'order_protocol', 'total_items', 'subtotal',\n",
       "       'num_distinct_items', 'min_item_price', 'max_item_price',\n",
       "       'total_onshift_partners', 'total_busy_partners',\n",
       "       'total_outstanding_orders'],\n",
       "      dtype='object')"
      ]
     },
     "execution_count": 7,
     "metadata": {},
     "output_type": "execute_result"
    }
   ],
   "source": [
    "df.columns"
   ]
  },
  {
   "cell_type": "markdown",
   "id": "3be1384b",
   "metadata": {
    "papermill": {
     "duration": 0.00753,
     "end_time": "2025-03-13T13:40:32.112405",
     "exception": false,
     "start_time": "2025-03-13T13:40:32.104875",
     "status": "completed"
    },
    "tags": []
   },
   "source": [
    "**Concise Summary**"
   ]
  },
  {
   "cell_type": "code",
   "execution_count": 8,
   "id": "2c0f1391",
   "metadata": {
    "execution": {
     "iopub.execute_input": "2025-03-13T13:40:32.128951Z",
     "iopub.status.busy": "2025-03-13T13:40:32.128705Z",
     "iopub.status.idle": "2025-03-13T13:40:32.202355Z",
     "shell.execute_reply": "2025-03-13T13:40:32.201255Z"
    },
    "papermill": {
     "duration": 0.083286,
     "end_time": "2025-03-13T13:40:32.203668",
     "exception": false,
     "start_time": "2025-03-13T13:40:32.120382",
     "status": "completed"
    },
    "tags": []
   },
   "outputs": [
    {
     "name": "stdout",
     "output_type": "stream",
     "text": [
      "<class 'pandas.core.frame.DataFrame'>\n",
      "RangeIndex: 197428 entries, 0 to 197427\n",
      "Data columns (total 14 columns):\n",
      " #   Column                    Non-Null Count   Dtype  \n",
      "---  ------                    --------------   -----  \n",
      " 0   market_id                 196441 non-null  float64\n",
      " 1   created_at                197428 non-null  object \n",
      " 2   actual_delivery_time      197421 non-null  object \n",
      " 3   store_id                  197428 non-null  object \n",
      " 4   store_primary_category    192668 non-null  object \n",
      " 5   order_protocol            196433 non-null  float64\n",
      " 6   total_items               197428 non-null  int64  \n",
      " 7   subtotal                  197428 non-null  int64  \n",
      " 8   num_distinct_items        197428 non-null  int64  \n",
      " 9   min_item_price            197428 non-null  int64  \n",
      " 10  max_item_price            197428 non-null  int64  \n",
      " 11  total_onshift_partners    181166 non-null  float64\n",
      " 12  total_busy_partners       181166 non-null  float64\n",
      " 13  total_outstanding_orders  181166 non-null  float64\n",
      "dtypes: float64(5), int64(5), object(4)\n",
      "memory usage: 21.1+ MB\n"
     ]
    }
   ],
   "source": [
    "df.info()"
   ]
  },
  {
   "cell_type": "markdown",
   "id": "003222bc",
   "metadata": {
    "papermill": {
     "duration": 0.007999,
     "end_time": "2025-03-13T13:40:32.219861",
     "exception": false,
     "start_time": "2025-03-13T13:40:32.211862",
     "status": "completed"
    },
    "tags": []
   },
   "source": [
    "**Inference**:\n",
    "\n",
    "The columns 'market_id', 'actual_delivery_time', 'store_primary_category', 'order_protocol', 'total_onshift_partners', 'total_busy_partners', and 'total_outstanding_orders' have missing values."
   ]
  },
  {
   "cell_type": "markdown",
   "id": "64d42f32",
   "metadata": {
    "papermill": {
     "duration": 0.007718,
     "end_time": "2025-03-13T13:40:32.235422",
     "exception": false,
     "start_time": "2025-03-13T13:40:32.227704",
     "status": "completed"
    },
    "tags": []
   },
   "source": [
    "**Statistical Summary**"
   ]
  },
  {
   "cell_type": "code",
   "execution_count": 9,
   "id": "bc4158ea",
   "metadata": {
    "execution": {
     "iopub.execute_input": "2025-03-13T13:40:32.251985Z",
     "iopub.status.busy": "2025-03-13T13:40:32.251729Z",
     "iopub.status.idle": "2025-03-13T13:40:32.346433Z",
     "shell.execute_reply": "2025-03-13T13:40:32.345493Z"
    },
    "papermill": {
     "duration": 0.104479,
     "end_time": "2025-03-13T13:40:32.347803",
     "exception": false,
     "start_time": "2025-03-13T13:40:32.243324",
     "status": "completed"
    },
    "tags": []
   },
   "outputs": [
    {
     "data": {
      "text/html": [
       "<div>\n",
       "<style scoped>\n",
       "    .dataframe tbody tr th:only-of-type {\n",
       "        vertical-align: middle;\n",
       "    }\n",
       "\n",
       "    .dataframe tbody tr th {\n",
       "        vertical-align: top;\n",
       "    }\n",
       "\n",
       "    .dataframe thead th {\n",
       "        text-align: right;\n",
       "    }\n",
       "</style>\n",
       "<table border=\"1\" class=\"dataframe\">\n",
       "  <thead>\n",
       "    <tr style=\"text-align: right;\">\n",
       "      <th></th>\n",
       "      <th>count</th>\n",
       "      <th>mean</th>\n",
       "      <th>std</th>\n",
       "      <th>min</th>\n",
       "      <th>25%</th>\n",
       "      <th>50%</th>\n",
       "      <th>75%</th>\n",
       "      <th>max</th>\n",
       "    </tr>\n",
       "  </thead>\n",
       "  <tbody>\n",
       "    <tr>\n",
       "      <th>market_id</th>\n",
       "      <td>196441.0</td>\n",
       "      <td>2.978706</td>\n",
       "      <td>1.524867</td>\n",
       "      <td>1.0</td>\n",
       "      <td>2.0</td>\n",
       "      <td>3.0</td>\n",
       "      <td>4.0</td>\n",
       "      <td>6.0</td>\n",
       "    </tr>\n",
       "    <tr>\n",
       "      <th>order_protocol</th>\n",
       "      <td>196433.0</td>\n",
       "      <td>2.882352</td>\n",
       "      <td>1.503771</td>\n",
       "      <td>1.0</td>\n",
       "      <td>1.0</td>\n",
       "      <td>3.0</td>\n",
       "      <td>4.0</td>\n",
       "      <td>7.0</td>\n",
       "    </tr>\n",
       "    <tr>\n",
       "      <th>total_items</th>\n",
       "      <td>197428.0</td>\n",
       "      <td>3.196391</td>\n",
       "      <td>2.666546</td>\n",
       "      <td>1.0</td>\n",
       "      <td>2.0</td>\n",
       "      <td>3.0</td>\n",
       "      <td>4.0</td>\n",
       "      <td>411.0</td>\n",
       "    </tr>\n",
       "    <tr>\n",
       "      <th>subtotal</th>\n",
       "      <td>197428.0</td>\n",
       "      <td>2682.331402</td>\n",
       "      <td>1823.093688</td>\n",
       "      <td>0.0</td>\n",
       "      <td>1400.0</td>\n",
       "      <td>2200.0</td>\n",
       "      <td>3395.0</td>\n",
       "      <td>27100.0</td>\n",
       "    </tr>\n",
       "    <tr>\n",
       "      <th>num_distinct_items</th>\n",
       "      <td>197428.0</td>\n",
       "      <td>2.670791</td>\n",
       "      <td>1.630255</td>\n",
       "      <td>1.0</td>\n",
       "      <td>1.0</td>\n",
       "      <td>2.0</td>\n",
       "      <td>3.0</td>\n",
       "      <td>20.0</td>\n",
       "    </tr>\n",
       "    <tr>\n",
       "      <th>min_item_price</th>\n",
       "      <td>197428.0</td>\n",
       "      <td>686.218470</td>\n",
       "      <td>522.038648</td>\n",
       "      <td>-86.0</td>\n",
       "      <td>299.0</td>\n",
       "      <td>595.0</td>\n",
       "      <td>949.0</td>\n",
       "      <td>14700.0</td>\n",
       "    </tr>\n",
       "    <tr>\n",
       "      <th>max_item_price</th>\n",
       "      <td>197428.0</td>\n",
       "      <td>1159.588630</td>\n",
       "      <td>558.411377</td>\n",
       "      <td>0.0</td>\n",
       "      <td>800.0</td>\n",
       "      <td>1095.0</td>\n",
       "      <td>1395.0</td>\n",
       "      <td>14700.0</td>\n",
       "    </tr>\n",
       "    <tr>\n",
       "      <th>total_onshift_partners</th>\n",
       "      <td>181166.0</td>\n",
       "      <td>44.808093</td>\n",
       "      <td>34.526783</td>\n",
       "      <td>-4.0</td>\n",
       "      <td>17.0</td>\n",
       "      <td>37.0</td>\n",
       "      <td>65.0</td>\n",
       "      <td>171.0</td>\n",
       "    </tr>\n",
       "    <tr>\n",
       "      <th>total_busy_partners</th>\n",
       "      <td>181166.0</td>\n",
       "      <td>41.739747</td>\n",
       "      <td>32.145733</td>\n",
       "      <td>-5.0</td>\n",
       "      <td>15.0</td>\n",
       "      <td>34.0</td>\n",
       "      <td>62.0</td>\n",
       "      <td>154.0</td>\n",
       "    </tr>\n",
       "    <tr>\n",
       "      <th>total_outstanding_orders</th>\n",
       "      <td>181166.0</td>\n",
       "      <td>58.050065</td>\n",
       "      <td>52.661830</td>\n",
       "      <td>-6.0</td>\n",
       "      <td>17.0</td>\n",
       "      <td>41.0</td>\n",
       "      <td>85.0</td>\n",
       "      <td>285.0</td>\n",
       "    </tr>\n",
       "  </tbody>\n",
       "</table>\n",
       "</div>"
      ],
      "text/plain": [
       "                             count         mean          std   min     25%  \\\n",
       "market_id                 196441.0     2.978706     1.524867   1.0     2.0   \n",
       "order_protocol            196433.0     2.882352     1.503771   1.0     1.0   \n",
       "total_items               197428.0     3.196391     2.666546   1.0     2.0   \n",
       "subtotal                  197428.0  2682.331402  1823.093688   0.0  1400.0   \n",
       "num_distinct_items        197428.0     2.670791     1.630255   1.0     1.0   \n",
       "min_item_price            197428.0   686.218470   522.038648 -86.0   299.0   \n",
       "max_item_price            197428.0  1159.588630   558.411377   0.0   800.0   \n",
       "total_onshift_partners    181166.0    44.808093    34.526783  -4.0    17.0   \n",
       "total_busy_partners       181166.0    41.739747    32.145733  -5.0    15.0   \n",
       "total_outstanding_orders  181166.0    58.050065    52.661830  -6.0    17.0   \n",
       "\n",
       "                             50%     75%      max  \n",
       "market_id                    3.0     4.0      6.0  \n",
       "order_protocol               3.0     4.0      7.0  \n",
       "total_items                  3.0     4.0    411.0  \n",
       "subtotal                  2200.0  3395.0  27100.0  \n",
       "num_distinct_items           2.0     3.0     20.0  \n",
       "min_item_price             595.0   949.0  14700.0  \n",
       "max_item_price            1095.0  1395.0  14700.0  \n",
       "total_onshift_partners      37.0    65.0    171.0  \n",
       "total_busy_partners         34.0    62.0    154.0  \n",
       "total_outstanding_orders    41.0    85.0    285.0  "
      ]
     },
     "execution_count": 9,
     "metadata": {},
     "output_type": "execute_result"
    }
   ],
   "source": [
    "# Statistical Summary of numeric Columns\n",
    "df.describe().T"
   ]
  },
  {
   "cell_type": "code",
   "execution_count": 10,
   "id": "fefd09eb",
   "metadata": {
    "execution": {
     "iopub.execute_input": "2025-03-13T13:40:32.365505Z",
     "iopub.status.busy": "2025-03-13T13:40:32.365240Z",
     "iopub.status.idle": "2025-03-13T13:40:32.647259Z",
     "shell.execute_reply": "2025-03-13T13:40:32.646348Z"
    },
    "papermill": {
     "duration": 0.292234,
     "end_time": "2025-03-13T13:40:32.648699",
     "exception": false,
     "start_time": "2025-03-13T13:40:32.356465",
     "status": "completed"
    },
    "tags": []
   },
   "outputs": [
    {
     "data": {
      "text/html": [
       "<div>\n",
       "<style scoped>\n",
       "    .dataframe tbody tr th:only-of-type {\n",
       "        vertical-align: middle;\n",
       "    }\n",
       "\n",
       "    .dataframe tbody tr th {\n",
       "        vertical-align: top;\n",
       "    }\n",
       "\n",
       "    .dataframe thead th {\n",
       "        text-align: right;\n",
       "    }\n",
       "</style>\n",
       "<table border=\"1\" class=\"dataframe\">\n",
       "  <thead>\n",
       "    <tr style=\"text-align: right;\">\n",
       "      <th></th>\n",
       "      <th>count</th>\n",
       "      <th>unique</th>\n",
       "      <th>top</th>\n",
       "      <th>freq</th>\n",
       "    </tr>\n",
       "  </thead>\n",
       "  <tbody>\n",
       "    <tr>\n",
       "      <th>created_at</th>\n",
       "      <td>197428</td>\n",
       "      <td>180985</td>\n",
       "      <td>2015-02-11 19:50:43</td>\n",
       "      <td>6</td>\n",
       "    </tr>\n",
       "    <tr>\n",
       "      <th>actual_delivery_time</th>\n",
       "      <td>197421</td>\n",
       "      <td>178110</td>\n",
       "      <td>2015-02-08 04:09:25</td>\n",
       "      <td>5</td>\n",
       "    </tr>\n",
       "    <tr>\n",
       "      <th>store_id</th>\n",
       "      <td>197428</td>\n",
       "      <td>6743</td>\n",
       "      <td>d43ab110ab2489d6b9b2caa394bf920f</td>\n",
       "      <td>937</td>\n",
       "    </tr>\n",
       "    <tr>\n",
       "      <th>store_primary_category</th>\n",
       "      <td>192668</td>\n",
       "      <td>74</td>\n",
       "      <td>american</td>\n",
       "      <td>19399</td>\n",
       "    </tr>\n",
       "  </tbody>\n",
       "</table>\n",
       "</div>"
      ],
      "text/plain": [
       "                         count  unique                               top  \\\n",
       "created_at              197428  180985               2015-02-11 19:50:43   \n",
       "actual_delivery_time    197421  178110               2015-02-08 04:09:25   \n",
       "store_id                197428    6743  d43ab110ab2489d6b9b2caa394bf920f   \n",
       "store_primary_category  192668      74                          american   \n",
       "\n",
       "                         freq  \n",
       "created_at                  6  \n",
       "actual_delivery_time        5  \n",
       "store_id                  937  \n",
       "store_primary_category  19399  "
      ]
     },
     "execution_count": 10,
     "metadata": {},
     "output_type": "execute_result"
    }
   ],
   "source": [
    "# Statistical Summary of Categorical Columns\n",
    "df.describe(include='object').T"
   ]
  },
  {
   "cell_type": "markdown",
   "id": "c8a657cb",
   "metadata": {
    "papermill": {
     "duration": 0.008194,
     "end_time": "2025-03-13T13:40:32.665561",
     "exception": false,
     "start_time": "2025-03-13T13:40:32.657367",
     "status": "completed"
    },
    "tags": []
   },
   "source": [
    "**Checking For Missing Values**"
   ]
  },
  {
   "cell_type": "code",
   "execution_count": 11,
   "id": "33416fda",
   "metadata": {
    "execution": {
     "iopub.execute_input": "2025-03-13T13:40:32.683317Z",
     "iopub.status.busy": "2025-03-13T13:40:32.683026Z",
     "iopub.status.idle": "2025-03-13T13:40:32.740465Z",
     "shell.execute_reply": "2025-03-13T13:40:32.739501Z"
    },
    "papermill": {
     "duration": 0.067921,
     "end_time": "2025-03-13T13:40:32.741798",
     "exception": false,
     "start_time": "2025-03-13T13:40:32.673877",
     "status": "completed"
    },
    "tags": []
   },
   "outputs": [
    {
     "data": {
      "text/plain": [
       "market_id                   0.50\n",
       "created_at                  0.00\n",
       "actual_delivery_time        0.00\n",
       "store_id                    0.00\n",
       "store_primary_category      2.41\n",
       "order_protocol              0.50\n",
       "total_items                 0.00\n",
       "subtotal                    0.00\n",
       "num_distinct_items          0.00\n",
       "min_item_price              0.00\n",
       "max_item_price              0.00\n",
       "total_onshift_partners      8.24\n",
       "total_busy_partners         8.24\n",
       "total_outstanding_orders    8.24\n",
       "dtype: float64"
      ]
     },
     "execution_count": 11,
     "metadata": {},
     "output_type": "execute_result"
    }
   ],
   "source": [
    "np.round(((df.isnull().sum())/(df.shape[0]))*100,2)"
   ]
  },
  {
   "cell_type": "code",
   "execution_count": 12,
   "id": "b269ba7b",
   "metadata": {
    "execution": {
     "iopub.execute_input": "2025-03-13T13:40:32.759489Z",
     "iopub.status.busy": "2025-03-13T13:40:32.759228Z",
     "iopub.status.idle": "2025-03-13T13:40:33.253383Z",
     "shell.execute_reply": "2025-03-13T13:40:33.252454Z"
    },
    "papermill": {
     "duration": 0.504738,
     "end_time": "2025-03-13T13:40:33.255166",
     "exception": false,
     "start_time": "2025-03-13T13:40:32.750428",
     "status": "completed"
    },
    "tags": []
   },
   "outputs": [
    {
     "data": {
      "image/png": "[encoded data removed]",
      "text/plain": [
       "<Figure size 1200x800 with 1 Axes>"
      ]
     },
     "metadata": {},
     "output_type": "display_data"
    }
   ],
   "source": [
    "plt.figure(figsize = (12,8))\n",
    "ax = ((df.isnull().sum()/df.shape[0])*100).plot(kind = 'barh', color = '#DB3069')\n",
    "for container in ax.containers:\n",
    "    ax.bar_label(container, fmt = '%.2f')\n",
    "plt.xlabel('Missing Values %')\n",
    "plt.ylabel('Columns')\n",
    "plt.title('Percentage of missing values in data')\n",
    "sns.set_style('darkgrid')\n",
    "plt.show()"
   ]
  },
  {
   "cell_type": "code",
   "execution_count": 13,
   "id": "36b1ce3f",
   "metadata": {
    "execution": {
     "iopub.execute_input": "2025-03-13T13:40:33.279225Z",
     "iopub.status.busy": "2025-03-13T13:40:33.278916Z",
     "iopub.status.idle": "2025-03-13T13:40:33.289508Z",
     "shell.execute_reply": "2025-03-13T13:40:33.288568Z"
    },
    "papermill": {
     "duration": 0.023419,
     "end_time": "2025-03-13T13:40:33.290829",
     "exception": false,
     "start_time": "2025-03-13T13:40:33.267410",
     "status": "completed"
    },
    "tags": []
   },
   "outputs": [
    {
     "data": {
      "text/plain": [
       "order_protocol\n",
       "1.0    54725\n",
       "3.0    53199\n",
       "5.0    44290\n",
       "2.0    24052\n",
       "4.0    19354\n",
       "6.0      794\n",
       "7.0       19\n",
       "Name: count, dtype: int64"
      ]
     },
     "execution_count": 13,
     "metadata": {},
     "output_type": "execute_result"
    }
   ],
   "source": [
    "df['order_protocol'].value_counts()"
   ]
  },
  {
   "cell_type": "code",
   "execution_count": null,
   "id": "ad28a4d2",
   "metadata": {
    "papermill": {
     "duration": 0.010627,
     "end_time": "2025-03-13T13:40:33.312575",
     "exception": false,
     "start_time": "2025-03-13T13:40:33.301948",
     "status": "completed"
    },
    "tags": []
   },
   "outputs": [],
   "source": []
  },
  {
   "cell_type": "markdown",
   "id": "9b47a6ab",
   "metadata": {
    "papermill": {
     "duration": 0.009906,
     "end_time": "2025-03-13T13:40:33.333622",
     "exception": false,
     "start_time": "2025-03-13T13:40:33.323716",
     "status": "completed"
    },
    "tags": []
   },
   "source": [
    "# ⚒️  Data Preprocessing"
   ]
  },
  {
   "cell_type": "markdown",
   "id": "674aa0ca",
   "metadata": {
    "papermill": {
     "duration": 0.009332,
     "end_time": "2025-03-13T13:40:33.352924",
     "exception": false,
     "start_time": "2025-03-13T13:40:33.343592",
     "status": "completed"
    },
    "tags": []
   },
   "source": [
    "## ♊ Duplicate Value check"
   ]
  },
  {
   "cell_type": "code",
   "execution_count": 14,
   "id": "08e3528b",
   "metadata": {
    "execution": {
     "iopub.execute_input": "2025-03-13T13:40:33.373749Z",
     "iopub.status.busy": "2025-03-13T13:40:33.373449Z",
     "iopub.status.idle": "2025-03-13T13:40:33.544356Z",
     "shell.execute_reply": "2025-03-13T13:40:33.543417Z"
    },
    "papermill": {
     "duration": 0.183065,
     "end_time": "2025-03-13T13:40:33.545795",
     "exception": false,
     "start_time": "2025-03-13T13:40:33.362730",
     "status": "completed"
    },
    "tags": []
   },
   "outputs": [
    {
     "data": {
      "text/html": [
       "<div>\n",
       "<style scoped>\n",
       "    .dataframe tbody tr th:only-of-type {\n",
       "        vertical-align: middle;\n",
       "    }\n",
       "\n",
       "    .dataframe tbody tr th {\n",
       "        vertical-align: top;\n",
       "    }\n",
       "\n",
       "    .dataframe thead th {\n",
       "        text-align: right;\n",
       "    }\n",
       "</style>\n",
       "<table border=\"1\" class=\"dataframe\">\n",
       "  <thead>\n",
       "    <tr style=\"text-align: right;\">\n",
       "      <th></th>\n",
       "      <th>market_id</th>\n",
       "      <th>created_at</th>\n",
       "      <th>actual_delivery_time</th>\n",
       "      <th>store_id</th>\n",
       "      <th>store_primary_category</th>\n",
       "      <th>order_protocol</th>\n",
       "      <th>total_items</th>\n",
       "      <th>subtotal</th>\n",
       "      <th>num_distinct_items</th>\n",
       "      <th>min_item_price</th>\n",
       "      <th>max_item_price</th>\n",
       "      <th>total_onshift_partners</th>\n",
       "      <th>total_busy_partners</th>\n",
       "      <th>total_outstanding_orders</th>\n",
       "    </tr>\n",
       "  </thead>\n",
       "  <tbody>\n",
       "  </tbody>\n",
       "</table>\n",
       "</div>"
      ],
      "text/plain": [
       "Empty DataFrame\n",
       "Columns: [market_id, created_at, actual_delivery_time, store_id, store_primary_category, order_protocol, total_items, subtotal, num_distinct_items, min_item_price, max_item_price, total_onshift_partners, total_busy_partners, total_outstanding_orders]\n",
       "Index: []"
      ]
     },
     "execution_count": 14,
     "metadata": {},
     "output_type": "execute_result"
    }
   ],
   "source": [
    "df[df.duplicated()]"
   ]
  },
  {
   "cell_type": "code",
   "execution_count": 15,
   "id": "32869e87",
   "metadata": {
    "execution": {
     "iopub.execute_input": "2025-03-13T13:40:33.566592Z",
     "iopub.status.busy": "2025-03-13T13:40:33.566348Z",
     "iopub.status.idle": "2025-03-13T13:40:33.725575Z",
     "shell.execute_reply": "2025-03-13T13:40:33.724577Z"
    },
    "papermill": {
     "duration": 0.171047,
     "end_time": "2025-03-13T13:40:33.726919",
     "exception": false,
     "start_time": "2025-03-13T13:40:33.555872",
     "status": "completed"
    },
    "tags": []
   },
   "outputs": [
    {
     "name": "stdout",
     "output_type": "stream",
     "text": [
      "Empty DataFrame\n",
      "Columns: [market_id, created_at, actual_delivery_time, store_id, store_primary_category, order_protocol, total_items, subtotal, num_distinct_items, min_item_price, max_item_price, total_onshift_partners, total_busy_partners, total_outstanding_orders]\n",
      "Index: []\n"
     ]
    }
   ],
   "source": [
    "print(df[df.duplicated()])"
   ]
  },
  {
   "cell_type": "markdown",
   "id": "41fb4d76",
   "metadata": {
    "papermill": {
     "duration": 0.00971,
     "end_time": "2025-03-13T13:40:33.746854",
     "exception": false,
     "start_time": "2025-03-13T13:40:33.737144",
     "status": "completed"
    },
    "tags": []
   },
   "source": [
    "## 🧹 Handling Missing Values"
   ]
  },
  {
   "cell_type": "markdown",
   "id": "005ff96c",
   "metadata": {
    "papermill": {
     "duration": 0.009894,
     "end_time": "2025-03-13T13:40:33.766473",
     "exception": false,
     "start_time": "2025-03-13T13:40:33.756579",
     "status": "completed"
    },
    "tags": []
   },
   "source": [
    "Startegies to handle missing data\n",
    "\n",
    "1️⃣ Numeric Features:\n",
    "\n",
    "For numeric features we can use median imputation to prevent extreme values from affecting the distribution\n",
    "\n",
    "2️⃣ Categorical/Discerete Features:\n",
    "\n",
    "All categorical features have only 2 to 5 unique values, making it suitable to impute missing values using the most frequent category."
   ]
  },
  {
   "cell_type": "markdown",
   "id": "1ec88cc8",
   "metadata": {
    "papermill": {
     "duration": 0.009467,
     "end_time": "2025-03-13T13:40:33.785607",
     "exception": false,
     "start_time": "2025-03-13T13:40:33.776140",
     "status": "completed"
    },
    "tags": []
   },
   "source": [
    "**Missing Values Check**"
   ]
  },
  {
   "cell_type": "code",
   "execution_count": 16,
   "id": "cef9407a",
   "metadata": {
    "execution": {
     "iopub.execute_input": "2025-03-13T13:40:33.805991Z",
     "iopub.status.busy": "2025-03-13T13:40:33.805736Z",
     "iopub.status.idle": "2025-03-13T13:40:33.863776Z",
     "shell.execute_reply": "2025-03-13T13:40:33.862942Z"
    },
    "papermill": {
     "duration": 0.069977,
     "end_time": "2025-03-13T13:40:33.865240",
     "exception": false,
     "start_time": "2025-03-13T13:40:33.795263",
     "status": "completed"
    },
    "tags": []
   },
   "outputs": [
    {
     "data": {
      "text/plain": [
       "market_id                   0.50\n",
       "created_at                  0.00\n",
       "actual_delivery_time        0.00\n",
       "store_id                    0.00\n",
       "store_primary_category      2.41\n",
       "order_protocol              0.50\n",
       "total_items                 0.00\n",
       "subtotal                    0.00\n",
       "num_distinct_items          0.00\n",
       "min_item_price              0.00\n",
       "max_item_price              0.00\n",
       "total_onshift_partners      8.24\n",
       "total_busy_partners         8.24\n",
       "total_outstanding_orders    8.24\n",
       "dtype: float64"
      ]
     },
     "execution_count": 16,
     "metadata": {},
     "output_type": "execute_result"
    }
   ],
   "source": [
    "np.round(((df.isnull().sum())/(df.shape[0]))*100,2)"
   ]
  },
  {
   "cell_type": "code",
   "execution_count": 17,
   "id": "13f2ba57",
   "metadata": {
    "execution": {
     "iopub.execute_input": "2025-03-13T13:40:33.886055Z",
     "iopub.status.busy": "2025-03-13T13:40:33.885825Z",
     "iopub.status.idle": "2025-03-13T13:40:34.297334Z",
     "shell.execute_reply": "2025-03-13T13:40:34.296451Z"
    },
    "papermill": {
     "duration": 0.423688,
     "end_time": "2025-03-13T13:40:34.299045",
     "exception": false,
     "start_time": "2025-03-13T13:40:33.875357",
     "status": "completed"
    },
    "tags": []
   },
   "outputs": [
    {
     "data": {
      "image/png": "[encoded data removed]",
      "text/plain": [
       "<Figure size 1200x800 with 1 Axes>"
      ]
     },
     "metadata": {},
     "output_type": "display_data"
    }
   ],
   "source": [
    "plt.figure(figsize = (12,8))\n",
    "ax = ((df.isnull().sum()/df.shape[0])*100).plot(kind = 'barh', color = '#DB3069')\n",
    "for container in ax.containers:\n",
    "    ax.bar_label(container, fmt = '%.2f')\n",
    "plt.xlabel('Missing Values %')\n",
    "plt.ylabel('Columns')\n",
    "plt.title('Percentage of missing values in data')\n",
    "sns.set_style('darkgrid')\n",
    "plt.show()"
   ]
  },
  {
   "cell_type": "markdown",
   "id": "1852da3b",
   "metadata": {
    "papermill": {
     "duration": 0.010998,
     "end_time": "2025-03-13T13:40:34.322080",
     "exception": false,
     "start_time": "2025-03-13T13:40:34.311082",
     "status": "completed"
    },
    "tags": []
   },
   "source": [
    "**Handling Missing Values in 'order_protocol' Column"
   ]
  },
  {
   "cell_type": "code",
   "execution_count": 18,
   "id": "383414f9",
   "metadata": {
    "execution": {
     "iopub.execute_input": "2025-03-13T13:40:34.345036Z",
     "iopub.status.busy": "2025-03-13T13:40:34.344752Z",
     "iopub.status.idle": "2025-03-13T13:40:34.361199Z",
     "shell.execute_reply": "2025-03-13T13:40:34.360362Z"
    },
    "papermill": {
     "duration": 0.029474,
     "end_time": "2025-03-13T13:40:34.362477",
     "exception": false,
     "start_time": "2025-03-13T13:40:34.333003",
     "status": "completed"
    },
    "tags": []
   },
   "outputs": [
    {
     "data": {
      "text/plain": [
       "0.13709259426641762"
      ]
     },
     "execution_count": 18,
     "metadata": {},
     "output_type": "execute_result"
    }
   ],
   "source": [
    "df['order_protocol'].skew()"
   ]
  },
  {
   "cell_type": "markdown",
   "id": "ff816c2d",
   "metadata": {
    "papermill": {
     "duration": 0.010729,
     "end_time": "2025-03-13T13:40:34.384935",
     "exception": false,
     "start_time": "2025-03-13T13:40:34.374206",
     "status": "completed"
    },
    "tags": []
   },
   "source": [
    "**Inference**:\n",
    "\n",
    "As column is discrete and not skewed we will use mode or most frequent value to impute missing values in the data"
   ]
  },
  {
   "cell_type": "code",
   "execution_count": 19,
   "id": "3aa909c5",
   "metadata": {
    "execution": {
     "iopub.execute_input": "2025-03-13T13:40:34.407763Z",
     "iopub.status.busy": "2025-03-13T13:40:34.407509Z",
     "iopub.status.idle": "2025-03-13T13:40:34.873257Z",
     "shell.execute_reply": "2025-03-13T13:40:34.872270Z"
    },
    "papermill": {
     "duration": 0.478672,
     "end_time": "2025-03-13T13:40:34.874672",
     "exception": false,
     "start_time": "2025-03-13T13:40:34.396000",
     "status": "completed"
    },
    "tags": []
   },
   "outputs": [
    {
     "data": {
      "text/plain": [
       "market_id                     987\n",
       "created_at                      0\n",
       "actual_delivery_time            7\n",
       "store_id                        0\n",
       "store_primary_category       4760\n",
       "order_protocol                  0\n",
       "total_items                     0\n",
       "subtotal                        0\n",
       "num_distinct_items              0\n",
       "min_item_price                  0\n",
       "max_item_price                  0\n",
       "total_onshift_partners      16262\n",
       "total_busy_partners         16262\n",
       "total_outstanding_orders    16262\n",
       "dtype: int64"
      ]
     },
     "execution_count": 19,
     "metadata": {},
     "output_type": "execute_result"
    }
   ],
   "source": [
    "from sklearn.impute import SimpleImputer\n",
    "imputer = SimpleImputer(strategy='most_frequent')\n",
    "df['order_protocol'] = imputer.fit_transform(df[['order_protocol']])\n",
    "df.isnull().sum()"
   ]
  },
  {
   "cell_type": "code",
   "execution_count": 20,
   "id": "56f5d5db",
   "metadata": {
    "execution": {
     "iopub.execute_input": "2025-03-13T13:40:34.898930Z",
     "iopub.status.busy": "2025-03-13T13:40:34.898650Z",
     "iopub.status.idle": "2025-03-13T13:40:34.916215Z",
     "shell.execute_reply": "2025-03-13T13:40:34.915315Z"
    },
    "papermill": {
     "duration": 0.030782,
     "end_time": "2025-03-13T13:40:34.917462",
     "exception": false,
     "start_time": "2025-03-13T13:40:34.886680",
     "status": "completed"
    },
    "tags": []
   },
   "outputs": [
    {
     "data": {
      "text/html": [
       "<div>\n",
       "<style scoped>\n",
       "    .dataframe tbody tr th:only-of-type {\n",
       "        vertical-align: middle;\n",
       "    }\n",
       "\n",
       "    .dataframe tbody tr th {\n",
       "        vertical-align: top;\n",
       "    }\n",
       "\n",
       "    .dataframe thead th {\n",
       "        text-align: right;\n",
       "    }\n",
       "</style>\n",
       "<table border=\"1\" class=\"dataframe\">\n",
       "  <thead>\n",
       "    <tr style=\"text-align: right;\">\n",
       "      <th></th>\n",
       "      <th>market_id</th>\n",
       "      <th>created_at</th>\n",
       "      <th>actual_delivery_time</th>\n",
       "      <th>store_id</th>\n",
       "      <th>store_primary_category</th>\n",
       "      <th>order_protocol</th>\n",
       "      <th>total_items</th>\n",
       "      <th>subtotal</th>\n",
       "      <th>num_distinct_items</th>\n",
       "      <th>min_item_price</th>\n",
       "      <th>max_item_price</th>\n",
       "      <th>total_onshift_partners</th>\n",
       "      <th>total_busy_partners</th>\n",
       "      <th>total_outstanding_orders</th>\n",
       "    </tr>\n",
       "  </thead>\n",
       "  <tbody>\n",
       "    <tr>\n",
       "      <th>0</th>\n",
       "      <td>1.0</td>\n",
       "      <td>2015-02-06 22:24:17</td>\n",
       "      <td>2015-02-06 23:27:16</td>\n",
       "      <td>df263d996281d984952c07998dc54358</td>\n",
       "      <td>american</td>\n",
       "      <td>1.0</td>\n",
       "      <td>4</td>\n",
       "      <td>3441</td>\n",
       "      <td>4</td>\n",
       "      <td>557</td>\n",
       "      <td>1239</td>\n",
       "      <td>33.0</td>\n",
       "      <td>14.0</td>\n",
       "      <td>21.0</td>\n",
       "    </tr>\n",
       "    <tr>\n",
       "      <th>1</th>\n",
       "      <td>2.0</td>\n",
       "      <td>2015-02-10 21:49:25</td>\n",
       "      <td>2015-02-10 22:56:29</td>\n",
       "      <td>f0ade77b43923b38237db569b016ba25</td>\n",
       "      <td>mexican</td>\n",
       "      <td>2.0</td>\n",
       "      <td>1</td>\n",
       "      <td>1900</td>\n",
       "      <td>1</td>\n",
       "      <td>1400</td>\n",
       "      <td>1400</td>\n",
       "      <td>1.0</td>\n",
       "      <td>2.0</td>\n",
       "      <td>2.0</td>\n",
       "    </tr>\n",
       "    <tr>\n",
       "      <th>2</th>\n",
       "      <td>3.0</td>\n",
       "      <td>2015-01-22 20:39:28</td>\n",
       "      <td>2015-01-22 21:09:09</td>\n",
       "      <td>f0ade77b43923b38237db569b016ba25</td>\n",
       "      <td>NaN</td>\n",
       "      <td>1.0</td>\n",
       "      <td>1</td>\n",
       "      <td>1900</td>\n",
       "      <td>1</td>\n",
       "      <td>1900</td>\n",
       "      <td>1900</td>\n",
       "      <td>1.0</td>\n",
       "      <td>0.0</td>\n",
       "      <td>0.0</td>\n",
       "    </tr>\n",
       "    <tr>\n",
       "      <th>3</th>\n",
       "      <td>3.0</td>\n",
       "      <td>2015-02-03 21:21:45</td>\n",
       "      <td>2015-02-03 22:13:00</td>\n",
       "      <td>f0ade77b43923b38237db569b016ba25</td>\n",
       "      <td>NaN</td>\n",
       "      <td>1.0</td>\n",
       "      <td>6</td>\n",
       "      <td>6900</td>\n",
       "      <td>5</td>\n",
       "      <td>600</td>\n",
       "      <td>1800</td>\n",
       "      <td>1.0</td>\n",
       "      <td>1.0</td>\n",
       "      <td>2.0</td>\n",
       "    </tr>\n",
       "    <tr>\n",
       "      <th>4</th>\n",
       "      <td>3.0</td>\n",
       "      <td>2015-02-15 02:40:36</td>\n",
       "      <td>2015-02-15 03:20:26</td>\n",
       "      <td>f0ade77b43923b38237db569b016ba25</td>\n",
       "      <td>NaN</td>\n",
       "      <td>1.0</td>\n",
       "      <td>3</td>\n",
       "      <td>3900</td>\n",
       "      <td>3</td>\n",
       "      <td>1100</td>\n",
       "      <td>1600</td>\n",
       "      <td>6.0</td>\n",
       "      <td>6.0</td>\n",
       "      <td>9.0</td>\n",
       "    </tr>\n",
       "    <tr>\n",
       "      <th>...</th>\n",
       "      <td>...</td>\n",
       "      <td>...</td>\n",
       "      <td>...</td>\n",
       "      <td>...</td>\n",
       "      <td>...</td>\n",
       "      <td>...</td>\n",
       "      <td>...</td>\n",
       "      <td>...</td>\n",
       "      <td>...</td>\n",
       "      <td>...</td>\n",
       "      <td>...</td>\n",
       "      <td>...</td>\n",
       "      <td>...</td>\n",
       "      <td>...</td>\n",
       "    </tr>\n",
       "    <tr>\n",
       "      <th>197423</th>\n",
       "      <td>1.0</td>\n",
       "      <td>2015-02-17 00:19:41</td>\n",
       "      <td>2015-02-17 01:24:48</td>\n",
       "      <td>a914ecef9c12ffdb9bede64bb703d877</td>\n",
       "      <td>fast</td>\n",
       "      <td>4.0</td>\n",
       "      <td>3</td>\n",
       "      <td>1389</td>\n",
       "      <td>3</td>\n",
       "      <td>345</td>\n",
       "      <td>649</td>\n",
       "      <td>17.0</td>\n",
       "      <td>17.0</td>\n",
       "      <td>23.0</td>\n",
       "    </tr>\n",
       "    <tr>\n",
       "      <th>197424</th>\n",
       "      <td>1.0</td>\n",
       "      <td>2015-02-13 00:01:59</td>\n",
       "      <td>2015-02-13 00:58:22</td>\n",
       "      <td>a914ecef9c12ffdb9bede64bb703d877</td>\n",
       "      <td>fast</td>\n",
       "      <td>4.0</td>\n",
       "      <td>6</td>\n",
       "      <td>3010</td>\n",
       "      <td>4</td>\n",
       "      <td>405</td>\n",
       "      <td>825</td>\n",
       "      <td>12.0</td>\n",
       "      <td>11.0</td>\n",
       "      <td>14.0</td>\n",
       "    </tr>\n",
       "    <tr>\n",
       "      <th>197425</th>\n",
       "      <td>1.0</td>\n",
       "      <td>2015-01-24 04:46:08</td>\n",
       "      <td>2015-01-24 05:36:16</td>\n",
       "      <td>a914ecef9c12ffdb9bede64bb703d877</td>\n",
       "      <td>fast</td>\n",
       "      <td>4.0</td>\n",
       "      <td>5</td>\n",
       "      <td>1836</td>\n",
       "      <td>3</td>\n",
       "      <td>300</td>\n",
       "      <td>399</td>\n",
       "      <td>39.0</td>\n",
       "      <td>41.0</td>\n",
       "      <td>40.0</td>\n",
       "    </tr>\n",
       "    <tr>\n",
       "      <th>197426</th>\n",
       "      <td>1.0</td>\n",
       "      <td>2015-02-01 18:18:15</td>\n",
       "      <td>2015-02-01 19:23:22</td>\n",
       "      <td>c81e155d85dae5430a8cee6f2242e82c</td>\n",
       "      <td>sandwich</td>\n",
       "      <td>1.0</td>\n",
       "      <td>1</td>\n",
       "      <td>1175</td>\n",
       "      <td>1</td>\n",
       "      <td>535</td>\n",
       "      <td>535</td>\n",
       "      <td>7.0</td>\n",
       "      <td>7.0</td>\n",
       "      <td>12.0</td>\n",
       "    </tr>\n",
       "    <tr>\n",
       "      <th>197427</th>\n",
       "      <td>1.0</td>\n",
       "      <td>2015-02-08 19:24:33</td>\n",
       "      <td>2015-02-08 20:01:41</td>\n",
       "      <td>c81e155d85dae5430a8cee6f2242e82c</td>\n",
       "      <td>sandwich</td>\n",
       "      <td>1.0</td>\n",
       "      <td>4</td>\n",
       "      <td>2605</td>\n",
       "      <td>4</td>\n",
       "      <td>425</td>\n",
       "      <td>750</td>\n",
       "      <td>20.0</td>\n",
       "      <td>20.0</td>\n",
       "      <td>23.0</td>\n",
       "    </tr>\n",
       "  </tbody>\n",
       "</table>\n",
       "<p>197428 rows × 14 columns</p>\n",
       "</div>"
      ],
      "text/plain": [
       "        market_id           created_at actual_delivery_time  \\\n",
       "0             1.0  2015-02-06 22:24:17  2015-02-06 23:27:16   \n",
       "1             2.0  2015-02-10 21:49:25  2015-02-10 22:56:29   \n",
       "2             3.0  2015-01-22 20:39:28  2015-01-22 21:09:09   \n",
       "3             3.0  2015-02-03 21:21:45  2015-02-03 22:13:00   \n",
       "4             3.0  2015-02-15 02:40:36  2015-02-15 03:20:26   \n",
       "...           ...                  ...                  ...   \n",
       "197423        1.0  2015-02-17 00:19:41  2015-02-17 01:24:48   \n",
       "197424        1.0  2015-02-13 00:01:59  2015-02-13 00:58:22   \n",
       "197425        1.0  2015-01-24 04:46:08  2015-01-24 05:36:16   \n",
       "197426        1.0  2015-02-01 18:18:15  2015-02-01 19:23:22   \n",
       "197427        1.0  2015-02-08 19:24:33  2015-02-08 20:01:41   \n",
       "\n",
       "                                store_id store_primary_category  \\\n",
       "0       df263d996281d984952c07998dc54358               american   \n",
       "1       f0ade77b43923b38237db569b016ba25                mexican   \n",
       "2       f0ade77b43923b38237db569b016ba25                    NaN   \n",
       "3       f0ade77b43923b38237db569b016ba25                    NaN   \n",
       "4       f0ade77b43923b38237db569b016ba25                    NaN   \n",
       "...                                  ...                    ...   \n",
       "197423  a914ecef9c12ffdb9bede64bb703d877                   fast   \n",
       "197424  a914ecef9c12ffdb9bede64bb703d877                   fast   \n",
       "197425  a914ecef9c12ffdb9bede64bb703d877                   fast   \n",
       "197426  c81e155d85dae5430a8cee6f2242e82c               sandwich   \n",
       "197427  c81e155d85dae5430a8cee6f2242e82c               sandwich   \n",
       "\n",
       "        order_protocol  total_items  subtotal  num_distinct_items  \\\n",
       "0                  1.0            4      3441                   4   \n",
       "1                  2.0            1      1900                   1   \n",
       "2                  1.0            1      1900                   1   \n",
       "3                  1.0            6      6900                   5   \n",
       "4                  1.0            3      3900                   3   \n",
       "...                ...          ...       ...                 ...   \n",
       "197423             4.0            3      1389                   3   \n",
       "197424             4.0            6      3010                   4   \n",
       "197425             4.0            5      1836                   3   \n",
       "197426             1.0            1      1175                   1   \n",
       "197427             1.0            4      2605                   4   \n",
       "\n",
       "        min_item_price  max_item_price  total_onshift_partners  \\\n",
       "0                  557            1239                    33.0   \n",
       "1                 1400            1400                     1.0   \n",
       "2                 1900            1900                     1.0   \n",
       "3                  600            1800                     1.0   \n",
       "4                 1100            1600                     6.0   \n",
       "...                ...             ...                     ...   \n",
       "197423             345             649                    17.0   \n",
       "197424             405             825                    12.0   \n",
       "197425             300             399                    39.0   \n",
       "197426             535             535                     7.0   \n",
       "197427             425             750                    20.0   \n",
       "\n",
       "        total_busy_partners  total_outstanding_orders  \n",
       "0                      14.0                      21.0  \n",
       "1                       2.0                       2.0  \n",
       "2                       0.0                       0.0  \n",
       "3                       1.0                       2.0  \n",
       "4                       6.0                       9.0  \n",
       "...                     ...                       ...  \n",
       "197423                 17.0                      23.0  \n",
       "197424                 11.0                      14.0  \n",
       "197425                 41.0                      40.0  \n",
       "197426                  7.0                      12.0  \n",
       "197427                 20.0                      23.0  \n",
       "\n",
       "[197428 rows x 14 columns]"
      ]
     },
     "execution_count": 20,
     "metadata": {},
     "output_type": "execute_result"
    }
   ],
   "source": [
    "df"
   ]
  },
  {
   "cell_type": "markdown",
   "id": "b67ea826",
   "metadata": {
    "papermill": {
     "duration": 0.012076,
     "end_time": "2025-03-13T13:40:34.941715",
     "exception": false,
     "start_time": "2025-03-13T13:40:34.929639",
     "status": "completed"
    },
    "tags": []
   },
   "source": [
    "**Dropping columns 'market_id, 'store_id', 'store_primary_category'**"
   ]
  },
  {
   "cell_type": "markdown",
   "id": "4f4d91f1",
   "metadata": {
    "papermill": {
     "duration": 0.011567,
     "end_time": "2025-03-13T13:40:34.964843",
     "exception": false,
     "start_time": "2025-03-13T13:40:34.953276",
     "status": "completed"
    },
    "tags": []
   },
   "source": [
    "Dropping the columns 'market_id', 'store_id', and 'store_primary_category' as they are not relevant to the given business context."
   ]
  },
  {
   "cell_type": "code",
   "execution_count": 21,
   "id": "a73350f4",
   "metadata": {
    "execution": {
     "iopub.execute_input": "2025-03-13T13:40:34.988992Z",
     "iopub.status.busy": "2025-03-13T13:40:34.988690Z",
     "iopub.status.idle": "2025-03-13T13:40:35.005278Z",
     "shell.execute_reply": "2025-03-13T13:40:35.004327Z"
    },
    "papermill": {
     "duration": 0.030103,
     "end_time": "2025-03-13T13:40:35.006565",
     "exception": false,
     "start_time": "2025-03-13T13:40:34.976462",
     "status": "completed"
    },
    "tags": []
   },
   "outputs": [],
   "source": [
    "df = df.drop(columns = ['market_id', 'store_id', 'store_primary_category'])"
   ]
  },
  {
   "cell_type": "code",
   "execution_count": 22,
   "id": "942f33ac",
   "metadata": {
    "execution": {
     "iopub.execute_input": "2025-03-13T13:40:35.030715Z",
     "iopub.status.busy": "2025-03-13T13:40:35.030430Z",
     "iopub.status.idle": "2025-03-13T13:40:35.044366Z",
     "shell.execute_reply": "2025-03-13T13:40:35.043499Z"
    },
    "papermill": {
     "duration": 0.027294,
     "end_time": "2025-03-13T13:40:35.045604",
     "exception": false,
     "start_time": "2025-03-13T13:40:35.018310",
     "status": "completed"
    },
    "tags": []
   },
   "outputs": [
    {
     "data": {
      "text/html": [
       "<div>\n",
       "<style scoped>\n",
       "    .dataframe tbody tr th:only-of-type {\n",
       "        vertical-align: middle;\n",
       "    }\n",
       "\n",
       "    .dataframe tbody tr th {\n",
       "        vertical-align: top;\n",
       "    }\n",
       "\n",
       "    .dataframe thead th {\n",
       "        text-align: right;\n",
       "    }\n",
       "</style>\n",
       "<table border=\"1\" class=\"dataframe\">\n",
       "  <thead>\n",
       "    <tr style=\"text-align: right;\">\n",
       "      <th></th>\n",
       "      <th>created_at</th>\n",
       "      <th>actual_delivery_time</th>\n",
       "      <th>order_protocol</th>\n",
       "      <th>total_items</th>\n",
       "      <th>subtotal</th>\n",
       "      <th>num_distinct_items</th>\n",
       "      <th>min_item_price</th>\n",
       "      <th>max_item_price</th>\n",
       "      <th>total_onshift_partners</th>\n",
       "      <th>total_busy_partners</th>\n",
       "      <th>total_outstanding_orders</th>\n",
       "    </tr>\n",
       "  </thead>\n",
       "  <tbody>\n",
       "    <tr>\n",
       "      <th>0</th>\n",
       "      <td>2015-02-06 22:24:17</td>\n",
       "      <td>2015-02-06 23:27:16</td>\n",
       "      <td>1.0</td>\n",
       "      <td>4</td>\n",
       "      <td>3441</td>\n",
       "      <td>4</td>\n",
       "      <td>557</td>\n",
       "      <td>1239</td>\n",
       "      <td>33.0</td>\n",
       "      <td>14.0</td>\n",
       "      <td>21.0</td>\n",
       "    </tr>\n",
       "    <tr>\n",
       "      <th>1</th>\n",
       "      <td>2015-02-10 21:49:25</td>\n",
       "      <td>2015-02-10 22:56:29</td>\n",
       "      <td>2.0</td>\n",
       "      <td>1</td>\n",
       "      <td>1900</td>\n",
       "      <td>1</td>\n",
       "      <td>1400</td>\n",
       "      <td>1400</td>\n",
       "      <td>1.0</td>\n",
       "      <td>2.0</td>\n",
       "      <td>2.0</td>\n",
       "    </tr>\n",
       "    <tr>\n",
       "      <th>2</th>\n",
       "      <td>2015-01-22 20:39:28</td>\n",
       "      <td>2015-01-22 21:09:09</td>\n",
       "      <td>1.0</td>\n",
       "      <td>1</td>\n",
       "      <td>1900</td>\n",
       "      <td>1</td>\n",
       "      <td>1900</td>\n",
       "      <td>1900</td>\n",
       "      <td>1.0</td>\n",
       "      <td>0.0</td>\n",
       "      <td>0.0</td>\n",
       "    </tr>\n",
       "    <tr>\n",
       "      <th>3</th>\n",
       "      <td>2015-02-03 21:21:45</td>\n",
       "      <td>2015-02-03 22:13:00</td>\n",
       "      <td>1.0</td>\n",
       "      <td>6</td>\n",
       "      <td>6900</td>\n",
       "      <td>5</td>\n",
       "      <td>600</td>\n",
       "      <td>1800</td>\n",
       "      <td>1.0</td>\n",
       "      <td>1.0</td>\n",
       "      <td>2.0</td>\n",
       "    </tr>\n",
       "    <tr>\n",
       "      <th>4</th>\n",
       "      <td>2015-02-15 02:40:36</td>\n",
       "      <td>2015-02-15 03:20:26</td>\n",
       "      <td>1.0</td>\n",
       "      <td>3</td>\n",
       "      <td>3900</td>\n",
       "      <td>3</td>\n",
       "      <td>1100</td>\n",
       "      <td>1600</td>\n",
       "      <td>6.0</td>\n",
       "      <td>6.0</td>\n",
       "      <td>9.0</td>\n",
       "    </tr>\n",
       "    <tr>\n",
       "      <th>...</th>\n",
       "      <td>...</td>\n",
       "      <td>...</td>\n",
       "      <td>...</td>\n",
       "      <td>...</td>\n",
       "      <td>...</td>\n",
       "      <td>...</td>\n",
       "      <td>...</td>\n",
       "      <td>...</td>\n",
       "      <td>...</td>\n",
       "      <td>...</td>\n",
       "      <td>...</td>\n",
       "    </tr>\n",
       "    <tr>\n",
       "      <th>197423</th>\n",
       "      <td>2015-02-17 00:19:41</td>\n",
       "      <td>2015-02-17 01:24:48</td>\n",
       "      <td>4.0</td>\n",
       "      <td>3</td>\n",
       "      <td>1389</td>\n",
       "      <td>3</td>\n",
       "      <td>345</td>\n",
       "      <td>649</td>\n",
       "      <td>17.0</td>\n",
       "      <td>17.0</td>\n",
       "      <td>23.0</td>\n",
       "    </tr>\n",
       "    <tr>\n",
       "      <th>197424</th>\n",
       "      <td>2015-02-13 00:01:59</td>\n",
       "      <td>2015-02-13 00:58:22</td>\n",
       "      <td>4.0</td>\n",
       "      <td>6</td>\n",
       "      <td>3010</td>\n",
       "      <td>4</td>\n",
       "      <td>405</td>\n",
       "      <td>825</td>\n",
       "      <td>12.0</td>\n",
       "      <td>11.0</td>\n",
       "      <td>14.0</td>\n",
       "    </tr>\n",
       "    <tr>\n",
       "      <th>197425</th>\n",
       "      <td>2015-01-24 04:46:08</td>\n",
       "      <td>2015-01-24 05:36:16</td>\n",
       "      <td>4.0</td>\n",
       "      <td>5</td>\n",
       "      <td>1836</td>\n",
       "      <td>3</td>\n",
       "      <td>300</td>\n",
       "      <td>399</td>\n",
       "      <td>39.0</td>\n",
       "      <td>41.0</td>\n",
       "      <td>40.0</td>\n",
       "    </tr>\n",
       "    <tr>\n",
       "      <th>197426</th>\n",
       "      <td>2015-02-01 18:18:15</td>\n",
       "      <td>2015-02-01 19:23:22</td>\n",
       "      <td>1.0</td>\n",
       "      <td>1</td>\n",
       "      <td>1175</td>\n",
       "      <td>1</td>\n",
       "      <td>535</td>\n",
       "      <td>535</td>\n",
       "      <td>7.0</td>\n",
       "      <td>7.0</td>\n",
       "      <td>12.0</td>\n",
       "    </tr>\n",
       "    <tr>\n",
       "      <th>197427</th>\n",
       "      <td>2015-02-08 19:24:33</td>\n",
       "      <td>2015-02-08 20:01:41</td>\n",
       "      <td>1.0</td>\n",
       "      <td>4</td>\n",
       "      <td>2605</td>\n",
       "      <td>4</td>\n",
       "      <td>425</td>\n",
       "      <td>750</td>\n",
       "      <td>20.0</td>\n",
       "      <td>20.0</td>\n",
       "      <td>23.0</td>\n",
       "    </tr>\n",
       "  </tbody>\n",
       "</table>\n",
       "<p>197428 rows × 11 columns</p>\n",
       "</div>"
      ],
      "text/plain": [
       "                 created_at actual_delivery_time  order_protocol  total_items  \\\n",
       "0       2015-02-06 22:24:17  2015-02-06 23:27:16             1.0            4   \n",
       "1       2015-02-10 21:49:25  2015-02-10 22:56:29             2.0            1   \n",
       "2       2015-01-22 20:39:28  2015-01-22 21:09:09             1.0            1   \n",
       "3       2015-02-03 21:21:45  2015-02-03 22:13:00             1.0            6   \n",
       "4       2015-02-15 02:40:36  2015-02-15 03:20:26             1.0            3   \n",
       "...                     ...                  ...             ...          ...   \n",
       "197423  2015-02-17 00:19:41  2015-02-17 01:24:48             4.0            3   \n",
       "197424  2015-02-13 00:01:59  2015-02-13 00:58:22             4.0            6   \n",
       "197425  2015-01-24 04:46:08  2015-01-24 05:36:16             4.0            5   \n",
       "197426  2015-02-01 18:18:15  2015-02-01 19:23:22             1.0            1   \n",
       "197427  2015-02-08 19:24:33  2015-02-08 20:01:41             1.0            4   \n",
       "\n",
       "        subtotal  num_distinct_items  min_item_price  max_item_price  \\\n",
       "0           3441                   4             557            1239   \n",
       "1           1900                   1            1400            1400   \n",
       "2           1900                   1            1900            1900   \n",
       "3           6900                   5             600            1800   \n",
       "4           3900                   3            1100            1600   \n",
       "...          ...                 ...             ...             ...   \n",
       "197423      1389                   3             345             649   \n",
       "197424      3010                   4             405             825   \n",
       "197425      1836                   3             300             399   \n",
       "197426      1175                   1             535             535   \n",
       "197427      2605                   4             425             750   \n",
       "\n",
       "        total_onshift_partners  total_busy_partners  total_outstanding_orders  \n",
       "0                         33.0                 14.0                      21.0  \n",
       "1                          1.0                  2.0                       2.0  \n",
       "2                          1.0                  0.0                       0.0  \n",
       "3                          1.0                  1.0                       2.0  \n",
       "4                          6.0                  6.0                       9.0  \n",
       "...                        ...                  ...                       ...  \n",
       "197423                    17.0                 17.0                      23.0  \n",
       "197424                    12.0                 11.0                      14.0  \n",
       "197425                    39.0                 41.0                      40.0  \n",
       "197426                     7.0                  7.0                      12.0  \n",
       "197427                    20.0                 20.0                      23.0  \n",
       "\n",
       "[197428 rows x 11 columns]"
      ]
     },
     "execution_count": 22,
     "metadata": {},
     "output_type": "execute_result"
    }
   ],
   "source": [
    "df"
   ]
  },
  {
   "cell_type": "markdown",
   "id": "d8a92e31",
   "metadata": {
    "papermill": {
     "duration": 0.011656,
     "end_time": "2025-03-13T13:40:35.069146",
     "exception": false,
     "start_time": "2025-03-13T13:40:35.057490",
     "status": "completed"
    },
    "tags": []
   },
   "source": [
    "**Handling Missing Values in Continuos Columns"
   ]
  },
  {
   "cell_type": "code",
   "execution_count": 23,
   "id": "4a2b6efb",
   "metadata": {
    "execution": {
     "iopub.execute_input": "2025-03-13T13:40:35.093847Z",
     "iopub.status.busy": "2025-03-13T13:40:35.093551Z",
     "iopub.status.idle": "2025-03-13T13:40:35.110285Z",
     "shell.execute_reply": "2025-03-13T13:40:35.109428Z"
    },
    "papermill": {
     "duration": 0.030557,
     "end_time": "2025-03-13T13:40:35.111598",
     "exception": false,
     "start_time": "2025-03-13T13:40:35.081041",
     "status": "completed"
    },
    "tags": []
   },
   "outputs": [
    {
     "name": "stdout",
     "output_type": "stream",
     "text": [
      "0.8607580961811951\n",
      "0.7824625946552558\n",
      "1.1953217621678773\n"
     ]
    }
   ],
   "source": [
    "print(df['total_onshift_partners'].skew())\n",
    "print(df['total_busy_partners'].skew())\n",
    "print(df['total_outstanding_orders'].skew())\n"
   ]
  },
  {
   "cell_type": "markdown",
   "id": "df26db4e",
   "metadata": {
    "papermill": {
     "duration": 0.011729,
     "end_time": "2025-03-13T13:40:35.135700",
     "exception": false,
     "start_time": "2025-03-13T13:40:35.123971",
     "status": "completed"
    },
    "tags": []
   },
   "source": [
    "**Inference**:\n",
    "\n",
    "Since all three columns are right-skewed, median imputation is the appropriate method to fill the missing values in these columns."
   ]
  },
  {
   "cell_type": "code",
   "execution_count": 24,
   "id": "f4f90e7f",
   "metadata": {
    "execution": {
     "iopub.execute_input": "2025-03-13T13:40:35.162166Z",
     "iopub.status.busy": "2025-03-13T13:40:35.161820Z",
     "iopub.status.idle": "2025-03-13T13:40:35.175648Z",
     "shell.execute_reply": "2025-03-13T13:40:35.174708Z"
    },
    "papermill": {
     "duration": 0.028787,
     "end_time": "2025-03-13T13:40:35.177001",
     "exception": false,
     "start_time": "2025-03-13T13:40:35.148214",
     "status": "completed"
    },
    "tags": []
   },
   "outputs": [],
   "source": [
    "cols = ['total_onshift_partners', 'total_busy_partners', 'total_outstanding_orders']\n",
    "for col in  cols:\n",
    "    df[col].fillna(df[col].median(), inplace=True)"
   ]
  },
  {
   "cell_type": "code",
   "execution_count": 25,
   "id": "1bb24438",
   "metadata": {
    "execution": {
     "iopub.execute_input": "2025-03-13T13:40:35.202032Z",
     "iopub.status.busy": "2025-03-13T13:40:35.201797Z",
     "iopub.status.idle": "2025-03-13T13:40:35.237616Z",
     "shell.execute_reply": "2025-03-13T13:40:35.236882Z"
    },
    "papermill": {
     "duration": 0.049877,
     "end_time": "2025-03-13T13:40:35.239009",
     "exception": false,
     "start_time": "2025-03-13T13:40:35.189132",
     "status": "completed"
    },
    "tags": []
   },
   "outputs": [
    {
     "data": {
      "text/plain": [
       "created_at                  0\n",
       "actual_delivery_time        7\n",
       "order_protocol              0\n",
       "total_items                 0\n",
       "subtotal                    0\n",
       "num_distinct_items          0\n",
       "min_item_price              0\n",
       "max_item_price              0\n",
       "total_onshift_partners      0\n",
       "total_busy_partners         0\n",
       "total_outstanding_orders    0\n",
       "dtype: int64"
      ]
     },
     "execution_count": 25,
     "metadata": {},
     "output_type": "execute_result"
    }
   ],
   "source": [
    "df.isnull().sum()"
   ]
  },
  {
   "cell_type": "markdown",
   "id": "735b93bd",
   "metadata": {
    "papermill": {
     "duration": 0.012024,
     "end_time": "2025-03-13T13:40:35.263545",
     "exception": false,
     "start_time": "2025-03-13T13:40:35.251521",
     "status": "completed"
    },
    "tags": []
   },
   "source": [
    "**Dropping remaining Null Values**"
   ]
  },
  {
   "cell_type": "code",
   "execution_count": 26,
   "id": "26b34f50",
   "metadata": {
    "execution": {
     "iopub.execute_input": "2025-03-13T13:40:35.326465Z",
     "iopub.status.busy": "2025-03-13T13:40:35.326179Z",
     "iopub.status.idle": "2025-03-13T13:40:35.392470Z",
     "shell.execute_reply": "2025-03-13T13:40:35.391582Z"
    },
    "papermill": {
     "duration": 0.118263,
     "end_time": "2025-03-13T13:40:35.393844",
     "exception": false,
     "start_time": "2025-03-13T13:40:35.275581",
     "status": "completed"
    },
    "tags": []
   },
   "outputs": [
    {
     "data": {
      "text/plain": [
       "created_at                  0\n",
       "actual_delivery_time        0\n",
       "order_protocol              0\n",
       "total_items                 0\n",
       "subtotal                    0\n",
       "num_distinct_items          0\n",
       "min_item_price              0\n",
       "max_item_price              0\n",
       "total_onshift_partners      0\n",
       "total_busy_partners         0\n",
       "total_outstanding_orders    0\n",
       "dtype: int64"
      ]
     },
     "execution_count": 26,
     "metadata": {},
     "output_type": "execute_result"
    }
   ],
   "source": [
    "df.dropna(inplace=True)\n",
    "df.isnull().sum()"
   ]
  },
  {
   "cell_type": "code",
   "execution_count": 27,
   "id": "2f37f76d",
   "metadata": {
    "execution": {
     "iopub.execute_input": "2025-03-13T13:40:35.419255Z",
     "iopub.status.busy": "2025-03-13T13:40:35.418968Z",
     "iopub.status.idle": "2025-03-13T13:40:35.423483Z",
     "shell.execute_reply": "2025-03-13T13:40:35.422815Z"
    },
    "papermill": {
     "duration": 0.018214,
     "end_time": "2025-03-13T13:40:35.424696",
     "exception": false,
     "start_time": "2025-03-13T13:40:35.406482",
     "status": "completed"
    },
    "tags": []
   },
   "outputs": [
    {
     "data": {
      "text/plain": [
       "(197421, 11)"
      ]
     },
     "execution_count": 27,
     "metadata": {},
     "output_type": "execute_result"
    }
   ],
   "source": [
    "df.shape"
   ]
  }
 ],
 "metadata": {
  "kaggle": {
   "accelerator": "gpu",
   "dataSources": [
    {
     "datasetId": 6826082,
     "sourceId": 10970481,
     "sourceType": "datasetVersion"
    }
   ],
   "dockerImageVersionId": 30919,
   "isGpuEnabled": true,
   "isInternetEnabled": true,
   "language": "python",
   "sourceType": "notebook"
  },
  "kernelspec": {
   "display_name": "Python 3",
   "language": "python",
   "name": "python3"
  },
  "language_info": {
   "codemirror_mode": {
    "name": "ipython",
    "version": 3
   },
   "file_extension": ".py",
   "mimetype": "text/x-python",
   "name": "python",
   "nbconvert_exporter": "python",
   "pygments_lexer": "ipython3",
   "version": "3.10.12"
  },
  "papermill": {
   "default_parameters": {},
   "duration": 10.985454,
   "end_time": "2025-03-13T13:40:36.053927",
   "environment_variables": {},
   "exception": null,
   "input_path": "__notebook__.ipynb",
   "output_path": "__notebook__.ipynb",
   "parameters": {},
   "start_time": "2025-03-13T13:40:25.068473",
   "version": "2.6.0"
  }
 },
 "nbformat": 4,
 "nbformat_minor": 5
}
