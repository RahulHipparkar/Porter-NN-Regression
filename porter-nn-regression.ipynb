{
 "cells": [
  {
   "cell_type": "markdown",
   "id": "7e8beeda",
   "metadata": {
    "papermill": {
     "duration": 0.012175,
     "end_time": "2025-03-14T13:53:30.551953",
     "exception": false,
     "start_time": "2025-03-14T13:53:30.539778",
     "status": "completed"
    },
    "tags": []
   },
   "source": [
    "# 🏆 About Project "
   ]
  },
  {
   "cell_type": "markdown",
   "id": "97b72dd2",
   "metadata": {
    "papermill": {
     "duration": 0.010994,
     "end_time": "2025-03-14T13:53:30.574346",
     "exception": false,
     "start_time": "2025-03-14T13:53:30.563352",
     "status": "completed"
    },
    "tags": []
   },
   "source": [
    " **🎯 Objective**\n",
    "\n",
    " Porter is India's Largest Marketplace for Intra-City Logistics. Leader in the country's $40 billion intra-city logistics market, Porter strives to improve the lives of 1,50,000+ driver-partners by providing them with consistent earning & independence. Currently, the company has serviced 5+ million customers\n",
    "\n",
    "Porter works with a wide range of restaurants for delivering their items directly to the people.\n",
    "\n",
    "Porter has a number of delivery partners available for delivering the food, from various restaurants and wants to get an estimated delivery time that it can provide the customers on the basis of what they are ordering, from where and also the delivery partners.\n",
    "\n",
    "This dataset has the required data to train a regression model that will do the delivery time estimation, based on all those features\n",
    "\n"
   ]
  },
  {
   "cell_type": "markdown",
   "id": "b51242c3",
   "metadata": {
    "papermill": {
     "duration": 0.011525,
     "end_time": "2025-03-14T13:53:30.596767",
     "exception": false,
     "start_time": "2025-03-14T13:53:30.585242",
     "status": "completed"
    },
    "tags": []
   },
   "source": [
    "**📅 Data Dictionary**\n",
    "\n",
    "Each row in this file corresponds to one unique delivery. Each column corresponds to a feature as explained below.\n",
    "\n",
    "- market_id : integer id for the market where the restaurant lies\n",
    "- created_at : the timestamp at which the order was placed\n",
    "- actual_delivery_time : the timestamp when the order was delivered\n",
    "- store_primary_category : category for the restaurant\n",
    "- order_protocol : integer code value for order protocol(how the order was placed ie: through porter, call to restaurant, pre booked, third part etc)\n",
    "- total_items subtotal : final price of the order\n",
    "- num_distinct_items : the number of distinct items in the order\n",
    "- min_item_price : price of the cheapest item in the order\n",
    "- max_item_price : price of the costliest item in order\n",
    "- total_onshift_partners : number of delivery partners on duty at the time order was placed\n",
    "- total_busy_partners : number of delivery partners attending to other tasks\n",
    "- total_outstanding_orders : total number of orders to be fulfilled at the moment"
   ]
  },
  {
   "cell_type": "markdown",
   "id": "3c63d209",
   "metadata": {
    "papermill": {
     "duration": 0.010788,
     "end_time": "2025-03-14T13:53:30.618402",
     "exception": false,
     "start_time": "2025-03-14T13:53:30.607614",
     "status": "completed"
    },
    "tags": []
   },
   "source": [
    "# 🚀 Let's Get Started"
   ]
  },
  {
   "cell_type": "markdown",
   "id": "a1ea2f82",
   "metadata": {
    "papermill": {
     "duration": 0.011096,
     "end_time": "2025-03-14T13:53:30.640265",
     "exception": false,
     "start_time": "2025-03-14T13:53:30.629169",
     "status": "completed"
    },
    "tags": []
   },
   "source": [
    "##  📚 Importing Libraries"
   ]
  },
  {
   "cell_type": "code",
   "execution_count": 1,
   "id": "747edd9a",
   "metadata": {
    "execution": {
     "iopub.execute_input": "2025-03-14T13:53:30.666133Z",
     "iopub.status.busy": "2025-03-14T13:53:30.665790Z",
     "iopub.status.idle": "2025-03-14T13:53:33.462053Z",
     "shell.execute_reply": "2025-03-14T13:53:33.461248Z"
    },
    "papermill": {
     "duration": 2.811652,
     "end_time": "2025-03-14T13:53:33.463734",
     "exception": false,
     "start_time": "2025-03-14T13:53:30.652082",
     "status": "completed"
    },
    "tags": []
   },
   "outputs": [],
   "source": [
    "import numpy as np \n",
    "import pandas as pd \n",
    "import matplotlib.pyplot as plt\n",
    "import seaborn as sns\n",
    "import plotly.graph_objs as go\n",
    "import plotly.subplots as sp\n",
    "from plotly.subplots import make_subplots\n",
    "import plotly.express as px\n",
    "import warnings\n",
    "import time\n",
    "import datetime as dt\n",
    "warnings.filterwarnings(\"ignore\")"
   ]
  },
  {
   "cell_type": "markdown",
   "id": "79d47dde",
   "metadata": {
    "papermill": {
     "duration": 0.012419,
     "end_time": "2025-03-14T13:53:33.487953",
     "exception": false,
     "start_time": "2025-03-14T13:53:33.475534",
     "status": "completed"
    },
    "tags": []
   },
   "source": [
    "## 📅 Importing Dataset"
   ]
  },
  {
   "cell_type": "code",
   "execution_count": 2,
   "id": "d58c435d",
   "metadata": {
    "execution": {
     "iopub.execute_input": "2025-03-14T13:53:33.510723Z",
     "iopub.status.busy": "2025-03-14T13:53:33.510301Z",
     "iopub.status.idle": "2025-03-14T13:53:34.230718Z",
     "shell.execute_reply": "2025-03-14T13:53:34.229812Z"
    },
    "papermill": {
     "duration": 0.733483,
     "end_time": "2025-03-14T13:53:34.232292",
     "exception": false,
     "start_time": "2025-03-14T13:53:33.498809",
     "status": "completed"
    },
    "tags": []
   },
   "outputs": [
    {
     "data": {
      "text/html": [
       "<div>\n",
       "<style scoped>\n",
       "    .dataframe tbody tr th:only-of-type {\n",
       "        vertical-align: middle;\n",
       "    }\n",
       "\n",
       "    .dataframe tbody tr th {\n",
       "        vertical-align: top;\n",
       "    }\n",
       "\n",
       "    .dataframe thead th {\n",
       "        text-align: right;\n",
       "    }\n",
       "</style>\n",
       "<table border=\"1\" class=\"dataframe\">\n",
       "  <thead>\n",
       "    <tr style=\"text-align: right;\">\n",
       "      <th></th>\n",
       "      <th>market_id</th>\n",
       "      <th>created_at</th>\n",
       "      <th>actual_delivery_time</th>\n",
       "      <th>store_id</th>\n",
       "      <th>store_primary_category</th>\n",
       "      <th>order_protocol</th>\n",
       "      <th>total_items</th>\n",
       "      <th>subtotal</th>\n",
       "      <th>num_distinct_items</th>\n",
       "      <th>min_item_price</th>\n",
       "      <th>max_item_price</th>\n",
       "      <th>total_onshift_partners</th>\n",
       "      <th>total_busy_partners</th>\n",
       "      <th>total_outstanding_orders</th>\n",
       "    </tr>\n",
       "  </thead>\n",
       "  <tbody>\n",
       "    <tr>\n",
       "      <th>0</th>\n",
       "      <td>1.0</td>\n",
       "      <td>2015-02-06 22:24:17</td>\n",
       "      <td>2015-02-06 23:27:16</td>\n",
       "      <td>df263d996281d984952c07998dc54358</td>\n",
       "      <td>american</td>\n",
       "      <td>1.0</td>\n",
       "      <td>4</td>\n",
       "      <td>3441</td>\n",
       "      <td>4</td>\n",
       "      <td>557</td>\n",
       "      <td>1239</td>\n",
       "      <td>33.0</td>\n",
       "      <td>14.0</td>\n",
       "      <td>21.0</td>\n",
       "    </tr>\n",
       "    <tr>\n",
       "      <th>1</th>\n",
       "      <td>2.0</td>\n",
       "      <td>2015-02-10 21:49:25</td>\n",
       "      <td>2015-02-10 22:56:29</td>\n",
       "      <td>f0ade77b43923b38237db569b016ba25</td>\n",
       "      <td>mexican</td>\n",
       "      <td>2.0</td>\n",
       "      <td>1</td>\n",
       "      <td>1900</td>\n",
       "      <td>1</td>\n",
       "      <td>1400</td>\n",
       "      <td>1400</td>\n",
       "      <td>1.0</td>\n",
       "      <td>2.0</td>\n",
       "      <td>2.0</td>\n",
       "    </tr>\n",
       "    <tr>\n",
       "      <th>2</th>\n",
       "      <td>3.0</td>\n",
       "      <td>2015-01-22 20:39:28</td>\n",
       "      <td>2015-01-22 21:09:09</td>\n",
       "      <td>f0ade77b43923b38237db569b016ba25</td>\n",
       "      <td>NaN</td>\n",
       "      <td>1.0</td>\n",
       "      <td>1</td>\n",
       "      <td>1900</td>\n",
       "      <td>1</td>\n",
       "      <td>1900</td>\n",
       "      <td>1900</td>\n",
       "      <td>1.0</td>\n",
       "      <td>0.0</td>\n",
       "      <td>0.0</td>\n",
       "    </tr>\n",
       "    <tr>\n",
       "      <th>3</th>\n",
       "      <td>3.0</td>\n",
       "      <td>2015-02-03 21:21:45</td>\n",
       "      <td>2015-02-03 22:13:00</td>\n",
       "      <td>f0ade77b43923b38237db569b016ba25</td>\n",
       "      <td>NaN</td>\n",
       "      <td>1.0</td>\n",
       "      <td>6</td>\n",
       "      <td>6900</td>\n",
       "      <td>5</td>\n",
       "      <td>600</td>\n",
       "      <td>1800</td>\n",
       "      <td>1.0</td>\n",
       "      <td>1.0</td>\n",
       "      <td>2.0</td>\n",
       "    </tr>\n",
       "    <tr>\n",
       "      <th>4</th>\n",
       "      <td>3.0</td>\n",
       "      <td>2015-02-15 02:40:36</td>\n",
       "      <td>2015-02-15 03:20:26</td>\n",
       "      <td>f0ade77b43923b38237db569b016ba25</td>\n",
       "      <td>NaN</td>\n",
       "      <td>1.0</td>\n",
       "      <td>3</td>\n",
       "      <td>3900</td>\n",
       "      <td>3</td>\n",
       "      <td>1100</td>\n",
       "      <td>1600</td>\n",
       "      <td>6.0</td>\n",
       "      <td>6.0</td>\n",
       "      <td>9.0</td>\n",
       "    </tr>\n",
       "    <tr>\n",
       "      <th>...</th>\n",
       "      <td>...</td>\n",
       "      <td>...</td>\n",
       "      <td>...</td>\n",
       "      <td>...</td>\n",
       "      <td>...</td>\n",
       "      <td>...</td>\n",
       "      <td>...</td>\n",
       "      <td>...</td>\n",
       "      <td>...</td>\n",
       "      <td>...</td>\n",
       "      <td>...</td>\n",
       "      <td>...</td>\n",
       "      <td>...</td>\n",
       "      <td>...</td>\n",
       "    </tr>\n",
       "    <tr>\n",
       "      <th>197423</th>\n",
       "      <td>1.0</td>\n",
       "      <td>2015-02-17 00:19:41</td>\n",
       "      <td>2015-02-17 01:24:48</td>\n",
       "      <td>a914ecef9c12ffdb9bede64bb703d877</td>\n",
       "      <td>fast</td>\n",
       "      <td>4.0</td>\n",
       "      <td>3</td>\n",
       "      <td>1389</td>\n",
       "      <td>3</td>\n",
       "      <td>345</td>\n",
       "      <td>649</td>\n",
       "      <td>17.0</td>\n",
       "      <td>17.0</td>\n",
       "      <td>23.0</td>\n",
       "    </tr>\n",
       "    <tr>\n",
       "      <th>197424</th>\n",
       "      <td>1.0</td>\n",
       "      <td>2015-02-13 00:01:59</td>\n",
       "      <td>2015-02-13 00:58:22</td>\n",
       "      <td>a914ecef9c12ffdb9bede64bb703d877</td>\n",
       "      <td>fast</td>\n",
       "      <td>4.0</td>\n",
       "      <td>6</td>\n",
       "      <td>3010</td>\n",
       "      <td>4</td>\n",
       "      <td>405</td>\n",
       "      <td>825</td>\n",
       "      <td>12.0</td>\n",
       "      <td>11.0</td>\n",
       "      <td>14.0</td>\n",
       "    </tr>\n",
       "    <tr>\n",
       "      <th>197425</th>\n",
       "      <td>1.0</td>\n",
       "      <td>2015-01-24 04:46:08</td>\n",
       "      <td>2015-01-24 05:36:16</td>\n",
       "      <td>a914ecef9c12ffdb9bede64bb703d877</td>\n",
       "      <td>fast</td>\n",
       "      <td>4.0</td>\n",
       "      <td>5</td>\n",
       "      <td>1836</td>\n",
       "      <td>3</td>\n",
       "      <td>300</td>\n",
       "      <td>399</td>\n",
       "      <td>39.0</td>\n",
       "      <td>41.0</td>\n",
       "      <td>40.0</td>\n",
       "    </tr>\n",
       "    <tr>\n",
       "      <th>197426</th>\n",
       "      <td>1.0</td>\n",
       "      <td>2015-02-01 18:18:15</td>\n",
       "      <td>2015-02-01 19:23:22</td>\n",
       "      <td>c81e155d85dae5430a8cee6f2242e82c</td>\n",
       "      <td>sandwich</td>\n",
       "      <td>1.0</td>\n",
       "      <td>1</td>\n",
       "      <td>1175</td>\n",
       "      <td>1</td>\n",
       "      <td>535</td>\n",
       "      <td>535</td>\n",
       "      <td>7.0</td>\n",
       "      <td>7.0</td>\n",
       "      <td>12.0</td>\n",
       "    </tr>\n",
       "    <tr>\n",
       "      <th>197427</th>\n",
       "      <td>1.0</td>\n",
       "      <td>2015-02-08 19:24:33</td>\n",
       "      <td>2015-02-08 20:01:41</td>\n",
       "      <td>c81e155d85dae5430a8cee6f2242e82c</td>\n",
       "      <td>sandwich</td>\n",
       "      <td>1.0</td>\n",
       "      <td>4</td>\n",
       "      <td>2605</td>\n",
       "      <td>4</td>\n",
       "      <td>425</td>\n",
       "      <td>750</td>\n",
       "      <td>20.0</td>\n",
       "      <td>20.0</td>\n",
       "      <td>23.0</td>\n",
       "    </tr>\n",
       "  </tbody>\n",
       "</table>\n",
       "<p>197428 rows × 14 columns</p>\n",
       "</div>"
      ],
      "text/plain": [
       "        market_id           created_at actual_delivery_time  \\\n",
       "0             1.0  2015-02-06 22:24:17  2015-02-06 23:27:16   \n",
       "1             2.0  2015-02-10 21:49:25  2015-02-10 22:56:29   \n",
       "2             3.0  2015-01-22 20:39:28  2015-01-22 21:09:09   \n",
       "3             3.0  2015-02-03 21:21:45  2015-02-03 22:13:00   \n",
       "4             3.0  2015-02-15 02:40:36  2015-02-15 03:20:26   \n",
       "...           ...                  ...                  ...   \n",
       "197423        1.0  2015-02-17 00:19:41  2015-02-17 01:24:48   \n",
       "197424        1.0  2015-02-13 00:01:59  2015-02-13 00:58:22   \n",
       "197425        1.0  2015-01-24 04:46:08  2015-01-24 05:36:16   \n",
       "197426        1.0  2015-02-01 18:18:15  2015-02-01 19:23:22   \n",
       "197427        1.0  2015-02-08 19:24:33  2015-02-08 20:01:41   \n",
       "\n",
       "                                store_id store_primary_category  \\\n",
       "0       df263d996281d984952c07998dc54358               american   \n",
       "1       f0ade77b43923b38237db569b016ba25                mexican   \n",
       "2       f0ade77b43923b38237db569b016ba25                    NaN   \n",
       "3       f0ade77b43923b38237db569b016ba25                    NaN   \n",
       "4       f0ade77b43923b38237db569b016ba25                    NaN   \n",
       "...                                  ...                    ...   \n",
       "197423  a914ecef9c12ffdb9bede64bb703d877                   fast   \n",
       "197424  a914ecef9c12ffdb9bede64bb703d877                   fast   \n",
       "197425  a914ecef9c12ffdb9bede64bb703d877                   fast   \n",
       "197426  c81e155d85dae5430a8cee6f2242e82c               sandwich   \n",
       "197427  c81e155d85dae5430a8cee6f2242e82c               sandwich   \n",
       "\n",
       "        order_protocol  total_items  subtotal  num_distinct_items  \\\n",
       "0                  1.0            4      3441                   4   \n",
       "1                  2.0            1      1900                   1   \n",
       "2                  1.0            1      1900                   1   \n",
       "3                  1.0            6      6900                   5   \n",
       "4                  1.0            3      3900                   3   \n",
       "...                ...          ...       ...                 ...   \n",
       "197423             4.0            3      1389                   3   \n",
       "197424             4.0            6      3010                   4   \n",
       "197425             4.0            5      1836                   3   \n",
       "197426             1.0            1      1175                   1   \n",
       "197427             1.0            4      2605                   4   \n",
       "\n",
       "        min_item_price  max_item_price  total_onshift_partners  \\\n",
       "0                  557            1239                    33.0   \n",
       "1                 1400            1400                     1.0   \n",
       "2                 1900            1900                     1.0   \n",
       "3                  600            1800                     1.0   \n",
       "4                 1100            1600                     6.0   \n",
       "...                ...             ...                     ...   \n",
       "197423             345             649                    17.0   \n",
       "197424             405             825                    12.0   \n",
       "197425             300             399                    39.0   \n",
       "197426             535             535                     7.0   \n",
       "197427             425             750                    20.0   \n",
       "\n",
       "        total_busy_partners  total_outstanding_orders  \n",
       "0                      14.0                      21.0  \n",
       "1                       2.0                       2.0  \n",
       "2                       0.0                       0.0  \n",
       "3                       1.0                       2.0  \n",
       "4                       6.0                       9.0  \n",
       "...                     ...                       ...  \n",
       "197423                 17.0                      23.0  \n",
       "197424                 11.0                      14.0  \n",
       "197425                 41.0                      40.0  \n",
       "197426                  7.0                      12.0  \n",
       "197427                 20.0                      23.0  \n",
       "\n",
       "[197428 rows x 14 columns]"
      ]
     },
     "execution_count": 2,
     "metadata": {},
     "output_type": "execute_result"
    }
   ],
   "source": [
    "df = pd.read_csv('/kaggle/input/porter-dataset/dataset.csv')\n",
    "df"
   ]
  },
  {
   "cell_type": "markdown",
   "id": "c9f5eacd",
   "metadata": {
    "papermill": {
     "duration": 0.011337,
     "end_time": "2025-03-14T13:53:34.255595",
     "exception": false,
     "start_time": "2025-03-14T13:53:34.244258",
     "status": "completed"
    },
    "tags": []
   },
   "source": [
    "## 🎨 Custom Color Palette "
   ]
  },
  {
   "cell_type": "code",
   "execution_count": 3,
   "id": "2af36c54",
   "metadata": {
    "execution": {
     "iopub.execute_input": "2025-03-14T13:53:34.278207Z",
     "iopub.status.busy": "2025-03-14T13:53:34.277970Z",
     "iopub.status.idle": "2025-03-14T13:53:34.281665Z",
     "shell.execute_reply": "2025-03-14T13:53:34.280852Z"
    },
    "papermill": {
     "duration": 0.016491,
     "end_time": "2025-03-14T13:53:34.283042",
     "exception": false,
     "start_time": "2025-03-14T13:53:34.266551",
     "status": "completed"
    },
    "tags": []
   },
   "outputs": [],
   "source": [
    "def custom_palette(custom_colors):\n",
    "    customPalette = sns.set_palette(sns.color_palette(custom_colors))\n",
    "    sns.palplot(sns.color_palette(custom_colors),size=0.8)\n",
    "    plt.tick_params(axis='both', labelsize=0, length = 0)\n",
    "    "
   ]
  },
  {
   "cell_type": "code",
   "execution_count": 4,
   "id": "d87feab3",
   "metadata": {
    "execution": {
     "iopub.execute_input": "2025-03-14T13:53:34.305981Z",
     "iopub.status.busy": "2025-03-14T13:53:34.305677Z",
     "iopub.status.idle": "2025-03-14T13:53:34.461033Z",
     "shell.execute_reply": "2025-03-14T13:53:34.459877Z"
    },
    "papermill": {
     "duration": 0.168971,
     "end_time": "2025-03-14T13:53:34.463094",
     "exception": false,
     "start_time": "2025-03-14T13:53:34.294123",
     "status": "completed"
    },
    "tags": []
   },
   "outputs": [
    {
     "data": {
      "image/png": "[encoded data removed]",
      "text/plain": [
       "<Figure size 880x80 with 1 Axes>"
      ]
     },
     "metadata": {},
     "output_type": "display_data"
    }
   ],
   "source": [
    "#defining colour palette\n",
    "red = [\"#4f000b\",\"#720026\",\"#ce4257\",\"#ff7f51\",\"#ff9b54\"]\n",
    "bo = [\"#6930c3\",\"#5e60ce\",\"#0096c7\",\"#48cae4\",\"#ade8f4\",\"#ff7f51\",\"#ff9b54\",\"#ffbf69\"]\n",
    "pink = [\"#aa4465\",\"#dd2d4a\",\"#f26a8d\",\"#f49cbb\",\"#ffcbf2\",\"#e2afff\",\"#ff86c8\",\"#ffa3a5\",\"#ffbf81\",\"#e9b827\",\"#f9e576\"]\n",
    "custom_palette(pink)"
   ]
  },
  {
   "cell_type": "markdown",
   "id": "4864a10d",
   "metadata": {
    "papermill": {
     "duration": 0.015495,
     "end_time": "2025-03-14T13:53:34.494493",
     "exception": false,
     "start_time": "2025-03-14T13:53:34.478998",
     "status": "completed"
    },
    "tags": []
   },
   "source": [
    "##  💹 Basic Analysis"
   ]
  },
  {
   "cell_type": "markdown",
   "id": "33204b3f",
   "metadata": {
    "papermill": {
     "duration": 0.012265,
     "end_time": "2025-03-14T13:53:34.524072",
     "exception": false,
     "start_time": "2025-03-14T13:53:34.511807",
     "status": "completed"
    },
    "tags": []
   },
   "source": [
    "**Shape of the Data**"
   ]
  },
  {
   "cell_type": "code",
   "execution_count": 5,
   "id": "70b767a4",
   "metadata": {
    "execution": {
     "iopub.execute_input": "2025-03-14T13:53:34.549097Z",
     "iopub.status.busy": "2025-03-14T13:53:34.548753Z",
     "iopub.status.idle": "2025-03-14T13:53:34.553814Z",
     "shell.execute_reply": "2025-03-14T13:53:34.552970Z"
    },
    "papermill": {
     "duration": 0.019082,
     "end_time": "2025-03-14T13:53:34.555075",
     "exception": false,
     "start_time": "2025-03-14T13:53:34.535993",
     "status": "completed"
    },
    "tags": []
   },
   "outputs": [
    {
     "data": {
      "text/plain": [
       "(197428, 14)"
      ]
     },
     "execution_count": 5,
     "metadata": {},
     "output_type": "execute_result"
    }
   ],
   "source": [
    "df.shape"
   ]
  },
  {
   "cell_type": "markdown",
   "id": "49828656",
   "metadata": {
    "papermill": {
     "duration": 0.011653,
     "end_time": "2025-03-14T13:53:34.578593",
     "exception": false,
     "start_time": "2025-03-14T13:53:34.566940",
     "status": "completed"
    },
    "tags": []
   },
   "source": [
    "**Inference**:\n",
    "\n",
    "- Shape of dataframe is 197428 * 14\n",
    "- Number of rows = 197428\n",
    "- Number of columns = 14"
   ]
  },
  {
   "cell_type": "markdown",
   "id": "b5fa8d44",
   "metadata": {
    "papermill": {
     "duration": 0.014297,
     "end_time": "2025-03-14T13:53:34.608373",
     "exception": false,
     "start_time": "2025-03-14T13:53:34.594076",
     "status": "completed"
    },
    "tags": []
   },
   "source": [
    "**First 5 Rows**"
   ]
  },
  {
   "cell_type": "code",
   "execution_count": 6,
   "id": "a3899664",
   "metadata": {
    "execution": {
     "iopub.execute_input": "2025-03-14T13:53:34.645296Z",
     "iopub.status.busy": "2025-03-14T13:53:34.644866Z",
     "iopub.status.idle": "2025-03-14T13:53:34.665974Z",
     "shell.execute_reply": "2025-03-14T13:53:34.665071Z"
    },
    "papermill": {
     "duration": 0.037941,
     "end_time": "2025-03-14T13:53:34.667418",
     "exception": false,
     "start_time": "2025-03-14T13:53:34.629477",
     "status": "completed"
    },
    "tags": []
   },
   "outputs": [
    {
     "data": {
      "text/html": [
       "<div>\n",
       "<style scoped>\n",
       "    .dataframe tbody tr th:only-of-type {\n",
       "        vertical-align: middle;\n",
       "    }\n",
       "\n",
       "    .dataframe tbody tr th {\n",
       "        vertical-align: top;\n",
       "    }\n",
       "\n",
       "    .dataframe thead th {\n",
       "        text-align: right;\n",
       "    }\n",
       "</style>\n",
       "<table border=\"1\" class=\"dataframe\">\n",
       "  <thead>\n",
       "    <tr style=\"text-align: right;\">\n",
       "      <th></th>\n",
       "      <th>market_id</th>\n",
       "      <th>created_at</th>\n",
       "      <th>actual_delivery_time</th>\n",
       "      <th>store_id</th>\n",
       "      <th>store_primary_category</th>\n",
       "      <th>order_protocol</th>\n",
       "      <th>total_items</th>\n",
       "      <th>subtotal</th>\n",
       "      <th>num_distinct_items</th>\n",
       "      <th>min_item_price</th>\n",
       "      <th>max_item_price</th>\n",
       "      <th>total_onshift_partners</th>\n",
       "      <th>total_busy_partners</th>\n",
       "      <th>total_outstanding_orders</th>\n",
       "    </tr>\n",
       "  </thead>\n",
       "  <tbody>\n",
       "    <tr>\n",
       "      <th>0</th>\n",
       "      <td>1.0</td>\n",
       "      <td>2015-02-06 22:24:17</td>\n",
       "      <td>2015-02-06 23:27:16</td>\n",
       "      <td>df263d996281d984952c07998dc54358</td>\n",
       "      <td>american</td>\n",
       "      <td>1.0</td>\n",
       "      <td>4</td>\n",
       "      <td>3441</td>\n",
       "      <td>4</td>\n",
       "      <td>557</td>\n",
       "      <td>1239</td>\n",
       "      <td>33.0</td>\n",
       "      <td>14.0</td>\n",
       "      <td>21.0</td>\n",
       "    </tr>\n",
       "    <tr>\n",
       "      <th>1</th>\n",
       "      <td>2.0</td>\n",
       "      <td>2015-02-10 21:49:25</td>\n",
       "      <td>2015-02-10 22:56:29</td>\n",
       "      <td>f0ade77b43923b38237db569b016ba25</td>\n",
       "      <td>mexican</td>\n",
       "      <td>2.0</td>\n",
       "      <td>1</td>\n",
       "      <td>1900</td>\n",
       "      <td>1</td>\n",
       "      <td>1400</td>\n",
       "      <td>1400</td>\n",
       "      <td>1.0</td>\n",
       "      <td>2.0</td>\n",
       "      <td>2.0</td>\n",
       "    </tr>\n",
       "    <tr>\n",
       "      <th>2</th>\n",
       "      <td>3.0</td>\n",
       "      <td>2015-01-22 20:39:28</td>\n",
       "      <td>2015-01-22 21:09:09</td>\n",
       "      <td>f0ade77b43923b38237db569b016ba25</td>\n",
       "      <td>NaN</td>\n",
       "      <td>1.0</td>\n",
       "      <td>1</td>\n",
       "      <td>1900</td>\n",
       "      <td>1</td>\n",
       "      <td>1900</td>\n",
       "      <td>1900</td>\n",
       "      <td>1.0</td>\n",
       "      <td>0.0</td>\n",
       "      <td>0.0</td>\n",
       "    </tr>\n",
       "    <tr>\n",
       "      <th>3</th>\n",
       "      <td>3.0</td>\n",
       "      <td>2015-02-03 21:21:45</td>\n",
       "      <td>2015-02-03 22:13:00</td>\n",
       "      <td>f0ade77b43923b38237db569b016ba25</td>\n",
       "      <td>NaN</td>\n",
       "      <td>1.0</td>\n",
       "      <td>6</td>\n",
       "      <td>6900</td>\n",
       "      <td>5</td>\n",
       "      <td>600</td>\n",
       "      <td>1800</td>\n",
       "      <td>1.0</td>\n",
       "      <td>1.0</td>\n",
       "      <td>2.0</td>\n",
       "    </tr>\n",
       "    <tr>\n",
       "      <th>4</th>\n",
       "      <td>3.0</td>\n",
       "      <td>2015-02-15 02:40:36</td>\n",
       "      <td>2015-02-15 03:20:26</td>\n",
       "      <td>f0ade77b43923b38237db569b016ba25</td>\n",
       "      <td>NaN</td>\n",
       "      <td>1.0</td>\n",
       "      <td>3</td>\n",
       "      <td>3900</td>\n",
       "      <td>3</td>\n",
       "      <td>1100</td>\n",
       "      <td>1600</td>\n",
       "      <td>6.0</td>\n",
       "      <td>6.0</td>\n",
       "      <td>9.0</td>\n",
       "    </tr>\n",
       "  </tbody>\n",
       "</table>\n",
       "</div>"
      ],
      "text/plain": [
       "   market_id           created_at actual_delivery_time  \\\n",
       "0        1.0  2015-02-06 22:24:17  2015-02-06 23:27:16   \n",
       "1        2.0  2015-02-10 21:49:25  2015-02-10 22:56:29   \n",
       "2        3.0  2015-01-22 20:39:28  2015-01-22 21:09:09   \n",
       "3        3.0  2015-02-03 21:21:45  2015-02-03 22:13:00   \n",
       "4        3.0  2015-02-15 02:40:36  2015-02-15 03:20:26   \n",
       "\n",
       "                           store_id store_primary_category  order_protocol  \\\n",
       "0  df263d996281d984952c07998dc54358               american             1.0   \n",
       "1  f0ade77b43923b38237db569b016ba25                mexican             2.0   \n",
       "2  f0ade77b43923b38237db569b016ba25                    NaN             1.0   \n",
       "3  f0ade77b43923b38237db569b016ba25                    NaN             1.0   \n",
       "4  f0ade77b43923b38237db569b016ba25                    NaN             1.0   \n",
       "\n",
       "   total_items  subtotal  num_distinct_items  min_item_price  max_item_price  \\\n",
       "0            4      3441                   4             557            1239   \n",
       "1            1      1900                   1            1400            1400   \n",
       "2            1      1900                   1            1900            1900   \n",
       "3            6      6900                   5             600            1800   \n",
       "4            3      3900                   3            1100            1600   \n",
       "\n",
       "   total_onshift_partners  total_busy_partners  total_outstanding_orders  \n",
       "0                    33.0                 14.0                      21.0  \n",
       "1                     1.0                  2.0                       2.0  \n",
       "2                     1.0                  0.0                       0.0  \n",
       "3                     1.0                  1.0                       2.0  \n",
       "4                     6.0                  6.0                       9.0  "
      ]
     },
     "execution_count": 6,
     "metadata": {},
     "output_type": "execute_result"
    }
   ],
   "source": [
    "df.head()"
   ]
  },
  {
   "cell_type": "markdown",
   "id": "d5aafa0d",
   "metadata": {
    "papermill": {
     "duration": 0.012395,
     "end_time": "2025-03-14T13:53:34.693511",
     "exception": false,
     "start_time": "2025-03-14T13:53:34.681116",
     "status": "completed"
    },
    "tags": []
   },
   "source": [
    "**Columns in a Dataframe**"
   ]
  },
  {
   "cell_type": "code",
   "execution_count": 7,
   "id": "4cb82266",
   "metadata": {
    "execution": {
     "iopub.execute_input": "2025-03-14T13:53:34.718700Z",
     "iopub.status.busy": "2025-03-14T13:53:34.718428Z",
     "iopub.status.idle": "2025-03-14T13:53:34.723348Z",
     "shell.execute_reply": "2025-03-14T13:53:34.722456Z"
    },
    "papermill": {
     "duration": 0.018841,
     "end_time": "2025-03-14T13:53:34.724566",
     "exception": false,
     "start_time": "2025-03-14T13:53:34.705725",
     "status": "completed"
    },
    "tags": []
   },
   "outputs": [
    {
     "data": {
      "text/plain": [
       "Index(['market_id', 'created_at', 'actual_delivery_time', 'store_id',\n",
       "       'store_primary_category', 'order_protocol', 'total_items', 'subtotal',\n",
       "       'num_distinct_items', 'min_item_price', 'max_item_price',\n",
       "       'total_onshift_partners', 'total_busy_partners',\n",
       "       'total_outstanding_orders'],\n",
       "      dtype='object')"
      ]
     },
     "execution_count": 7,
     "metadata": {},
     "output_type": "execute_result"
    }
   ],
   "source": [
    "df.columns"
   ]
  },
  {
   "cell_type": "markdown",
   "id": "fa7293c0",
   "metadata": {
    "papermill": {
     "duration": 0.012058,
     "end_time": "2025-03-14T13:53:34.749189",
     "exception": false,
     "start_time": "2025-03-14T13:53:34.737131",
     "status": "completed"
    },
    "tags": []
   },
   "source": [
    "**Concise Summary**"
   ]
  },
  {
   "cell_type": "code",
   "execution_count": 8,
   "id": "3a1c338e",
   "metadata": {
    "execution": {
     "iopub.execute_input": "2025-03-14T13:53:34.783631Z",
     "iopub.status.busy": "2025-03-14T13:53:34.783387Z",
     "iopub.status.idle": "2025-03-14T13:53:34.863171Z",
     "shell.execute_reply": "2025-03-14T13:53:34.861791Z"
    },
    "papermill": {
     "duration": 0.102884,
     "end_time": "2025-03-14T13:53:34.864507",
     "exception": false,
     "start_time": "2025-03-14T13:53:34.761623",
     "status": "completed"
    },
    "tags": []
   },
   "outputs": [
    {
     "name": "stdout",
     "output_type": "stream",
     "text": [
      "<class 'pandas.core.frame.DataFrame'>\n",
      "RangeIndex: 197428 entries, 0 to 197427\n",
      "Data columns (total 14 columns):\n",
      " #   Column                    Non-Null Count   Dtype  \n",
      "---  ------                    --------------   -----  \n",
      " 0   market_id                 196441 non-null  float64\n",
      " 1   created_at                197428 non-null  object \n",
      " 2   actual_delivery_time      197421 non-null  object \n",
      " 3   store_id                  197428 non-null  object \n",
      " 4   store_primary_category    192668 non-null  object \n",
      " 5   order_protocol            196433 non-null  float64\n",
      " 6   total_items               197428 non-null  int64  \n",
      " 7   subtotal                  197428 non-null  int64  \n",
      " 8   num_distinct_items        197428 non-null  int64  \n",
      " 9   min_item_price            197428 non-null  int64  \n",
      " 10  max_item_price            197428 non-null  int64  \n",
      " 11  total_onshift_partners    181166 non-null  float64\n",
      " 12  total_busy_partners       181166 non-null  float64\n",
      " 13  total_outstanding_orders  181166 non-null  float64\n",
      "dtypes: float64(5), int64(5), object(4)\n",
      "memory usage: 21.1+ MB\n"
     ]
    }
   ],
   "source": [
    "df.info()"
   ]
  },
  {
   "cell_type": "markdown",
   "id": "f960bae3",
   "metadata": {
    "papermill": {
     "duration": 0.011672,
     "end_time": "2025-03-14T13:53:34.888281",
     "exception": false,
     "start_time": "2025-03-14T13:53:34.876609",
     "status": "completed"
    },
    "tags": []
   },
   "source": [
    "**Inference**:\n",
    "\n",
    "The columns 'market_id', 'actual_delivery_time', 'store_primary_category', 'order_protocol', 'total_onshift_partners', 'total_busy_partners', and 'total_outstanding_orders' have missing values."
   ]
  },
  {
   "cell_type": "markdown",
   "id": "baef3127",
   "metadata": {
    "papermill": {
     "duration": 0.011807,
     "end_time": "2025-03-14T13:53:34.911610",
     "exception": false,
     "start_time": "2025-03-14T13:53:34.899803",
     "status": "completed"
    },
    "tags": []
   },
   "source": [
    "**Statistical Summary**"
   ]
  },
  {
   "cell_type": "code",
   "execution_count": 9,
   "id": "55a34493",
   "metadata": {
    "execution": {
     "iopub.execute_input": "2025-03-14T13:53:34.936283Z",
     "iopub.status.busy": "2025-03-14T13:53:34.936056Z",
     "iopub.status.idle": "2025-03-14T13:53:35.031535Z",
     "shell.execute_reply": "2025-03-14T13:53:35.030652Z"
    },
    "papermill": {
     "duration": 0.109705,
     "end_time": "2025-03-14T13:53:35.033183",
     "exception": false,
     "start_time": "2025-03-14T13:53:34.923478",
     "status": "completed"
    },
    "tags": []
   },
   "outputs": [
    {
     "data": {
      "text/html": [
       "<div>\n",
       "<style scoped>\n",
       "    .dataframe tbody tr th:only-of-type {\n",
       "        vertical-align: middle;\n",
       "    }\n",
       "\n",
       "    .dataframe tbody tr th {\n",
       "        vertical-align: top;\n",
       "    }\n",
       "\n",
       "    .dataframe thead th {\n",
       "        text-align: right;\n",
       "    }\n",
       "</style>\n",
       "<table border=\"1\" class=\"dataframe\">\n",
       "  <thead>\n",
       "    <tr style=\"text-align: right;\">\n",
       "      <th></th>\n",
       "      <th>count</th>\n",
       "      <th>mean</th>\n",
       "      <th>std</th>\n",
       "      <th>min</th>\n",
       "      <th>25%</th>\n",
       "      <th>50%</th>\n",
       "      <th>75%</th>\n",
       "      <th>max</th>\n",
       "    </tr>\n",
       "  </thead>\n",
       "  <tbody>\n",
       "    <tr>\n",
       "      <th>market_id</th>\n",
       "      <td>196441.0</td>\n",
       "      <td>2.978706</td>\n",
       "      <td>1.524867</td>\n",
       "      <td>1.0</td>\n",
       "      <td>2.0</td>\n",
       "      <td>3.0</td>\n",
       "      <td>4.0</td>\n",
       "      <td>6.0</td>\n",
       "    </tr>\n",
       "    <tr>\n",
       "      <th>order_protocol</th>\n",
       "      <td>196433.0</td>\n",
       "      <td>2.882352</td>\n",
       "      <td>1.503771</td>\n",
       "      <td>1.0</td>\n",
       "      <td>1.0</td>\n",
       "      <td>3.0</td>\n",
       "      <td>4.0</td>\n",
       "      <td>7.0</td>\n",
       "    </tr>\n",
       "    <tr>\n",
       "      <th>total_items</th>\n",
       "      <td>197428.0</td>\n",
       "      <td>3.196391</td>\n",
       "      <td>2.666546</td>\n",
       "      <td>1.0</td>\n",
       "      <td>2.0</td>\n",
       "      <td>3.0</td>\n",
       "      <td>4.0</td>\n",
       "      <td>411.0</td>\n",
       "    </tr>\n",
       "    <tr>\n",
       "      <th>subtotal</th>\n",
       "      <td>197428.0</td>\n",
       "      <td>2682.331402</td>\n",
       "      <td>1823.093688</td>\n",
       "      <td>0.0</td>\n",
       "      <td>1400.0</td>\n",
       "      <td>2200.0</td>\n",
       "      <td>3395.0</td>\n",
       "      <td>27100.0</td>\n",
       "    </tr>\n",
       "    <tr>\n",
       "      <th>num_distinct_items</th>\n",
       "      <td>197428.0</td>\n",
       "      <td>2.670791</td>\n",
       "      <td>1.630255</td>\n",
       "      <td>1.0</td>\n",
       "      <td>1.0</td>\n",
       "      <td>2.0</td>\n",
       "      <td>3.0</td>\n",
       "      <td>20.0</td>\n",
       "    </tr>\n",
       "    <tr>\n",
       "      <th>min_item_price</th>\n",
       "      <td>197428.0</td>\n",
       "      <td>686.218470</td>\n",
       "      <td>522.038648</td>\n",
       "      <td>-86.0</td>\n",
       "      <td>299.0</td>\n",
       "      <td>595.0</td>\n",
       "      <td>949.0</td>\n",
       "      <td>14700.0</td>\n",
       "    </tr>\n",
       "    <tr>\n",
       "      <th>max_item_price</th>\n",
       "      <td>197428.0</td>\n",
       "      <td>1159.588630</td>\n",
       "      <td>558.411377</td>\n",
       "      <td>0.0</td>\n",
       "      <td>800.0</td>\n",
       "      <td>1095.0</td>\n",
       "      <td>1395.0</td>\n",
       "      <td>14700.0</td>\n",
       "    </tr>\n",
       "    <tr>\n",
       "      <th>total_onshift_partners</th>\n",
       "      <td>181166.0</td>\n",
       "      <td>44.808093</td>\n",
       "      <td>34.526783</td>\n",
       "      <td>-4.0</td>\n",
       "      <td>17.0</td>\n",
       "      <td>37.0</td>\n",
       "      <td>65.0</td>\n",
       "      <td>171.0</td>\n",
       "    </tr>\n",
       "    <tr>\n",
       "      <th>total_busy_partners</th>\n",
       "      <td>181166.0</td>\n",
       "      <td>41.739747</td>\n",
       "      <td>32.145733</td>\n",
       "      <td>-5.0</td>\n",
       "      <td>15.0</td>\n",
       "      <td>34.0</td>\n",
       "      <td>62.0</td>\n",
       "      <td>154.0</td>\n",
       "    </tr>\n",
       "    <tr>\n",
       "      <th>total_outstanding_orders</th>\n",
       "      <td>181166.0</td>\n",
       "      <td>58.050065</td>\n",
       "      <td>52.661830</td>\n",
       "      <td>-6.0</td>\n",
       "      <td>17.0</td>\n",
       "      <td>41.0</td>\n",
       "      <td>85.0</td>\n",
       "      <td>285.0</td>\n",
       "    </tr>\n",
       "  </tbody>\n",
       "</table>\n",
       "</div>"
      ],
      "text/plain": [
       "                             count         mean          std   min     25%  \\\n",
       "market_id                 196441.0     2.978706     1.524867   1.0     2.0   \n",
       "order_protocol            196433.0     2.882352     1.503771   1.0     1.0   \n",
       "total_items               197428.0     3.196391     2.666546   1.0     2.0   \n",
       "subtotal                  197428.0  2682.331402  1823.093688   0.0  1400.0   \n",
       "num_distinct_items        197428.0     2.670791     1.630255   1.0     1.0   \n",
       "min_item_price            197428.0   686.218470   522.038648 -86.0   299.0   \n",
       "max_item_price            197428.0  1159.588630   558.411377   0.0   800.0   \n",
       "total_onshift_partners    181166.0    44.808093    34.526783  -4.0    17.0   \n",
       "total_busy_partners       181166.0    41.739747    32.145733  -5.0    15.0   \n",
       "total_outstanding_orders  181166.0    58.050065    52.661830  -6.0    17.0   \n",
       "\n",
       "                             50%     75%      max  \n",
       "market_id                    3.0     4.0      6.0  \n",
       "order_protocol               3.0     4.0      7.0  \n",
       "total_items                  3.0     4.0    411.0  \n",
       "subtotal                  2200.0  3395.0  27100.0  \n",
       "num_distinct_items           2.0     3.0     20.0  \n",
       "min_item_price             595.0   949.0  14700.0  \n",
       "max_item_price            1095.0  1395.0  14700.0  \n",
       "total_onshift_partners      37.0    65.0    171.0  \n",
       "total_busy_partners         34.0    62.0    154.0  \n",
       "total_outstanding_orders    41.0    85.0    285.0  "
      ]
     },
     "execution_count": 9,
     "metadata": {},
     "output_type": "execute_result"
    }
   ],
   "source": [
    "# Statistical Summary of numeric Columns\n",
    "df.describe().T"
   ]
  },
  {
   "cell_type": "code",
   "execution_count": 10,
   "id": "9fc0f2d0",
   "metadata": {
    "execution": {
     "iopub.execute_input": "2025-03-14T13:53:35.061601Z",
     "iopub.status.busy": "2025-03-14T13:53:35.061330Z",
     "iopub.status.idle": "2025-03-14T13:53:35.350722Z",
     "shell.execute_reply": "2025-03-14T13:53:35.349437Z"
    },
    "papermill": {
     "duration": 0.307121,
     "end_time": "2025-03-14T13:53:35.353100",
     "exception": false,
     "start_time": "2025-03-14T13:53:35.045979",
     "status": "completed"
    },
    "tags": []
   },
   "outputs": [
    {
     "data": {
      "text/html": [
       "<div>\n",
       "<style scoped>\n",
       "    .dataframe tbody tr th:only-of-type {\n",
       "        vertical-align: middle;\n",
       "    }\n",
       "\n",
       "    .dataframe tbody tr th {\n",
       "        vertical-align: top;\n",
       "    }\n",
       "\n",
       "    .dataframe thead th {\n",
       "        text-align: right;\n",
       "    }\n",
       "</style>\n",
       "<table border=\"1\" class=\"dataframe\">\n",
       "  <thead>\n",
       "    <tr style=\"text-align: right;\">\n",
       "      <th></th>\n",
       "      <th>count</th>\n",
       "      <th>unique</th>\n",
       "      <th>top</th>\n",
       "      <th>freq</th>\n",
       "    </tr>\n",
       "  </thead>\n",
       "  <tbody>\n",
       "    <tr>\n",
       "      <th>created_at</th>\n",
       "      <td>197428</td>\n",
       "      <td>180985</td>\n",
       "      <td>2015-02-11 19:50:43</td>\n",
       "      <td>6</td>\n",
       "    </tr>\n",
       "    <tr>\n",
       "      <th>actual_delivery_time</th>\n",
       "      <td>197421</td>\n",
       "      <td>178110</td>\n",
       "      <td>2015-02-08 04:09:25</td>\n",
       "      <td>5</td>\n",
       "    </tr>\n",
       "    <tr>\n",
       "      <th>store_id</th>\n",
       "      <td>197428</td>\n",
       "      <td>6743</td>\n",
       "      <td>d43ab110ab2489d6b9b2caa394bf920f</td>\n",
       "      <td>937</td>\n",
       "    </tr>\n",
       "    <tr>\n",
       "      <th>store_primary_category</th>\n",
       "      <td>192668</td>\n",
       "      <td>74</td>\n",
       "      <td>american</td>\n",
       "      <td>19399</td>\n",
       "    </tr>\n",
       "  </tbody>\n",
       "</table>\n",
       "</div>"
      ],
      "text/plain": [
       "                         count  unique                               top  \\\n",
       "created_at              197428  180985               2015-02-11 19:50:43   \n",
       "actual_delivery_time    197421  178110               2015-02-08 04:09:25   \n",
       "store_id                197428    6743  d43ab110ab2489d6b9b2caa394bf920f   \n",
       "store_primary_category  192668      74                          american   \n",
       "\n",
       "                         freq  \n",
       "created_at                  6  \n",
       "actual_delivery_time        5  \n",
       "store_id                  937  \n",
       "store_primary_category  19399  "
      ]
     },
     "execution_count": 10,
     "metadata": {},
     "output_type": "execute_result"
    }
   ],
   "source": [
    "# Statistical Summary of Categorical Columns\n",
    "df.describe(include='object').T"
   ]
  },
  {
   "cell_type": "markdown",
   "id": "3a700f57",
   "metadata": {
    "papermill": {
     "duration": 0.022352,
     "end_time": "2025-03-14T13:53:35.394517",
     "exception": false,
     "start_time": "2025-03-14T13:53:35.372165",
     "status": "completed"
    },
    "tags": []
   },
   "source": [
    "**Checking For Missing Values**"
   ]
  },
  {
   "cell_type": "code",
   "execution_count": 11,
   "id": "f3388e6d",
   "metadata": {
    "execution": {
     "iopub.execute_input": "2025-03-14T13:53:35.420244Z",
     "iopub.status.busy": "2025-03-14T13:53:35.419960Z",
     "iopub.status.idle": "2025-03-14T13:53:35.478789Z",
     "shell.execute_reply": "2025-03-14T13:53:35.477904Z"
    },
    "papermill": {
     "duration": 0.072855,
     "end_time": "2025-03-14T13:53:35.480088",
     "exception": false,
     "start_time": "2025-03-14T13:53:35.407233",
     "status": "completed"
    },
    "tags": []
   },
   "outputs": [
    {
     "data": {
      "text/plain": [
       "market_id                   0.50\n",
       "created_at                  0.00\n",
       "actual_delivery_time        0.00\n",
       "store_id                    0.00\n",
       "store_primary_category      2.41\n",
       "order_protocol              0.50\n",
       "total_items                 0.00\n",
       "subtotal                    0.00\n",
       "num_distinct_items          0.00\n",
       "min_item_price              0.00\n",
       "max_item_price              0.00\n",
       "total_onshift_partners      8.24\n",
       "total_busy_partners         8.24\n",
       "total_outstanding_orders    8.24\n",
       "dtype: float64"
      ]
     },
     "execution_count": 11,
     "metadata": {},
     "output_type": "execute_result"
    }
   ],
   "source": [
    "np.round(((df.isnull().sum())/(df.shape[0]))*100,2)"
   ]
  },
  {
   "cell_type": "code",
   "execution_count": 12,
   "id": "5f1b79f7",
   "metadata": {
    "execution": {
     "iopub.execute_input": "2025-03-14T13:53:35.507195Z",
     "iopub.status.busy": "2025-03-14T13:53:35.506964Z",
     "iopub.status.idle": "2025-03-14T13:53:35.983406Z",
     "shell.execute_reply": "2025-03-14T13:53:35.982365Z"
    },
    "papermill": {
     "duration": 0.491072,
     "end_time": "2025-03-14T13:53:35.985073",
     "exception": false,
     "start_time": "2025-03-14T13:53:35.494001",
     "status": "completed"
    },
    "tags": []
   },
   "outputs": [
    {
     "data": {
      "image/png": "[encoded data removed]",
      "text/plain": [
       "<Figure size 1200x800 with 1 Axes>"
      ]
     },
     "metadata": {},
     "output_type": "display_data"
    }
   ],
   "source": [
    "plt.figure(figsize = (12,8))\n",
    "ax = ((df.isnull().sum()/df.shape[0])*100).plot(kind = 'barh', color = '#DB3069')\n",
    "for container in ax.containers:\n",
    "    ax.bar_label(container, fmt = '%.2f')\n",
    "plt.xlabel('Missing Values %')\n",
    "plt.ylabel('Columns')\n",
    "plt.title('Percentage of missing values in data')\n",
    "sns.set_style('darkgrid')\n",
    "plt.show()"
   ]
  },
  {
   "cell_type": "code",
   "execution_count": 13,
   "id": "be7fbf2d",
   "metadata": {
    "execution": {
     "iopub.execute_input": "2025-03-14T13:53:36.015508Z",
     "iopub.status.busy": "2025-03-14T13:53:36.015243Z",
     "iopub.status.idle": "2025-03-14T13:53:36.025252Z",
     "shell.execute_reply": "2025-03-14T13:53:36.024344Z"
    },
    "papermill": {
     "duration": 0.026309,
     "end_time": "2025-03-14T13:53:36.026630",
     "exception": false,
     "start_time": "2025-03-14T13:53:36.000321",
     "status": "completed"
    },
    "tags": []
   },
   "outputs": [
    {
     "data": {
      "text/plain": [
       "order_protocol\n",
       "1.0    54725\n",
       "3.0    53199\n",
       "5.0    44290\n",
       "2.0    24052\n",
       "4.0    19354\n",
       "6.0      794\n",
       "7.0       19\n",
       "Name: count, dtype: int64"
      ]
     },
     "execution_count": 13,
     "metadata": {},
     "output_type": "execute_result"
    }
   ],
   "source": [
    "df['order_protocol'].value_counts()"
   ]
  },
  {
   "cell_type": "code",
   "execution_count": null,
   "id": "defdf8bb",
   "metadata": {
    "papermill": {
     "duration": 0.01418,
     "end_time": "2025-03-14T13:53:36.054744",
     "exception": false,
     "start_time": "2025-03-14T13:53:36.040564",
     "status": "completed"
    },
    "tags": []
   },
   "outputs": [],
   "source": []
  },
  {
   "cell_type": "markdown",
   "id": "b333665f",
   "metadata": {
    "papermill": {
     "duration": 0.013967,
     "end_time": "2025-03-14T13:53:36.083409",
     "exception": false,
     "start_time": "2025-03-14T13:53:36.069442",
     "status": "completed"
    },
    "tags": []
   },
   "source": [
    "# ⚒️  Data Preprocessing"
   ]
  },
  {
   "cell_type": "markdown",
   "id": "5e940116",
   "metadata": {
    "papermill": {
     "duration": 0.050062,
     "end_time": "2025-03-14T13:53:36.147428",
     "exception": false,
     "start_time": "2025-03-14T13:53:36.097366",
     "status": "completed"
    },
    "tags": []
   },
   "source": [
    "## ♊ Duplicate Value check"
   ]
  },
  {
   "cell_type": "code",
   "execution_count": 14,
   "id": "68ed0fe2",
   "metadata": {
    "execution": {
     "iopub.execute_input": "2025-03-14T13:53:36.176624Z",
     "iopub.status.busy": "2025-03-14T13:53:36.176310Z",
     "iopub.status.idle": "2025-03-14T13:53:36.353022Z",
     "shell.execute_reply": "2025-03-14T13:53:36.352020Z"
    },
    "papermill": {
     "duration": 0.193006,
     "end_time": "2025-03-14T13:53:36.354427",
     "exception": false,
     "start_time": "2025-03-14T13:53:36.161421",
     "status": "completed"
    },
    "tags": []
   },
   "outputs": [
    {
     "data": {
      "text/html": [
       "<div>\n",
       "<style scoped>\n",
       "    .dataframe tbody tr th:only-of-type {\n",
       "        vertical-align: middle;\n",
       "    }\n",
       "\n",
       "    .dataframe tbody tr th {\n",
       "        vertical-align: top;\n",
       "    }\n",
       "\n",
       "    .dataframe thead th {\n",
       "        text-align: right;\n",
       "    }\n",
       "</style>\n",
       "<table border=\"1\" class=\"dataframe\">\n",
       "  <thead>\n",
       "    <tr style=\"text-align: right;\">\n",
       "      <th></th>\n",
       "      <th>market_id</th>\n",
       "      <th>created_at</th>\n",
       "      <th>actual_delivery_time</th>\n",
       "      <th>store_id</th>\n",
       "      <th>store_primary_category</th>\n",
       "      <th>order_protocol</th>\n",
       "      <th>total_items</th>\n",
       "      <th>subtotal</th>\n",
       "      <th>num_distinct_items</th>\n",
       "      <th>min_item_price</th>\n",
       "      <th>max_item_price</th>\n",
       "      <th>total_onshift_partners</th>\n",
       "      <th>total_busy_partners</th>\n",
       "      <th>total_outstanding_orders</th>\n",
       "    </tr>\n",
       "  </thead>\n",
       "  <tbody>\n",
       "  </tbody>\n",
       "</table>\n",
       "</div>"
      ],
      "text/plain": [
       "Empty DataFrame\n",
       "Columns: [market_id, created_at, actual_delivery_time, store_id, store_primary_category, order_protocol, total_items, subtotal, num_distinct_items, min_item_price, max_item_price, total_onshift_partners, total_busy_partners, total_outstanding_orders]\n",
       "Index: []"
      ]
     },
     "execution_count": 14,
     "metadata": {},
     "output_type": "execute_result"
    }
   ],
   "source": [
    "df[df.duplicated()]"
   ]
  },
  {
   "cell_type": "code",
   "execution_count": 15,
   "id": "de7f9095",
   "metadata": {
    "execution": {
     "iopub.execute_input": "2025-03-14T13:53:36.383115Z",
     "iopub.status.busy": "2025-03-14T13:53:36.382818Z",
     "iopub.status.idle": "2025-03-14T13:53:36.545364Z",
     "shell.execute_reply": "2025-03-14T13:53:36.544400Z"
    },
    "papermill": {
     "duration": 0.178079,
     "end_time": "2025-03-14T13:53:36.546780",
     "exception": false,
     "start_time": "2025-03-14T13:53:36.368701",
     "status": "completed"
    },
    "tags": []
   },
   "outputs": [
    {
     "name": "stdout",
     "output_type": "stream",
     "text": [
      "Empty DataFrame\n",
      "Columns: [market_id, created_at, actual_delivery_time, store_id, store_primary_category, order_protocol, total_items, subtotal, num_distinct_items, min_item_price, max_item_price, total_onshift_partners, total_busy_partners, total_outstanding_orders]\n",
      "Index: []\n"
     ]
    }
   ],
   "source": [
    "print(df[df.duplicated()])"
   ]
  },
  {
   "cell_type": "markdown",
   "id": "7bc707e4",
   "metadata": {
    "papermill": {
     "duration": 0.013752,
     "end_time": "2025-03-14T13:53:36.574676",
     "exception": false,
     "start_time": "2025-03-14T13:53:36.560924",
     "status": "completed"
    },
    "tags": []
   },
   "source": [
    "## 🧹 Handling Missing Values"
   ]
  },
  {
   "cell_type": "markdown",
   "id": "f1c78e5a",
   "metadata": {
    "papermill": {
     "duration": 0.013276,
     "end_time": "2025-03-14T13:53:36.601625",
     "exception": false,
     "start_time": "2025-03-14T13:53:36.588349",
     "status": "completed"
    },
    "tags": []
   },
   "source": [
    "Startegies to handle missing data\n",
    "\n",
    "1️⃣ Numeric Features:\n",
    "\n",
    "For numeric features we can use median imputation to prevent extreme values from affecting the distribution\n",
    "\n",
    "2️⃣ Categorical/Discerete Features:\n",
    "\n",
    "All categorical features have only 2 to 5 unique values, making it suitable to impute missing values using the most frequent category."
   ]
  },
  {
   "cell_type": "markdown",
   "id": "8b892801",
   "metadata": {
    "papermill": {
     "duration": 0.013496,
     "end_time": "2025-03-14T13:53:36.629097",
     "exception": false,
     "start_time": "2025-03-14T13:53:36.615601",
     "status": "completed"
    },
    "tags": []
   },
   "source": [
    "**Missing Values Check**"
   ]
  },
  {
   "cell_type": "code",
   "execution_count": 16,
   "id": "166fb4a4",
   "metadata": {
    "execution": {
     "iopub.execute_input": "2025-03-14T13:53:36.657395Z",
     "iopub.status.busy": "2025-03-14T13:53:36.657147Z",
     "iopub.status.idle": "2025-03-14T13:53:36.715708Z",
     "shell.execute_reply": "2025-03-14T13:53:36.715032Z"
    },
    "papermill": {
     "duration": 0.074271,
     "end_time": "2025-03-14T13:53:36.717008",
     "exception": false,
     "start_time": "2025-03-14T13:53:36.642737",
     "status": "completed"
    },
    "tags": []
   },
   "outputs": [
    {
     "data": {
      "text/plain": [
       "market_id                   0.50\n",
       "created_at                  0.00\n",
       "actual_delivery_time        0.00\n",
       "store_id                    0.00\n",
       "store_primary_category      2.41\n",
       "order_protocol              0.50\n",
       "total_items                 0.00\n",
       "subtotal                    0.00\n",
       "num_distinct_items          0.00\n",
       "min_item_price              0.00\n",
       "max_item_price              0.00\n",
       "total_onshift_partners      8.24\n",
       "total_busy_partners         8.24\n",
       "total_outstanding_orders    8.24\n",
       "dtype: float64"
      ]
     },
     "execution_count": 16,
     "metadata": {},
     "output_type": "execute_result"
    }
   ],
   "source": [
    "np.round(((df.isnull().sum())/(df.shape[0]))*100,2)"
   ]
  },
  {
   "cell_type": "code",
   "execution_count": 17,
   "id": "2df7db5e",
   "metadata": {
    "execution": {
     "iopub.execute_input": "2025-03-14T13:53:36.745060Z",
     "iopub.status.busy": "2025-03-14T13:53:36.744826Z",
     "iopub.status.idle": "2025-03-14T13:53:37.168677Z",
     "shell.execute_reply": "2025-03-14T13:53:37.167809Z"
    },
    "papermill": {
     "duration": 0.439639,
     "end_time": "2025-03-14T13:53:37.170191",
     "exception": false,
     "start_time": "2025-03-14T13:53:36.730552",
     "status": "completed"
    },
    "tags": []
   },
   "outputs": [
    {
     "data": {
      "image/png": "[encoded data removed]",
      "text/plain": [
       "<Figure size 1200x800 with 1 Axes>"
      ]
     },
     "metadata": {},
     "output_type": "display_data"
    }
   ],
   "source": [
    "plt.figure(figsize = (12,8))\n",
    "ax = ((df.isnull().sum()/df.shape[0])*100).plot(kind = 'barh', color = '#DB3069')\n",
    "for container in ax.containers:\n",
    "    ax.bar_label(container, fmt = '%.2f')\n",
    "plt.xlabel('Missing Values %')\n",
    "plt.ylabel('Columns')\n",
    "plt.title('Percentage of missing values in data')\n",
    "sns.set_style('darkgrid')\n",
    "plt.show()"
   ]
  },
  {
   "cell_type": "markdown",
   "id": "f67a4764",
   "metadata": {
    "papermill": {
     "duration": 0.014426,
     "end_time": "2025-03-14T13:53:37.200569",
     "exception": false,
     "start_time": "2025-03-14T13:53:37.186143",
     "status": "completed"
    },
    "tags": []
   },
   "source": [
    "**Handling Missing Values in 'order_protocol' Column"
   ]
  },
  {
   "cell_type": "code",
   "execution_count": 18,
   "id": "cc436c78",
   "metadata": {
    "execution": {
     "iopub.execute_input": "2025-03-14T13:53:37.231247Z",
     "iopub.status.busy": "2025-03-14T13:53:37.230987Z",
     "iopub.status.idle": "2025-03-14T13:53:37.251282Z",
     "shell.execute_reply": "2025-03-14T13:53:37.250353Z"
    },
    "papermill": {
     "duration": 0.037102,
     "end_time": "2025-03-14T13:53:37.252701",
     "exception": false,
     "start_time": "2025-03-14T13:53:37.215599",
     "status": "completed"
    },
    "tags": []
   },
   "outputs": [
    {
     "data": {
      "text/plain": [
       "0.13709259426641762"
      ]
     },
     "execution_count": 18,
     "metadata": {},
     "output_type": "execute_result"
    }
   ],
   "source": [
    "df['order_protocol'].skew()"
   ]
  },
  {
   "cell_type": "markdown",
   "id": "4f50edf8",
   "metadata": {
    "papermill": {
     "duration": 0.014741,
     "end_time": "2025-03-14T13:53:37.282484",
     "exception": false,
     "start_time": "2025-03-14T13:53:37.267743",
     "status": "completed"
    },
    "tags": []
   },
   "source": [
    "**Inference**:\n",
    "\n",
    "As column is discrete and not skewed we will use mode or most frequent value to impute missing values in the data"
   ]
  },
  {
   "cell_type": "code",
   "execution_count": 19,
   "id": "85bd65b5",
   "metadata": {
    "execution": {
     "iopub.execute_input": "2025-03-14T13:53:37.314389Z",
     "iopub.status.busy": "2025-03-14T13:53:37.314163Z",
     "iopub.status.idle": "2025-03-14T13:53:37.767710Z",
     "shell.execute_reply": "2025-03-14T13:53:37.766914Z"
    },
    "papermill": {
     "duration": 0.471417,
     "end_time": "2025-03-14T13:53:37.769113",
     "exception": false,
     "start_time": "2025-03-14T13:53:37.297696",
     "status": "completed"
    },
    "tags": []
   },
   "outputs": [
    {
     "data": {
      "text/plain": [
       "market_id                     987\n",
       "created_at                      0\n",
       "actual_delivery_time            7\n",
       "store_id                        0\n",
       "store_primary_category       4760\n",
       "order_protocol                  0\n",
       "total_items                     0\n",
       "subtotal                        0\n",
       "num_distinct_items              0\n",
       "min_item_price                  0\n",
       "max_item_price                  0\n",
       "total_onshift_partners      16262\n",
       "total_busy_partners         16262\n",
       "total_outstanding_orders    16262\n",
       "dtype: int64"
      ]
     },
     "execution_count": 19,
     "metadata": {},
     "output_type": "execute_result"
    }
   ],
   "source": [
    "from sklearn.impute import SimpleImputer\n",
    "imputer = SimpleImputer(strategy='most_frequent')\n",
    "df['order_protocol'] = imputer.fit_transform(df[['order_protocol']])\n",
    "df.isnull().sum()"
   ]
  },
  {
   "cell_type": "code",
   "execution_count": 20,
   "id": "3820c350",
   "metadata": {
    "execution": {
     "iopub.execute_input": "2025-03-14T13:53:37.801941Z",
     "iopub.status.busy": "2025-03-14T13:53:37.801674Z",
     "iopub.status.idle": "2025-03-14T13:53:37.817983Z",
     "shell.execute_reply": "2025-03-14T13:53:37.817248Z"
    },
    "papermill": {
     "duration": 0.033186,
     "end_time": "2025-03-14T13:53:37.819182",
     "exception": false,
     "start_time": "2025-03-14T13:53:37.785996",
     "status": "completed"
    },
    "tags": []
   },
   "outputs": [
    {
     "data": {
      "text/html": [
       "<div>\n",
       "<style scoped>\n",
       "    .dataframe tbody tr th:only-of-type {\n",
       "        vertical-align: middle;\n",
       "    }\n",
       "\n",
       "    .dataframe tbody tr th {\n",
       "        vertical-align: top;\n",
       "    }\n",
       "\n",
       "    .dataframe thead th {\n",
       "        text-align: right;\n",
       "    }\n",
       "</style>\n",
       "<table border=\"1\" class=\"dataframe\">\n",
       "  <thead>\n",
       "    <tr style=\"text-align: right;\">\n",
       "      <th></th>\n",
       "      <th>market_id</th>\n",
       "      <th>created_at</th>\n",
       "      <th>actual_delivery_time</th>\n",
       "      <th>store_id</th>\n",
       "      <th>store_primary_category</th>\n",
       "      <th>order_protocol</th>\n",
       "      <th>total_items</th>\n",
       "      <th>subtotal</th>\n",
       "      <th>num_distinct_items</th>\n",
       "      <th>min_item_price</th>\n",
       "      <th>max_item_price</th>\n",
       "      <th>total_onshift_partners</th>\n",
       "      <th>total_busy_partners</th>\n",
       "      <th>total_outstanding_orders</th>\n",
       "    </tr>\n",
       "  </thead>\n",
       "  <tbody>\n",
       "    <tr>\n",
       "      <th>0</th>\n",
       "      <td>1.0</td>\n",
       "      <td>2015-02-06 22:24:17</td>\n",
       "      <td>2015-02-06 23:27:16</td>\n",
       "      <td>df263d996281d984952c07998dc54358</td>\n",
       "      <td>american</td>\n",
       "      <td>1.0</td>\n",
       "      <td>4</td>\n",
       "      <td>3441</td>\n",
       "      <td>4</td>\n",
       "      <td>557</td>\n",
       "      <td>1239</td>\n",
       "      <td>33.0</td>\n",
       "      <td>14.0</td>\n",
       "      <td>21.0</td>\n",
       "    </tr>\n",
       "    <tr>\n",
       "      <th>1</th>\n",
       "      <td>2.0</td>\n",
       "      <td>2015-02-10 21:49:25</td>\n",
       "      <td>2015-02-10 22:56:29</td>\n",
       "      <td>f0ade77b43923b38237db569b016ba25</td>\n",
       "      <td>mexican</td>\n",
       "      <td>2.0</td>\n",
       "      <td>1</td>\n",
       "      <td>1900</td>\n",
       "      <td>1</td>\n",
       "      <td>1400</td>\n",
       "      <td>1400</td>\n",
       "      <td>1.0</td>\n",
       "      <td>2.0</td>\n",
       "      <td>2.0</td>\n",
       "    </tr>\n",
       "    <tr>\n",
       "      <th>2</th>\n",
       "      <td>3.0</td>\n",
       "      <td>2015-01-22 20:39:28</td>\n",
       "      <td>2015-01-22 21:09:09</td>\n",
       "      <td>f0ade77b43923b38237db569b016ba25</td>\n",
       "      <td>NaN</td>\n",
       "      <td>1.0</td>\n",
       "      <td>1</td>\n",
       "      <td>1900</td>\n",
       "      <td>1</td>\n",
       "      <td>1900</td>\n",
       "      <td>1900</td>\n",
       "      <td>1.0</td>\n",
       "      <td>0.0</td>\n",
       "      <td>0.0</td>\n",
       "    </tr>\n",
       "    <tr>\n",
       "      <th>3</th>\n",
       "      <td>3.0</td>\n",
       "      <td>2015-02-03 21:21:45</td>\n",
       "      <td>2015-02-03 22:13:00</td>\n",
       "      <td>f0ade77b43923b38237db569b016ba25</td>\n",
       "      <td>NaN</td>\n",
       "      <td>1.0</td>\n",
       "      <td>6</td>\n",
       "      <td>6900</td>\n",
       "      <td>5</td>\n",
       "      <td>600</td>\n",
       "      <td>1800</td>\n",
       "      <td>1.0</td>\n",
       "      <td>1.0</td>\n",
       "      <td>2.0</td>\n",
       "    </tr>\n",
       "    <tr>\n",
       "      <th>4</th>\n",
       "      <td>3.0</td>\n",
       "      <td>2015-02-15 02:40:36</td>\n",
       "      <td>2015-02-15 03:20:26</td>\n",
       "      <td>f0ade77b43923b38237db569b016ba25</td>\n",
       "      <td>NaN</td>\n",
       "      <td>1.0</td>\n",
       "      <td>3</td>\n",
       "      <td>3900</td>\n",
       "      <td>3</td>\n",
       "      <td>1100</td>\n",
       "      <td>1600</td>\n",
       "      <td>6.0</td>\n",
       "      <td>6.0</td>\n",
       "      <td>9.0</td>\n",
       "    </tr>\n",
       "    <tr>\n",
       "      <th>...</th>\n",
       "      <td>...</td>\n",
       "      <td>...</td>\n",
       "      <td>...</td>\n",
       "      <td>...</td>\n",
       "      <td>...</td>\n",
       "      <td>...</td>\n",
       "      <td>...</td>\n",
       "      <td>...</td>\n",
       "      <td>...</td>\n",
       "      <td>...</td>\n",
       "      <td>...</td>\n",
       "      <td>...</td>\n",
       "      <td>...</td>\n",
       "      <td>...</td>\n",
       "    </tr>\n",
       "    <tr>\n",
       "      <th>197423</th>\n",
       "      <td>1.0</td>\n",
       "      <td>2015-02-17 00:19:41</td>\n",
       "      <td>2015-02-17 01:24:48</td>\n",
       "      <td>a914ecef9c12ffdb9bede64bb703d877</td>\n",
       "      <td>fast</td>\n",
       "      <td>4.0</td>\n",
       "      <td>3</td>\n",
       "      <td>1389</td>\n",
       "      <td>3</td>\n",
       "      <td>345</td>\n",
       "      <td>649</td>\n",
       "      <td>17.0</td>\n",
       "      <td>17.0</td>\n",
       "      <td>23.0</td>\n",
       "    </tr>\n",
       "    <tr>\n",
       "      <th>197424</th>\n",
       "      <td>1.0</td>\n",
       "      <td>2015-02-13 00:01:59</td>\n",
       "      <td>2015-02-13 00:58:22</td>\n",
       "      <td>a914ecef9c12ffdb9bede64bb703d877</td>\n",
       "      <td>fast</td>\n",
       "      <td>4.0</td>\n",
       "      <td>6</td>\n",
       "      <td>3010</td>\n",
       "      <td>4</td>\n",
       "      <td>405</td>\n",
       "      <td>825</td>\n",
       "      <td>12.0</td>\n",
       "      <td>11.0</td>\n",
       "      <td>14.0</td>\n",
       "    </tr>\n",
       "    <tr>\n",
       "      <th>197425</th>\n",
       "      <td>1.0</td>\n",
       "      <td>2015-01-24 04:46:08</td>\n",
       "      <td>2015-01-24 05:36:16</td>\n",
       "      <td>a914ecef9c12ffdb9bede64bb703d877</td>\n",
       "      <td>fast</td>\n",
       "      <td>4.0</td>\n",
       "      <td>5</td>\n",
       "      <td>1836</td>\n",
       "      <td>3</td>\n",
       "      <td>300</td>\n",
       "      <td>399</td>\n",
       "      <td>39.0</td>\n",
       "      <td>41.0</td>\n",
       "      <td>40.0</td>\n",
       "    </tr>\n",
       "    <tr>\n",
       "      <th>197426</th>\n",
       "      <td>1.0</td>\n",
       "      <td>2015-02-01 18:18:15</td>\n",
       "      <td>2015-02-01 19:23:22</td>\n",
       "      <td>c81e155d85dae5430a8cee6f2242e82c</td>\n",
       "      <td>sandwich</td>\n",
       "      <td>1.0</td>\n",
       "      <td>1</td>\n",
       "      <td>1175</td>\n",
       "      <td>1</td>\n",
       "      <td>535</td>\n",
       "      <td>535</td>\n",
       "      <td>7.0</td>\n",
       "      <td>7.0</td>\n",
       "      <td>12.0</td>\n",
       "    </tr>\n",
       "    <tr>\n",
       "      <th>197427</th>\n",
       "      <td>1.0</td>\n",
       "      <td>2015-02-08 19:24:33</td>\n",
       "      <td>2015-02-08 20:01:41</td>\n",
       "      <td>c81e155d85dae5430a8cee6f2242e82c</td>\n",
       "      <td>sandwich</td>\n",
       "      <td>1.0</td>\n",
       "      <td>4</td>\n",
       "      <td>2605</td>\n",
       "      <td>4</td>\n",
       "      <td>425</td>\n",
       "      <td>750</td>\n",
       "      <td>20.0</td>\n",
       "      <td>20.0</td>\n",
       "      <td>23.0</td>\n",
       "    </tr>\n",
       "  </tbody>\n",
       "</table>\n",
       "<p>197428 rows × 14 columns</p>\n",
       "</div>"
      ],
      "text/plain": [
       "        market_id           created_at actual_delivery_time  \\\n",
       "0             1.0  2015-02-06 22:24:17  2015-02-06 23:27:16   \n",
       "1             2.0  2015-02-10 21:49:25  2015-02-10 22:56:29   \n",
       "2             3.0  2015-01-22 20:39:28  2015-01-22 21:09:09   \n",
       "3             3.0  2015-02-03 21:21:45  2015-02-03 22:13:00   \n",
       "4             3.0  2015-02-15 02:40:36  2015-02-15 03:20:26   \n",
       "...           ...                  ...                  ...   \n",
       "197423        1.0  2015-02-17 00:19:41  2015-02-17 01:24:48   \n",
       "197424        1.0  2015-02-13 00:01:59  2015-02-13 00:58:22   \n",
       "197425        1.0  2015-01-24 04:46:08  2015-01-24 05:36:16   \n",
       "197426        1.0  2015-02-01 18:18:15  2015-02-01 19:23:22   \n",
       "197427        1.0  2015-02-08 19:24:33  2015-02-08 20:01:41   \n",
       "\n",
       "                                store_id store_primary_category  \\\n",
       "0       df263d996281d984952c07998dc54358               american   \n",
       "1       f0ade77b43923b38237db569b016ba25                mexican   \n",
       "2       f0ade77b43923b38237db569b016ba25                    NaN   \n",
       "3       f0ade77b43923b38237db569b016ba25                    NaN   \n",
       "4       f0ade77b43923b38237db569b016ba25                    NaN   \n",
       "...                                  ...                    ...   \n",
       "197423  a914ecef9c12ffdb9bede64bb703d877                   fast   \n",
       "197424  a914ecef9c12ffdb9bede64bb703d877                   fast   \n",
       "197425  a914ecef9c12ffdb9bede64bb703d877                   fast   \n",
       "197426  c81e155d85dae5430a8cee6f2242e82c               sandwich   \n",
       "197427  c81e155d85dae5430a8cee6f2242e82c               sandwich   \n",
       "\n",
       "        order_protocol  total_items  subtotal  num_distinct_items  \\\n",
       "0                  1.0            4      3441                   4   \n",
       "1                  2.0            1      1900                   1   \n",
       "2                  1.0            1      1900                   1   \n",
       "3                  1.0            6      6900                   5   \n",
       "4                  1.0            3      3900                   3   \n",
       "...                ...          ...       ...                 ...   \n",
       "197423             4.0            3      1389                   3   \n",
       "197424             4.0            6      3010                   4   \n",
       "197425             4.0            5      1836                   3   \n",
       "197426             1.0            1      1175                   1   \n",
       "197427             1.0            4      2605                   4   \n",
       "\n",
       "        min_item_price  max_item_price  total_onshift_partners  \\\n",
       "0                  557            1239                    33.0   \n",
       "1                 1400            1400                     1.0   \n",
       "2                 1900            1900                     1.0   \n",
       "3                  600            1800                     1.0   \n",
       "4                 1100            1600                     6.0   \n",
       "...                ...             ...                     ...   \n",
       "197423             345             649                    17.0   \n",
       "197424             405             825                    12.0   \n",
       "197425             300             399                    39.0   \n",
       "197426             535             535                     7.0   \n",
       "197427             425             750                    20.0   \n",
       "\n",
       "        total_busy_partners  total_outstanding_orders  \n",
       "0                      14.0                      21.0  \n",
       "1                       2.0                       2.0  \n",
       "2                       0.0                       0.0  \n",
       "3                       1.0                       2.0  \n",
       "4                       6.0                       9.0  \n",
       "...                     ...                       ...  \n",
       "197423                 17.0                      23.0  \n",
       "197424                 11.0                      14.0  \n",
       "197425                 41.0                      40.0  \n",
       "197426                  7.0                      12.0  \n",
       "197427                 20.0                      23.0  \n",
       "\n",
       "[197428 rows x 14 columns]"
      ]
     },
     "execution_count": 20,
     "metadata": {},
     "output_type": "execute_result"
    }
   ],
   "source": [
    "df"
   ]
  },
  {
   "cell_type": "markdown",
   "id": "9e7231d5",
   "metadata": {
    "papermill": {
     "duration": 0.015196,
     "end_time": "2025-03-14T13:53:37.850227",
     "exception": false,
     "start_time": "2025-03-14T13:53:37.835031",
     "status": "completed"
    },
    "tags": []
   },
   "source": [
    "**Dropping columns 'market_id, 'store_id', 'store_primary_category'**"
   ]
  },
  {
   "cell_type": "markdown",
   "id": "19676063",
   "metadata": {
    "papermill": {
     "duration": 0.015027,
     "end_time": "2025-03-14T13:53:37.880645",
     "exception": false,
     "start_time": "2025-03-14T13:53:37.865618",
     "status": "completed"
    },
    "tags": []
   },
   "source": [
    "Dropping the columns 'market_id', 'store_id', and 'store_primary_category' as they are not relevant to the given business context."
   ]
  },
  {
   "cell_type": "code",
   "execution_count": 21,
   "id": "afe2ba37",
   "metadata": {
    "execution": {
     "iopub.execute_input": "2025-03-14T13:53:37.912169Z",
     "iopub.status.busy": "2025-03-14T13:53:37.911880Z",
     "iopub.status.idle": "2025-03-14T13:53:37.926695Z",
     "shell.execute_reply": "2025-03-14T13:53:37.926076Z"
    },
    "papermill": {
     "duration": 0.031992,
     "end_time": "2025-03-14T13:53:37.928150",
     "exception": false,
     "start_time": "2025-03-14T13:53:37.896158",
     "status": "completed"
    },
    "tags": []
   },
   "outputs": [],
   "source": [
    "df = df.drop(columns = ['market_id', 'store_id', 'store_primary_category'])"
   ]
  },
  {
   "cell_type": "code",
   "execution_count": 22,
   "id": "6bec478d",
   "metadata": {
    "execution": {
     "iopub.execute_input": "2025-03-14T13:53:37.959230Z",
     "iopub.status.busy": "2025-03-14T13:53:37.959025Z",
     "iopub.status.idle": "2025-03-14T13:53:37.972595Z",
     "shell.execute_reply": "2025-03-14T13:53:37.971801Z"
    },
    "papermill": {
     "duration": 0.030671,
     "end_time": "2025-03-14T13:53:37.974021",
     "exception": false,
     "start_time": "2025-03-14T13:53:37.943350",
     "status": "completed"
    },
    "tags": []
   },
   "outputs": [
    {
     "data": {
      "text/html": [
       "<div>\n",
       "<style scoped>\n",
       "    .dataframe tbody tr th:only-of-type {\n",
       "        vertical-align: middle;\n",
       "    }\n",
       "\n",
       "    .dataframe tbody tr th {\n",
       "        vertical-align: top;\n",
       "    }\n",
       "\n",
       "    .dataframe thead th {\n",
       "        text-align: right;\n",
       "    }\n",
       "</style>\n",
       "<table border=\"1\" class=\"dataframe\">\n",
       "  <thead>\n",
       "    <tr style=\"text-align: right;\">\n",
       "      <th></th>\n",
       "      <th>created_at</th>\n",
       "      <th>actual_delivery_time</th>\n",
       "      <th>order_protocol</th>\n",
       "      <th>total_items</th>\n",
       "      <th>subtotal</th>\n",
       "      <th>num_distinct_items</th>\n",
       "      <th>min_item_price</th>\n",
       "      <th>max_item_price</th>\n",
       "      <th>total_onshift_partners</th>\n",
       "      <th>total_busy_partners</th>\n",
       "      <th>total_outstanding_orders</th>\n",
       "    </tr>\n",
       "  </thead>\n",
       "  <tbody>\n",
       "    <tr>\n",
       "      <th>0</th>\n",
       "      <td>2015-02-06 22:24:17</td>\n",
       "      <td>2015-02-06 23:27:16</td>\n",
       "      <td>1.0</td>\n",
       "      <td>4</td>\n",
       "      <td>3441</td>\n",
       "      <td>4</td>\n",
       "      <td>557</td>\n",
       "      <td>1239</td>\n",
       "      <td>33.0</td>\n",
       "      <td>14.0</td>\n",
       "      <td>21.0</td>\n",
       "    </tr>\n",
       "    <tr>\n",
       "      <th>1</th>\n",
       "      <td>2015-02-10 21:49:25</td>\n",
       "      <td>2015-02-10 22:56:29</td>\n",
       "      <td>2.0</td>\n",
       "      <td>1</td>\n",
       "      <td>1900</td>\n",
       "      <td>1</td>\n",
       "      <td>1400</td>\n",
       "      <td>1400</td>\n",
       "      <td>1.0</td>\n",
       "      <td>2.0</td>\n",
       "      <td>2.0</td>\n",
       "    </tr>\n",
       "    <tr>\n",
       "      <th>2</th>\n",
       "      <td>2015-01-22 20:39:28</td>\n",
       "      <td>2015-01-22 21:09:09</td>\n",
       "      <td>1.0</td>\n",
       "      <td>1</td>\n",
       "      <td>1900</td>\n",
       "      <td>1</td>\n",
       "      <td>1900</td>\n",
       "      <td>1900</td>\n",
       "      <td>1.0</td>\n",
       "      <td>0.0</td>\n",
       "      <td>0.0</td>\n",
       "    </tr>\n",
       "    <tr>\n",
       "      <th>3</th>\n",
       "      <td>2015-02-03 21:21:45</td>\n",
       "      <td>2015-02-03 22:13:00</td>\n",
       "      <td>1.0</td>\n",
       "      <td>6</td>\n",
       "      <td>6900</td>\n",
       "      <td>5</td>\n",
       "      <td>600</td>\n",
       "      <td>1800</td>\n",
       "      <td>1.0</td>\n",
       "      <td>1.0</td>\n",
       "      <td>2.0</td>\n",
       "    </tr>\n",
       "    <tr>\n",
       "      <th>4</th>\n",
       "      <td>2015-02-15 02:40:36</td>\n",
       "      <td>2015-02-15 03:20:26</td>\n",
       "      <td>1.0</td>\n",
       "      <td>3</td>\n",
       "      <td>3900</td>\n",
       "      <td>3</td>\n",
       "      <td>1100</td>\n",
       "      <td>1600</td>\n",
       "      <td>6.0</td>\n",
       "      <td>6.0</td>\n",
       "      <td>9.0</td>\n",
       "    </tr>\n",
       "    <tr>\n",
       "      <th>...</th>\n",
       "      <td>...</td>\n",
       "      <td>...</td>\n",
       "      <td>...</td>\n",
       "      <td>...</td>\n",
       "      <td>...</td>\n",
       "      <td>...</td>\n",
       "      <td>...</td>\n",
       "      <td>...</td>\n",
       "      <td>...</td>\n",
       "      <td>...</td>\n",
       "      <td>...</td>\n",
       "    </tr>\n",
       "    <tr>\n",
       "      <th>197423</th>\n",
       "      <td>2015-02-17 00:19:41</td>\n",
       "      <td>2015-02-17 01:24:48</td>\n",
       "      <td>4.0</td>\n",
       "      <td>3</td>\n",
       "      <td>1389</td>\n",
       "      <td>3</td>\n",
       "      <td>345</td>\n",
       "      <td>649</td>\n",
       "      <td>17.0</td>\n",
       "      <td>17.0</td>\n",
       "      <td>23.0</td>\n",
       "    </tr>\n",
       "    <tr>\n",
       "      <th>197424</th>\n",
       "      <td>2015-02-13 00:01:59</td>\n",
       "      <td>2015-02-13 00:58:22</td>\n",
       "      <td>4.0</td>\n",
       "      <td>6</td>\n",
       "      <td>3010</td>\n",
       "      <td>4</td>\n",
       "      <td>405</td>\n",
       "      <td>825</td>\n",
       "      <td>12.0</td>\n",
       "      <td>11.0</td>\n",
       "      <td>14.0</td>\n",
       "    </tr>\n",
       "    <tr>\n",
       "      <th>197425</th>\n",
       "      <td>2015-01-24 04:46:08</td>\n",
       "      <td>2015-01-24 05:36:16</td>\n",
       "      <td>4.0</td>\n",
       "      <td>5</td>\n",
       "      <td>1836</td>\n",
       "      <td>3</td>\n",
       "      <td>300</td>\n",
       "      <td>399</td>\n",
       "      <td>39.0</td>\n",
       "      <td>41.0</td>\n",
       "      <td>40.0</td>\n",
       "    </tr>\n",
       "    <tr>\n",
       "      <th>197426</th>\n",
       "      <td>2015-02-01 18:18:15</td>\n",
       "      <td>2015-02-01 19:23:22</td>\n",
       "      <td>1.0</td>\n",
       "      <td>1</td>\n",
       "      <td>1175</td>\n",
       "      <td>1</td>\n",
       "      <td>535</td>\n",
       "      <td>535</td>\n",
       "      <td>7.0</td>\n",
       "      <td>7.0</td>\n",
       "      <td>12.0</td>\n",
       "    </tr>\n",
       "    <tr>\n",
       "      <th>197427</th>\n",
       "      <td>2015-02-08 19:24:33</td>\n",
       "      <td>2015-02-08 20:01:41</td>\n",
       "      <td>1.0</td>\n",
       "      <td>4</td>\n",
       "      <td>2605</td>\n",
       "      <td>4</td>\n",
       "      <td>425</td>\n",
       "      <td>750</td>\n",
       "      <td>20.0</td>\n",
       "      <td>20.0</td>\n",
       "      <td>23.0</td>\n",
       "    </tr>\n",
       "  </tbody>\n",
       "</table>\n",
       "<p>197428 rows × 11 columns</p>\n",
       "</div>"
      ],
      "text/plain": [
       "                 created_at actual_delivery_time  order_protocol  total_items  \\\n",
       "0       2015-02-06 22:24:17  2015-02-06 23:27:16             1.0            4   \n",
       "1       2015-02-10 21:49:25  2015-02-10 22:56:29             2.0            1   \n",
       "2       2015-01-22 20:39:28  2015-01-22 21:09:09             1.0            1   \n",
       "3       2015-02-03 21:21:45  2015-02-03 22:13:00             1.0            6   \n",
       "4       2015-02-15 02:40:36  2015-02-15 03:20:26             1.0            3   \n",
       "...                     ...                  ...             ...          ...   \n",
       "197423  2015-02-17 00:19:41  2015-02-17 01:24:48             4.0            3   \n",
       "197424  2015-02-13 00:01:59  2015-02-13 00:58:22             4.0            6   \n",
       "197425  2015-01-24 04:46:08  2015-01-24 05:36:16             4.0            5   \n",
       "197426  2015-02-01 18:18:15  2015-02-01 19:23:22             1.0            1   \n",
       "197427  2015-02-08 19:24:33  2015-02-08 20:01:41             1.0            4   \n",
       "\n",
       "        subtotal  num_distinct_items  min_item_price  max_item_price  \\\n",
       "0           3441                   4             557            1239   \n",
       "1           1900                   1            1400            1400   \n",
       "2           1900                   1            1900            1900   \n",
       "3           6900                   5             600            1800   \n",
       "4           3900                   3            1100            1600   \n",
       "...          ...                 ...             ...             ...   \n",
       "197423      1389                   3             345             649   \n",
       "197424      3010                   4             405             825   \n",
       "197425      1836                   3             300             399   \n",
       "197426      1175                   1             535             535   \n",
       "197427      2605                   4             425             750   \n",
       "\n",
       "        total_onshift_partners  total_busy_partners  total_outstanding_orders  \n",
       "0                         33.0                 14.0                      21.0  \n",
       "1                          1.0                  2.0                       2.0  \n",
       "2                          1.0                  0.0                       0.0  \n",
       "3                          1.0                  1.0                       2.0  \n",
       "4                          6.0                  6.0                       9.0  \n",
       "...                        ...                  ...                       ...  \n",
       "197423                    17.0                 17.0                      23.0  \n",
       "197424                    12.0                 11.0                      14.0  \n",
       "197425                    39.0                 41.0                      40.0  \n",
       "197426                     7.0                  7.0                      12.0  \n",
       "197427                    20.0                 20.0                      23.0  \n",
       "\n",
       "[197428 rows x 11 columns]"
      ]
     },
     "execution_count": 22,
     "metadata": {},
     "output_type": "execute_result"
    }
   ],
   "source": [
    "df"
   ]
  },
  {
   "cell_type": "markdown",
   "id": "25ca60d9",
   "metadata": {
    "papermill": {
     "duration": 0.015471,
     "end_time": "2025-03-14T13:53:38.005932",
     "exception": false,
     "start_time": "2025-03-14T13:53:37.990461",
     "status": "completed"
    },
    "tags": []
   },
   "source": [
    "**Handling Missing Values in Continuos Columns"
   ]
  },
  {
   "cell_type": "code",
   "execution_count": 23,
   "id": "a44dbe61",
   "metadata": {
    "execution": {
     "iopub.execute_input": "2025-03-14T13:53:38.038091Z",
     "iopub.status.busy": "2025-03-14T13:53:38.037841Z",
     "iopub.status.idle": "2025-03-14T13:53:38.053385Z",
     "shell.execute_reply": "2025-03-14T13:53:38.052352Z"
    },
    "papermill": {
     "duration": 0.033048,
     "end_time": "2025-03-14T13:53:38.054640",
     "exception": false,
     "start_time": "2025-03-14T13:53:38.021592",
     "status": "completed"
    },
    "tags": []
   },
   "outputs": [
    {
     "name": "stdout",
     "output_type": "stream",
     "text": [
      "0.8607580961811951\n",
      "0.7824625946552558\n",
      "1.1953217621678773\n"
     ]
    }
   ],
   "source": [
    "print(df['total_onshift_partners'].skew())\n",
    "print(df['total_busy_partners'].skew())\n",
    "print(df['total_outstanding_orders'].skew())\n"
   ]
  },
  {
   "cell_type": "markdown",
   "id": "e730d5bc",
   "metadata": {
    "papermill": {
     "duration": 0.015273,
     "end_time": "2025-03-14T13:53:38.085565",
     "exception": false,
     "start_time": "2025-03-14T13:53:38.070292",
     "status": "completed"
    },
    "tags": []
   },
   "source": [
    "**Inference**:\n",
    "\n",
    "Since all three columns are right-skewed, median imputation is the appropriate method to fill the missing values in these columns."
   ]
  },
  {
   "cell_type": "code",
   "execution_count": 24,
   "id": "a136cbe4",
   "metadata": {
    "execution": {
     "iopub.execute_input": "2025-03-14T13:53:38.117714Z",
     "iopub.status.busy": "2025-03-14T13:53:38.117505Z",
     "iopub.status.idle": "2025-03-14T13:53:38.129507Z",
     "shell.execute_reply": "2025-03-14T13:53:38.128911Z"
    },
    "papermill": {
     "duration": 0.029373,
     "end_time": "2025-03-14T13:53:38.130703",
     "exception": false,
     "start_time": "2025-03-14T13:53:38.101330",
     "status": "completed"
    },
    "tags": []
   },
   "outputs": [],
   "source": [
    "cols = ['total_onshift_partners', 'total_busy_partners', 'total_outstanding_orders']\n",
    "for col in  cols:\n",
    "    df[col].fillna(df[col].median(), inplace=True)"
   ]
  },
  {
   "cell_type": "code",
   "execution_count": 25,
   "id": "c5800f20",
   "metadata": {
    "execution": {
     "iopub.execute_input": "2025-03-14T13:53:38.162479Z",
     "iopub.status.busy": "2025-03-14T13:53:38.162250Z",
     "iopub.status.idle": "2025-03-14T13:53:38.197375Z",
     "shell.execute_reply": "2025-03-14T13:53:38.196697Z"
    },
    "papermill": {
     "duration": 0.052331,
     "end_time": "2025-03-14T13:53:38.198562",
     "exception": false,
     "start_time": "2025-03-14T13:53:38.146231",
     "status": "completed"
    },
    "tags": []
   },
   "outputs": [
    {
     "data": {
      "text/plain": [
       "created_at                  0\n",
       "actual_delivery_time        7\n",
       "order_protocol              0\n",
       "total_items                 0\n",
       "subtotal                    0\n",
       "num_distinct_items          0\n",
       "min_item_price              0\n",
       "max_item_price              0\n",
       "total_onshift_partners      0\n",
       "total_busy_partners         0\n",
       "total_outstanding_orders    0\n",
       "dtype: int64"
      ]
     },
     "execution_count": 25,
     "metadata": {},
     "output_type": "execute_result"
    }
   ],
   "source": [
    "df.isnull().sum()"
   ]
  },
  {
   "cell_type": "markdown",
   "id": "dd874a88",
   "metadata": {
    "papermill": {
     "duration": 0.015359,
     "end_time": "2025-03-14T13:53:38.230045",
     "exception": false,
     "start_time": "2025-03-14T13:53:38.214686",
     "status": "completed"
    },
    "tags": []
   },
   "source": [
    "**Dropping remaining Null Values**"
   ]
  },
  {
   "cell_type": "code",
   "execution_count": 26,
   "id": "af6230a8",
   "metadata": {
    "execution": {
     "iopub.execute_input": "2025-03-14T13:53:38.262027Z",
     "iopub.status.busy": "2025-03-14T13:53:38.261770Z",
     "iopub.status.idle": "2025-03-14T13:53:38.329329Z",
     "shell.execute_reply": "2025-03-14T13:53:38.328313Z"
    },
    "papermill": {
     "duration": 0.085303,
     "end_time": "2025-03-14T13:53:38.331044",
     "exception": false,
     "start_time": "2025-03-14T13:53:38.245741",
     "status": "completed"
    },
    "tags": []
   },
   "outputs": [
    {
     "data": {
      "text/plain": [
       "created_at                  0\n",
       "actual_delivery_time        0\n",
       "order_protocol              0\n",
       "total_items                 0\n",
       "subtotal                    0\n",
       "num_distinct_items          0\n",
       "min_item_price              0\n",
       "max_item_price              0\n",
       "total_onshift_partners      0\n",
       "total_busy_partners         0\n",
       "total_outstanding_orders    0\n",
       "dtype: int64"
      ]
     },
     "execution_count": 26,
     "metadata": {},
     "output_type": "execute_result"
    }
   ],
   "source": [
    "df.dropna(inplace=True)\n",
    "df.isnull().sum()"
   ]
  },
  {
   "cell_type": "code",
   "execution_count": 27,
   "id": "31389092",
   "metadata": {
    "execution": {
     "iopub.execute_input": "2025-03-14T13:53:38.364514Z",
     "iopub.status.busy": "2025-03-14T13:53:38.364285Z",
     "iopub.status.idle": "2025-03-14T13:53:38.368668Z",
     "shell.execute_reply": "2025-03-14T13:53:38.367908Z"
    },
    "papermill": {
     "duration": 0.021971,
     "end_time": "2025-03-14T13:53:38.369808",
     "exception": false,
     "start_time": "2025-03-14T13:53:38.347837",
     "status": "completed"
    },
    "tags": []
   },
   "outputs": [
    {
     "data": {
      "text/plain": [
       "(197421, 11)"
      ]
     },
     "execution_count": 27,
     "metadata": {},
     "output_type": "execute_result"
    }
   ],
   "source": [
    "df.shape"
   ]
  },
  {
   "cell_type": "markdown",
   "id": "65cb7390",
   "metadata": {
    "papermill": {
     "duration": 0.015258,
     "end_time": "2025-03-14T13:53:38.400878",
     "exception": false,
     "start_time": "2025-03-14T13:53:38.385620",
     "status": "completed"
    },
    "tags": []
   },
   "source": [
    "## 👾 Handling Outliers"
   ]
  },
  {
   "cell_type": "markdown",
   "id": "c15ea6d3",
   "metadata": {
    "papermill": {
     "duration": 0.015611,
     "end_time": "2025-03-14T13:53:38.432356",
     "exception": false,
     "start_time": "2025-03-14T13:53:38.416745",
     "status": "completed"
    },
    "tags": []
   },
   "source": [
    "**Outlier Detection using Box plot**"
   ]
  },
  {
   "cell_type": "code",
   "execution_count": 28,
   "id": "e93af293",
   "metadata": {
    "execution": {
     "iopub.execute_input": "2025-03-14T13:53:38.464516Z",
     "iopub.status.busy": "2025-03-14T13:53:38.464301Z",
     "iopub.status.idle": "2025-03-14T13:53:38.477981Z",
     "shell.execute_reply": "2025-03-14T13:53:38.477322Z"
    },
    "papermill": {
     "duration": 0.031164,
     "end_time": "2025-03-14T13:53:38.479220",
     "exception": false,
     "start_time": "2025-03-14T13:53:38.448056",
     "status": "completed"
    },
    "tags": []
   },
   "outputs": [
    {
     "data": {
      "text/plain": [
       "Index(['order_protocol', 'total_items', 'subtotal', 'num_distinct_items',\n",
       "       'min_item_price', 'max_item_price', 'total_onshift_partners',\n",
       "       'total_busy_partners', 'total_outstanding_orders'],\n",
       "      dtype='object')"
      ]
     },
     "execution_count": 28,
     "metadata": {},
     "output_type": "execute_result"
    }
   ],
   "source": [
    "num_cols = df.select_dtypes(include='number').columns\n",
    "num_cols"
   ]
  },
  {
   "cell_type": "code",
   "execution_count": 29,
   "id": "21246692",
   "metadata": {
    "execution": {
     "iopub.execute_input": "2025-03-14T13:53:38.517521Z",
     "iopub.status.busy": "2025-03-14T13:53:38.517181Z",
     "iopub.status.idle": "2025-03-14T13:53:40.062205Z",
     "shell.execute_reply": "2025-03-14T13:53:40.061337Z"
    },
    "papermill": {
     "duration": 1.566296,
     "end_time": "2025-03-14T13:53:40.064037",
     "exception": false,
     "start_time": "2025-03-14T13:53:38.497741",
     "status": "completed"
    },
    "tags": []
   },
   "outputs": [
    {
     "data": {
      "image/png": "[encoded data removed]",
      "text/plain": [
       "<Figure size 2500x800 with 1 Axes>"
      ]
     },
     "metadata": {},
     "output_type": "display_data"
    }
   ],
   "source": [
    "df[num_cols].boxplot(rot=45,figsize=(25,8))\n",
    "plt.show()"
   ]
  },
  {
   "cell_type": "markdown",
   "id": "d93c0db0",
   "metadata": {
    "papermill": {
     "duration": 0.017408,
     "end_time": "2025-03-14T13:53:40.099499",
     "exception": false,
     "start_time": "2025-03-14T13:53:40.082091",
     "status": "completed"
    },
    "tags": []
   },
   "source": [
    "**Handling outliers using LOF method**"
   ]
  },
  {
   "cell_type": "code",
   "execution_count": 30,
   "id": "bcbecd4c",
   "metadata": {
    "execution": {
     "iopub.execute_input": "2025-03-14T13:53:40.135446Z",
     "iopub.status.busy": "2025-03-14T13:53:40.135209Z",
     "iopub.status.idle": "2025-03-14T13:53:40.139729Z",
     "shell.execute_reply": "2025-03-14T13:53:40.138959Z"
    },
    "papermill": {
     "duration": 0.024063,
     "end_time": "2025-03-14T13:53:40.141077",
     "exception": false,
     "start_time": "2025-03-14T13:53:40.117014",
     "status": "completed"
    },
    "tags": []
   },
   "outputs": [
    {
     "data": {
      "text/plain": [
       "197421"
      ]
     },
     "execution_count": 30,
     "metadata": {},
     "output_type": "execute_result"
    }
   ],
   "source": [
    "len_before = len(df)\n",
    "len_before"
   ]
  },
  {
   "cell_type": "code",
   "execution_count": 31,
   "id": "88aba431",
   "metadata": {
    "execution": {
     "iopub.execute_input": "2025-03-14T13:53:40.177989Z",
     "iopub.status.busy": "2025-03-14T13:53:40.177716Z",
     "iopub.status.idle": "2025-03-14T13:53:45.795107Z",
     "shell.execute_reply": "2025-03-14T13:53:45.794148Z"
    },
    "papermill": {
     "duration": 5.637196,
     "end_time": "2025-03-14T13:53:45.796472",
     "exception": false,
     "start_time": "2025-03-14T13:53:40.159276",
     "status": "completed"
    },
    "tags": []
   },
   "outputs": [
    {
     "data": {
      "text/html": [
       "<div>\n",
       "<style scoped>\n",
       "    .dataframe tbody tr th:only-of-type {\n",
       "        vertical-align: middle;\n",
       "    }\n",
       "\n",
       "    .dataframe tbody tr th {\n",
       "        vertical-align: top;\n",
       "    }\n",
       "\n",
       "    .dataframe thead th {\n",
       "        text-align: right;\n",
       "    }\n",
       "</style>\n",
       "<table border=\"1\" class=\"dataframe\">\n",
       "  <thead>\n",
       "    <tr style=\"text-align: right;\">\n",
       "      <th></th>\n",
       "      <th>created_at</th>\n",
       "      <th>actual_delivery_time</th>\n",
       "      <th>order_protocol</th>\n",
       "      <th>total_items</th>\n",
       "      <th>subtotal</th>\n",
       "      <th>num_distinct_items</th>\n",
       "      <th>min_item_price</th>\n",
       "      <th>max_item_price</th>\n",
       "      <th>total_onshift_partners</th>\n",
       "      <th>total_busy_partners</th>\n",
       "      <th>total_outstanding_orders</th>\n",
       "      <th>LOF_anomaly_score</th>\n",
       "    </tr>\n",
       "  </thead>\n",
       "  <tbody>\n",
       "    <tr>\n",
       "      <th>0</th>\n",
       "      <td>2015-02-06 22:24:17</td>\n",
       "      <td>2015-02-06 23:27:16</td>\n",
       "      <td>1.0</td>\n",
       "      <td>4</td>\n",
       "      <td>3441</td>\n",
       "      <td>4</td>\n",
       "      <td>557</td>\n",
       "      <td>1239</td>\n",
       "      <td>33.0</td>\n",
       "      <td>14.0</td>\n",
       "      <td>21.0</td>\n",
       "      <td>1</td>\n",
       "    </tr>\n",
       "    <tr>\n",
       "      <th>1</th>\n",
       "      <td>2015-02-10 21:49:25</td>\n",
       "      <td>2015-02-10 22:56:29</td>\n",
       "      <td>2.0</td>\n",
       "      <td>1</td>\n",
       "      <td>1900</td>\n",
       "      <td>1</td>\n",
       "      <td>1400</td>\n",
       "      <td>1400</td>\n",
       "      <td>1.0</td>\n",
       "      <td>2.0</td>\n",
       "      <td>2.0</td>\n",
       "      <td>1</td>\n",
       "    </tr>\n",
       "    <tr>\n",
       "      <th>2</th>\n",
       "      <td>2015-01-22 20:39:28</td>\n",
       "      <td>2015-01-22 21:09:09</td>\n",
       "      <td>1.0</td>\n",
       "      <td>1</td>\n",
       "      <td>1900</td>\n",
       "      <td>1</td>\n",
       "      <td>1900</td>\n",
       "      <td>1900</td>\n",
       "      <td>1.0</td>\n",
       "      <td>0.0</td>\n",
       "      <td>0.0</td>\n",
       "      <td>1</td>\n",
       "    </tr>\n",
       "    <tr>\n",
       "      <th>3</th>\n",
       "      <td>2015-02-03 21:21:45</td>\n",
       "      <td>2015-02-03 22:13:00</td>\n",
       "      <td>1.0</td>\n",
       "      <td>6</td>\n",
       "      <td>6900</td>\n",
       "      <td>5</td>\n",
       "      <td>600</td>\n",
       "      <td>1800</td>\n",
       "      <td>1.0</td>\n",
       "      <td>1.0</td>\n",
       "      <td>2.0</td>\n",
       "      <td>1</td>\n",
       "    </tr>\n",
       "    <tr>\n",
       "      <th>4</th>\n",
       "      <td>2015-02-15 02:40:36</td>\n",
       "      <td>2015-02-15 03:20:26</td>\n",
       "      <td>1.0</td>\n",
       "      <td>3</td>\n",
       "      <td>3900</td>\n",
       "      <td>3</td>\n",
       "      <td>1100</td>\n",
       "      <td>1600</td>\n",
       "      <td>6.0</td>\n",
       "      <td>6.0</td>\n",
       "      <td>9.0</td>\n",
       "      <td>1</td>\n",
       "    </tr>\n",
       "    <tr>\n",
       "      <th>...</th>\n",
       "      <td>...</td>\n",
       "      <td>...</td>\n",
       "      <td>...</td>\n",
       "      <td>...</td>\n",
       "      <td>...</td>\n",
       "      <td>...</td>\n",
       "      <td>...</td>\n",
       "      <td>...</td>\n",
       "      <td>...</td>\n",
       "      <td>...</td>\n",
       "      <td>...</td>\n",
       "      <td>...</td>\n",
       "    </tr>\n",
       "    <tr>\n",
       "      <th>197423</th>\n",
       "      <td>2015-02-17 00:19:41</td>\n",
       "      <td>2015-02-17 01:24:48</td>\n",
       "      <td>4.0</td>\n",
       "      <td>3</td>\n",
       "      <td>1389</td>\n",
       "      <td>3</td>\n",
       "      <td>345</td>\n",
       "      <td>649</td>\n",
       "      <td>17.0</td>\n",
       "      <td>17.0</td>\n",
       "      <td>23.0</td>\n",
       "      <td>1</td>\n",
       "    </tr>\n",
       "    <tr>\n",
       "      <th>197424</th>\n",
       "      <td>2015-02-13 00:01:59</td>\n",
       "      <td>2015-02-13 00:58:22</td>\n",
       "      <td>4.0</td>\n",
       "      <td>6</td>\n",
       "      <td>3010</td>\n",
       "      <td>4</td>\n",
       "      <td>405</td>\n",
       "      <td>825</td>\n",
       "      <td>12.0</td>\n",
       "      <td>11.0</td>\n",
       "      <td>14.0</td>\n",
       "      <td>1</td>\n",
       "    </tr>\n",
       "    <tr>\n",
       "      <th>197425</th>\n",
       "      <td>2015-01-24 04:46:08</td>\n",
       "      <td>2015-01-24 05:36:16</td>\n",
       "      <td>4.0</td>\n",
       "      <td>5</td>\n",
       "      <td>1836</td>\n",
       "      <td>3</td>\n",
       "      <td>300</td>\n",
       "      <td>399</td>\n",
       "      <td>39.0</td>\n",
       "      <td>41.0</td>\n",
       "      <td>40.0</td>\n",
       "      <td>1</td>\n",
       "    </tr>\n",
       "    <tr>\n",
       "      <th>197426</th>\n",
       "      <td>2015-02-01 18:18:15</td>\n",
       "      <td>2015-02-01 19:23:22</td>\n",
       "      <td>1.0</td>\n",
       "      <td>1</td>\n",
       "      <td>1175</td>\n",
       "      <td>1</td>\n",
       "      <td>535</td>\n",
       "      <td>535</td>\n",
       "      <td>7.0</td>\n",
       "      <td>7.0</td>\n",
       "      <td>12.0</td>\n",
       "      <td>1</td>\n",
       "    </tr>\n",
       "    <tr>\n",
       "      <th>197427</th>\n",
       "      <td>2015-02-08 19:24:33</td>\n",
       "      <td>2015-02-08 20:01:41</td>\n",
       "      <td>1.0</td>\n",
       "      <td>4</td>\n",
       "      <td>2605</td>\n",
       "      <td>4</td>\n",
       "      <td>425</td>\n",
       "      <td>750</td>\n",
       "      <td>20.0</td>\n",
       "      <td>20.0</td>\n",
       "      <td>23.0</td>\n",
       "      <td>1</td>\n",
       "    </tr>\n",
       "  </tbody>\n",
       "</table>\n",
       "<p>197421 rows × 12 columns</p>\n",
       "</div>"
      ],
      "text/plain": [
       "                 created_at actual_delivery_time  order_protocol  total_items  \\\n",
       "0       2015-02-06 22:24:17  2015-02-06 23:27:16             1.0            4   \n",
       "1       2015-02-10 21:49:25  2015-02-10 22:56:29             2.0            1   \n",
       "2       2015-01-22 20:39:28  2015-01-22 21:09:09             1.0            1   \n",
       "3       2015-02-03 21:21:45  2015-02-03 22:13:00             1.0            6   \n",
       "4       2015-02-15 02:40:36  2015-02-15 03:20:26             1.0            3   \n",
       "...                     ...                  ...             ...          ...   \n",
       "197423  2015-02-17 00:19:41  2015-02-17 01:24:48             4.0            3   \n",
       "197424  2015-02-13 00:01:59  2015-02-13 00:58:22             4.0            6   \n",
       "197425  2015-01-24 04:46:08  2015-01-24 05:36:16             4.0            5   \n",
       "197426  2015-02-01 18:18:15  2015-02-01 19:23:22             1.0            1   \n",
       "197427  2015-02-08 19:24:33  2015-02-08 20:01:41             1.0            4   \n",
       "\n",
       "        subtotal  num_distinct_items  min_item_price  max_item_price  \\\n",
       "0           3441                   4             557            1239   \n",
       "1           1900                   1            1400            1400   \n",
       "2           1900                   1            1900            1900   \n",
       "3           6900                   5             600            1800   \n",
       "4           3900                   3            1100            1600   \n",
       "...          ...                 ...             ...             ...   \n",
       "197423      1389                   3             345             649   \n",
       "197424      3010                   4             405             825   \n",
       "197425      1836                   3             300             399   \n",
       "197426      1175                   1             535             535   \n",
       "197427      2605                   4             425             750   \n",
       "\n",
       "        total_onshift_partners  total_busy_partners  total_outstanding_orders  \\\n",
       "0                         33.0                 14.0                      21.0   \n",
       "1                          1.0                  2.0                       2.0   \n",
       "2                          1.0                  0.0                       0.0   \n",
       "3                          1.0                  1.0                       2.0   \n",
       "4                          6.0                  6.0                       9.0   \n",
       "...                        ...                  ...                       ...   \n",
       "197423                    17.0                 17.0                      23.0   \n",
       "197424                    12.0                 11.0                      14.0   \n",
       "197425                    39.0                 41.0                      40.0   \n",
       "197426                     7.0                  7.0                      12.0   \n",
       "197427                    20.0                 20.0                      23.0   \n",
       "\n",
       "        LOF_anomaly_score  \n",
       "0                       1  \n",
       "1                       1  \n",
       "2                       1  \n",
       "3                       1  \n",
       "4                       1  \n",
       "...                   ...  \n",
       "197423                  1  \n",
       "197424                  1  \n",
       "197425                  1  \n",
       "197426                  1  \n",
       "197427                  1  \n",
       "\n",
       "[197421 rows x 12 columns]"
      ]
     },
     "execution_count": 31,
     "metadata": {},
     "output_type": "execute_result"
    }
   ],
   "source": [
    "from sklearn.neighbors import LocalOutlierFactor\n",
    "model1 = LocalOutlierFactor()\n",
    "df['LOF_anomaly_score'] = model1.fit_predict(df[num_cols])\n",
    "df"
   ]
  },
  {
   "cell_type": "code",
   "execution_count": 32,
   "id": "203b39bb",
   "metadata": {
    "execution": {
     "iopub.execute_input": "2025-03-14T13:53:45.836349Z",
     "iopub.status.busy": "2025-03-14T13:53:45.836051Z",
     "iopub.status.idle": "2025-03-14T13:53:45.844089Z",
     "shell.execute_reply": "2025-03-14T13:53:45.843036Z"
    },
    "papermill": {
     "duration": 0.0295,
     "end_time": "2025-03-14T13:53:45.845466",
     "exception": false,
     "start_time": "2025-03-14T13:53:45.815966",
     "status": "completed"
    },
    "tags": []
   },
   "outputs": [
    {
     "name": "stdout",
     "output_type": "stream",
     "text": [
      "Number of outliers:6595\n"
     ]
    }
   ],
   "source": [
    "outliers = len(df.loc[(df['LOF_anomaly_score']==-1)])\n",
    "print(f'Number of outliers:{outliers}')"
   ]
  },
  {
   "cell_type": "code",
   "execution_count": 33,
   "id": "5be3b4b2",
   "metadata": {
    "execution": {
     "iopub.execute_input": "2025-03-14T13:53:45.886454Z",
     "iopub.status.busy": "2025-03-14T13:53:45.886154Z",
     "iopub.status.idle": "2025-03-14T13:53:45.912702Z",
     "shell.execute_reply": "2025-03-14T13:53:45.911773Z"
    },
    "papermill": {
     "duration": 0.047809,
     "end_time": "2025-03-14T13:53:45.914348",
     "exception": false,
     "start_time": "2025-03-14T13:53:45.866539",
     "status": "completed"
    },
    "tags": []
   },
   "outputs": [
    {
     "data": {
      "text/html": [
       "<div>\n",
       "<style scoped>\n",
       "    .dataframe tbody tr th:only-of-type {\n",
       "        vertical-align: middle;\n",
       "    }\n",
       "\n",
       "    .dataframe tbody tr th {\n",
       "        vertical-align: top;\n",
       "    }\n",
       "\n",
       "    .dataframe thead th {\n",
       "        text-align: right;\n",
       "    }\n",
       "</style>\n",
       "<table border=\"1\" class=\"dataframe\">\n",
       "  <thead>\n",
       "    <tr style=\"text-align: right;\">\n",
       "      <th></th>\n",
       "      <th>created_at</th>\n",
       "      <th>actual_delivery_time</th>\n",
       "      <th>order_protocol</th>\n",
       "      <th>total_items</th>\n",
       "      <th>subtotal</th>\n",
       "      <th>num_distinct_items</th>\n",
       "      <th>min_item_price</th>\n",
       "      <th>max_item_price</th>\n",
       "      <th>total_onshift_partners</th>\n",
       "      <th>total_busy_partners</th>\n",
       "      <th>total_outstanding_orders</th>\n",
       "      <th>LOF_anomaly_score</th>\n",
       "    </tr>\n",
       "  </thead>\n",
       "  <tbody>\n",
       "    <tr>\n",
       "      <th>0</th>\n",
       "      <td>2015-02-06 22:24:17</td>\n",
       "      <td>2015-02-06 23:27:16</td>\n",
       "      <td>1.0</td>\n",
       "      <td>4</td>\n",
       "      <td>3441</td>\n",
       "      <td>4</td>\n",
       "      <td>557</td>\n",
       "      <td>1239</td>\n",
       "      <td>33.0</td>\n",
       "      <td>14.0</td>\n",
       "      <td>21.0</td>\n",
       "      <td>1</td>\n",
       "    </tr>\n",
       "    <tr>\n",
       "      <th>1</th>\n",
       "      <td>2015-02-10 21:49:25</td>\n",
       "      <td>2015-02-10 22:56:29</td>\n",
       "      <td>2.0</td>\n",
       "      <td>1</td>\n",
       "      <td>1900</td>\n",
       "      <td>1</td>\n",
       "      <td>1400</td>\n",
       "      <td>1400</td>\n",
       "      <td>1.0</td>\n",
       "      <td>2.0</td>\n",
       "      <td>2.0</td>\n",
       "      <td>1</td>\n",
       "    </tr>\n",
       "    <tr>\n",
       "      <th>2</th>\n",
       "      <td>2015-01-22 20:39:28</td>\n",
       "      <td>2015-01-22 21:09:09</td>\n",
       "      <td>1.0</td>\n",
       "      <td>1</td>\n",
       "      <td>1900</td>\n",
       "      <td>1</td>\n",
       "      <td>1900</td>\n",
       "      <td>1900</td>\n",
       "      <td>1.0</td>\n",
       "      <td>0.0</td>\n",
       "      <td>0.0</td>\n",
       "      <td>1</td>\n",
       "    </tr>\n",
       "    <tr>\n",
       "      <th>3</th>\n",
       "      <td>2015-02-03 21:21:45</td>\n",
       "      <td>2015-02-03 22:13:00</td>\n",
       "      <td>1.0</td>\n",
       "      <td>6</td>\n",
       "      <td>6900</td>\n",
       "      <td>5</td>\n",
       "      <td>600</td>\n",
       "      <td>1800</td>\n",
       "      <td>1.0</td>\n",
       "      <td>1.0</td>\n",
       "      <td>2.0</td>\n",
       "      <td>1</td>\n",
       "    </tr>\n",
       "    <tr>\n",
       "      <th>4</th>\n",
       "      <td>2015-02-15 02:40:36</td>\n",
       "      <td>2015-02-15 03:20:26</td>\n",
       "      <td>1.0</td>\n",
       "      <td>3</td>\n",
       "      <td>3900</td>\n",
       "      <td>3</td>\n",
       "      <td>1100</td>\n",
       "      <td>1600</td>\n",
       "      <td>6.0</td>\n",
       "      <td>6.0</td>\n",
       "      <td>9.0</td>\n",
       "      <td>1</td>\n",
       "    </tr>\n",
       "    <tr>\n",
       "      <th>...</th>\n",
       "      <td>...</td>\n",
       "      <td>...</td>\n",
       "      <td>...</td>\n",
       "      <td>...</td>\n",
       "      <td>...</td>\n",
       "      <td>...</td>\n",
       "      <td>...</td>\n",
       "      <td>...</td>\n",
       "      <td>...</td>\n",
       "      <td>...</td>\n",
       "      <td>...</td>\n",
       "      <td>...</td>\n",
       "    </tr>\n",
       "    <tr>\n",
       "      <th>197423</th>\n",
       "      <td>2015-02-17 00:19:41</td>\n",
       "      <td>2015-02-17 01:24:48</td>\n",
       "      <td>4.0</td>\n",
       "      <td>3</td>\n",
       "      <td>1389</td>\n",
       "      <td>3</td>\n",
       "      <td>345</td>\n",
       "      <td>649</td>\n",
       "      <td>17.0</td>\n",
       "      <td>17.0</td>\n",
       "      <td>23.0</td>\n",
       "      <td>1</td>\n",
       "    </tr>\n",
       "    <tr>\n",
       "      <th>197424</th>\n",
       "      <td>2015-02-13 00:01:59</td>\n",
       "      <td>2015-02-13 00:58:22</td>\n",
       "      <td>4.0</td>\n",
       "      <td>6</td>\n",
       "      <td>3010</td>\n",
       "      <td>4</td>\n",
       "      <td>405</td>\n",
       "      <td>825</td>\n",
       "      <td>12.0</td>\n",
       "      <td>11.0</td>\n",
       "      <td>14.0</td>\n",
       "      <td>1</td>\n",
       "    </tr>\n",
       "    <tr>\n",
       "      <th>197425</th>\n",
       "      <td>2015-01-24 04:46:08</td>\n",
       "      <td>2015-01-24 05:36:16</td>\n",
       "      <td>4.0</td>\n",
       "      <td>5</td>\n",
       "      <td>1836</td>\n",
       "      <td>3</td>\n",
       "      <td>300</td>\n",
       "      <td>399</td>\n",
       "      <td>39.0</td>\n",
       "      <td>41.0</td>\n",
       "      <td>40.0</td>\n",
       "      <td>1</td>\n",
       "    </tr>\n",
       "    <tr>\n",
       "      <th>197426</th>\n",
       "      <td>2015-02-01 18:18:15</td>\n",
       "      <td>2015-02-01 19:23:22</td>\n",
       "      <td>1.0</td>\n",
       "      <td>1</td>\n",
       "      <td>1175</td>\n",
       "      <td>1</td>\n",
       "      <td>535</td>\n",
       "      <td>535</td>\n",
       "      <td>7.0</td>\n",
       "      <td>7.0</td>\n",
       "      <td>12.0</td>\n",
       "      <td>1</td>\n",
       "    </tr>\n",
       "    <tr>\n",
       "      <th>197427</th>\n",
       "      <td>2015-02-08 19:24:33</td>\n",
       "      <td>2015-02-08 20:01:41</td>\n",
       "      <td>1.0</td>\n",
       "      <td>4</td>\n",
       "      <td>2605</td>\n",
       "      <td>4</td>\n",
       "      <td>425</td>\n",
       "      <td>750</td>\n",
       "      <td>20.0</td>\n",
       "      <td>20.0</td>\n",
       "      <td>23.0</td>\n",
       "      <td>1</td>\n",
       "    </tr>\n",
       "  </tbody>\n",
       "</table>\n",
       "<p>190826 rows × 12 columns</p>\n",
       "</div>"
      ],
      "text/plain": [
       "                 created_at actual_delivery_time  order_protocol  total_items  \\\n",
       "0       2015-02-06 22:24:17  2015-02-06 23:27:16             1.0            4   \n",
       "1       2015-02-10 21:49:25  2015-02-10 22:56:29             2.0            1   \n",
       "2       2015-01-22 20:39:28  2015-01-22 21:09:09             1.0            1   \n",
       "3       2015-02-03 21:21:45  2015-02-03 22:13:00             1.0            6   \n",
       "4       2015-02-15 02:40:36  2015-02-15 03:20:26             1.0            3   \n",
       "...                     ...                  ...             ...          ...   \n",
       "197423  2015-02-17 00:19:41  2015-02-17 01:24:48             4.0            3   \n",
       "197424  2015-02-13 00:01:59  2015-02-13 00:58:22             4.0            6   \n",
       "197425  2015-01-24 04:46:08  2015-01-24 05:36:16             4.0            5   \n",
       "197426  2015-02-01 18:18:15  2015-02-01 19:23:22             1.0            1   \n",
       "197427  2015-02-08 19:24:33  2015-02-08 20:01:41             1.0            4   \n",
       "\n",
       "        subtotal  num_distinct_items  min_item_price  max_item_price  \\\n",
       "0           3441                   4             557            1239   \n",
       "1           1900                   1            1400            1400   \n",
       "2           1900                   1            1900            1900   \n",
       "3           6900                   5             600            1800   \n",
       "4           3900                   3            1100            1600   \n",
       "...          ...                 ...             ...             ...   \n",
       "197423      1389                   3             345             649   \n",
       "197424      3010                   4             405             825   \n",
       "197425      1836                   3             300             399   \n",
       "197426      1175                   1             535             535   \n",
       "197427      2605                   4             425             750   \n",
       "\n",
       "        total_onshift_partners  total_busy_partners  total_outstanding_orders  \\\n",
       "0                         33.0                 14.0                      21.0   \n",
       "1                          1.0                  2.0                       2.0   \n",
       "2                          1.0                  0.0                       0.0   \n",
       "3                          1.0                  1.0                       2.0   \n",
       "4                          6.0                  6.0                       9.0   \n",
       "...                        ...                  ...                       ...   \n",
       "197423                    17.0                 17.0                      23.0   \n",
       "197424                    12.0                 11.0                      14.0   \n",
       "197425                    39.0                 41.0                      40.0   \n",
       "197426                     7.0                  7.0                      12.0   \n",
       "197427                    20.0                 20.0                      23.0   \n",
       "\n",
       "        LOF_anomaly_score  \n",
       "0                       1  \n",
       "1                       1  \n",
       "2                       1  \n",
       "3                       1  \n",
       "4                       1  \n",
       "...                   ...  \n",
       "197423                  1  \n",
       "197424                  1  \n",
       "197425                  1  \n",
       "197426                  1  \n",
       "197427                  1  \n",
       "\n",
       "[190826 rows x 12 columns]"
      ]
     },
     "execution_count": 33,
     "metadata": {},
     "output_type": "execute_result"
    }
   ],
   "source": [
    "df=df.loc[(df['LOF_anomaly_score'] == 1)]\n",
    "df"
   ]
  },
  {
   "cell_type": "code",
   "execution_count": 34,
   "id": "2eff5dac",
   "metadata": {
    "execution": {
     "iopub.execute_input": "2025-03-14T13:53:45.953624Z",
     "iopub.status.busy": "2025-03-14T13:53:45.953358Z",
     "iopub.status.idle": "2025-03-14T13:53:45.957759Z",
     "shell.execute_reply": "2025-03-14T13:53:45.956948Z"
    },
    "papermill": {
     "duration": 0.024504,
     "end_time": "2025-03-14T13:53:45.958998",
     "exception": false,
     "start_time": "2025-03-14T13:53:45.934494",
     "status": "completed"
    },
    "tags": []
   },
   "outputs": [
    {
     "data": {
      "text/plain": [
       "190826"
      ]
     },
     "execution_count": 34,
     "metadata": {},
     "output_type": "execute_result"
    }
   ],
   "source": [
    "len_after = len(df)\n",
    "len_after"
   ]
  },
  {
   "cell_type": "code",
   "execution_count": 35,
   "id": "e846ac74",
   "metadata": {
    "execution": {
     "iopub.execute_input": "2025-03-14T13:53:45.996276Z",
     "iopub.status.busy": "2025-03-14T13:53:45.996060Z",
     "iopub.status.idle": "2025-03-14T13:53:46.000323Z",
     "shell.execute_reply": "2025-03-14T13:53:45.999681Z"
    },
    "papermill": {
     "duration": 0.02407,
     "end_time": "2025-03-14T13:53:46.001513",
     "exception": false,
     "start_time": "2025-03-14T13:53:45.977443",
     "status": "completed"
    },
    "tags": []
   },
   "outputs": [
    {
     "data": {
      "text/plain": [
       "3.3405767370239237"
      ]
     },
     "execution_count": 35,
     "metadata": {},
     "output_type": "execute_result"
    }
   ],
   "source": [
    "((len_before-len_after)/ (len_before))*100"
   ]
  },
  {
   "cell_type": "markdown",
   "id": "180d7a2f",
   "metadata": {
    "papermill": {
     "duration": 0.018563,
     "end_time": "2025-03-14T13:53:46.038931",
     "exception": false,
     "start_time": "2025-03-14T13:53:46.020368",
     "status": "completed"
    },
    "tags": []
   },
   "source": [
    "**Inference**\n",
    "\n",
    "A total of 3.34% of outlier values have been removed from the dataset using the LOF method."
   ]
  },
  {
   "cell_type": "code",
   "execution_count": 36,
   "id": "6a8b141c",
   "metadata": {
    "execution": {
     "iopub.execute_input": "2025-03-14T13:53:46.078710Z",
     "iopub.status.busy": "2025-03-14T13:53:46.078401Z",
     "iopub.status.idle": "2025-03-14T13:53:46.107108Z",
     "shell.execute_reply": "2025-03-14T13:53:46.106081Z"
    },
    "papermill": {
     "duration": 0.05016,
     "end_time": "2025-03-14T13:53:46.108629",
     "exception": false,
     "start_time": "2025-03-14T13:53:46.058469",
     "status": "completed"
    },
    "tags": []
   },
   "outputs": [
    {
     "data": {
      "text/html": [
       "<div>\n",
       "<style scoped>\n",
       "    .dataframe tbody tr th:only-of-type {\n",
       "        vertical-align: middle;\n",
       "    }\n",
       "\n",
       "    .dataframe tbody tr th {\n",
       "        vertical-align: top;\n",
       "    }\n",
       "\n",
       "    .dataframe thead th {\n",
       "        text-align: right;\n",
       "    }\n",
       "</style>\n",
       "<table border=\"1\" class=\"dataframe\">\n",
       "  <thead>\n",
       "    <tr style=\"text-align: right;\">\n",
       "      <th></th>\n",
       "      <th>created_at</th>\n",
       "      <th>actual_delivery_time</th>\n",
       "      <th>order_protocol</th>\n",
       "      <th>total_items</th>\n",
       "      <th>subtotal</th>\n",
       "      <th>num_distinct_items</th>\n",
       "      <th>min_item_price</th>\n",
       "      <th>max_item_price</th>\n",
       "      <th>total_onshift_partners</th>\n",
       "      <th>total_busy_partners</th>\n",
       "      <th>total_outstanding_orders</th>\n",
       "    </tr>\n",
       "  </thead>\n",
       "  <tbody>\n",
       "    <tr>\n",
       "      <th>0</th>\n",
       "      <td>2015-02-06 22:24:17</td>\n",
       "      <td>2015-02-06 23:27:16</td>\n",
       "      <td>1.0</td>\n",
       "      <td>4</td>\n",
       "      <td>3441</td>\n",
       "      <td>4</td>\n",
       "      <td>557</td>\n",
       "      <td>1239</td>\n",
       "      <td>33.0</td>\n",
       "      <td>14.0</td>\n",
       "      <td>21.0</td>\n",
       "    </tr>\n",
       "    <tr>\n",
       "      <th>1</th>\n",
       "      <td>2015-02-10 21:49:25</td>\n",
       "      <td>2015-02-10 22:56:29</td>\n",
       "      <td>2.0</td>\n",
       "      <td>1</td>\n",
       "      <td>1900</td>\n",
       "      <td>1</td>\n",
       "      <td>1400</td>\n",
       "      <td>1400</td>\n",
       "      <td>1.0</td>\n",
       "      <td>2.0</td>\n",
       "      <td>2.0</td>\n",
       "    </tr>\n",
       "    <tr>\n",
       "      <th>2</th>\n",
       "      <td>2015-01-22 20:39:28</td>\n",
       "      <td>2015-01-22 21:09:09</td>\n",
       "      <td>1.0</td>\n",
       "      <td>1</td>\n",
       "      <td>1900</td>\n",
       "      <td>1</td>\n",
       "      <td>1900</td>\n",
       "      <td>1900</td>\n",
       "      <td>1.0</td>\n",
       "      <td>0.0</td>\n",
       "      <td>0.0</td>\n",
       "    </tr>\n",
       "    <tr>\n",
       "      <th>3</th>\n",
       "      <td>2015-02-03 21:21:45</td>\n",
       "      <td>2015-02-03 22:13:00</td>\n",
       "      <td>1.0</td>\n",
       "      <td>6</td>\n",
       "      <td>6900</td>\n",
       "      <td>5</td>\n",
       "      <td>600</td>\n",
       "      <td>1800</td>\n",
       "      <td>1.0</td>\n",
       "      <td>1.0</td>\n",
       "      <td>2.0</td>\n",
       "    </tr>\n",
       "    <tr>\n",
       "      <th>4</th>\n",
       "      <td>2015-02-15 02:40:36</td>\n",
       "      <td>2015-02-15 03:20:26</td>\n",
       "      <td>1.0</td>\n",
       "      <td>3</td>\n",
       "      <td>3900</td>\n",
       "      <td>3</td>\n",
       "      <td>1100</td>\n",
       "      <td>1600</td>\n",
       "      <td>6.0</td>\n",
       "      <td>6.0</td>\n",
       "      <td>9.0</td>\n",
       "    </tr>\n",
       "    <tr>\n",
       "      <th>...</th>\n",
       "      <td>...</td>\n",
       "      <td>...</td>\n",
       "      <td>...</td>\n",
       "      <td>...</td>\n",
       "      <td>...</td>\n",
       "      <td>...</td>\n",
       "      <td>...</td>\n",
       "      <td>...</td>\n",
       "      <td>...</td>\n",
       "      <td>...</td>\n",
       "      <td>...</td>\n",
       "    </tr>\n",
       "    <tr>\n",
       "      <th>197423</th>\n",
       "      <td>2015-02-17 00:19:41</td>\n",
       "      <td>2015-02-17 01:24:48</td>\n",
       "      <td>4.0</td>\n",
       "      <td>3</td>\n",
       "      <td>1389</td>\n",
       "      <td>3</td>\n",
       "      <td>345</td>\n",
       "      <td>649</td>\n",
       "      <td>17.0</td>\n",
       "      <td>17.0</td>\n",
       "      <td>23.0</td>\n",
       "    </tr>\n",
       "    <tr>\n",
       "      <th>197424</th>\n",
       "      <td>2015-02-13 00:01:59</td>\n",
       "      <td>2015-02-13 00:58:22</td>\n",
       "      <td>4.0</td>\n",
       "      <td>6</td>\n",
       "      <td>3010</td>\n",
       "      <td>4</td>\n",
       "      <td>405</td>\n",
       "      <td>825</td>\n",
       "      <td>12.0</td>\n",
       "      <td>11.0</td>\n",
       "      <td>14.0</td>\n",
       "    </tr>\n",
       "    <tr>\n",
       "      <th>197425</th>\n",
       "      <td>2015-01-24 04:46:08</td>\n",
       "      <td>2015-01-24 05:36:16</td>\n",
       "      <td>4.0</td>\n",
       "      <td>5</td>\n",
       "      <td>1836</td>\n",
       "      <td>3</td>\n",
       "      <td>300</td>\n",
       "      <td>399</td>\n",
       "      <td>39.0</td>\n",
       "      <td>41.0</td>\n",
       "      <td>40.0</td>\n",
       "    </tr>\n",
       "    <tr>\n",
       "      <th>197426</th>\n",
       "      <td>2015-02-01 18:18:15</td>\n",
       "      <td>2015-02-01 19:23:22</td>\n",
       "      <td>1.0</td>\n",
       "      <td>1</td>\n",
       "      <td>1175</td>\n",
       "      <td>1</td>\n",
       "      <td>535</td>\n",
       "      <td>535</td>\n",
       "      <td>7.0</td>\n",
       "      <td>7.0</td>\n",
       "      <td>12.0</td>\n",
       "    </tr>\n",
       "    <tr>\n",
       "      <th>197427</th>\n",
       "      <td>2015-02-08 19:24:33</td>\n",
       "      <td>2015-02-08 20:01:41</td>\n",
       "      <td>1.0</td>\n",
       "      <td>4</td>\n",
       "      <td>2605</td>\n",
       "      <td>4</td>\n",
       "      <td>425</td>\n",
       "      <td>750</td>\n",
       "      <td>20.0</td>\n",
       "      <td>20.0</td>\n",
       "      <td>23.0</td>\n",
       "    </tr>\n",
       "  </tbody>\n",
       "</table>\n",
       "<p>190826 rows × 11 columns</p>\n",
       "</div>"
      ],
      "text/plain": [
       "                 created_at actual_delivery_time  order_protocol  total_items  \\\n",
       "0       2015-02-06 22:24:17  2015-02-06 23:27:16             1.0            4   \n",
       "1       2015-02-10 21:49:25  2015-02-10 22:56:29             2.0            1   \n",
       "2       2015-01-22 20:39:28  2015-01-22 21:09:09             1.0            1   \n",
       "3       2015-02-03 21:21:45  2015-02-03 22:13:00             1.0            6   \n",
       "4       2015-02-15 02:40:36  2015-02-15 03:20:26             1.0            3   \n",
       "...                     ...                  ...             ...          ...   \n",
       "197423  2015-02-17 00:19:41  2015-02-17 01:24:48             4.0            3   \n",
       "197424  2015-02-13 00:01:59  2015-02-13 00:58:22             4.0            6   \n",
       "197425  2015-01-24 04:46:08  2015-01-24 05:36:16             4.0            5   \n",
       "197426  2015-02-01 18:18:15  2015-02-01 19:23:22             1.0            1   \n",
       "197427  2015-02-08 19:24:33  2015-02-08 20:01:41             1.0            4   \n",
       "\n",
       "        subtotal  num_distinct_items  min_item_price  max_item_price  \\\n",
       "0           3441                   4             557            1239   \n",
       "1           1900                   1            1400            1400   \n",
       "2           1900                   1            1900            1900   \n",
       "3           6900                   5             600            1800   \n",
       "4           3900                   3            1100            1600   \n",
       "...          ...                 ...             ...             ...   \n",
       "197423      1389                   3             345             649   \n",
       "197424      3010                   4             405             825   \n",
       "197425      1836                   3             300             399   \n",
       "197426      1175                   1             535             535   \n",
       "197427      2605                   4             425             750   \n",
       "\n",
       "        total_onshift_partners  total_busy_partners  total_outstanding_orders  \n",
       "0                         33.0                 14.0                      21.0  \n",
       "1                          1.0                  2.0                       2.0  \n",
       "2                          1.0                  0.0                       0.0  \n",
       "3                          1.0                  1.0                       2.0  \n",
       "4                          6.0                  6.0                       9.0  \n",
       "...                        ...                  ...                       ...  \n",
       "197423                    17.0                 17.0                      23.0  \n",
       "197424                    12.0                 11.0                      14.0  \n",
       "197425                    39.0                 41.0                      40.0  \n",
       "197426                     7.0                  7.0                      12.0  \n",
       "197427                    20.0                 20.0                      23.0  \n",
       "\n",
       "[190826 rows x 11 columns]"
      ]
     },
     "execution_count": 36,
     "metadata": {},
     "output_type": "execute_result"
    }
   ],
   "source": [
    "df.drop(columns = ['LOF_anomaly_score'],inplace=True)\n",
    "df"
   ]
  },
  {
   "cell_type": "markdown",
   "id": "a13da7bf",
   "metadata": {
    "papermill": {
     "duration": 0.019219,
     "end_time": "2025-03-14T13:53:46.148569",
     "exception": false,
     "start_time": "2025-03-14T13:53:46.129350",
     "status": "completed"
    },
    "tags": []
   },
   "source": [
    "## 🛠️ Feature Engineering"
   ]
  },
  {
   "cell_type": "markdown",
   "id": "d0f3fe52",
   "metadata": {
    "papermill": {
     "duration": 0.019784,
     "end_time": "2025-03-14T13:53:46.187650",
     "exception": false,
     "start_time": "2025-03-14T13:53:46.167866",
     "status": "completed"
    },
    "tags": []
   },
   "source": [
    "**Extraction datetime Features**"
   ]
  },
  {
   "cell_type": "code",
   "execution_count": 37,
   "id": "e2d6ba26",
   "metadata": {
    "execution": {
     "iopub.execute_input": "2025-03-14T13:53:46.229655Z",
     "iopub.status.busy": "2025-03-14T13:53:46.229359Z",
     "iopub.status.idle": "2025-03-14T13:53:46.339766Z",
     "shell.execute_reply": "2025-03-14T13:53:46.338385Z"
    },
    "papermill": {
     "duration": 0.133212,
     "end_time": "2025-03-14T13:53:46.341304",
     "exception": false,
     "start_time": "2025-03-14T13:53:46.208092",
     "status": "completed"
    },
    "tags": []
   },
   "outputs": [
    {
     "name": "stdout",
     "output_type": "stream",
     "text": [
      "<class 'pandas.core.frame.DataFrame'>\n",
      "Index: 190826 entries, 0 to 197427\n",
      "Data columns (total 11 columns):\n",
      " #   Column                    Non-Null Count   Dtype         \n",
      "---  ------                    --------------   -----         \n",
      " 0   created_at                190826 non-null  datetime64[ns]\n",
      " 1   actual_delivery_time      190826 non-null  datetime64[ns]\n",
      " 2   order_protocol            190826 non-null  float64       \n",
      " 3   total_items               190826 non-null  int64         \n",
      " 4   subtotal                  190826 non-null  int64         \n",
      " 5   num_distinct_items        190826 non-null  int64         \n",
      " 6   min_item_price            190826 non-null  int64         \n",
      " 7   max_item_price            190826 non-null  int64         \n",
      " 8   total_onshift_partners    190826 non-null  float64       \n",
      " 9   total_busy_partners       190826 non-null  float64       \n",
      " 10  total_outstanding_orders  190826 non-null  float64       \n",
      "dtypes: datetime64[ns](2), float64(4), int64(5)\n",
      "memory usage: 17.5 MB\n"
     ]
    }
   ],
   "source": [
    "df['created_at'] = pd.to_datetime(df['created_at'])\n",
    "df['actual_delivery_time'] = pd.to_datetime(df['actual_delivery_time'])\n",
    "df.info()"
   ]
  },
  {
   "cell_type": "code",
   "execution_count": 38,
   "id": "b0482ed8",
   "metadata": {
    "execution": {
     "iopub.execute_input": "2025-03-14T13:53:46.385174Z",
     "iopub.status.busy": "2025-03-14T13:53:46.384882Z",
     "iopub.status.idle": "2025-03-14T13:53:46.413572Z",
     "shell.execute_reply": "2025-03-14T13:53:46.412718Z"
    },
    "papermill": {
     "duration": 0.051239,
     "end_time": "2025-03-14T13:53:46.415218",
     "exception": false,
     "start_time": "2025-03-14T13:53:46.363979",
     "status": "completed"
    },
    "tags": []
   },
   "outputs": [
    {
     "data": {
      "text/html": [
       "<div>\n",
       "<style scoped>\n",
       "    .dataframe tbody tr th:only-of-type {\n",
       "        vertical-align: middle;\n",
       "    }\n",
       "\n",
       "    .dataframe tbody tr th {\n",
       "        vertical-align: top;\n",
       "    }\n",
       "\n",
       "    .dataframe thead th {\n",
       "        text-align: right;\n",
       "    }\n",
       "</style>\n",
       "<table border=\"1\" class=\"dataframe\">\n",
       "  <thead>\n",
       "    <tr style=\"text-align: right;\">\n",
       "      <th></th>\n",
       "      <th>created_at</th>\n",
       "      <th>actual_delivery_time</th>\n",
       "      <th>order_protocol</th>\n",
       "      <th>total_items</th>\n",
       "      <th>subtotal</th>\n",
       "      <th>num_distinct_items</th>\n",
       "      <th>min_item_price</th>\n",
       "      <th>max_item_price</th>\n",
       "      <th>total_onshift_partners</th>\n",
       "      <th>total_busy_partners</th>\n",
       "      <th>total_outstanding_orders</th>\n",
       "      <th>hour</th>\n",
       "      <th>day_of_week</th>\n",
       "    </tr>\n",
       "  </thead>\n",
       "  <tbody>\n",
       "    <tr>\n",
       "      <th>0</th>\n",
       "      <td>2015-02-06 22:24:17</td>\n",
       "      <td>2015-02-06 23:27:16</td>\n",
       "      <td>1.0</td>\n",
       "      <td>4</td>\n",
       "      <td>3441</td>\n",
       "      <td>4</td>\n",
       "      <td>557</td>\n",
       "      <td>1239</td>\n",
       "      <td>33.0</td>\n",
       "      <td>14.0</td>\n",
       "      <td>21.0</td>\n",
       "      <td>22</td>\n",
       "      <td>4</td>\n",
       "    </tr>\n",
       "    <tr>\n",
       "      <th>1</th>\n",
       "      <td>2015-02-10 21:49:25</td>\n",
       "      <td>2015-02-10 22:56:29</td>\n",
       "      <td>2.0</td>\n",
       "      <td>1</td>\n",
       "      <td>1900</td>\n",
       "      <td>1</td>\n",
       "      <td>1400</td>\n",
       "      <td>1400</td>\n",
       "      <td>1.0</td>\n",
       "      <td>2.0</td>\n",
       "      <td>2.0</td>\n",
       "      <td>21</td>\n",
       "      <td>1</td>\n",
       "    </tr>\n",
       "    <tr>\n",
       "      <th>2</th>\n",
       "      <td>2015-01-22 20:39:28</td>\n",
       "      <td>2015-01-22 21:09:09</td>\n",
       "      <td>1.0</td>\n",
       "      <td>1</td>\n",
       "      <td>1900</td>\n",
       "      <td>1</td>\n",
       "      <td>1900</td>\n",
       "      <td>1900</td>\n",
       "      <td>1.0</td>\n",
       "      <td>0.0</td>\n",
       "      <td>0.0</td>\n",
       "      <td>20</td>\n",
       "      <td>3</td>\n",
       "    </tr>\n",
       "    <tr>\n",
       "      <th>3</th>\n",
       "      <td>2015-02-03 21:21:45</td>\n",
       "      <td>2015-02-03 22:13:00</td>\n",
       "      <td>1.0</td>\n",
       "      <td>6</td>\n",
       "      <td>6900</td>\n",
       "      <td>5</td>\n",
       "      <td>600</td>\n",
       "      <td>1800</td>\n",
       "      <td>1.0</td>\n",
       "      <td>1.0</td>\n",
       "      <td>2.0</td>\n",
       "      <td>21</td>\n",
       "      <td>1</td>\n",
       "    </tr>\n",
       "    <tr>\n",
       "      <th>4</th>\n",
       "      <td>2015-02-15 02:40:36</td>\n",
       "      <td>2015-02-15 03:20:26</td>\n",
       "      <td>1.0</td>\n",
       "      <td>3</td>\n",
       "      <td>3900</td>\n",
       "      <td>3</td>\n",
       "      <td>1100</td>\n",
       "      <td>1600</td>\n",
       "      <td>6.0</td>\n",
       "      <td>6.0</td>\n",
       "      <td>9.0</td>\n",
       "      <td>2</td>\n",
       "      <td>6</td>\n",
       "    </tr>\n",
       "  </tbody>\n",
       "</table>\n",
       "</div>"
      ],
      "text/plain": [
       "           created_at actual_delivery_time  order_protocol  total_items  \\\n",
       "0 2015-02-06 22:24:17  2015-02-06 23:27:16             1.0            4   \n",
       "1 2015-02-10 21:49:25  2015-02-10 22:56:29             2.0            1   \n",
       "2 2015-01-22 20:39:28  2015-01-22 21:09:09             1.0            1   \n",
       "3 2015-02-03 21:21:45  2015-02-03 22:13:00             1.0            6   \n",
       "4 2015-02-15 02:40:36  2015-02-15 03:20:26             1.0            3   \n",
       "\n",
       "   subtotal  num_distinct_items  min_item_price  max_item_price  \\\n",
       "0      3441                   4             557            1239   \n",
       "1      1900                   1            1400            1400   \n",
       "2      1900                   1            1900            1900   \n",
       "3      6900                   5             600            1800   \n",
       "4      3900                   3            1100            1600   \n",
       "\n",
       "   total_onshift_partners  total_busy_partners  total_outstanding_orders  \\\n",
       "0                    33.0                 14.0                      21.0   \n",
       "1                     1.0                  2.0                       2.0   \n",
       "2                     1.0                  0.0                       0.0   \n",
       "3                     1.0                  1.0                       2.0   \n",
       "4                     6.0                  6.0                       9.0   \n",
       "\n",
       "   hour  day_of_week  \n",
       "0    22            4  \n",
       "1    21            1  \n",
       "2    20            3  \n",
       "3    21            1  \n",
       "4     2            6  "
      ]
     },
     "execution_count": 38,
     "metadata": {},
     "output_type": "execute_result"
    }
   ],
   "source": [
    "df['hour'] = df['created_at'].dt.hour\n",
    "df['day_of_week'] = df['created_at'].dt.weekday\n",
    "df.head()"
   ]
  },
  {
   "cell_type": "markdown",
   "id": "bee34849",
   "metadata": {
    "papermill": {
     "duration": 0.018258,
     "end_time": "2025-03-14T13:53:46.453373",
     "exception": false,
     "start_time": "2025-03-14T13:53:46.435115",
     "status": "completed"
    },
    "tags": []
   },
   "source": [
    "**Generating Target Column**"
   ]
  },
  {
   "cell_type": "markdown",
   "id": "9ad8cfbe",
   "metadata": {
    "papermill": {
     "duration": 0.018578,
     "end_time": "2025-03-14T13:53:46.490386",
     "exception": false,
     "start_time": "2025-03-14T13:53:46.471808",
     "status": "completed"
    },
    "tags": []
   },
   "source": [
    "To predict delivery time, we calculate it by subtracting the created time from the actual delivery time.\n",
    "\n",
    "Time Taken = Actual Delivery Time - Created at"
   ]
  },
  {
   "cell_type": "code",
   "execution_count": 39,
   "id": "f46161ff",
   "metadata": {
    "execution": {
     "iopub.execute_input": "2025-03-14T13:53:46.532189Z",
     "iopub.status.busy": "2025-03-14T13:53:46.531831Z",
     "iopub.status.idle": "2025-03-14T13:53:46.553925Z",
     "shell.execute_reply": "2025-03-14T13:53:46.552956Z"
    },
    "papermill": {
     "duration": 0.045453,
     "end_time": "2025-03-14T13:53:46.555304",
     "exception": false,
     "start_time": "2025-03-14T13:53:46.509851",
     "status": "completed"
    },
    "tags": []
   },
   "outputs": [
    {
     "data": {
      "text/html": [
       "<div>\n",
       "<style scoped>\n",
       "    .dataframe tbody tr th:only-of-type {\n",
       "        vertical-align: middle;\n",
       "    }\n",
       "\n",
       "    .dataframe tbody tr th {\n",
       "        vertical-align: top;\n",
       "    }\n",
       "\n",
       "    .dataframe thead th {\n",
       "        text-align: right;\n",
       "    }\n",
       "</style>\n",
       "<table border=\"1\" class=\"dataframe\">\n",
       "  <thead>\n",
       "    <tr style=\"text-align: right;\">\n",
       "      <th></th>\n",
       "      <th>created_at</th>\n",
       "      <th>actual_delivery_time</th>\n",
       "      <th>order_protocol</th>\n",
       "      <th>total_items</th>\n",
       "      <th>subtotal</th>\n",
       "      <th>num_distinct_items</th>\n",
       "      <th>min_item_price</th>\n",
       "      <th>max_item_price</th>\n",
       "      <th>total_onshift_partners</th>\n",
       "      <th>total_busy_partners</th>\n",
       "      <th>total_outstanding_orders</th>\n",
       "      <th>hour</th>\n",
       "      <th>day_of_week</th>\n",
       "      <th>time_taken</th>\n",
       "    </tr>\n",
       "  </thead>\n",
       "  <tbody>\n",
       "    <tr>\n",
       "      <th>0</th>\n",
       "      <td>2015-02-06 22:24:17</td>\n",
       "      <td>2015-02-06 23:27:16</td>\n",
       "      <td>1.0</td>\n",
       "      <td>4</td>\n",
       "      <td>3441</td>\n",
       "      <td>4</td>\n",
       "      <td>557</td>\n",
       "      <td>1239</td>\n",
       "      <td>33.0</td>\n",
       "      <td>14.0</td>\n",
       "      <td>21.0</td>\n",
       "      <td>22</td>\n",
       "      <td>4</td>\n",
       "      <td>62.983333</td>\n",
       "    </tr>\n",
       "    <tr>\n",
       "      <th>1</th>\n",
       "      <td>2015-02-10 21:49:25</td>\n",
       "      <td>2015-02-10 22:56:29</td>\n",
       "      <td>2.0</td>\n",
       "      <td>1</td>\n",
       "      <td>1900</td>\n",
       "      <td>1</td>\n",
       "      <td>1400</td>\n",
       "      <td>1400</td>\n",
       "      <td>1.0</td>\n",
       "      <td>2.0</td>\n",
       "      <td>2.0</td>\n",
       "      <td>21</td>\n",
       "      <td>1</td>\n",
       "      <td>67.066667</td>\n",
       "    </tr>\n",
       "    <tr>\n",
       "      <th>2</th>\n",
       "      <td>2015-01-22 20:39:28</td>\n",
       "      <td>2015-01-22 21:09:09</td>\n",
       "      <td>1.0</td>\n",
       "      <td>1</td>\n",
       "      <td>1900</td>\n",
       "      <td>1</td>\n",
       "      <td>1900</td>\n",
       "      <td>1900</td>\n",
       "      <td>1.0</td>\n",
       "      <td>0.0</td>\n",
       "      <td>0.0</td>\n",
       "      <td>20</td>\n",
       "      <td>3</td>\n",
       "      <td>29.683333</td>\n",
       "    </tr>\n",
       "    <tr>\n",
       "      <th>3</th>\n",
       "      <td>2015-02-03 21:21:45</td>\n",
       "      <td>2015-02-03 22:13:00</td>\n",
       "      <td>1.0</td>\n",
       "      <td>6</td>\n",
       "      <td>6900</td>\n",
       "      <td>5</td>\n",
       "      <td>600</td>\n",
       "      <td>1800</td>\n",
       "      <td>1.0</td>\n",
       "      <td>1.0</td>\n",
       "      <td>2.0</td>\n",
       "      <td>21</td>\n",
       "      <td>1</td>\n",
       "      <td>51.250000</td>\n",
       "    </tr>\n",
       "    <tr>\n",
       "      <th>4</th>\n",
       "      <td>2015-02-15 02:40:36</td>\n",
       "      <td>2015-02-15 03:20:26</td>\n",
       "      <td>1.0</td>\n",
       "      <td>3</td>\n",
       "      <td>3900</td>\n",
       "      <td>3</td>\n",
       "      <td>1100</td>\n",
       "      <td>1600</td>\n",
       "      <td>6.0</td>\n",
       "      <td>6.0</td>\n",
       "      <td>9.0</td>\n",
       "      <td>2</td>\n",
       "      <td>6</td>\n",
       "      <td>39.833333</td>\n",
       "    </tr>\n",
       "    <tr>\n",
       "      <th>...</th>\n",
       "      <td>...</td>\n",
       "      <td>...</td>\n",
       "      <td>...</td>\n",
       "      <td>...</td>\n",
       "      <td>...</td>\n",
       "      <td>...</td>\n",
       "      <td>...</td>\n",
       "      <td>...</td>\n",
       "      <td>...</td>\n",
       "      <td>...</td>\n",
       "      <td>...</td>\n",
       "      <td>...</td>\n",
       "      <td>...</td>\n",
       "      <td>...</td>\n",
       "    </tr>\n",
       "    <tr>\n",
       "      <th>197423</th>\n",
       "      <td>2015-02-17 00:19:41</td>\n",
       "      <td>2015-02-17 01:24:48</td>\n",
       "      <td>4.0</td>\n",
       "      <td>3</td>\n",
       "      <td>1389</td>\n",
       "      <td>3</td>\n",
       "      <td>345</td>\n",
       "      <td>649</td>\n",
       "      <td>17.0</td>\n",
       "      <td>17.0</td>\n",
       "      <td>23.0</td>\n",
       "      <td>0</td>\n",
       "      <td>1</td>\n",
       "      <td>65.116667</td>\n",
       "    </tr>\n",
       "    <tr>\n",
       "      <th>197424</th>\n",
       "      <td>2015-02-13 00:01:59</td>\n",
       "      <td>2015-02-13 00:58:22</td>\n",
       "      <td>4.0</td>\n",
       "      <td>6</td>\n",
       "      <td>3010</td>\n",
       "      <td>4</td>\n",
       "      <td>405</td>\n",
       "      <td>825</td>\n",
       "      <td>12.0</td>\n",
       "      <td>11.0</td>\n",
       "      <td>14.0</td>\n",
       "      <td>0</td>\n",
       "      <td>4</td>\n",
       "      <td>56.383333</td>\n",
       "    </tr>\n",
       "    <tr>\n",
       "      <th>197425</th>\n",
       "      <td>2015-01-24 04:46:08</td>\n",
       "      <td>2015-01-24 05:36:16</td>\n",
       "      <td>4.0</td>\n",
       "      <td>5</td>\n",
       "      <td>1836</td>\n",
       "      <td>3</td>\n",
       "      <td>300</td>\n",
       "      <td>399</td>\n",
       "      <td>39.0</td>\n",
       "      <td>41.0</td>\n",
       "      <td>40.0</td>\n",
       "      <td>4</td>\n",
       "      <td>5</td>\n",
       "      <td>50.133333</td>\n",
       "    </tr>\n",
       "    <tr>\n",
       "      <th>197426</th>\n",
       "      <td>2015-02-01 18:18:15</td>\n",
       "      <td>2015-02-01 19:23:22</td>\n",
       "      <td>1.0</td>\n",
       "      <td>1</td>\n",
       "      <td>1175</td>\n",
       "      <td>1</td>\n",
       "      <td>535</td>\n",
       "      <td>535</td>\n",
       "      <td>7.0</td>\n",
       "      <td>7.0</td>\n",
       "      <td>12.0</td>\n",
       "      <td>18</td>\n",
       "      <td>6</td>\n",
       "      <td>65.116667</td>\n",
       "    </tr>\n",
       "    <tr>\n",
       "      <th>197427</th>\n",
       "      <td>2015-02-08 19:24:33</td>\n",
       "      <td>2015-02-08 20:01:41</td>\n",
       "      <td>1.0</td>\n",
       "      <td>4</td>\n",
       "      <td>2605</td>\n",
       "      <td>4</td>\n",
       "      <td>425</td>\n",
       "      <td>750</td>\n",
       "      <td>20.0</td>\n",
       "      <td>20.0</td>\n",
       "      <td>23.0</td>\n",
       "      <td>19</td>\n",
       "      <td>6</td>\n",
       "      <td>37.133333</td>\n",
       "    </tr>\n",
       "  </tbody>\n",
       "</table>\n",
       "<p>190826 rows × 14 columns</p>\n",
       "</div>"
      ],
      "text/plain": [
       "                created_at actual_delivery_time  order_protocol  total_items  \\\n",
       "0      2015-02-06 22:24:17  2015-02-06 23:27:16             1.0            4   \n",
       "1      2015-02-10 21:49:25  2015-02-10 22:56:29             2.0            1   \n",
       "2      2015-01-22 20:39:28  2015-01-22 21:09:09             1.0            1   \n",
       "3      2015-02-03 21:21:45  2015-02-03 22:13:00             1.0            6   \n",
       "4      2015-02-15 02:40:36  2015-02-15 03:20:26             1.0            3   \n",
       "...                    ...                  ...             ...          ...   \n",
       "197423 2015-02-17 00:19:41  2015-02-17 01:24:48             4.0            3   \n",
       "197424 2015-02-13 00:01:59  2015-02-13 00:58:22             4.0            6   \n",
       "197425 2015-01-24 04:46:08  2015-01-24 05:36:16             4.0            5   \n",
       "197426 2015-02-01 18:18:15  2015-02-01 19:23:22             1.0            1   \n",
       "197427 2015-02-08 19:24:33  2015-02-08 20:01:41             1.0            4   \n",
       "\n",
       "        subtotal  num_distinct_items  min_item_price  max_item_price  \\\n",
       "0           3441                   4             557            1239   \n",
       "1           1900                   1            1400            1400   \n",
       "2           1900                   1            1900            1900   \n",
       "3           6900                   5             600            1800   \n",
       "4           3900                   3            1100            1600   \n",
       "...          ...                 ...             ...             ...   \n",
       "197423      1389                   3             345             649   \n",
       "197424      3010                   4             405             825   \n",
       "197425      1836                   3             300             399   \n",
       "197426      1175                   1             535             535   \n",
       "197427      2605                   4             425             750   \n",
       "\n",
       "        total_onshift_partners  total_busy_partners  total_outstanding_orders  \\\n",
       "0                         33.0                 14.0                      21.0   \n",
       "1                          1.0                  2.0                       2.0   \n",
       "2                          1.0                  0.0                       0.0   \n",
       "3                          1.0                  1.0                       2.0   \n",
       "4                          6.0                  6.0                       9.0   \n",
       "...                        ...                  ...                       ...   \n",
       "197423                    17.0                 17.0                      23.0   \n",
       "197424                    12.0                 11.0                      14.0   \n",
       "197425                    39.0                 41.0                      40.0   \n",
       "197426                     7.0                  7.0                      12.0   \n",
       "197427                    20.0                 20.0                      23.0   \n",
       "\n",
       "        hour  day_of_week  time_taken  \n",
       "0         22            4   62.983333  \n",
       "1         21            1   67.066667  \n",
       "2         20            3   29.683333  \n",
       "3         21            1   51.250000  \n",
       "4          2            6   39.833333  \n",
       "...      ...          ...         ...  \n",
       "197423     0            1   65.116667  \n",
       "197424     0            4   56.383333  \n",
       "197425     4            5   50.133333  \n",
       "197426    18            6   65.116667  \n",
       "197427    19            6   37.133333  \n",
       "\n",
       "[190826 rows x 14 columns]"
      ]
     },
     "execution_count": 39,
     "metadata": {},
     "output_type": "execute_result"
    }
   ],
   "source": [
    "df['time_taken'] = (df['actual_delivery_time']-df['created_at']).dt.total_seconds()/60\n",
    "df"
   ]
  },
  {
   "cell_type": "code",
   "execution_count": 40,
   "id": "f92df33b",
   "metadata": {
    "execution": {
     "iopub.execute_input": "2025-03-14T13:53:46.597463Z",
     "iopub.status.busy": "2025-03-14T13:53:46.597208Z",
     "iopub.status.idle": "2025-03-14T13:53:46.618034Z",
     "shell.execute_reply": "2025-03-14T13:53:46.617152Z"
    },
    "papermill": {
     "duration": 0.043105,
     "end_time": "2025-03-14T13:53:46.619489",
     "exception": false,
     "start_time": "2025-03-14T13:53:46.576384",
     "status": "completed"
    },
    "tags": []
   },
   "outputs": [
    {
     "data": {
      "text/html": [
       "<div>\n",
       "<style scoped>\n",
       "    .dataframe tbody tr th:only-of-type {\n",
       "        vertical-align: middle;\n",
       "    }\n",
       "\n",
       "    .dataframe tbody tr th {\n",
       "        vertical-align: top;\n",
       "    }\n",
       "\n",
       "    .dataframe thead th {\n",
       "        text-align: right;\n",
       "    }\n",
       "</style>\n",
       "<table border=\"1\" class=\"dataframe\">\n",
       "  <thead>\n",
       "    <tr style=\"text-align: right;\">\n",
       "      <th></th>\n",
       "      <th>order_protocol</th>\n",
       "      <th>total_items</th>\n",
       "      <th>subtotal</th>\n",
       "      <th>num_distinct_items</th>\n",
       "      <th>min_item_price</th>\n",
       "      <th>max_item_price</th>\n",
       "      <th>total_onshift_partners</th>\n",
       "      <th>total_busy_partners</th>\n",
       "      <th>total_outstanding_orders</th>\n",
       "      <th>hour</th>\n",
       "      <th>day_of_week</th>\n",
       "      <th>time_taken</th>\n",
       "    </tr>\n",
       "  </thead>\n",
       "  <tbody>\n",
       "    <tr>\n",
       "      <th>0</th>\n",
       "      <td>1.0</td>\n",
       "      <td>4</td>\n",
       "      <td>3441</td>\n",
       "      <td>4</td>\n",
       "      <td>557</td>\n",
       "      <td>1239</td>\n",
       "      <td>33.0</td>\n",
       "      <td>14.0</td>\n",
       "      <td>21.0</td>\n",
       "      <td>22</td>\n",
       "      <td>4</td>\n",
       "      <td>62.983333</td>\n",
       "    </tr>\n",
       "    <tr>\n",
       "      <th>1</th>\n",
       "      <td>2.0</td>\n",
       "      <td>1</td>\n",
       "      <td>1900</td>\n",
       "      <td>1</td>\n",
       "      <td>1400</td>\n",
       "      <td>1400</td>\n",
       "      <td>1.0</td>\n",
       "      <td>2.0</td>\n",
       "      <td>2.0</td>\n",
       "      <td>21</td>\n",
       "      <td>1</td>\n",
       "      <td>67.066667</td>\n",
       "    </tr>\n",
       "    <tr>\n",
       "      <th>2</th>\n",
       "      <td>1.0</td>\n",
       "      <td>1</td>\n",
       "      <td>1900</td>\n",
       "      <td>1</td>\n",
       "      <td>1900</td>\n",
       "      <td>1900</td>\n",
       "      <td>1.0</td>\n",
       "      <td>0.0</td>\n",
       "      <td>0.0</td>\n",
       "      <td>20</td>\n",
       "      <td>3</td>\n",
       "      <td>29.683333</td>\n",
       "    </tr>\n",
       "    <tr>\n",
       "      <th>3</th>\n",
       "      <td>1.0</td>\n",
       "      <td>6</td>\n",
       "      <td>6900</td>\n",
       "      <td>5</td>\n",
       "      <td>600</td>\n",
       "      <td>1800</td>\n",
       "      <td>1.0</td>\n",
       "      <td>1.0</td>\n",
       "      <td>2.0</td>\n",
       "      <td>21</td>\n",
       "      <td>1</td>\n",
       "      <td>51.250000</td>\n",
       "    </tr>\n",
       "    <tr>\n",
       "      <th>4</th>\n",
       "      <td>1.0</td>\n",
       "      <td>3</td>\n",
       "      <td>3900</td>\n",
       "      <td>3</td>\n",
       "      <td>1100</td>\n",
       "      <td>1600</td>\n",
       "      <td>6.0</td>\n",
       "      <td>6.0</td>\n",
       "      <td>9.0</td>\n",
       "      <td>2</td>\n",
       "      <td>6</td>\n",
       "      <td>39.833333</td>\n",
       "    </tr>\n",
       "    <tr>\n",
       "      <th>...</th>\n",
       "      <td>...</td>\n",
       "      <td>...</td>\n",
       "      <td>...</td>\n",
       "      <td>...</td>\n",
       "      <td>...</td>\n",
       "      <td>...</td>\n",
       "      <td>...</td>\n",
       "      <td>...</td>\n",
       "      <td>...</td>\n",
       "      <td>...</td>\n",
       "      <td>...</td>\n",
       "      <td>...</td>\n",
       "    </tr>\n",
       "    <tr>\n",
       "      <th>197423</th>\n",
       "      <td>4.0</td>\n",
       "      <td>3</td>\n",
       "      <td>1389</td>\n",
       "      <td>3</td>\n",
       "      <td>345</td>\n",
       "      <td>649</td>\n",
       "      <td>17.0</td>\n",
       "      <td>17.0</td>\n",
       "      <td>23.0</td>\n",
       "      <td>0</td>\n",
       "      <td>1</td>\n",
       "      <td>65.116667</td>\n",
       "    </tr>\n",
       "    <tr>\n",
       "      <th>197424</th>\n",
       "      <td>4.0</td>\n",
       "      <td>6</td>\n",
       "      <td>3010</td>\n",
       "      <td>4</td>\n",
       "      <td>405</td>\n",
       "      <td>825</td>\n",
       "      <td>12.0</td>\n",
       "      <td>11.0</td>\n",
       "      <td>14.0</td>\n",
       "      <td>0</td>\n",
       "      <td>4</td>\n",
       "      <td>56.383333</td>\n",
       "    </tr>\n",
       "    <tr>\n",
       "      <th>197425</th>\n",
       "      <td>4.0</td>\n",
       "      <td>5</td>\n",
       "      <td>1836</td>\n",
       "      <td>3</td>\n",
       "      <td>300</td>\n",
       "      <td>399</td>\n",
       "      <td>39.0</td>\n",
       "      <td>41.0</td>\n",
       "      <td>40.0</td>\n",
       "      <td>4</td>\n",
       "      <td>5</td>\n",
       "      <td>50.133333</td>\n",
       "    </tr>\n",
       "    <tr>\n",
       "      <th>197426</th>\n",
       "      <td>1.0</td>\n",
       "      <td>1</td>\n",
       "      <td>1175</td>\n",
       "      <td>1</td>\n",
       "      <td>535</td>\n",
       "      <td>535</td>\n",
       "      <td>7.0</td>\n",
       "      <td>7.0</td>\n",
       "      <td>12.0</td>\n",
       "      <td>18</td>\n",
       "      <td>6</td>\n",
       "      <td>65.116667</td>\n",
       "    </tr>\n",
       "    <tr>\n",
       "      <th>197427</th>\n",
       "      <td>1.0</td>\n",
       "      <td>4</td>\n",
       "      <td>2605</td>\n",
       "      <td>4</td>\n",
       "      <td>425</td>\n",
       "      <td>750</td>\n",
       "      <td>20.0</td>\n",
       "      <td>20.0</td>\n",
       "      <td>23.0</td>\n",
       "      <td>19</td>\n",
       "      <td>6</td>\n",
       "      <td>37.133333</td>\n",
       "    </tr>\n",
       "  </tbody>\n",
       "</table>\n",
       "<p>190826 rows × 12 columns</p>\n",
       "</div>"
      ],
      "text/plain": [
       "        order_protocol  total_items  subtotal  num_distinct_items  \\\n",
       "0                  1.0            4      3441                   4   \n",
       "1                  2.0            1      1900                   1   \n",
       "2                  1.0            1      1900                   1   \n",
       "3                  1.0            6      6900                   5   \n",
       "4                  1.0            3      3900                   3   \n",
       "...                ...          ...       ...                 ...   \n",
       "197423             4.0            3      1389                   3   \n",
       "197424             4.0            6      3010                   4   \n",
       "197425             4.0            5      1836                   3   \n",
       "197426             1.0            1      1175                   1   \n",
       "197427             1.0            4      2605                   4   \n",
       "\n",
       "        min_item_price  max_item_price  total_onshift_partners  \\\n",
       "0                  557            1239                    33.0   \n",
       "1                 1400            1400                     1.0   \n",
       "2                 1900            1900                     1.0   \n",
       "3                  600            1800                     1.0   \n",
       "4                 1100            1600                     6.0   \n",
       "...                ...             ...                     ...   \n",
       "197423             345             649                    17.0   \n",
       "197424             405             825                    12.0   \n",
       "197425             300             399                    39.0   \n",
       "197426             535             535                     7.0   \n",
       "197427             425             750                    20.0   \n",
       "\n",
       "        total_busy_partners  total_outstanding_orders  hour  day_of_week  \\\n",
       "0                      14.0                      21.0    22            4   \n",
       "1                       2.0                       2.0    21            1   \n",
       "2                       0.0                       0.0    20            3   \n",
       "3                       1.0                       2.0    21            1   \n",
       "4                       6.0                       9.0     2            6   \n",
       "...                     ...                       ...   ...          ...   \n",
       "197423                 17.0                      23.0     0            1   \n",
       "197424                 11.0                      14.0     0            4   \n",
       "197425                 41.0                      40.0     4            5   \n",
       "197426                  7.0                      12.0    18            6   \n",
       "197427                 20.0                      23.0    19            6   \n",
       "\n",
       "        time_taken  \n",
       "0        62.983333  \n",
       "1        67.066667  \n",
       "2        29.683333  \n",
       "3        51.250000  \n",
       "4        39.833333  \n",
       "...            ...  \n",
       "197423   65.116667  \n",
       "197424   56.383333  \n",
       "197425   50.133333  \n",
       "197426   65.116667  \n",
       "197427   37.133333  \n",
       "\n",
       "[190826 rows x 12 columns]"
      ]
     },
     "execution_count": 40,
     "metadata": {},
     "output_type": "execute_result"
    }
   ],
   "source": [
    "df.drop(columns=['created_at','actual_delivery_time'],inplace = True)\n",
    "df"
   ]
  },
  {
   "cell_type": "code",
   "execution_count": 41,
   "id": "4088f1f2",
   "metadata": {
    "execution": {
     "iopub.execute_input": "2025-03-14T13:53:46.664441Z",
     "iopub.status.busy": "2025-03-14T13:53:46.664145Z",
     "iopub.status.idle": "2025-03-14T13:53:46.676927Z",
     "shell.execute_reply": "2025-03-14T13:53:46.675954Z"
    },
    "papermill": {
     "duration": 0.036631,
     "end_time": "2025-03-14T13:53:46.678446",
     "exception": false,
     "start_time": "2025-03-14T13:53:46.641815",
     "status": "completed"
    },
    "tags": []
   },
   "outputs": [
    {
     "data": {
      "text/plain": [
       "order_protocol              0\n",
       "total_items                 0\n",
       "subtotal                    0\n",
       "num_distinct_items          0\n",
       "min_item_price              0\n",
       "max_item_price              0\n",
       "total_onshift_partners      0\n",
       "total_busy_partners         0\n",
       "total_outstanding_orders    0\n",
       "hour                        0\n",
       "day_of_week                 0\n",
       "time_taken                  0\n",
       "dtype: int64"
      ]
     },
     "execution_count": 41,
     "metadata": {},
     "output_type": "execute_result"
    }
   ],
   "source": [
    "df.isnull().sum()"
   ]
  },
  {
   "cell_type": "markdown",
   "id": "29a7aaa4",
   "metadata": {
    "papermill": {
     "duration": 0.02308,
     "end_time": "2025-03-14T13:53:46.725480",
     "exception": false,
     "start_time": "2025-03-14T13:53:46.702400",
     "status": "completed"
    },
    "tags": []
   },
   "source": [
    "## ✂️ Splitting Dataset into Training and Test Sets"
   ]
  },
  {
   "cell_type": "code",
   "execution_count": 42,
   "id": "f7a4ec51",
   "metadata": {
    "execution": {
     "iopub.execute_input": "2025-03-14T13:53:46.768567Z",
     "iopub.status.busy": "2025-03-14T13:53:46.768269Z",
     "iopub.status.idle": "2025-03-14T13:53:46.776737Z",
     "shell.execute_reply": "2025-03-14T13:53:46.776036Z"
    },
    "papermill": {
     "duration": 0.031869,
     "end_time": "2025-03-14T13:53:46.778260",
     "exception": false,
     "start_time": "2025-03-14T13:53:46.746391",
     "status": "completed"
    },
    "tags": []
   },
   "outputs": [],
   "source": [
    "X = df.drop(columns=['time_taken'])\n",
    "y = df['time_taken']"
   ]
  },
  {
   "cell_type": "code",
   "execution_count": 43,
   "id": "cd7d2b64",
   "metadata": {
    "execution": {
     "iopub.execute_input": "2025-03-14T13:53:46.821619Z",
     "iopub.status.busy": "2025-03-14T13:53:46.821326Z",
     "iopub.status.idle": "2025-03-14T13:53:46.836391Z",
     "shell.execute_reply": "2025-03-14T13:53:46.835644Z"
    },
    "papermill": {
     "duration": 0.038024,
     "end_time": "2025-03-14T13:53:46.837727",
     "exception": false,
     "start_time": "2025-03-14T13:53:46.799703",
     "status": "completed"
    },
    "tags": []
   },
   "outputs": [
    {
     "data": {
      "text/html": [
       "<div>\n",
       "<style scoped>\n",
       "    .dataframe tbody tr th:only-of-type {\n",
       "        vertical-align: middle;\n",
       "    }\n",
       "\n",
       "    .dataframe tbody tr th {\n",
       "        vertical-align: top;\n",
       "    }\n",
       "\n",
       "    .dataframe thead th {\n",
       "        text-align: right;\n",
       "    }\n",
       "</style>\n",
       "<table border=\"1\" class=\"dataframe\">\n",
       "  <thead>\n",
       "    <tr style=\"text-align: right;\">\n",
       "      <th></th>\n",
       "      <th>order_protocol</th>\n",
       "      <th>total_items</th>\n",
       "      <th>subtotal</th>\n",
       "      <th>num_distinct_items</th>\n",
       "      <th>min_item_price</th>\n",
       "      <th>max_item_price</th>\n",
       "      <th>total_onshift_partners</th>\n",
       "      <th>total_busy_partners</th>\n",
       "      <th>total_outstanding_orders</th>\n",
       "      <th>hour</th>\n",
       "      <th>day_of_week</th>\n",
       "    </tr>\n",
       "  </thead>\n",
       "  <tbody>\n",
       "    <tr>\n",
       "      <th>0</th>\n",
       "      <td>1.0</td>\n",
       "      <td>4</td>\n",
       "      <td>3441</td>\n",
       "      <td>4</td>\n",
       "      <td>557</td>\n",
       "      <td>1239</td>\n",
       "      <td>33.0</td>\n",
       "      <td>14.0</td>\n",
       "      <td>21.0</td>\n",
       "      <td>22</td>\n",
       "      <td>4</td>\n",
       "    </tr>\n",
       "    <tr>\n",
       "      <th>1</th>\n",
       "      <td>2.0</td>\n",
       "      <td>1</td>\n",
       "      <td>1900</td>\n",
       "      <td>1</td>\n",
       "      <td>1400</td>\n",
       "      <td>1400</td>\n",
       "      <td>1.0</td>\n",
       "      <td>2.0</td>\n",
       "      <td>2.0</td>\n",
       "      <td>21</td>\n",
       "      <td>1</td>\n",
       "    </tr>\n",
       "    <tr>\n",
       "      <th>2</th>\n",
       "      <td>1.0</td>\n",
       "      <td>1</td>\n",
       "      <td>1900</td>\n",
       "      <td>1</td>\n",
       "      <td>1900</td>\n",
       "      <td>1900</td>\n",
       "      <td>1.0</td>\n",
       "      <td>0.0</td>\n",
       "      <td>0.0</td>\n",
       "      <td>20</td>\n",
       "      <td>3</td>\n",
       "    </tr>\n",
       "    <tr>\n",
       "      <th>3</th>\n",
       "      <td>1.0</td>\n",
       "      <td>6</td>\n",
       "      <td>6900</td>\n",
       "      <td>5</td>\n",
       "      <td>600</td>\n",
       "      <td>1800</td>\n",
       "      <td>1.0</td>\n",
       "      <td>1.0</td>\n",
       "      <td>2.0</td>\n",
       "      <td>21</td>\n",
       "      <td>1</td>\n",
       "    </tr>\n",
       "    <tr>\n",
       "      <th>4</th>\n",
       "      <td>1.0</td>\n",
       "      <td>3</td>\n",
       "      <td>3900</td>\n",
       "      <td>3</td>\n",
       "      <td>1100</td>\n",
       "      <td>1600</td>\n",
       "      <td>6.0</td>\n",
       "      <td>6.0</td>\n",
       "      <td>9.0</td>\n",
       "      <td>2</td>\n",
       "      <td>6</td>\n",
       "    </tr>\n",
       "    <tr>\n",
       "      <th>...</th>\n",
       "      <td>...</td>\n",
       "      <td>...</td>\n",
       "      <td>...</td>\n",
       "      <td>...</td>\n",
       "      <td>...</td>\n",
       "      <td>...</td>\n",
       "      <td>...</td>\n",
       "      <td>...</td>\n",
       "      <td>...</td>\n",
       "      <td>...</td>\n",
       "      <td>...</td>\n",
       "    </tr>\n",
       "    <tr>\n",
       "      <th>197423</th>\n",
       "      <td>4.0</td>\n",
       "      <td>3</td>\n",
       "      <td>1389</td>\n",
       "      <td>3</td>\n",
       "      <td>345</td>\n",
       "      <td>649</td>\n",
       "      <td>17.0</td>\n",
       "      <td>17.0</td>\n",
       "      <td>23.0</td>\n",
       "      <td>0</td>\n",
       "      <td>1</td>\n",
       "    </tr>\n",
       "    <tr>\n",
       "      <th>197424</th>\n",
       "      <td>4.0</td>\n",
       "      <td>6</td>\n",
       "      <td>3010</td>\n",
       "      <td>4</td>\n",
       "      <td>405</td>\n",
       "      <td>825</td>\n",
       "      <td>12.0</td>\n",
       "      <td>11.0</td>\n",
       "      <td>14.0</td>\n",
       "      <td>0</td>\n",
       "      <td>4</td>\n",
       "    </tr>\n",
       "    <tr>\n",
       "      <th>197425</th>\n",
       "      <td>4.0</td>\n",
       "      <td>5</td>\n",
       "      <td>1836</td>\n",
       "      <td>3</td>\n",
       "      <td>300</td>\n",
       "      <td>399</td>\n",
       "      <td>39.0</td>\n",
       "      <td>41.0</td>\n",
       "      <td>40.0</td>\n",
       "      <td>4</td>\n",
       "      <td>5</td>\n",
       "    </tr>\n",
       "    <tr>\n",
       "      <th>197426</th>\n",
       "      <td>1.0</td>\n",
       "      <td>1</td>\n",
       "      <td>1175</td>\n",
       "      <td>1</td>\n",
       "      <td>535</td>\n",
       "      <td>535</td>\n",
       "      <td>7.0</td>\n",
       "      <td>7.0</td>\n",
       "      <td>12.0</td>\n",
       "      <td>18</td>\n",
       "      <td>6</td>\n",
       "    </tr>\n",
       "    <tr>\n",
       "      <th>197427</th>\n",
       "      <td>1.0</td>\n",
       "      <td>4</td>\n",
       "      <td>2605</td>\n",
       "      <td>4</td>\n",
       "      <td>425</td>\n",
       "      <td>750</td>\n",
       "      <td>20.0</td>\n",
       "      <td>20.0</td>\n",
       "      <td>23.0</td>\n",
       "      <td>19</td>\n",
       "      <td>6</td>\n",
       "    </tr>\n",
       "  </tbody>\n",
       "</table>\n",
       "<p>190826 rows × 11 columns</p>\n",
       "</div>"
      ],
      "text/plain": [
       "        order_protocol  total_items  subtotal  num_distinct_items  \\\n",
       "0                  1.0            4      3441                   4   \n",
       "1                  2.0            1      1900                   1   \n",
       "2                  1.0            1      1900                   1   \n",
       "3                  1.0            6      6900                   5   \n",
       "4                  1.0            3      3900                   3   \n",
       "...                ...          ...       ...                 ...   \n",
       "197423             4.0            3      1389                   3   \n",
       "197424             4.0            6      3010                   4   \n",
       "197425             4.0            5      1836                   3   \n",
       "197426             1.0            1      1175                   1   \n",
       "197427             1.0            4      2605                   4   \n",
       "\n",
       "        min_item_price  max_item_price  total_onshift_partners  \\\n",
       "0                  557            1239                    33.0   \n",
       "1                 1400            1400                     1.0   \n",
       "2                 1900            1900                     1.0   \n",
       "3                  600            1800                     1.0   \n",
       "4                 1100            1600                     6.0   \n",
       "...                ...             ...                     ...   \n",
       "197423             345             649                    17.0   \n",
       "197424             405             825                    12.0   \n",
       "197425             300             399                    39.0   \n",
       "197426             535             535                     7.0   \n",
       "197427             425             750                    20.0   \n",
       "\n",
       "        total_busy_partners  total_outstanding_orders  hour  day_of_week  \n",
       "0                      14.0                      21.0    22            4  \n",
       "1                       2.0                       2.0    21            1  \n",
       "2                       0.0                       0.0    20            3  \n",
       "3                       1.0                       2.0    21            1  \n",
       "4                       6.0                       9.0     2            6  \n",
       "...                     ...                       ...   ...          ...  \n",
       "197423                 17.0                      23.0     0            1  \n",
       "197424                 11.0                      14.0     0            4  \n",
       "197425                 41.0                      40.0     4            5  \n",
       "197426                  7.0                      12.0    18            6  \n",
       "197427                 20.0                      23.0    19            6  \n",
       "\n",
       "[190826 rows x 11 columns]"
      ]
     },
     "execution_count": 43,
     "metadata": {},
     "output_type": "execute_result"
    }
   ],
   "source": [
    "X"
   ]
  },
  {
   "cell_type": "code",
   "execution_count": 44,
   "id": "5f5dc8ef",
   "metadata": {
    "execution": {
     "iopub.execute_input": "2025-03-14T13:53:46.881831Z",
     "iopub.status.busy": "2025-03-14T13:53:46.881542Z",
     "iopub.status.idle": "2025-03-14T13:53:46.887704Z",
     "shell.execute_reply": "2025-03-14T13:53:46.887026Z"
    },
    "papermill": {
     "duration": 0.029595,
     "end_time": "2025-03-14T13:53:46.889135",
     "exception": false,
     "start_time": "2025-03-14T13:53:46.859540",
     "status": "completed"
    },
    "tags": []
   },
   "outputs": [
    {
     "data": {
      "text/plain": [
       "0         62.983333\n",
       "1         67.066667\n",
       "2         29.683333\n",
       "3         51.250000\n",
       "4         39.833333\n",
       "            ...    \n",
       "197423    65.116667\n",
       "197424    56.383333\n",
       "197425    50.133333\n",
       "197426    65.116667\n",
       "197427    37.133333\n",
       "Name: time_taken, Length: 190826, dtype: float64"
      ]
     },
     "execution_count": 44,
     "metadata": {},
     "output_type": "execute_result"
    }
   ],
   "source": [
    "y"
   ]
  },
  {
   "cell_type": "markdown",
   "id": "cea6f4c3",
   "metadata": {
    "papermill": {
     "duration": 0.023019,
     "end_time": "2025-03-14T13:53:46.935279",
     "exception": false,
     "start_time": "2025-03-14T13:53:46.912260",
     "status": "completed"
    },
    "tags": []
   },
   "source": []
  },
  {
   "cell_type": "code",
   "execution_count": 45,
   "id": "4693788a",
   "metadata": {
    "execution": {
     "iopub.execute_input": "2025-03-14T13:53:46.976524Z",
     "iopub.status.busy": "2025-03-14T13:53:46.976224Z",
     "iopub.status.idle": "2025-03-14T13:53:47.004159Z",
     "shell.execute_reply": "2025-03-14T13:53:47.003006Z"
    },
    "papermill": {
     "duration": 0.050492,
     "end_time": "2025-03-14T13:53:47.005767",
     "exception": false,
     "start_time": "2025-03-14T13:53:46.955275",
     "status": "completed"
    },
    "tags": []
   },
   "outputs": [],
   "source": [
    "from sklearn.model_selection import train_test_split\n",
    "X_train, X_test, y_train, y_test = train_test_split(X,y, test_size = 0.2, random_state = 42)\n"
   ]
  },
  {
   "cell_type": "code",
   "execution_count": 46,
   "id": "ba5a8722",
   "metadata": {
    "execution": {
     "iopub.execute_input": "2025-03-14T13:53:47.050124Z",
     "iopub.status.busy": "2025-03-14T13:53:47.049748Z",
     "iopub.status.idle": "2025-03-14T13:53:47.054476Z",
     "shell.execute_reply": "2025-03-14T13:53:47.053702Z"
    },
    "papermill": {
     "duration": 0.029007,
     "end_time": "2025-03-14T13:53:47.055795",
     "exception": false,
     "start_time": "2025-03-14T13:53:47.026788",
     "status": "completed"
    },
    "tags": []
   },
   "outputs": [
    {
     "name": "stdout",
     "output_type": "stream",
     "text": [
      "Shape of Training Data : (152660, 11)\n",
      "Shape of Test Data : (38166, 11)\n"
     ]
    }
   ],
   "source": [
    "print(f'Shape of Training Data : {X_train.shape}' )\n",
    "print(f'Shape of Test Data : {X_test.shape}')\n"
   ]
  },
  {
   "cell_type": "markdown",
   "id": "cddcc3d0",
   "metadata": {
    "papermill": {
     "duration": 0.020968,
     "end_time": "2025-03-14T13:53:47.098580",
     "exception": false,
     "start_time": "2025-03-14T13:53:47.077612",
     "status": "completed"
    },
    "tags": []
   },
   "source": [
    "## ⚖️ Feature Scaling"
   ]
  },
  {
   "cell_type": "code",
   "execution_count": 47,
   "id": "d5cff79d",
   "metadata": {
    "execution": {
     "iopub.execute_input": "2025-03-14T13:53:47.142206Z",
     "iopub.status.busy": "2025-03-14T13:53:47.141849Z",
     "iopub.status.idle": "2025-03-14T13:53:47.187440Z",
     "shell.execute_reply": "2025-03-14T13:53:47.186411Z"
    },
    "papermill": {
     "duration": 0.069374,
     "end_time": "2025-03-14T13:53:47.189234",
     "exception": false,
     "start_time": "2025-03-14T13:53:47.119860",
     "status": "completed"
    },
    "tags": []
   },
   "outputs": [],
   "source": [
    "from sklearn.preprocessing import StandardScaler\n",
    "scaler = StandardScaler()\n",
    "X_train = scaler.fit_transform(X_train)\n",
    "X_test = scaler.fit_transform(X_test)"
   ]
  },
  {
   "cell_type": "markdown",
   "id": "856b43eb",
   "metadata": {
    "papermill": {
     "duration": 0.021421,
     "end_time": "2025-03-14T13:53:47.236005",
     "exception": false,
     "start_time": "2025-03-14T13:53:47.214584",
     "status": "completed"
    },
    "tags": []
   },
   "source": []
  },
  {
   "cell_type": "code",
   "execution_count": 48,
   "id": "d067a88d",
   "metadata": {
    "execution": {
     "iopub.execute_input": "2025-03-14T13:53:47.283766Z",
     "iopub.status.busy": "2025-03-14T13:53:47.283437Z",
     "iopub.status.idle": "2025-03-14T13:53:47.289080Z",
     "shell.execute_reply": "2025-03-14T13:53:47.288356Z"
    },
    "papermill": {
     "duration": 0.030985,
     "end_time": "2025-03-14T13:53:47.290392",
     "exception": false,
     "start_time": "2025-03-14T13:53:47.259407",
     "status": "completed"
    },
    "tags": []
   },
   "outputs": [
    {
     "data": {
      "text/plain": [
       "array([[ 0.08449307, -0.49909368, -0.95508165, ..., -0.41235138,\n",
       "        -0.50963388, -1.57788604],\n",
       "       [-0.57963584, -0.10092045,  0.55538925, ..., -0.58937402,\n",
       "        -0.97266788,  1.35925806],\n",
       "       [-1.24376474, -0.8972669 , -0.83395899, ..., -0.53036647,\n",
       "        -0.50963388, -0.59883801],\n",
       "       ...,\n",
       "       [ 0.08449307, -0.10092045, -0.50237884, ...,  0.51210013,\n",
       "        -0.85690938, -1.08836202],\n",
       "       [ 1.41275088,  0.695426  ,  0.34712403, ...,  0.94482212,\n",
       "        -0.62539238,  0.86973404],\n",
       "       [ 0.74862197,  0.29725277, -0.89917888, ..., -0.9237501 ,\n",
       "         1.11098511,  0.86973404]])"
      ]
     },
     "execution_count": 48,
     "metadata": {},
     "output_type": "execute_result"
    }
   ],
   "source": [
    "X_train"
   ]
  },
  {
   "cell_type": "code",
   "execution_count": 49,
   "id": "2e8dea1e",
   "metadata": {
    "execution": {
     "iopub.execute_input": "2025-03-14T13:53:47.336880Z",
     "iopub.status.busy": "2025-03-14T13:53:47.336515Z",
     "iopub.status.idle": "2025-03-14T13:53:47.342419Z",
     "shell.execute_reply": "2025-03-14T13:53:47.341573Z"
    },
    "papermill": {
     "duration": 0.031724,
     "end_time": "2025-03-14T13:53:47.343816",
     "exception": false,
     "start_time": "2025-03-14T13:53:47.312092",
     "status": "completed"
    },
    "tags": []
   },
   "outputs": [
    {
     "data": {
      "text/plain": [
       "array([[-1.25055577,  3.08845436,  2.23503678, ...,  2.27456243,\n",
       "        -0.62634067,  0.86497655],\n",
       "       [-1.25055577, -0.09990243, -0.88097131, ..., -1.0630041 ,\n",
       "         1.10738222, -0.11401859],\n",
       "       [ 0.08002818, -0.49844703, -0.72116203, ..., -0.82741117,\n",
       "         1.33854527, -1.09301372],\n",
       "       ...,\n",
       "       [ 0.08002818,  0.29864217,  1.03292199, ...,  1.09659777,\n",
       "        -0.85750372,  1.35447411],\n",
       "       [-0.5852638 , -0.49844703,  0.04243176, ..., -0.59181824,\n",
       "         1.22296374,  0.86497655],\n",
       "       [-1.25055577, -0.49844703,  0.2333302 , ..., -0.59181824,\n",
       "        -0.74192219, -1.09301372]])"
      ]
     },
     "execution_count": 49,
     "metadata": {},
     "output_type": "execute_result"
    }
   ],
   "source": [
    "X_test"
   ]
  }
 ],
 "metadata": {
  "kaggle": {
   "accelerator": "gpu",
   "dataSources": [
    {
     "datasetId": 6826082,
     "sourceId": 10970481,
     "sourceType": "datasetVersion"
    }
   ],
   "dockerImageVersionId": 30919,
   "isGpuEnabled": true,
   "isInternetEnabled": true,
   "language": "python",
   "sourceType": "notebook"
  },
  "kernelspec": {
   "display_name": "Python 3",
   "language": "python",
   "name": "python3"
  },
  "language_info": {
   "codemirror_mode": {
    "name": "ipython",
    "version": 3
   },
   "file_extension": ".py",
   "mimetype": "text/x-python",
   "name": "python",
   "nbconvert_exporter": "python",
   "pygments_lexer": "ipython3",
   "version": "3.10.12"
  },
  "papermill": {
   "default_parameters": {},
   "duration": 20.08764,
   "end_time": "2025-03-14T13:53:47.986040",
   "environment_variables": {},
   "exception": null,
   "input_path": "__notebook__.ipynb",
   "output_path": "__notebook__.ipynb",
   "parameters": {},
   "start_time": "2025-03-14T13:53:27.898400",
   "version": "2.6.0"
  }
 },
 "nbformat": 4,
 "nbformat_minor": 5
}
