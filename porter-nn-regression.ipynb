{
 "cells": [
  {
   "cell_type": "markdown",
   "id": "2f6222e8",
   "metadata": {
    "papermill": {
     "duration": 0.005436,
     "end_time": "2025-03-11T17:46:07.520915",
     "exception": false,
     "start_time": "2025-03-11T17:46:07.515479",
     "status": "completed"
    },
    "tags": []
   },
   "source": [
    "# 🏆 About Project "
   ]
  },
  {
   "cell_type": "markdown",
   "id": "a8a992ed",
   "metadata": {
    "papermill": {
     "duration": 0.004482,
     "end_time": "2025-03-11T17:46:07.530193",
     "exception": false,
     "start_time": "2025-03-11T17:46:07.525711",
     "status": "completed"
    },
    "tags": []
   },
   "source": [
    " **🎯 Objective**\n",
    "\n",
    " Porter is India's Largest Marketplace for Intra-City Logistics. Leader in the country's $40 billion intra-city logistics market, Porter strives to improve the lives of 1,50,000+ driver-partners by providing them with consistent earning & independence. Currently, the company has serviced 5+ million customers\n",
    "\n",
    "Porter works with a wide range of restaurants for delivering their items directly to the people.\n",
    "\n",
    "Porter has a number of delivery partners available for delivering the food, from various restaurants and wants to get an estimated delivery time that it can provide the customers on the basis of what they are ordering, from where and also the delivery partners.\n",
    "\n",
    "This dataset has the required data to train a regression model that will do the delivery time estimation, based on all those features\n",
    "\n"
   ]
  },
  {
   "cell_type": "markdown",
   "id": "62672af3",
   "metadata": {
    "papermill": {
     "duration": 0.004359,
     "end_time": "2025-03-11T17:46:07.539226",
     "exception": false,
     "start_time": "2025-03-11T17:46:07.534867",
     "status": "completed"
    },
    "tags": []
   },
   "source": [
    "**📅 Data Dictionary**\n",
    "\n",
    "Each row in this file corresponds to one unique delivery. Each column corresponds to a feature as explained below.\n",
    "\n",
    "- market_id : integer id for the market where the restaurant lies\n",
    "- created_at : the timestamp at which the order was placed\n",
    "- actual_delivery_time : the timestamp when the order was delivered\n",
    "- store_primary_category : category for the restaurant\n",
    "- order_protocol : integer code value for order protocol(how the order was placed ie: through porter, call to restaurant, pre booked, third part etc)\n",
    "- total_items subtotal : final price of the order\n",
    "- num_distinct_items : the number of distinct items in the order\n",
    "- min_item_price : price of the cheapest item in the order\n",
    "- max_item_price : price of the costliest item in order\n",
    "- total_onshift_partners : number of delivery partners on duty at the time order was placed\n",
    "- total_busy_partners : number of delivery partners attending to other tasks\n",
    "- total_outstanding_orders : total number of orders to be fulfilled at the moment"
   ]
  },
  {
   "cell_type": "markdown",
   "id": "26455482",
   "metadata": {
    "papermill": {
     "duration": 0.004539,
     "end_time": "2025-03-11T17:46:07.548347",
     "exception": false,
     "start_time": "2025-03-11T17:46:07.543808",
     "status": "completed"
    },
    "tags": []
   },
   "source": [
    "# 🚀 Let's Get Started"
   ]
  },
  {
   "cell_type": "markdown",
   "id": "660eae0a",
   "metadata": {
    "papermill": {
     "duration": 0.004445,
     "end_time": "2025-03-11T17:46:07.557414",
     "exception": false,
     "start_time": "2025-03-11T17:46:07.552969",
     "status": "completed"
    },
    "tags": []
   },
   "source": [
    "##  📚 Importing Libraries"
   ]
  },
  {
   "cell_type": "code",
   "execution_count": 1,
   "id": "a5673427",
   "metadata": {
    "execution": {
     "iopub.execute_input": "2025-03-11T17:46:07.567724Z",
     "iopub.status.busy": "2025-03-11T17:46:07.567418Z",
     "iopub.status.idle": "2025-03-11T17:46:10.843775Z",
     "shell.execute_reply": "2025-03-11T17:46:10.842737Z"
    },
    "papermill": {
     "duration": 3.283728,
     "end_time": "2025-03-11T17:46:10.845790",
     "exception": false,
     "start_time": "2025-03-11T17:46:07.562062",
     "status": "completed"
    },
    "tags": []
   },
   "outputs": [],
   "source": [
    "import numpy as np \n",
    "import pandas as pd \n",
    "import matplotlib.pyplot as plt\n",
    "import seaborn as sns\n",
    "import plotly.graph_objs as go\n",
    "import plotly.subplots as sp\n",
    "from plotly.subplots import make_subplots\n",
    "import plotly.express as px\n",
    "import warnings\n",
    "import time\n",
    "warnings.filterwarnings(\"ignore\")"
   ]
  },
  {
   "cell_type": "markdown",
   "id": "dd528958",
   "metadata": {
    "papermill": {
     "duration": 0.004363,
     "end_time": "2025-03-11T17:46:10.855374",
     "exception": false,
     "start_time": "2025-03-11T17:46:10.851011",
     "status": "completed"
    },
    "tags": []
   },
   "source": [
    "## 📅 Importing Dataset"
   ]
  },
  {
   "cell_type": "code",
   "execution_count": 2,
   "id": "89840fb0",
   "metadata": {
    "execution": {
     "iopub.execute_input": "2025-03-11T17:46:10.866134Z",
     "iopub.status.busy": "2025-03-11T17:46:10.865577Z",
     "iopub.status.idle": "2025-03-11T17:46:11.826424Z",
     "shell.execute_reply": "2025-03-11T17:46:11.825286Z"
    },
    "papermill": {
     "duration": 0.968162,
     "end_time": "2025-03-11T17:46:11.828203",
     "exception": false,
     "start_time": "2025-03-11T17:46:10.860041",
     "status": "completed"
    },
    "tags": []
   },
   "outputs": [
    {
     "data": {
      "text/html": [
       "<div>\n",
       "<style scoped>\n",
       "    .dataframe tbody tr th:only-of-type {\n",
       "        vertical-align: middle;\n",
       "    }\n",
       "\n",
       "    .dataframe tbody tr th {\n",
       "        vertical-align: top;\n",
       "    }\n",
       "\n",
       "    .dataframe thead th {\n",
       "        text-align: right;\n",
       "    }\n",
       "</style>\n",
       "<table border=\"1\" class=\"dataframe\">\n",
       "  <thead>\n",
       "    <tr style=\"text-align: right;\">\n",
       "      <th></th>\n",
       "      <th>market_id</th>\n",
       "      <th>created_at</th>\n",
       "      <th>actual_delivery_time</th>\n",
       "      <th>store_id</th>\n",
       "      <th>store_primary_category</th>\n",
       "      <th>order_protocol</th>\n",
       "      <th>total_items</th>\n",
       "      <th>subtotal</th>\n",
       "      <th>num_distinct_items</th>\n",
       "      <th>min_item_price</th>\n",
       "      <th>max_item_price</th>\n",
       "      <th>total_onshift_partners</th>\n",
       "      <th>total_busy_partners</th>\n",
       "      <th>total_outstanding_orders</th>\n",
       "    </tr>\n",
       "  </thead>\n",
       "  <tbody>\n",
       "    <tr>\n",
       "      <th>0</th>\n",
       "      <td>1.0</td>\n",
       "      <td>2015-02-06 22:24:17</td>\n",
       "      <td>2015-02-06 23:27:16</td>\n",
       "      <td>df263d996281d984952c07998dc54358</td>\n",
       "      <td>american</td>\n",
       "      <td>1.0</td>\n",
       "      <td>4</td>\n",
       "      <td>3441</td>\n",
       "      <td>4</td>\n",
       "      <td>557</td>\n",
       "      <td>1239</td>\n",
       "      <td>33.0</td>\n",
       "      <td>14.0</td>\n",
       "      <td>21.0</td>\n",
       "    </tr>\n",
       "    <tr>\n",
       "      <th>1</th>\n",
       "      <td>2.0</td>\n",
       "      <td>2015-02-10 21:49:25</td>\n",
       "      <td>2015-02-10 22:56:29</td>\n",
       "      <td>f0ade77b43923b38237db569b016ba25</td>\n",
       "      <td>mexican</td>\n",
       "      <td>2.0</td>\n",
       "      <td>1</td>\n",
       "      <td>1900</td>\n",
       "      <td>1</td>\n",
       "      <td>1400</td>\n",
       "      <td>1400</td>\n",
       "      <td>1.0</td>\n",
       "      <td>2.0</td>\n",
       "      <td>2.0</td>\n",
       "    </tr>\n",
       "    <tr>\n",
       "      <th>2</th>\n",
       "      <td>3.0</td>\n",
       "      <td>2015-01-22 20:39:28</td>\n",
       "      <td>2015-01-22 21:09:09</td>\n",
       "      <td>f0ade77b43923b38237db569b016ba25</td>\n",
       "      <td>NaN</td>\n",
       "      <td>1.0</td>\n",
       "      <td>1</td>\n",
       "      <td>1900</td>\n",
       "      <td>1</td>\n",
       "      <td>1900</td>\n",
       "      <td>1900</td>\n",
       "      <td>1.0</td>\n",
       "      <td>0.0</td>\n",
       "      <td>0.0</td>\n",
       "    </tr>\n",
       "    <tr>\n",
       "      <th>3</th>\n",
       "      <td>3.0</td>\n",
       "      <td>2015-02-03 21:21:45</td>\n",
       "      <td>2015-02-03 22:13:00</td>\n",
       "      <td>f0ade77b43923b38237db569b016ba25</td>\n",
       "      <td>NaN</td>\n",
       "      <td>1.0</td>\n",
       "      <td>6</td>\n",
       "      <td>6900</td>\n",
       "      <td>5</td>\n",
       "      <td>600</td>\n",
       "      <td>1800</td>\n",
       "      <td>1.0</td>\n",
       "      <td>1.0</td>\n",
       "      <td>2.0</td>\n",
       "    </tr>\n",
       "    <tr>\n",
       "      <th>4</th>\n",
       "      <td>3.0</td>\n",
       "      <td>2015-02-15 02:40:36</td>\n",
       "      <td>2015-02-15 03:20:26</td>\n",
       "      <td>f0ade77b43923b38237db569b016ba25</td>\n",
       "      <td>NaN</td>\n",
       "      <td>1.0</td>\n",
       "      <td>3</td>\n",
       "      <td>3900</td>\n",
       "      <td>3</td>\n",
       "      <td>1100</td>\n",
       "      <td>1600</td>\n",
       "      <td>6.0</td>\n",
       "      <td>6.0</td>\n",
       "      <td>9.0</td>\n",
       "    </tr>\n",
       "    <tr>\n",
       "      <th>...</th>\n",
       "      <td>...</td>\n",
       "      <td>...</td>\n",
       "      <td>...</td>\n",
       "      <td>...</td>\n",
       "      <td>...</td>\n",
       "      <td>...</td>\n",
       "      <td>...</td>\n",
       "      <td>...</td>\n",
       "      <td>...</td>\n",
       "      <td>...</td>\n",
       "      <td>...</td>\n",
       "      <td>...</td>\n",
       "      <td>...</td>\n",
       "      <td>...</td>\n",
       "    </tr>\n",
       "    <tr>\n",
       "      <th>197423</th>\n",
       "      <td>1.0</td>\n",
       "      <td>2015-02-17 00:19:41</td>\n",
       "      <td>2015-02-17 01:24:48</td>\n",
       "      <td>a914ecef9c12ffdb9bede64bb703d877</td>\n",
       "      <td>fast</td>\n",
       "      <td>4.0</td>\n",
       "      <td>3</td>\n",
       "      <td>1389</td>\n",
       "      <td>3</td>\n",
       "      <td>345</td>\n",
       "      <td>649</td>\n",
       "      <td>17.0</td>\n",
       "      <td>17.0</td>\n",
       "      <td>23.0</td>\n",
       "    </tr>\n",
       "    <tr>\n",
       "      <th>197424</th>\n",
       "      <td>1.0</td>\n",
       "      <td>2015-02-13 00:01:59</td>\n",
       "      <td>2015-02-13 00:58:22</td>\n",
       "      <td>a914ecef9c12ffdb9bede64bb703d877</td>\n",
       "      <td>fast</td>\n",
       "      <td>4.0</td>\n",
       "      <td>6</td>\n",
       "      <td>3010</td>\n",
       "      <td>4</td>\n",
       "      <td>405</td>\n",
       "      <td>825</td>\n",
       "      <td>12.0</td>\n",
       "      <td>11.0</td>\n",
       "      <td>14.0</td>\n",
       "    </tr>\n",
       "    <tr>\n",
       "      <th>197425</th>\n",
       "      <td>1.0</td>\n",
       "      <td>2015-01-24 04:46:08</td>\n",
       "      <td>2015-01-24 05:36:16</td>\n",
       "      <td>a914ecef9c12ffdb9bede64bb703d877</td>\n",
       "      <td>fast</td>\n",
       "      <td>4.0</td>\n",
       "      <td>5</td>\n",
       "      <td>1836</td>\n",
       "      <td>3</td>\n",
       "      <td>300</td>\n",
       "      <td>399</td>\n",
       "      <td>39.0</td>\n",
       "      <td>41.0</td>\n",
       "      <td>40.0</td>\n",
       "    </tr>\n",
       "    <tr>\n",
       "      <th>197426</th>\n",
       "      <td>1.0</td>\n",
       "      <td>2015-02-01 18:18:15</td>\n",
       "      <td>2015-02-01 19:23:22</td>\n",
       "      <td>c81e155d85dae5430a8cee6f2242e82c</td>\n",
       "      <td>sandwich</td>\n",
       "      <td>1.0</td>\n",
       "      <td>1</td>\n",
       "      <td>1175</td>\n",
       "      <td>1</td>\n",
       "      <td>535</td>\n",
       "      <td>535</td>\n",
       "      <td>7.0</td>\n",
       "      <td>7.0</td>\n",
       "      <td>12.0</td>\n",
       "    </tr>\n",
       "    <tr>\n",
       "      <th>197427</th>\n",
       "      <td>1.0</td>\n",
       "      <td>2015-02-08 19:24:33</td>\n",
       "      <td>2015-02-08 20:01:41</td>\n",
       "      <td>c81e155d85dae5430a8cee6f2242e82c</td>\n",
       "      <td>sandwich</td>\n",
       "      <td>1.0</td>\n",
       "      <td>4</td>\n",
       "      <td>2605</td>\n",
       "      <td>4</td>\n",
       "      <td>425</td>\n",
       "      <td>750</td>\n",
       "      <td>20.0</td>\n",
       "      <td>20.0</td>\n",
       "      <td>23.0</td>\n",
       "    </tr>\n",
       "  </tbody>\n",
       "</table>\n",
       "<p>197428 rows × 14 columns</p>\n",
       "</div>"
      ],
      "text/plain": [
       "        market_id           created_at actual_delivery_time  \\\n",
       "0             1.0  2015-02-06 22:24:17  2015-02-06 23:27:16   \n",
       "1             2.0  2015-02-10 21:49:25  2015-02-10 22:56:29   \n",
       "2             3.0  2015-01-22 20:39:28  2015-01-22 21:09:09   \n",
       "3             3.0  2015-02-03 21:21:45  2015-02-03 22:13:00   \n",
       "4             3.0  2015-02-15 02:40:36  2015-02-15 03:20:26   \n",
       "...           ...                  ...                  ...   \n",
       "197423        1.0  2015-02-17 00:19:41  2015-02-17 01:24:48   \n",
       "197424        1.0  2015-02-13 00:01:59  2015-02-13 00:58:22   \n",
       "197425        1.0  2015-01-24 04:46:08  2015-01-24 05:36:16   \n",
       "197426        1.0  2015-02-01 18:18:15  2015-02-01 19:23:22   \n",
       "197427        1.0  2015-02-08 19:24:33  2015-02-08 20:01:41   \n",
       "\n",
       "                                store_id store_primary_category  \\\n",
       "0       df263d996281d984952c07998dc54358               american   \n",
       "1       f0ade77b43923b38237db569b016ba25                mexican   \n",
       "2       f0ade77b43923b38237db569b016ba25                    NaN   \n",
       "3       f0ade77b43923b38237db569b016ba25                    NaN   \n",
       "4       f0ade77b43923b38237db569b016ba25                    NaN   \n",
       "...                                  ...                    ...   \n",
       "197423  a914ecef9c12ffdb9bede64bb703d877                   fast   \n",
       "197424  a914ecef9c12ffdb9bede64bb703d877                   fast   \n",
       "197425  a914ecef9c12ffdb9bede64bb703d877                   fast   \n",
       "197426  c81e155d85dae5430a8cee6f2242e82c               sandwich   \n",
       "197427  c81e155d85dae5430a8cee6f2242e82c               sandwich   \n",
       "\n",
       "        order_protocol  total_items  subtotal  num_distinct_items  \\\n",
       "0                  1.0            4      3441                   4   \n",
       "1                  2.0            1      1900                   1   \n",
       "2                  1.0            1      1900                   1   \n",
       "3                  1.0            6      6900                   5   \n",
       "4                  1.0            3      3900                   3   \n",
       "...                ...          ...       ...                 ...   \n",
       "197423             4.0            3      1389                   3   \n",
       "197424             4.0            6      3010                   4   \n",
       "197425             4.0            5      1836                   3   \n",
       "197426             1.0            1      1175                   1   \n",
       "197427             1.0            4      2605                   4   \n",
       "\n",
       "        min_item_price  max_item_price  total_onshift_partners  \\\n",
       "0                  557            1239                    33.0   \n",
       "1                 1400            1400                     1.0   \n",
       "2                 1900            1900                     1.0   \n",
       "3                  600            1800                     1.0   \n",
       "4                 1100            1600                     6.0   \n",
       "...                ...             ...                     ...   \n",
       "197423             345             649                    17.0   \n",
       "197424             405             825                    12.0   \n",
       "197425             300             399                    39.0   \n",
       "197426             535             535                     7.0   \n",
       "197427             425             750                    20.0   \n",
       "\n",
       "        total_busy_partners  total_outstanding_orders  \n",
       "0                      14.0                      21.0  \n",
       "1                       2.0                       2.0  \n",
       "2                       0.0                       0.0  \n",
       "3                       1.0                       2.0  \n",
       "4                       6.0                       9.0  \n",
       "...                     ...                       ...  \n",
       "197423                 17.0                      23.0  \n",
       "197424                 11.0                      14.0  \n",
       "197425                 41.0                      40.0  \n",
       "197426                  7.0                      12.0  \n",
       "197427                 20.0                      23.0  \n",
       "\n",
       "[197428 rows x 14 columns]"
      ]
     },
     "execution_count": 2,
     "metadata": {},
     "output_type": "execute_result"
    }
   ],
   "source": [
    "df = pd.read_csv('/kaggle/input/porter-dataset/dataset.csv')\n",
    "df"
   ]
  },
  {
   "cell_type": "markdown",
   "id": "f87f7aed",
   "metadata": {
    "papermill": {
     "duration": 0.00543,
     "end_time": "2025-03-11T17:46:11.840991",
     "exception": false,
     "start_time": "2025-03-11T17:46:11.835561",
     "status": "completed"
    },
    "tags": []
   },
   "source": [
    "## 🎨 Custom Color Palette "
   ]
  },
  {
   "cell_type": "code",
   "execution_count": 3,
   "id": "189dc98a",
   "metadata": {
    "execution": {
     "iopub.execute_input": "2025-03-11T17:46:11.851824Z",
     "iopub.status.busy": "2025-03-11T17:46:11.851506Z",
     "iopub.status.idle": "2025-03-11T17:46:11.855680Z",
     "shell.execute_reply": "2025-03-11T17:46:11.854969Z"
    },
    "papermill": {
     "duration": 0.011318,
     "end_time": "2025-03-11T17:46:11.857149",
     "exception": false,
     "start_time": "2025-03-11T17:46:11.845831",
     "status": "completed"
    },
    "tags": []
   },
   "outputs": [],
   "source": [
    "def custom_palette(custom_colors):\n",
    "    customPalette = sns.set_palette(sns.color_palette(custom_colors))\n",
    "    sns.palplot =  sns.palplot(sns.color_palette(custom_colors),size=0.8)\n",
    "    plt.tick_params(axis = 'both', labelsize = 0, length = 0)"
   ]
  },
  {
   "cell_type": "code",
   "execution_count": 4,
   "id": "24b2da00",
   "metadata": {
    "execution": {
     "iopub.execute_input": "2025-03-11T17:46:11.869064Z",
     "iopub.status.busy": "2025-03-11T17:46:11.868638Z",
     "iopub.status.idle": "2025-03-11T17:46:12.036493Z",
     "shell.execute_reply": "2025-03-11T17:46:12.035545Z"
    },
    "papermill": {
     "duration": 0.17563,
     "end_time": "2025-03-11T17:46:12.037975",
     "exception": false,
     "start_time": "2025-03-11T17:46:11.862345",
     "status": "completed"
    },
    "tags": []
   },
   "outputs": [
    {
     "data": {
      "image/png": "[encoded data removed]",
      "text/plain": [
       "<Figure size 880x80 with 1 Axes>"
      ]
     },
     "metadata": {},
     "output_type": "display_data"
    }
   ],
   "source": [
    "#defining colour palette\n",
    "red = [\"#4f000b\",\"#720026\",\"#ce4257\",\"#ff7f51\",\"#ff9b54\"]\n",
    "bo = [\"#6930c3\",\"#5e60ce\",\"#0096c7\",\"#48cae4\",\"#ade8f4\",\"#ff7f51\",\"#ff9b54\",\"#ffbf69\"]\n",
    "pink = [\"#aa4465\",\"#dd2d4a\",\"#f26a8d\",\"#f49cbb\",\"#ffcbf2\",\"#e2afff\",\"#ff86c8\",\"#ffa3a5\",\"#ffbf81\",\"#e9b827\",\"#f9e576\"]\n",
    "custom_palette(pink)"
   ]
  },
  {
   "cell_type": "markdown",
   "id": "5a331e14",
   "metadata": {
    "papermill": {
     "duration": 0.005022,
     "end_time": "2025-03-11T17:46:12.048493",
     "exception": false,
     "start_time": "2025-03-11T17:46:12.043471",
     "status": "completed"
    },
    "tags": []
   },
   "source": [
    "##  💹 Basic Analysis"
   ]
  },
  {
   "cell_type": "markdown",
   "id": "3d73cc05",
   "metadata": {
    "papermill": {
     "duration": 0.005136,
     "end_time": "2025-03-11T17:46:12.058877",
     "exception": false,
     "start_time": "2025-03-11T17:46:12.053741",
     "status": "completed"
    },
    "tags": []
   },
   "source": [
    "**Shape of the Data**"
   ]
  },
  {
   "cell_type": "code",
   "execution_count": 5,
   "id": "0c07817d",
   "metadata": {
    "execution": {
     "iopub.execute_input": "2025-03-11T17:46:12.070579Z",
     "iopub.status.busy": "2025-03-11T17:46:12.070268Z",
     "iopub.status.idle": "2025-03-11T17:46:12.075320Z",
     "shell.execute_reply": "2025-03-11T17:46:12.074401Z"
    },
    "papermill": {
     "duration": 0.012572,
     "end_time": "2025-03-11T17:46:12.076688",
     "exception": false,
     "start_time": "2025-03-11T17:46:12.064116",
     "status": "completed"
    },
    "tags": []
   },
   "outputs": [
    {
     "data": {
      "text/plain": [
       "(197428, 14)"
      ]
     },
     "execution_count": 5,
     "metadata": {},
     "output_type": "execute_result"
    }
   ],
   "source": [
    "df.shape"
   ]
  },
  {
   "cell_type": "markdown",
   "id": "e892ed47",
   "metadata": {
    "papermill": {
     "duration": 0.005071,
     "end_time": "2025-03-11T17:46:12.087432",
     "exception": false,
     "start_time": "2025-03-11T17:46:12.082361",
     "status": "completed"
    },
    "tags": []
   },
   "source": [
    "**Inference**:\n",
    "\n",
    "- Shape of dataframe is 197428 * 14\n",
    "- Number of rows = 197428\n",
    "- Number of columns = 14"
   ]
  },
  {
   "cell_type": "markdown",
   "id": "e458045f",
   "metadata": {
    "papermill": {
     "duration": 0.005152,
     "end_time": "2025-03-11T17:46:12.097970",
     "exception": false,
     "start_time": "2025-03-11T17:46:12.092818",
     "status": "completed"
    },
    "tags": []
   },
   "source": [
    "**First 5 Rows**"
   ]
  },
  {
   "cell_type": "code",
   "execution_count": 6,
   "id": "4ffb77f9",
   "metadata": {
    "execution": {
     "iopub.execute_input": "2025-03-11T17:46:12.109815Z",
     "iopub.status.busy": "2025-03-11T17:46:12.109493Z",
     "iopub.status.idle": "2025-03-11T17:46:12.126083Z",
     "shell.execute_reply": "2025-03-11T17:46:12.125079Z"
    },
    "papermill": {
     "duration": 0.024326,
     "end_time": "2025-03-11T17:46:12.127597",
     "exception": false,
     "start_time": "2025-03-11T17:46:12.103271",
     "status": "completed"
    },
    "tags": []
   },
   "outputs": [
    {
     "data": {
      "text/html": [
       "<div>\n",
       "<style scoped>\n",
       "    .dataframe tbody tr th:only-of-type {\n",
       "        vertical-align: middle;\n",
       "    }\n",
       "\n",
       "    .dataframe tbody tr th {\n",
       "        vertical-align: top;\n",
       "    }\n",
       "\n",
       "    .dataframe thead th {\n",
       "        text-align: right;\n",
       "    }\n",
       "</style>\n",
       "<table border=\"1\" class=\"dataframe\">\n",
       "  <thead>\n",
       "    <tr style=\"text-align: right;\">\n",
       "      <th></th>\n",
       "      <th>market_id</th>\n",
       "      <th>created_at</th>\n",
       "      <th>actual_delivery_time</th>\n",
       "      <th>store_id</th>\n",
       "      <th>store_primary_category</th>\n",
       "      <th>order_protocol</th>\n",
       "      <th>total_items</th>\n",
       "      <th>subtotal</th>\n",
       "      <th>num_distinct_items</th>\n",
       "      <th>min_item_price</th>\n",
       "      <th>max_item_price</th>\n",
       "      <th>total_onshift_partners</th>\n",
       "      <th>total_busy_partners</th>\n",
       "      <th>total_outstanding_orders</th>\n",
       "    </tr>\n",
       "  </thead>\n",
       "  <tbody>\n",
       "    <tr>\n",
       "      <th>0</th>\n",
       "      <td>1.0</td>\n",
       "      <td>2015-02-06 22:24:17</td>\n",
       "      <td>2015-02-06 23:27:16</td>\n",
       "      <td>df263d996281d984952c07998dc54358</td>\n",
       "      <td>american</td>\n",
       "      <td>1.0</td>\n",
       "      <td>4</td>\n",
       "      <td>3441</td>\n",
       "      <td>4</td>\n",
       "      <td>557</td>\n",
       "      <td>1239</td>\n",
       "      <td>33.0</td>\n",
       "      <td>14.0</td>\n",
       "      <td>21.0</td>\n",
       "    </tr>\n",
       "    <tr>\n",
       "      <th>1</th>\n",
       "      <td>2.0</td>\n",
       "      <td>2015-02-10 21:49:25</td>\n",
       "      <td>2015-02-10 22:56:29</td>\n",
       "      <td>f0ade77b43923b38237db569b016ba25</td>\n",
       "      <td>mexican</td>\n",
       "      <td>2.0</td>\n",
       "      <td>1</td>\n",
       "      <td>1900</td>\n",
       "      <td>1</td>\n",
       "      <td>1400</td>\n",
       "      <td>1400</td>\n",
       "      <td>1.0</td>\n",
       "      <td>2.0</td>\n",
       "      <td>2.0</td>\n",
       "    </tr>\n",
       "    <tr>\n",
       "      <th>2</th>\n",
       "      <td>3.0</td>\n",
       "      <td>2015-01-22 20:39:28</td>\n",
       "      <td>2015-01-22 21:09:09</td>\n",
       "      <td>f0ade77b43923b38237db569b016ba25</td>\n",
       "      <td>NaN</td>\n",
       "      <td>1.0</td>\n",
       "      <td>1</td>\n",
       "      <td>1900</td>\n",
       "      <td>1</td>\n",
       "      <td>1900</td>\n",
       "      <td>1900</td>\n",
       "      <td>1.0</td>\n",
       "      <td>0.0</td>\n",
       "      <td>0.0</td>\n",
       "    </tr>\n",
       "    <tr>\n",
       "      <th>3</th>\n",
       "      <td>3.0</td>\n",
       "      <td>2015-02-03 21:21:45</td>\n",
       "      <td>2015-02-03 22:13:00</td>\n",
       "      <td>f0ade77b43923b38237db569b016ba25</td>\n",
       "      <td>NaN</td>\n",
       "      <td>1.0</td>\n",
       "      <td>6</td>\n",
       "      <td>6900</td>\n",
       "      <td>5</td>\n",
       "      <td>600</td>\n",
       "      <td>1800</td>\n",
       "      <td>1.0</td>\n",
       "      <td>1.0</td>\n",
       "      <td>2.0</td>\n",
       "    </tr>\n",
       "    <tr>\n",
       "      <th>4</th>\n",
       "      <td>3.0</td>\n",
       "      <td>2015-02-15 02:40:36</td>\n",
       "      <td>2015-02-15 03:20:26</td>\n",
       "      <td>f0ade77b43923b38237db569b016ba25</td>\n",
       "      <td>NaN</td>\n",
       "      <td>1.0</td>\n",
       "      <td>3</td>\n",
       "      <td>3900</td>\n",
       "      <td>3</td>\n",
       "      <td>1100</td>\n",
       "      <td>1600</td>\n",
       "      <td>6.0</td>\n",
       "      <td>6.0</td>\n",
       "      <td>9.0</td>\n",
       "    </tr>\n",
       "  </tbody>\n",
       "</table>\n",
       "</div>"
      ],
      "text/plain": [
       "   market_id           created_at actual_delivery_time  \\\n",
       "0        1.0  2015-02-06 22:24:17  2015-02-06 23:27:16   \n",
       "1        2.0  2015-02-10 21:49:25  2015-02-10 22:56:29   \n",
       "2        3.0  2015-01-22 20:39:28  2015-01-22 21:09:09   \n",
       "3        3.0  2015-02-03 21:21:45  2015-02-03 22:13:00   \n",
       "4        3.0  2015-02-15 02:40:36  2015-02-15 03:20:26   \n",
       "\n",
       "                           store_id store_primary_category  order_protocol  \\\n",
       "0  df263d996281d984952c07998dc54358               american             1.0   \n",
       "1  f0ade77b43923b38237db569b016ba25                mexican             2.0   \n",
       "2  f0ade77b43923b38237db569b016ba25                    NaN             1.0   \n",
       "3  f0ade77b43923b38237db569b016ba25                    NaN             1.0   \n",
       "4  f0ade77b43923b38237db569b016ba25                    NaN             1.0   \n",
       "\n",
       "   total_items  subtotal  num_distinct_items  min_item_price  max_item_price  \\\n",
       "0            4      3441                   4             557            1239   \n",
       "1            1      1900                   1            1400            1400   \n",
       "2            1      1900                   1            1900            1900   \n",
       "3            6      6900                   5             600            1800   \n",
       "4            3      3900                   3            1100            1600   \n",
       "\n",
       "   total_onshift_partners  total_busy_partners  total_outstanding_orders  \n",
       "0                    33.0                 14.0                      21.0  \n",
       "1                     1.0                  2.0                       2.0  \n",
       "2                     1.0                  0.0                       0.0  \n",
       "3                     1.0                  1.0                       2.0  \n",
       "4                     6.0                  6.0                       9.0  "
      ]
     },
     "execution_count": 6,
     "metadata": {},
     "output_type": "execute_result"
    }
   ],
   "source": [
    "df.head()"
   ]
  },
  {
   "cell_type": "markdown",
   "id": "807892e6",
   "metadata": {
    "papermill": {
     "duration": 0.005252,
     "end_time": "2025-03-11T17:46:12.139180",
     "exception": false,
     "start_time": "2025-03-11T17:46:12.133928",
     "status": "completed"
    },
    "tags": []
   },
   "source": [
    "**Columns in a Dataframe**"
   ]
  },
  {
   "cell_type": "code",
   "execution_count": 7,
   "id": "acd7441f",
   "metadata": {
    "execution": {
     "iopub.execute_input": "2025-03-11T17:46:12.151413Z",
     "iopub.status.busy": "2025-03-11T17:46:12.151077Z",
     "iopub.status.idle": "2025-03-11T17:46:12.156880Z",
     "shell.execute_reply": "2025-03-11T17:46:12.155928Z"
    },
    "papermill": {
     "duration": 0.013797,
     "end_time": "2025-03-11T17:46:12.158444",
     "exception": false,
     "start_time": "2025-03-11T17:46:12.144647",
     "status": "completed"
    },
    "tags": []
   },
   "outputs": [
    {
     "data": {
      "text/plain": [
       "Index(['market_id', 'created_at', 'actual_delivery_time', 'store_id',\n",
       "       'store_primary_category', 'order_protocol', 'total_items', 'subtotal',\n",
       "       'num_distinct_items', 'min_item_price', 'max_item_price',\n",
       "       'total_onshift_partners', 'total_busy_partners',\n",
       "       'total_outstanding_orders'],\n",
       "      dtype='object')"
      ]
     },
     "execution_count": 7,
     "metadata": {},
     "output_type": "execute_result"
    }
   ],
   "source": [
    "df.columns"
   ]
  },
  {
   "cell_type": "markdown",
   "id": "73480b35",
   "metadata": {
    "papermill": {
     "duration": 0.005181,
     "end_time": "2025-03-11T17:46:12.169407",
     "exception": false,
     "start_time": "2025-03-11T17:46:12.164226",
     "status": "completed"
    },
    "tags": []
   },
   "source": [
    "**Concise Summary**"
   ]
  },
  {
   "cell_type": "code",
   "execution_count": 8,
   "id": "080a6860",
   "metadata": {
    "execution": {
     "iopub.execute_input": "2025-03-11T17:46:12.181658Z",
     "iopub.status.busy": "2025-03-11T17:46:12.181331Z",
     "iopub.status.idle": "2025-03-11T17:46:12.265529Z",
     "shell.execute_reply": "2025-03-11T17:46:12.264084Z"
    },
    "papermill": {
     "duration": 0.092205,
     "end_time": "2025-03-11T17:46:12.267099",
     "exception": false,
     "start_time": "2025-03-11T17:46:12.174894",
     "status": "completed"
    },
    "tags": []
   },
   "outputs": [
    {
     "name": "stdout",
     "output_type": "stream",
     "text": [
      "<class 'pandas.core.frame.DataFrame'>\n",
      "RangeIndex: 197428 entries, 0 to 197427\n",
      "Data columns (total 14 columns):\n",
      " #   Column                    Non-Null Count   Dtype  \n",
      "---  ------                    --------------   -----  \n",
      " 0   market_id                 196441 non-null  float64\n",
      " 1   created_at                197428 non-null  object \n",
      " 2   actual_delivery_time      197421 non-null  object \n",
      " 3   store_id                  197428 non-null  object \n",
      " 4   store_primary_category    192668 non-null  object \n",
      " 5   order_protocol            196433 non-null  float64\n",
      " 6   total_items               197428 non-null  int64  \n",
      " 7   subtotal                  197428 non-null  int64  \n",
      " 8   num_distinct_items        197428 non-null  int64  \n",
      " 9   min_item_price            197428 non-null  int64  \n",
      " 10  max_item_price            197428 non-null  int64  \n",
      " 11  total_onshift_partners    181166 non-null  float64\n",
      " 12  total_busy_partners       181166 non-null  float64\n",
      " 13  total_outstanding_orders  181166 non-null  float64\n",
      "dtypes: float64(5), int64(5), object(4)\n",
      "memory usage: 21.1+ MB\n"
     ]
    }
   ],
   "source": [
    "df.info()"
   ]
  },
  {
   "cell_type": "markdown",
   "id": "3e2a83c5",
   "metadata": {
    "papermill": {
     "duration": 0.00551,
     "end_time": "2025-03-11T17:46:12.278600",
     "exception": false,
     "start_time": "2025-03-11T17:46:12.273090",
     "status": "completed"
    },
    "tags": []
   },
   "source": [
    "**Inference**:\n",
    "\n",
    "The columns 'market_id', 'actual_delivery_time', 'store_primary_category', 'order_protocol', 'total_onshift_partners', 'total_busy_partners', and 'total_outstanding_orders' have missing values."
   ]
  },
  {
   "cell_type": "markdown",
   "id": "98fc34a5",
   "metadata": {
    "papermill": {
     "duration": 0.005536,
     "end_time": "2025-03-11T17:46:12.289641",
     "exception": false,
     "start_time": "2025-03-11T17:46:12.284105",
     "status": "completed"
    },
    "tags": []
   },
   "source": [
    "**Statistical Summary**"
   ]
  },
  {
   "cell_type": "code",
   "execution_count": 9,
   "id": "acc6a53d",
   "metadata": {
    "execution": {
     "iopub.execute_input": "2025-03-11T17:46:12.302273Z",
     "iopub.status.busy": "2025-03-11T17:46:12.301927Z",
     "iopub.status.idle": "2025-03-11T17:46:12.416354Z",
     "shell.execute_reply": "2025-03-11T17:46:12.415289Z"
    },
    "papermill": {
     "duration": 0.122869,
     "end_time": "2025-03-11T17:46:12.418223",
     "exception": false,
     "start_time": "2025-03-11T17:46:12.295354",
     "status": "completed"
    },
    "tags": []
   },
   "outputs": [
    {
     "data": {
      "text/html": [
       "<div>\n",
       "<style scoped>\n",
       "    .dataframe tbody tr th:only-of-type {\n",
       "        vertical-align: middle;\n",
       "    }\n",
       "\n",
       "    .dataframe tbody tr th {\n",
       "        vertical-align: top;\n",
       "    }\n",
       "\n",
       "    .dataframe thead th {\n",
       "        text-align: right;\n",
       "    }\n",
       "</style>\n",
       "<table border=\"1\" class=\"dataframe\">\n",
       "  <thead>\n",
       "    <tr style=\"text-align: right;\">\n",
       "      <th></th>\n",
       "      <th>count</th>\n",
       "      <th>mean</th>\n",
       "      <th>std</th>\n",
       "      <th>min</th>\n",
       "      <th>25%</th>\n",
       "      <th>50%</th>\n",
       "      <th>75%</th>\n",
       "      <th>max</th>\n",
       "    </tr>\n",
       "  </thead>\n",
       "  <tbody>\n",
       "    <tr>\n",
       "      <th>market_id</th>\n",
       "      <td>196441.0</td>\n",
       "      <td>2.978706</td>\n",
       "      <td>1.524867</td>\n",
       "      <td>1.0</td>\n",
       "      <td>2.0</td>\n",
       "      <td>3.0</td>\n",
       "      <td>4.0</td>\n",
       "      <td>6.0</td>\n",
       "    </tr>\n",
       "    <tr>\n",
       "      <th>order_protocol</th>\n",
       "      <td>196433.0</td>\n",
       "      <td>2.882352</td>\n",
       "      <td>1.503771</td>\n",
       "      <td>1.0</td>\n",
       "      <td>1.0</td>\n",
       "      <td>3.0</td>\n",
       "      <td>4.0</td>\n",
       "      <td>7.0</td>\n",
       "    </tr>\n",
       "    <tr>\n",
       "      <th>total_items</th>\n",
       "      <td>197428.0</td>\n",
       "      <td>3.196391</td>\n",
       "      <td>2.666546</td>\n",
       "      <td>1.0</td>\n",
       "      <td>2.0</td>\n",
       "      <td>3.0</td>\n",
       "      <td>4.0</td>\n",
       "      <td>411.0</td>\n",
       "    </tr>\n",
       "    <tr>\n",
       "      <th>subtotal</th>\n",
       "      <td>197428.0</td>\n",
       "      <td>2682.331402</td>\n",
       "      <td>1823.093688</td>\n",
       "      <td>0.0</td>\n",
       "      <td>1400.0</td>\n",
       "      <td>2200.0</td>\n",
       "      <td>3395.0</td>\n",
       "      <td>27100.0</td>\n",
       "    </tr>\n",
       "    <tr>\n",
       "      <th>num_distinct_items</th>\n",
       "      <td>197428.0</td>\n",
       "      <td>2.670791</td>\n",
       "      <td>1.630255</td>\n",
       "      <td>1.0</td>\n",
       "      <td>1.0</td>\n",
       "      <td>2.0</td>\n",
       "      <td>3.0</td>\n",
       "      <td>20.0</td>\n",
       "    </tr>\n",
       "    <tr>\n",
       "      <th>min_item_price</th>\n",
       "      <td>197428.0</td>\n",
       "      <td>686.218470</td>\n",
       "      <td>522.038648</td>\n",
       "      <td>-86.0</td>\n",
       "      <td>299.0</td>\n",
       "      <td>595.0</td>\n",
       "      <td>949.0</td>\n",
       "      <td>14700.0</td>\n",
       "    </tr>\n",
       "    <tr>\n",
       "      <th>max_item_price</th>\n",
       "      <td>197428.0</td>\n",
       "      <td>1159.588630</td>\n",
       "      <td>558.411377</td>\n",
       "      <td>0.0</td>\n",
       "      <td>800.0</td>\n",
       "      <td>1095.0</td>\n",
       "      <td>1395.0</td>\n",
       "      <td>14700.0</td>\n",
       "    </tr>\n",
       "    <tr>\n",
       "      <th>total_onshift_partners</th>\n",
       "      <td>181166.0</td>\n",
       "      <td>44.808093</td>\n",
       "      <td>34.526783</td>\n",
       "      <td>-4.0</td>\n",
       "      <td>17.0</td>\n",
       "      <td>37.0</td>\n",
       "      <td>65.0</td>\n",
       "      <td>171.0</td>\n",
       "    </tr>\n",
       "    <tr>\n",
       "      <th>total_busy_partners</th>\n",
       "      <td>181166.0</td>\n",
       "      <td>41.739747</td>\n",
       "      <td>32.145733</td>\n",
       "      <td>-5.0</td>\n",
       "      <td>15.0</td>\n",
       "      <td>34.0</td>\n",
       "      <td>62.0</td>\n",
       "      <td>154.0</td>\n",
       "    </tr>\n",
       "    <tr>\n",
       "      <th>total_outstanding_orders</th>\n",
       "      <td>181166.0</td>\n",
       "      <td>58.050065</td>\n",
       "      <td>52.661830</td>\n",
       "      <td>-6.0</td>\n",
       "      <td>17.0</td>\n",
       "      <td>41.0</td>\n",
       "      <td>85.0</td>\n",
       "      <td>285.0</td>\n",
       "    </tr>\n",
       "  </tbody>\n",
       "</table>\n",
       "</div>"
      ],
      "text/plain": [
       "                             count         mean          std   min     25%  \\\n",
       "market_id                 196441.0     2.978706     1.524867   1.0     2.0   \n",
       "order_protocol            196433.0     2.882352     1.503771   1.0     1.0   \n",
       "total_items               197428.0     3.196391     2.666546   1.0     2.0   \n",
       "subtotal                  197428.0  2682.331402  1823.093688   0.0  1400.0   \n",
       "num_distinct_items        197428.0     2.670791     1.630255   1.0     1.0   \n",
       "min_item_price            197428.0   686.218470   522.038648 -86.0   299.0   \n",
       "max_item_price            197428.0  1159.588630   558.411377   0.0   800.0   \n",
       "total_onshift_partners    181166.0    44.808093    34.526783  -4.0    17.0   \n",
       "total_busy_partners       181166.0    41.739747    32.145733  -5.0    15.0   \n",
       "total_outstanding_orders  181166.0    58.050065    52.661830  -6.0    17.0   \n",
       "\n",
       "                             50%     75%      max  \n",
       "market_id                    3.0     4.0      6.0  \n",
       "order_protocol               3.0     4.0      7.0  \n",
       "total_items                  3.0     4.0    411.0  \n",
       "subtotal                  2200.0  3395.0  27100.0  \n",
       "num_distinct_items           2.0     3.0     20.0  \n",
       "min_item_price             595.0   949.0  14700.0  \n",
       "max_item_price            1095.0  1395.0  14700.0  \n",
       "total_onshift_partners      37.0    65.0    171.0  \n",
       "total_busy_partners         34.0    62.0    154.0  \n",
       "total_outstanding_orders    41.0    85.0    285.0  "
      ]
     },
     "execution_count": 9,
     "metadata": {},
     "output_type": "execute_result"
    }
   ],
   "source": [
    "# Statistical Summary of numeric Columns\n",
    "df.describe().T"
   ]
  },
  {
   "cell_type": "code",
   "execution_count": 10,
   "id": "2e3b082e",
   "metadata": {
    "execution": {
     "iopub.execute_input": "2025-03-11T17:46:12.431805Z",
     "iopub.status.busy": "2025-03-11T17:46:12.431479Z",
     "iopub.status.idle": "2025-03-11T17:46:12.842825Z",
     "shell.execute_reply": "2025-03-11T17:46:12.841790Z"
    },
    "papermill": {
     "duration": 0.41962,
     "end_time": "2025-03-11T17:46:12.844332",
     "exception": false,
     "start_time": "2025-03-11T17:46:12.424712",
     "status": "completed"
    },
    "tags": []
   },
   "outputs": [
    {
     "data": {
      "text/html": [
       "<div>\n",
       "<style scoped>\n",
       "    .dataframe tbody tr th:only-of-type {\n",
       "        vertical-align: middle;\n",
       "    }\n",
       "\n",
       "    .dataframe tbody tr th {\n",
       "        vertical-align: top;\n",
       "    }\n",
       "\n",
       "    .dataframe thead th {\n",
       "        text-align: right;\n",
       "    }\n",
       "</style>\n",
       "<table border=\"1\" class=\"dataframe\">\n",
       "  <thead>\n",
       "    <tr style=\"text-align: right;\">\n",
       "      <th></th>\n",
       "      <th>count</th>\n",
       "      <th>unique</th>\n",
       "      <th>top</th>\n",
       "      <th>freq</th>\n",
       "    </tr>\n",
       "  </thead>\n",
       "  <tbody>\n",
       "    <tr>\n",
       "      <th>created_at</th>\n",
       "      <td>197428</td>\n",
       "      <td>180985</td>\n",
       "      <td>2015-02-11 19:50:43</td>\n",
       "      <td>6</td>\n",
       "    </tr>\n",
       "    <tr>\n",
       "      <th>actual_delivery_time</th>\n",
       "      <td>197421</td>\n",
       "      <td>178110</td>\n",
       "      <td>2015-02-08 04:09:25</td>\n",
       "      <td>5</td>\n",
       "    </tr>\n",
       "    <tr>\n",
       "      <th>store_id</th>\n",
       "      <td>197428</td>\n",
       "      <td>6743</td>\n",
       "      <td>d43ab110ab2489d6b9b2caa394bf920f</td>\n",
       "      <td>937</td>\n",
       "    </tr>\n",
       "    <tr>\n",
       "      <th>store_primary_category</th>\n",
       "      <td>192668</td>\n",
       "      <td>74</td>\n",
       "      <td>american</td>\n",
       "      <td>19399</td>\n",
       "    </tr>\n",
       "  </tbody>\n",
       "</table>\n",
       "</div>"
      ],
      "text/plain": [
       "                         count  unique                               top  \\\n",
       "created_at              197428  180985               2015-02-11 19:50:43   \n",
       "actual_delivery_time    197421  178110               2015-02-08 04:09:25   \n",
       "store_id                197428    6743  d43ab110ab2489d6b9b2caa394bf920f   \n",
       "store_primary_category  192668      74                          american   \n",
       "\n",
       "                         freq  \n",
       "created_at                  6  \n",
       "actual_delivery_time        5  \n",
       "store_id                  937  \n",
       "store_primary_category  19399  "
      ]
     },
     "execution_count": 10,
     "metadata": {},
     "output_type": "execute_result"
    }
   ],
   "source": [
    "# Statistical Summary of Categorical Columns\n",
    "df.describe(include='object').T"
   ]
  },
  {
   "cell_type": "markdown",
   "id": "1f51d137",
   "metadata": {
    "papermill": {
     "duration": 0.005901,
     "end_time": "2025-03-11T17:46:12.856649",
     "exception": false,
     "start_time": "2025-03-11T17:46:12.850748",
     "status": "completed"
    },
    "tags": []
   },
   "source": [
    "**Checking For Missing Values**"
   ]
  },
  {
   "cell_type": "code",
   "execution_count": 11,
   "id": "cc9cf2ad",
   "metadata": {
    "execution": {
     "iopub.execute_input": "2025-03-11T17:46:12.869787Z",
     "iopub.status.busy": "2025-03-11T17:46:12.869472Z",
     "iopub.status.idle": "2025-03-11T17:46:12.932487Z",
     "shell.execute_reply": "2025-03-11T17:46:12.931576Z"
    },
    "papermill": {
     "duration": 0.071443,
     "end_time": "2025-03-11T17:46:12.934045",
     "exception": false,
     "start_time": "2025-03-11T17:46:12.862602",
     "status": "completed"
    },
    "tags": []
   },
   "outputs": [
    {
     "data": {
      "text/plain": [
       "market_id                   0.50\n",
       "created_at                  0.00\n",
       "actual_delivery_time        0.00\n",
       "store_id                    0.00\n",
       "store_primary_category      2.41\n",
       "order_protocol              0.50\n",
       "total_items                 0.00\n",
       "subtotal                    0.00\n",
       "num_distinct_items          0.00\n",
       "min_item_price              0.00\n",
       "max_item_price              0.00\n",
       "total_onshift_partners      8.24\n",
       "total_busy_partners         8.24\n",
       "total_outstanding_orders    8.24\n",
       "dtype: float64"
      ]
     },
     "execution_count": 11,
     "metadata": {},
     "output_type": "execute_result"
    }
   ],
   "source": [
    "np.round(((df.isnull().sum())/(df.shape[0]))*100,2)"
   ]
  },
  {
   "cell_type": "code",
   "execution_count": 12,
   "id": "b0eb3701",
   "metadata": {
    "execution": {
     "iopub.execute_input": "2025-03-11T17:46:12.948030Z",
     "iopub.status.busy": "2025-03-11T17:46:12.947665Z",
     "iopub.status.idle": "2025-03-11T17:46:13.508228Z",
     "shell.execute_reply": "2025-03-11T17:46:13.507264Z"
    },
    "papermill": {
     "duration": 0.569297,
     "end_time": "2025-03-11T17:46:13.509970",
     "exception": false,
     "start_time": "2025-03-11T17:46:12.940673",
     "status": "completed"
    },
    "tags": []
   },
   "outputs": [
    {
     "data": {
      "image/png": "[encoded data removed]",
      "text/plain": [
       "<Figure size 1200x800 with 1 Axes>"
      ]
     },
     "metadata": {},
     "output_type": "display_data"
    }
   ],
   "source": [
    "plt.figure(figsize = (12,8))\n",
    "ax = ((df.isnull().sum()/df.shape[0])*100).plot(kind = 'barh', color = '#DB3069')\n",
    "for container in ax.containers:\n",
    "    ax.bar_label(container, fmt = '%.2f')\n",
    "plt.xlabel('Missing Values %')\n",
    "plt.ylabel('Columns')\n",
    "plt.title('Percentage of missing values in data')\n",
    "sns.set_style('darkgrid')\n",
    "plt.show()"
   ]
  }
 ],
 "metadata": {
  "kaggle": {
   "accelerator": "gpu",
   "dataSources": [
    {
     "datasetId": 6826082,
     "sourceId": 10970481,
     "sourceType": "datasetVersion"
    }
   ],
   "dockerImageVersionId": 30919,
   "isGpuEnabled": true,
   "isInternetEnabled": true,
   "language": "python",
   "sourceType": "notebook"
  },
  "kernelspec": {
   "display_name": "Python 3",
   "language": "python",
   "name": "python3"
  },
  "language_info": {
   "codemirror_mode": {
    "name": "ipython",
    "version": 3
   },
   "file_extension": ".py",
   "mimetype": "text/x-python",
   "name": "python",
   "nbconvert_exporter": "python",
   "pygments_lexer": "ipython3",
   "version": "3.10.12"
  },
  "papermill": {
   "default_parameters": {},
   "duration": 9.85425,
   "end_time": "2025-03-11T17:46:14.237142",
   "environment_variables": {},
   "exception": null,
   "input_path": "__notebook__.ipynb",
   "output_path": "__notebook__.ipynb",
   "parameters": {},
   "start_time": "2025-03-11T17:46:04.382892",
   "version": "2.6.0"
  }
 },
 "nbformat": 4,
 "nbformat_minor": 5
}
