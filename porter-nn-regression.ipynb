{
 "cells": [
  {
   "cell_type": "markdown",
   "id": "9da4036a",
   "metadata": {
    "papermill": {
     "duration": 0.002941,
     "end_time": "2025-03-10T10:46:31.151511",
     "exception": false,
     "start_time": "2025-03-10T10:46:31.148570",
     "status": "completed"
    },
    "tags": []
   },
   "source": [
    "# 🏆 About Project "
   ]
  },
  {
   "cell_type": "markdown",
   "id": "d3b1d9ee",
   "metadata": {
    "papermill": {
     "duration": 0.002173,
     "end_time": "2025-03-10T10:46:31.156415",
     "exception": false,
     "start_time": "2025-03-10T10:46:31.154242",
     "status": "completed"
    },
    "tags": []
   },
   "source": [
    " **🎯 Objective**\n",
    "\n",
    " Porter is India's Largest Marketplace for Intra-City Logistics. Leader in the country's $40 billion intra-city logistics market, Porter strives to improve the lives of 1,50,000+ driver-partners by providing them with consistent earning & independence. Currently, the company has serviced 5+ million customers\n",
    "\n",
    "Porter works with a wide range of restaurants for delivering their items directly to the people.\n",
    "\n",
    "Porter has a number of delivery partners available for delivering the food, from various restaurants and wants to get an estimated delivery time that it can provide the customers on the basis of what they are ordering, from where and also the delivery partners.\n",
    "\n",
    "This dataset has the required data to train a regression model that will do the delivery time estimation, based on all those features\n",
    "\n"
   ]
  },
  {
   "cell_type": "markdown",
   "id": "31ef74c1",
   "metadata": {
    "papermill": {
     "duration": 0.002192,
     "end_time": "2025-03-10T10:46:31.160920",
     "exception": false,
     "start_time": "2025-03-10T10:46:31.158728",
     "status": "completed"
    },
    "tags": []
   },
   "source": [
    "**📅 Data Dictionary**\n",
    "\n",
    "Each row in this file corresponds to one unique delivery. Each column corresponds to a feature as explained below.\n",
    "\n",
    "- market_id : integer id for the market where the restaurant lies\n",
    "- created_at : the timestamp at which the order was placed\n",
    "- actual_delivery_time : the timestamp when the order was delivered\n",
    "- store_primary_category : category for the restaurant\n",
    "- order_protocol : integer code value for order protocol(how the order was placed ie: through porter, call to restaurant, pre booked, third part etc)\n",
    "- total_items subtotal : final price of the order\n",
    "- num_distinct_items : the number of distinct items in the order\n",
    "- min_item_price : price of the cheapest item in the order\n",
    "- max_item_price : price of the costliest item in order\n",
    "- total_onshift_partners : number of delivery partners on duty at the time order was placed\n",
    "- total_busy_partners : number of delivery partners attending to other tasks\n",
    "- total_outstanding_orders : total number of orders to be fulfilled at the moment"
   ]
  },
  {
   "cell_type": "markdown",
   "id": "dafcb1ce",
   "metadata": {
    "papermill": {
     "duration": 0.002263,
     "end_time": "2025-03-10T10:46:31.165446",
     "exception": false,
     "start_time": "2025-03-10T10:46:31.163183",
     "status": "completed"
    },
    "tags": []
   },
   "source": [
    "# 🚀 Let's Get Started"
   ]
  },
  {
   "cell_type": "markdown",
   "id": "fe43d1b0",
   "metadata": {
    "papermill": {
     "duration": 0.002117,
     "end_time": "2025-03-10T10:46:31.169800",
     "exception": false,
     "start_time": "2025-03-10T10:46:31.167683",
     "status": "completed"
    },
    "tags": []
   },
   "source": [
    "##  📚 Importing Libraries"
   ]
  },
  {
   "cell_type": "code",
   "execution_count": 1,
   "id": "4dcd58b5",
   "metadata": {
    "execution": {
     "iopub.execute_input": "2025-03-10T10:46:31.175443Z",
     "iopub.status.busy": "2025-03-10T10:46:31.175133Z",
     "iopub.status.idle": "2025-03-10T10:46:33.892982Z",
     "shell.execute_reply": "2025-03-10T10:46:33.892069Z"
    },
    "papermill": {
     "duration": 2.722617,
     "end_time": "2025-03-10T10:46:33.894629",
     "exception": false,
     "start_time": "2025-03-10T10:46:31.172012",
     "status": "completed"
    },
    "tags": []
   },
   "outputs": [],
   "source": [
    "import numpy as np \n",
    "import pandas as pd \n",
    "import matplotlib.pyplot as plt\n",
    "import seaborn as sns\n",
    "import plotly.graph_objs as go\n",
    "import plotly.subplots as sp\n",
    "from plotly.subplots import make_subplots\n",
    "import plotly.express as px\n",
    "import warnings\n",
    "import time\n",
    "warnings.filterwarnings(\"ignore\")"
   ]
  },
  {
   "cell_type": "markdown",
   "id": "846048a0",
   "metadata": {
    "papermill": {
     "duration": 0.002332,
     "end_time": "2025-03-10T10:46:33.899856",
     "exception": false,
     "start_time": "2025-03-10T10:46:33.897524",
     "status": "completed"
    },
    "tags": []
   },
   "source": [
    "## 📅 Importing Dataset"
   ]
  },
  {
   "cell_type": "code",
   "execution_count": 2,
   "id": "8a35a6ec",
   "metadata": {
    "execution": {
     "iopub.execute_input": "2025-03-10T10:46:33.906099Z",
     "iopub.status.busy": "2025-03-10T10:46:33.905607Z",
     "iopub.status.idle": "2025-03-10T10:46:34.595663Z",
     "shell.execute_reply": "2025-03-10T10:46:34.594713Z"
    },
    "papermill": {
     "duration": 0.694847,
     "end_time": "2025-03-10T10:46:34.597143",
     "exception": false,
     "start_time": "2025-03-10T10:46:33.902296",
     "status": "completed"
    },
    "tags": []
   },
   "outputs": [
    {
     "data": {
      "text/html": [
       "<div>\n",
       "<style scoped>\n",
       "    .dataframe tbody tr th:only-of-type {\n",
       "        vertical-align: middle;\n",
       "    }\n",
       "\n",
       "    .dataframe tbody tr th {\n",
       "        vertical-align: top;\n",
       "    }\n",
       "\n",
       "    .dataframe thead th {\n",
       "        text-align: right;\n",
       "    }\n",
       "</style>\n",
       "<table border=\"1\" class=\"dataframe\">\n",
       "  <thead>\n",
       "    <tr style=\"text-align: right;\">\n",
       "      <th></th>\n",
       "      <th>market_id</th>\n",
       "      <th>created_at</th>\n",
       "      <th>actual_delivery_time</th>\n",
       "      <th>store_id</th>\n",
       "      <th>store_primary_category</th>\n",
       "      <th>order_protocol</th>\n",
       "      <th>total_items</th>\n",
       "      <th>subtotal</th>\n",
       "      <th>num_distinct_items</th>\n",
       "      <th>min_item_price</th>\n",
       "      <th>max_item_price</th>\n",
       "      <th>total_onshift_partners</th>\n",
       "      <th>total_busy_partners</th>\n",
       "      <th>total_outstanding_orders</th>\n",
       "    </tr>\n",
       "  </thead>\n",
       "  <tbody>\n",
       "    <tr>\n",
       "      <th>0</th>\n",
       "      <td>1.0</td>\n",
       "      <td>2015-02-06 22:24:17</td>\n",
       "      <td>2015-02-06 23:27:16</td>\n",
       "      <td>df263d996281d984952c07998dc54358</td>\n",
       "      <td>american</td>\n",
       "      <td>1.0</td>\n",
       "      <td>4</td>\n",
       "      <td>3441</td>\n",
       "      <td>4</td>\n",
       "      <td>557</td>\n",
       "      <td>1239</td>\n",
       "      <td>33.0</td>\n",
       "      <td>14.0</td>\n",
       "      <td>21.0</td>\n",
       "    </tr>\n",
       "    <tr>\n",
       "      <th>1</th>\n",
       "      <td>2.0</td>\n",
       "      <td>2015-02-10 21:49:25</td>\n",
       "      <td>2015-02-10 22:56:29</td>\n",
       "      <td>f0ade77b43923b38237db569b016ba25</td>\n",
       "      <td>mexican</td>\n",
       "      <td>2.0</td>\n",
       "      <td>1</td>\n",
       "      <td>1900</td>\n",
       "      <td>1</td>\n",
       "      <td>1400</td>\n",
       "      <td>1400</td>\n",
       "      <td>1.0</td>\n",
       "      <td>2.0</td>\n",
       "      <td>2.0</td>\n",
       "    </tr>\n",
       "    <tr>\n",
       "      <th>2</th>\n",
       "      <td>3.0</td>\n",
       "      <td>2015-01-22 20:39:28</td>\n",
       "      <td>2015-01-22 21:09:09</td>\n",
       "      <td>f0ade77b43923b38237db569b016ba25</td>\n",
       "      <td>NaN</td>\n",
       "      <td>1.0</td>\n",
       "      <td>1</td>\n",
       "      <td>1900</td>\n",
       "      <td>1</td>\n",
       "      <td>1900</td>\n",
       "      <td>1900</td>\n",
       "      <td>1.0</td>\n",
       "      <td>0.0</td>\n",
       "      <td>0.0</td>\n",
       "    </tr>\n",
       "    <tr>\n",
       "      <th>3</th>\n",
       "      <td>3.0</td>\n",
       "      <td>2015-02-03 21:21:45</td>\n",
       "      <td>2015-02-03 22:13:00</td>\n",
       "      <td>f0ade77b43923b38237db569b016ba25</td>\n",
       "      <td>NaN</td>\n",
       "      <td>1.0</td>\n",
       "      <td>6</td>\n",
       "      <td>6900</td>\n",
       "      <td>5</td>\n",
       "      <td>600</td>\n",
       "      <td>1800</td>\n",
       "      <td>1.0</td>\n",
       "      <td>1.0</td>\n",
       "      <td>2.0</td>\n",
       "    </tr>\n",
       "    <tr>\n",
       "      <th>4</th>\n",
       "      <td>3.0</td>\n",
       "      <td>2015-02-15 02:40:36</td>\n",
       "      <td>2015-02-15 03:20:26</td>\n",
       "      <td>f0ade77b43923b38237db569b016ba25</td>\n",
       "      <td>NaN</td>\n",
       "      <td>1.0</td>\n",
       "      <td>3</td>\n",
       "      <td>3900</td>\n",
       "      <td>3</td>\n",
       "      <td>1100</td>\n",
       "      <td>1600</td>\n",
       "      <td>6.0</td>\n",
       "      <td>6.0</td>\n",
       "      <td>9.0</td>\n",
       "    </tr>\n",
       "    <tr>\n",
       "      <th>...</th>\n",
       "      <td>...</td>\n",
       "      <td>...</td>\n",
       "      <td>...</td>\n",
       "      <td>...</td>\n",
       "      <td>...</td>\n",
       "      <td>...</td>\n",
       "      <td>...</td>\n",
       "      <td>...</td>\n",
       "      <td>...</td>\n",
       "      <td>...</td>\n",
       "      <td>...</td>\n",
       "      <td>...</td>\n",
       "      <td>...</td>\n",
       "      <td>...</td>\n",
       "    </tr>\n",
       "    <tr>\n",
       "      <th>197423</th>\n",
       "      <td>1.0</td>\n",
       "      <td>2015-02-17 00:19:41</td>\n",
       "      <td>2015-02-17 01:24:48</td>\n",
       "      <td>a914ecef9c12ffdb9bede64bb703d877</td>\n",
       "      <td>fast</td>\n",
       "      <td>4.0</td>\n",
       "      <td>3</td>\n",
       "      <td>1389</td>\n",
       "      <td>3</td>\n",
       "      <td>345</td>\n",
       "      <td>649</td>\n",
       "      <td>17.0</td>\n",
       "      <td>17.0</td>\n",
       "      <td>23.0</td>\n",
       "    </tr>\n",
       "    <tr>\n",
       "      <th>197424</th>\n",
       "      <td>1.0</td>\n",
       "      <td>2015-02-13 00:01:59</td>\n",
       "      <td>2015-02-13 00:58:22</td>\n",
       "      <td>a914ecef9c12ffdb9bede64bb703d877</td>\n",
       "      <td>fast</td>\n",
       "      <td>4.0</td>\n",
       "      <td>6</td>\n",
       "      <td>3010</td>\n",
       "      <td>4</td>\n",
       "      <td>405</td>\n",
       "      <td>825</td>\n",
       "      <td>12.0</td>\n",
       "      <td>11.0</td>\n",
       "      <td>14.0</td>\n",
       "    </tr>\n",
       "    <tr>\n",
       "      <th>197425</th>\n",
       "      <td>1.0</td>\n",
       "      <td>2015-01-24 04:46:08</td>\n",
       "      <td>2015-01-24 05:36:16</td>\n",
       "      <td>a914ecef9c12ffdb9bede64bb703d877</td>\n",
       "      <td>fast</td>\n",
       "      <td>4.0</td>\n",
       "      <td>5</td>\n",
       "      <td>1836</td>\n",
       "      <td>3</td>\n",
       "      <td>300</td>\n",
       "      <td>399</td>\n",
       "      <td>39.0</td>\n",
       "      <td>41.0</td>\n",
       "      <td>40.0</td>\n",
       "    </tr>\n",
       "    <tr>\n",
       "      <th>197426</th>\n",
       "      <td>1.0</td>\n",
       "      <td>2015-02-01 18:18:15</td>\n",
       "      <td>2015-02-01 19:23:22</td>\n",
       "      <td>c81e155d85dae5430a8cee6f2242e82c</td>\n",
       "      <td>sandwich</td>\n",
       "      <td>1.0</td>\n",
       "      <td>1</td>\n",
       "      <td>1175</td>\n",
       "      <td>1</td>\n",
       "      <td>535</td>\n",
       "      <td>535</td>\n",
       "      <td>7.0</td>\n",
       "      <td>7.0</td>\n",
       "      <td>12.0</td>\n",
       "    </tr>\n",
       "    <tr>\n",
       "      <th>197427</th>\n",
       "      <td>1.0</td>\n",
       "      <td>2015-02-08 19:24:33</td>\n",
       "      <td>2015-02-08 20:01:41</td>\n",
       "      <td>c81e155d85dae5430a8cee6f2242e82c</td>\n",
       "      <td>sandwich</td>\n",
       "      <td>1.0</td>\n",
       "      <td>4</td>\n",
       "      <td>2605</td>\n",
       "      <td>4</td>\n",
       "      <td>425</td>\n",
       "      <td>750</td>\n",
       "      <td>20.0</td>\n",
       "      <td>20.0</td>\n",
       "      <td>23.0</td>\n",
       "    </tr>\n",
       "  </tbody>\n",
       "</table>\n",
       "<p>197428 rows × 14 columns</p>\n",
       "</div>"
      ],
      "text/plain": [
       "        market_id           created_at actual_delivery_time  \\\n",
       "0             1.0  2015-02-06 22:24:17  2015-02-06 23:27:16   \n",
       "1             2.0  2015-02-10 21:49:25  2015-02-10 22:56:29   \n",
       "2             3.0  2015-01-22 20:39:28  2015-01-22 21:09:09   \n",
       "3             3.0  2015-02-03 21:21:45  2015-02-03 22:13:00   \n",
       "4             3.0  2015-02-15 02:40:36  2015-02-15 03:20:26   \n",
       "...           ...                  ...                  ...   \n",
       "197423        1.0  2015-02-17 00:19:41  2015-02-17 01:24:48   \n",
       "197424        1.0  2015-02-13 00:01:59  2015-02-13 00:58:22   \n",
       "197425        1.0  2015-01-24 04:46:08  2015-01-24 05:36:16   \n",
       "197426        1.0  2015-02-01 18:18:15  2015-02-01 19:23:22   \n",
       "197427        1.0  2015-02-08 19:24:33  2015-02-08 20:01:41   \n",
       "\n",
       "                                store_id store_primary_category  \\\n",
       "0       df263d996281d984952c07998dc54358               american   \n",
       "1       f0ade77b43923b38237db569b016ba25                mexican   \n",
       "2       f0ade77b43923b38237db569b016ba25                    NaN   \n",
       "3       f0ade77b43923b38237db569b016ba25                    NaN   \n",
       "4       f0ade77b43923b38237db569b016ba25                    NaN   \n",
       "...                                  ...                    ...   \n",
       "197423  a914ecef9c12ffdb9bede64bb703d877                   fast   \n",
       "197424  a914ecef9c12ffdb9bede64bb703d877                   fast   \n",
       "197425  a914ecef9c12ffdb9bede64bb703d877                   fast   \n",
       "197426  c81e155d85dae5430a8cee6f2242e82c               sandwich   \n",
       "197427  c81e155d85dae5430a8cee6f2242e82c               sandwich   \n",
       "\n",
       "        order_protocol  total_items  subtotal  num_distinct_items  \\\n",
       "0                  1.0            4      3441                   4   \n",
       "1                  2.0            1      1900                   1   \n",
       "2                  1.0            1      1900                   1   \n",
       "3                  1.0            6      6900                   5   \n",
       "4                  1.0            3      3900                   3   \n",
       "...                ...          ...       ...                 ...   \n",
       "197423             4.0            3      1389                   3   \n",
       "197424             4.0            6      3010                   4   \n",
       "197425             4.0            5      1836                   3   \n",
       "197426             1.0            1      1175                   1   \n",
       "197427             1.0            4      2605                   4   \n",
       "\n",
       "        min_item_price  max_item_price  total_onshift_partners  \\\n",
       "0                  557            1239                    33.0   \n",
       "1                 1400            1400                     1.0   \n",
       "2                 1900            1900                     1.0   \n",
       "3                  600            1800                     1.0   \n",
       "4                 1100            1600                     6.0   \n",
       "...                ...             ...                     ...   \n",
       "197423             345             649                    17.0   \n",
       "197424             405             825                    12.0   \n",
       "197425             300             399                    39.0   \n",
       "197426             535             535                     7.0   \n",
       "197427             425             750                    20.0   \n",
       "\n",
       "        total_busy_partners  total_outstanding_orders  \n",
       "0                      14.0                      21.0  \n",
       "1                       2.0                       2.0  \n",
       "2                       0.0                       0.0  \n",
       "3                       1.0                       2.0  \n",
       "4                       6.0                       9.0  \n",
       "...                     ...                       ...  \n",
       "197423                 17.0                      23.0  \n",
       "197424                 11.0                      14.0  \n",
       "197425                 41.0                      40.0  \n",
       "197426                  7.0                      12.0  \n",
       "197427                 20.0                      23.0  \n",
       "\n",
       "[197428 rows x 14 columns]"
      ]
     },
     "execution_count": 2,
     "metadata": {},
     "output_type": "execute_result"
    }
   ],
   "source": [
    "df = pd.read_csv('/kaggle/input/porter-dataset/dataset.csv')\n",
    "df"
   ]
  },
  {
   "cell_type": "markdown",
   "id": "07acd442",
   "metadata": {
    "papermill": {
     "duration": 0.002609,
     "end_time": "2025-03-10T10:46:34.602793",
     "exception": false,
     "start_time": "2025-03-10T10:46:34.600184",
     "status": "completed"
    },
    "tags": []
   },
   "source": [
    "## 🎨 Custom Color Palette "
   ]
  },
  {
   "cell_type": "code",
   "execution_count": 3,
   "id": "ad39cf37",
   "metadata": {
    "execution": {
     "iopub.execute_input": "2025-03-10T10:46:34.609127Z",
     "iopub.status.busy": "2025-03-10T10:46:34.608861Z",
     "iopub.status.idle": "2025-03-10T10:46:34.613010Z",
     "shell.execute_reply": "2025-03-10T10:46:34.612250Z"
    },
    "papermill": {
     "duration": 0.008509,
     "end_time": "2025-03-10T10:46:34.614165",
     "exception": false,
     "start_time": "2025-03-10T10:46:34.605656",
     "status": "completed"
    },
    "tags": []
   },
   "outputs": [],
   "source": [
    "def custom_palette(custom_colors):\n",
    "    customPalette = sns.set_palette(sns.color_palette(custom_colors))\n",
    "    sns.palplot =  sns.palplot(sns.color_palette(custom_colors),size=0.8)\n",
    "    plt.tick_params(axis = 'both', labelsize = 0, length = 0)"
   ]
  },
  {
   "cell_type": "code",
   "execution_count": 4,
   "id": "286dbdaf",
   "metadata": {
    "execution": {
     "iopub.execute_input": "2025-03-10T10:46:34.620405Z",
     "iopub.status.busy": "2025-03-10T10:46:34.620156Z",
     "iopub.status.idle": "2025-03-10T10:46:34.790179Z",
     "shell.execute_reply": "2025-03-10T10:46:34.789362Z"
    },
    "papermill": {
     "duration": 0.174862,
     "end_time": "2025-03-10T10:46:34.791775",
     "exception": false,
     "start_time": "2025-03-10T10:46:34.616913",
     "status": "completed"
    },
    "tags": []
   },
   "outputs": [
    {
     "data": {
      "image/png": "[encoded data removed]",
      "text/plain": [
       "<Figure size 880x80 with 1 Axes>"
      ]
     },
     "metadata": {},
     "output_type": "display_data"
    }
   ],
   "source": [
    "#defining colour palette\n",
    "red = [\"#4f000b\",\"#720026\",\"#ce4257\",\"#ff7f51\",\"#ff9b54\"]\n",
    "bo = [\"#6930c3\",\"#5e60ce\",\"#0096c7\",\"#48cae4\",\"#ade8f4\",\"#ff7f51\",\"#ff9b54\",\"#ffbf69\"]\n",
    "pink = [\"#aa4465\",\"#dd2d4a\",\"#f26a8d\",\"#f49cbb\",\"#ffcbf2\",\"#e2afff\",\"#ff86c8\",\"#ffa3a5\",\"#ffbf81\",\"#e9b827\",\"#f9e576\"]\n",
    "custom_palette(pink)"
   ]
  },
  {
   "cell_type": "markdown",
   "id": "bdce4acc",
   "metadata": {
    "papermill": {
     "duration": 0.002681,
     "end_time": "2025-03-10T10:46:34.799128",
     "exception": false,
     "start_time": "2025-03-10T10:46:34.796447",
     "status": "completed"
    },
    "tags": []
   },
   "source": [
    "##  Basic Analysis"
   ]
  },
  {
   "cell_type": "code",
   "execution_count": null,
   "id": "b3a6df17",
   "metadata": {
    "papermill": {
     "duration": 0.002654,
     "end_time": "2025-03-10T10:46:34.804640",
     "exception": false,
     "start_time": "2025-03-10T10:46:34.801986",
     "status": "completed"
    },
    "tags": []
   },
   "outputs": [],
   "source": []
  },
  {
   "cell_type": "code",
   "execution_count": null,
   "id": "c36092b0",
   "metadata": {
    "papermill": {
     "duration": 0.002631,
     "end_time": "2025-03-10T10:46:34.810098",
     "exception": false,
     "start_time": "2025-03-10T10:46:34.807467",
     "status": "completed"
    },
    "tags": []
   },
   "outputs": [],
   "source": []
  }
 ],
 "metadata": {
  "kaggle": {
   "accelerator": "gpu",
   "dataSources": [
    {
     "datasetId": 6826082,
     "sourceId": 10970481,
     "sourceType": "datasetVersion"
    }
   ],
   "dockerImageVersionId": 30919,
   "isGpuEnabled": true,
   "isInternetEnabled": true,
   "language": "python",
   "sourceType": "notebook"
  },
  "kernelspec": {
   "display_name": "Python 3",
   "language": "python",
   "name": "python3"
  },
  "language_info": {
   "codemirror_mode": {
    "name": "ipython",
    "version": 3
   },
   "file_extension": ".py",
   "mimetype": "text/x-python",
   "name": "python",
   "nbconvert_exporter": "python",
   "pygments_lexer": "ipython3",
   "version": "3.10.12"
  },
  "papermill": {
   "default_parameters": {},
   "duration": 6.933443,
   "end_time": "2025-03-10T10:46:35.429814",
   "environment_variables": {},
   "exception": null,
   "input_path": "__notebook__.ipynb",
   "output_path": "__notebook__.ipynb",
   "parameters": {},
   "start_time": "2025-03-10T10:46:28.496371",
   "version": "2.6.0"
  }
 },
 "nbformat": 4,
 "nbformat_minor": 5
}
